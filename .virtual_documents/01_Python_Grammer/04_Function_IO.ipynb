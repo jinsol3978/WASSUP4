





# 함수를 정의할 때 쓰는 예약어, def
def add(a,b):
    return a+b


a=3
b=4
c=add(a,b)
print(c)





#함수를 호출할 때 쓰는 입력값=인수
#함수에 입력으로 전달된 값을 받는 변수=매개변수
def add(a, b):  # a, b는 매개변수
    return a+b

print(add(3, 4))  # 3, 4는 인수





# 일반적인 함수
def add(a, b): 
    result = a + b 
    return result


add(3,4)


#입력값이 없는 함수
def say1(): 
    return 'Hi' 


say1()


#리턴값이 없는 함수
#아래 함수 실행 시 출력값이 나오지만 해당 출력값은 수행할 문장에 불과
#print를 이용해 출력 시 오히려 'None' 값이 출력됨
def add(a, b): 
    print("%d, %d의 합은 %d입니다." % (a, b, a+b))


add(3,4)


#입력값도 리턴값도 없는 함수
def say2():
    print('Hi')


say2()


d=say2()


print(d)





def sub(a, b):
    return a - b


result=sub(a=7, b=3)
print(result)


#매개변수 지정 시 순서를 바꿔도 정상 작동함
result=sub(b=3,a=7)
print(result)





# 여러 개의 입력값을 받는 함수 만들기 : *args
# 사용자의 입력이 몇 개든 전부 누적해서 더해주는 함수
def add_many(*args):
    result=0
    for i in args:   # *args에 입력받은 모든 값을 더한다.
        result=result+i
    return result


add_many(1,4,6,8,955,23,44)


# 사용자에게 다수의 입력을 받아서 옵션에 따라 누적곱 또는 누적합을 출력하는 함수를 만들어라
def add_mul(choice, *args):
    if choice=="add": #매개변수 choice에 "add"를 입력받았을 때
        result=0
        for i in args:
            result = result+i
    elif choice=="mul": #매개변수 choice에 "mul"을 입력받았을 때
        result=1
        for i in args:
            result=result*i
    return result


result=add_mul('add', 1,2,3,4,5)
print(result)


result=add_mul('mul', 1,2,3,4,5)
print(result)





#매개변수 앞에 *을 2개 붙임
#받아오는 모든 데이터를 딕셔너리로 반환함
def print_kwargs(**kwargs):
    print(kwargs)


print_kwargs(a=1)


print_kwargs(name="hong", age=20)





def add_and_mul(a,b): 
    return a+b, a*b


# 튜플로 묶여서 출력->1개
add_and_mul(3,4)


result1, result2=add_and_mul(3,4)
result1


result2


# return을 하고 나면 함수의 기능은 끝남
# 따라서 아래와 같이 2번 return 값 입력 시 첫 번째 return만 작동
def add_and_mul(a,b): 
    return a+b
    return a*b


result=add_and_mul(2,3)
result





def say_nick(nick):
    if nick=="바보":
        return '옥상으로 따라와'
    print(f'나의 별명은 {nick}입니다.')


say_nick("야호")


say_nick("바보")





def say_myself(name, age, man=True):
    print(f'나의 이름은 {name}입니다.')
    print(f'나이는 {age}입니다.')
    if man:
        print('삐빅, 남자입니다.')
    else:
        print('삐빅, 여자입니다.')


# man이 기본값이기 때문에 man이라고 따로 입력하지 않아도 동작 가능
# 대신 '여자'로 출력하고 싶을 경우 'False' 기재 필요
say_myself('맹광국',20)





a=1
def vartest(a): #함수 안에서만 작동->global의 a에는 적용 안 됨
    a=a+1


#위의 함수가 local에서만 실행되기 때문에 global a 값은 변화없음
a


vartest(a)


print(a)





# 1. return 사용하기
a = 1 
def vartest(a): 
    a = a +1 
    return a

a = vartest(a) 
print(a)


# 2. global 명령어 사용하기
a = 1 
def vartest(): 
    global a  #이 함수에서 사용된 a는 글로벌 a와 같다는 선언
    a = a+1

vartest() 
print(a)





# def와 동일한 역할을 함
# 함수를 한 줄로 간결하게 만들 수 있음
def add(a,b):
    return a+b
result=add(3,4)
print(result)


# 위 명령어를 한줄로 만들기
add=lambda a,b: a+b
add(3,4)








# output에 test.txt 라는 새 파일이 생성됨
# f객체는 항상 닫아줘야 함(close)
f=open('output/test.txt', 'w')
f.close()





# 파일 생성 후 내용 쓰기
# 한줄로 내용이 기재됨
f=open('output/test.txt', 'w')
for i in range(1,11):
    f.write(f'{i}번째 줄입니다.')
f.close()


# 줄바꿈 해서 생성하기
f=open('output/test.txt', 'w')
for i in range(1,11):
    f.write(f'{i}번째 줄입니다.\n')
f.close()


# readline 함수 이용하기 : 파일 읽기
# 파일 내 가장 처음 만나는 내용을 반환해줌
f=open('output/test.txt', 'r')
line=f.readline()
print(line)
f.close()


# 파일 내 5번째 줄까지 반환해줌
f=open('output/test.txt', 'r')
for i in range(5):
    line=f.readline()
    print(line) # print의 경우 줄바꿈이 포함되어 있음
f.close()


# readlines 함수 : 다수개의 줄 가져오기
f=open('output/test.txt', 'r')
lines=f.readlines()
print(lines)


f=open('output/test.txt', 'r')
lines=f.readlines()
for line in lines:
    print(line)
f.close()


## 메모장 읽어올 때 줄바꿈 없애보기
f=open('output/test.txt', 'r')
lines=f.readlines()
for line in lines:
    line=line.strip()
    print(line)
f.close()


# read 함수 사용하기
# 하나의 문자열임
f=open('output/test.txt', 'r')
data=f.read()
print(type(data))
print(data)
f.close()





# w : 덮어쓰기가 됨
# 원래 값 유지하며 새로운 값만 추가하기 위해선 'a' 모드로 열기
f=open('output/test.txt', 'a')
for i in range(11,21):
    data="%d번째 줄입니다.\n" % i
    f.write(data)
f.close()





f=open('output/foo.txt', 'w')
f.write("Life is too short, you need python")
f.close()


# f.close()가 불필요
with open("foo.txt", "w") as f:
    f.write("Your leg is too short")









