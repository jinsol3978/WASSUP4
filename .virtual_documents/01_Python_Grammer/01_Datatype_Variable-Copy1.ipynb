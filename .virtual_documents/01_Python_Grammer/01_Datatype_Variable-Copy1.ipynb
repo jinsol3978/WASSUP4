





a=1
print(a)


b = 'python'
b


b = 'python'
print(b)


c=[1,2,3]
c


a=[1,2,3]
a


# a 변수가 가리키는 메모리의 주소 출력 id
id(a)


# a를 b에 바인딩
b=a
b


# a와 b의 메모리 주소가 동일->복제된 게 아니라 상대참조!
id(b)


# 복제가 아니라 상대참조이기 때문에 b 수정 시 a 값도 수정됨
b[1]=9
b


a


# a가 b이니?
a is b





a, a[:]


# b=a와는 다르게 a의 값을 뽑아서 b에 바인딩함
# b=a : 얇은 copy???, b=a[:] -> deep copy
b=a[:]
b


# 따라서 b=a와 달리 별도의 변수로 인식->메모리 주소가 달라짐
id(b)


a is b


# 수정해도 원본에 영향을 미치지 않음
b[0]=9
b


# copy 모듈 이용하기
from copy import copy
a=[1,2,3]
b=copy(a)
a,b


id(a), id(b)


a is b


c=a.copy()
a is c





# 원래 튜플을 인덱싱할라면 list로 변환 후 뽑아야 함
# 하지만 변수로 지정할 경우 바로 출력 가능
a,b=('python', 'life')


a


b


[a,b]=['python','life']


a


b


a=b='python'


b


a


a=3
b=5
a, b=b,a


a


b





# 정수형
a=123
a


a=-178
a


a=0
a


# 실수형
a=1.2
b=-2.45
a,b


a=4.24E10
a


a=4.24E-10
a


# 8진수와 16지수
a = 0o177
print(a)


a = 0x8ff
b = 0xABC
a, b





a=3
b=4
a+b


a-b, a*b, a/b


# x의 y제곱을 나타내는 ** 연산자
a**b


# 나눗셈 후 나머지를 리턴하는 % 연산자
7%3, 3%7


# 나눗셈 후 몫을 리턴하는 // 연산자
7//4


# 복합 연산자
a=a+1
a


a+=1
a


a-=1
a








"Hello World"


'Python is fun'


"""Life is too short, You need python"""


'''Life is too short, You need python'''





Python's favorite food is perl


"Python's favorite food is perl"





"Python is very easy." he says.


'"Python is very easy." he says.'





food = 'Python\'s favorite food is perl'
food


say = "\"Python is very easy.\" he says."
say





# 1. 줄을 바꾸기 위한 이스케이프 코드 \n 삽입하기
multiline = "Life is too short\nYou need python"
multiline


print(multiline)


# 2. 연속된 작은따옴표 3개 또는 큰따옴표 3개 사용하기
'''
Life is too short
You need python
'''


"""
Life is too short
You need python
"""





head = "Python"
tail = " is fun!"
head + tail


head*2


print("=" * 50)
print("My Program")
print("=" * 50)


a = "Life is too short"
len(a)





a = "Life is too short, You need Python"
a


a[3]


a[17]


b = a[0] + a[1] + a[2] + a[3]
b


a[0:3]


a[0:4]


a[12:19]


a[12:]


a[:17]


a[:]


a[19:-7]


a = "20230331Rainy"
date=a[:8]
weather=a[8:]
date, weather


year=a[:4]
day=date[4:]
year, day





"I eat %d apples"%3


"I eat %s apples"%"five"


number=3
"I eat %d apples"%number


number=10
day="three"
"I ate %d apples. so I was sick for %s days." % (number, day)


"Error is %d%." % 98


"Error is %d%%." % 98





"%0.4f"%3.42134





"I eat {0} apples".format(3)


"I eat {0} apples".format("five")


number=3
"I eat {} apples".format(number)


"I ate {} apples, so i was sick for {} days.".format(number, day)


"I ate {} apples, so i was sick for {} days.".format(day, number)


"I ate {a} apples, so i was sick for {b} days.".format(a=day, b=number)


"I ate {a} apples, so i was sick for {b} days.".format(a=number, b=day)


y=3.454434632
"{0:0.4f}".format(y)


"{:0.4f}".format(y)





name="홍길동"
age=30
f'나의 이름은 {name}입니다. 나이는 {age}입니다.'


name="홍길동"
age=30
f'나의 이름은 {name}입니다. 나이는 {age+1}입니다.'


d={'name':'홍길동', 'age':30}
d


d['name']


f"나의 이름은 {d['name']}입니다. 나이는 {d['age']}입니다."


y = 3.42134234
f'{y:0.4f}'


f'{y:10.4f}'


help(a.find)


# 함수 사용법이 궁금할 땐 함수명 뒤에 '?'입력
a.find?








# 특정 문자열 개수 세기
a="hobby"
a.count("b")





# 위치 알려주기 - find
a='python is the best choice'
a.find('b')


# find 활용 시 없는 문자 검색할 경우 =>"-1"반환
a.find('k')





# 위치 알려주기 - index
a='Life is too short'
a.index('t')


# index 활용 시 없는 문자 검색할 경우 => error
a.index('k')





# 문자열 삽입
','.join('abcd')


# join은 반환 시 무조건 하나의 문자열로 반환
','.join(['a','b','c','d'])





# 소문자를 대문자로-upper
a="hi"
a.upper()


# 대문자를 소문자로-lower
a="HI"
a.lower()





# 왼쪽 공백 지우기-lstrip
a=' hi '
a.lstrip()


# 오른쪽 공백 지우기-rstrip
a=' hi '
a.rstrip()


# 양쪽 공백 지우기-strip
a=' hi '
a.strip()





# 문자열 바꾸기
a = 'Life is too short'
a.replace('Life','Your leg')





# 문자열 나누기
# 리스트로 반환해줌
a = 'Life is too short'
a.split()


# 특정 인자를 받을 수도 있음->인자 입력 시 해당 인자를 기준으로 나눠줌
b='a:b:c:d'
b.split(':')





odd = [1, 3, 5, 7, 9]
odd


a=[]
b=[1,2,3]
c=['Life', 'is', 'too', 'short']
d=[1,2,'Life','is']
e=[1,2,['Life','is']]
f=list()
a,b,c,d,e,f





a=[1,2,3]
a


a[0]


a[-1]


a[0]+a[2]


# 이중구조
a=[1,2,3,['a', 'b', 'c']]
a


len(a)


a[-1]


a[-1][1]


# 삼중구조
a = [1, 2, ['a', 'b', ['Life', 'is']]]
a


a[2][2][0]





a=[1,2,3,4,5]


a[0:2]


# 중접된 리스트 슬라이싱
a=[1,2,3,['a','b','c'],4,5]
a[2:5]


# 중첩된 리스트에서 추출 시 인덱싱 먼저한 후 슬라이싱
a[3][0:2]





a=[1,2,3]
b=[4,5,6]
a+b


type(a[0])


a*3


a[2]+"hi"


str(a[2])+"hi"





# 수정 : 인덱싱 활용
a=[1,2,3]
a[2]=4
a


# 삭제 : del, 인덱싱 활용
del a[1]
a


# 삭제 : 여러 요소 삭제도 가능(슬라이싱 활용)
a=[1,2,3,4,5]
del a[2:]
a





# 리스트에 요소 추가하기 : append
a=[1,2,3]
a.append(4)
a


a.append([5,6,])
a


# 리스트 정렬
a=[1,4,3,2]
a.sort()
a


# 기본적으로 오름차순으로 정렬되며 함수 이용 시 원본 값이 변경됨
a.sort?


a


a=['a','c','b']
a.sort()
a


# 내림차순도 가능
a.sort(reverse=True)
a


# 리스트 뒤집기 reverse
a=['a', 'c', 'b']
a.reverse()
a


# 인덱스 반환 index
a=[1,2,3]
a.index(3)


# 없는 값을 반환하려고 하면 오류 발생
a.index(0)


# 리스트 요소 삽입 insert
a=[1,2,3]
a.insert(0,4)
a


a.insert(3,5)
a


# 리스트 요소 제거 remove
# 값이 중복되어 있을 경우 먼저 나온 값만 삭제됨
a=[1,2,3,1,2,3]
a.remove(3)
a


# 리스트 요소 끄집어 내기 pop
# pop(x)는 리스트의 x번째 요소를 리턴하고 그 요소는 삭제함
a=[1,2,3]
a.pop()


a


# 리스트에 포함된 요소 x의 개수 세기 count
a=[1,2,3,1]
a.count(1)


# 리스트 확장 extend
a=[1,2,3]
a.extend([4,5])
a


a=[1,2,3]
a.append([4,5])
a





# 튜플은 수정 불가
# 데이터 이동할 때 활용(실수로라도 데이터가 변경되면 안되기 때문)
# 함수의 입출력에도 활용됨(함수를 입출력하는 과정에서 값이 변하면 안되기 때문)
t1 = ()
t2 = (1,)
t3 = (1, 2, 3)
t4 = 1, 2, 3
t5 = ('a', 'b', ('ab', 'cd'))
t1, t2, t3,t4,t5


type(t1), type(t2),type(t3),type(t4),type(t5)


# 반드시 하나 이상의 값을 넣어줘야 튜플로 인정됨
# t2처럼 넣을 값이 없다면 공백으로 넣기
t6=(1)
t6, type(t6)





t1=(1,2,'a','b')
t1


# 튜플 요솟값은 삭제 불가->오류 발생
del t1[0]


# 튜플 요솟값 변경 불가->오류 발생
t1[0]='c'





# 튜플은 시퀀스 자료형->인덱싱과 슬라이싱 가능
t1[0]


t1[1:]


# 연산자 사용 시 문자열, 리스트형과 동일하게 적용됨
t2=(3,4)
t1+t2


t2*3


# 튜플의 경우 요솟값을 변형할 수 없기 때문에 내장 함수가 별로 없음
# 튜플 길이 구하는 len은 사용 가능
len(t1)





dic={'name':'pay', 'phone':'010-1234-1234', 'birth':'1118'}
dic


# value에 리스트도 넣을 수 있음
a={'a':[1,2,3]}
a


# key에는 리스트를 넣을 수 없음->key는 1개만 존재해야하고 불변해야 함
# 하지만 리스트는 여러 요소가 들어가 있으며 변할 수 있기 때문에 key값에 올 수 없음
b={[1,2,3]:'a'}
b





# 여러가지 요소를 추가할 수 있고 key만 알면 조회가 가능하기 때문에 많이 사용함
a={1:'a'}
a


a[2]='b'
a


a['name']='pay'
a


a[3]=[1,2,3]
a


# 딕셔너리 삭제하기
# 1번 키를 삭제하고 싶다는 의미
del a[1]
a





# key를 사용해서 value 얻기
grade={'pay':10,'jullet':99}
grade['pay']





# key 리스트 만들기 - keys
dic


dic.keys()


# 추후 반복문 작성 시 사용
# for 반복문(dic의 key 값을 따로따로 뽑고 싶을 때 이용)
for k in dic.keys():
    print(k)


for k in dic.keys():
    print(dic[k])


# dic.keys()의 값은 리스트처럼 보이지만 객체임
# 따라서 리스트로 뽑기 위해선 list로 변수형 변경 필요
type(dic.keys())


list(dic.keys())


# value 리스트 만들기 values
dic.values()


# key, value 쌍 얻기 items
dic.items()


# key:value 쌍 모두 지우기 clear
dic.clear()
dic


# key로 value 얻기 get
a = {'name': 'pey', 'phone': '010-9999-1234', 'birth': '1118'}
a


a.get('name')


# 인덱싱으로 값을 찾는 것과 get의 차이
# 인덱싱으로 찾을 경우 없는 값을 넣으면 오류 발생
# get의 경우 없는 값을 넣으면 아무 값도 출력하지 않음
a['name']


a.get('nokey')


a['nokey']


# get의 경우 없는 값을 찾았을 때 어떤 값이 노출될지 설정 가능
a.get('nokey', 'defaultkey')


# 해당 key가 딕셔너리 안에 있는지 조사하기 in
# 있을 경우 True, 없을 경우 False 출력
'name' in a


'email' in a





# set 키워드를 사용해서 만들 수 있음
s1=set([1,2,3])
s1, type(s1)


# 요소 별로 분리해주며 중복을 없애줌(+순서가 없음)
s2=set("Hello")
s2


# 순서가 없음->인덱싱 불가
s1[0]


# 인덱싱하고 싶을 땐 list로 형변환 필요
l1=list(s1)
l1


l1[0]


tuple(s1)


s1=set([1,2,3,4,5,6])
s2=set([4,5,6,7,8,9])





# 교집합 구하기 연산자(&) 활용
s1&s2


# 교집합 구하기 메서드(객체 함수) 활용
s1.intersection(s2)





# 합집합 구하기 연산자(|) 활용
s1|s2


# 합집합 구하기 메서드 활용
s1.union(s2)





# 차집합 구하기 연산자(-) 활용
s1-s2


# 차집합 구하기 메서드 활용
s1.difference(s2)





# 값 1개 추가하기 add
s1.add(0)
s1


# 값 여러개 추가하기 update
s1.update([7,8,9])
s1


# 특정 값 제거하기 remove
s1.remove(0)
s1





# 사용법
a=True
b=False
type(a), type(b)


# = : 대입, == : 비교
# 비교를 통해 참, 거짓을 반환 => 조건문
# 1이 1이니?
1==1


2>1


2<1





# 문자형, 리스트에 값(요소)이 있으면 True
# 문자형, 리스트에 값이 없으면 False
# 1=True, 0=False, None=False


# while 반복 문
# a있는 값들이 뒤에서부터 하나씩 조회되고 삭제됨
# 모든 값이 삭제되고 나면 while 문이 종료됨
a=[1,2,3,4]
while a:
    print(a.pop())


a=[1,2,3,4]
while a:
    print(a)
    print(a,a.pop())


# if문(분기문)
# if 조건문 : print('참') else print('거짓')
# 아래의 경우 값이 있으니 참 출력
if [1,2,3] :
    print('참')
else :
    print('거짓')





bool('python')


bool('')


















