





## numpy 데이터 만들기(나열하는 방식) => arange(데이터를 나열하는 함수) 사용
## 데이터를 나열한 후 2차원으로 바꾸기
## reshape를 쓸 때는 데이터 수와 일치되도록 행, 열의 수를 지정 필요->안그러면 오류 발생
import numpy as np # as : 별칭부여
a=np.arange(15) # 0~14까지 나열->1차원 데이터
print(a) # 1차원 데이터 반환
a=a.reshape(3,5) # reshape : 차원을 변경/ 3행 5열 데이터로 변경
print(a) # 2차원 데이터 반환


import numpy as np # as : 별칭부여
a=np.arange(15) # 0~14까지 나열->1차원 데이터
print(a) # 1차원 데이터 반환
a=a.reshape(3,5) # reshape : 차원을 변경/ 3행 5열 데이터로 변경
print(a) # 2차원 데이터 반환
print(type(a))
print(a.shape)


print(type(a))
print(a.dtype)


print(a.ndim)


# print(dir(np))


import numpy as np
a=np.arange(15)
a=a.reshape(3,5,order='F')
print(a)


b=np.array([-1,2,5,-3,0,7,-9,4,-4,-7]) # List
print(type(b))
print(b)


t=(10,20,30,40,50) # tuple
print(type(t))
t=np.array(t)
print(type(t))


s= {10,20,30,40,50} # set
print(type(s))
s=np.array(s)
print(type(s))


# list에서 numpy로 변환한 변수 b 활용
b=np.array([-1,2,5,-3,0,7,-9,4,-4,-7])
print(b)

# abs : 절대값 구하는 함수
print(np.abs(b))


print(b.shape)
print(b.ndim)
print(b.dtype)
print(b)

# print(help(np.arange))


b=np.array([-1,2,5,-3,0,7,-9,4,-4,-7])
print(b)

# sqrt : 제곱근을 구하는 함수 -> 음수는 계산할 수 없기 때문에 "nan"으로 출력됨
print(np.sqrt(b))


# abs 함수와 함께 이용할 경우 음수를 양수로 바꿔서 제곱근 계산 가능
print(np.sqrt(np.abs(b)))


# square : 제곱을 구하는 함수
print(np.square(b))


# isnan : nan 값인지 여부를 묻는 함수
print(np.isnan(b))


b=np.array([-1,2,5,-3,0,7,-9,4,-4,-7])
print(b)
print(np.isnan(b))


print(np.sum(b))  #합계
print(np.mean(b)) #평균
print(np.max(b)) #최댓값
print(np.min(b)) #최솟값
print(np.argmax(b)) # 최대값의 인덱스를 알려주는 함수
print(np.argmin(b)) #최소값의 인덱스를 알려주는 함수


print(np.sort(b)) # 정렬, 오름차순
print(np.sort(b)[::-1]) #정렬, 내림차순/ 슬라이싱 활용


print(np.median(b)) #중간값


#2차원 데이터 만들기->리스트 형태로 만들 땐 대괄호 2개 사용
c=[[1,2,3],[4,5,6]]    # 리스트 형태
print(type(c))
print(c)

import numpy as np    # numpy를 np로 명명
c=np.array(c)         # list 상태인 c를 numpy 형태로 변경
print(type(c))        # c가 numpy 형태임을 알 수 있음
print(c)


print(np.sum(c))    # 전체 합계 구하기
print(np.sum(c,axis=0)) # axis : 어디를 더할지 정하는 옵션/ 0=행끼리 더함
print(np.sum(c,axis=1)) # axis : 어디를 더할지 정하는 옵션/ 1=열끼리 더함


print(np.mean(c)) #전체 평균 구하기
print(np.mean(c, axis=0)) # 행끼리 평균
print(np.mean(c, axis=1)) # 열끼리 평균


print(np.median(c)) # 전체 중간값
print(np.median(c, axis=0)) #행끼리 중간값
print(np.median(c, axis=1)) #열끼리 중간값


print(np.max(c)) #전체 최대값
print(np.max(c, axis=0)) #행끼리 최대값
print(np.max(c, axis=1)) #열끼리 최대값

print(np.min(c)) #전체 최소값
print(np.min(c, axis=0)) #행끼리 최소값
print(np.min(c, axis=1)) #열끼리 최소값


print(np.std(c))  #표준편차
print(np.var(c))  #분산


# element wise
## 각각의 데이터를 요소(element)라고 함 -> 아래 데이터에서는 10, 20 각각이 요소
d=[10,20,30,40,50]
print(type(d))
# print(d+2) => list 상태에서 실행할 경우 오류 발생(list 형태와 int 형태를 더할 수 없기 때문)
d=np.array(d)
print(d)
print(d+2)  # 각각의 요소에 대해 연산 작업 가능(numpy이기 때문)


e=np.array([1,2,3,4,5])
print(d+e)   # numpy 두개를 더할 수도 있음(단, 두 numpy 데이터의 수는 똑같아야 함)


print(d**2)  #제곱
print(d*np.sin(d))  #삼각함수


print(d>35) #비교연산자는 결과값으로 논리값이 나옴, 각 요소가 35보다 크냐는 의미


#연산 함수 사용하기
print(np.add(d,e)) #더하기
print(np.subtract(d,e)) #빼기
print(np.multiply(d,e)) #곱하기
print(np.divide(d,e)) #나누기


f=np.array([[0,1],[1,1]])
g=np.array([[2,0],[3,4]])
print(f)
print(g)


print(f*g)   #각 요소의 곱 (동일한 위치의 값들을 곱함)
print(f@g)   #행렬곱을 구하는 연산자


print(np.dot(f,g)) #행렬곱을 구하는 함수
print(f.dot(g)) #행렬곱을 구하는 함수


# 비어 있는 numpy 배열 만들기
h=np.zeros(10)  #0으로 채워진 방 10개를 만들어줘
print(h)


# zeros로 2차원 데이터 만들기
i=np.zeros((5,5)) #튜플로 데이터 부여 => 0으로 채워진 5행 5열 데이터 만들기
print(i)


# ones : 1로 채워진 빈방 만들기
j=np.ones(10)
print(j)
k=np.ones((5,5))  #튜플로 데이터 부여 => 1로 채워진 5행 5열 데이터 만들기
print(k)


# 랜덤값으로 numpy 데이터 만들기
## np.random.random   0~1 사이의 난수 발생
## np.random.randint  균일 분포의 정수 난수 발생
## np.random.rand     0~1 사이의 균일 분표 난수 matrix array 발생
## np.random.randn    가우시안 표준 정규 분포 난수 matrix array 발생
## np.random.nomral   평균, 표준편차, sample 개수

l=np.random.random(10)
print(type(l))
print(l)


#0~100까지 값으로 만들기
## 0.xxx 소수점으로 나온 값에 100을 곱해 십의 자리로 만든 후 소수점 자르기(=정수로 바꾸기)
l=np.random.random(10)*100
l=np.array([int(i) for i in l])
print(type(l))
print(l)


print(np.random.randint(10))    #매개변수가 범위로 사용됨, 0~10사이의 랜덤값 1개 도출
print(np.random.randint(10,20)) #10~20사이의 랜덤값 1개 도출


# 슬라이싱
# list
m=[i for i in range(10,20)]
print(m[0:5])  #[시작 : 끝-1 : 간격]
print(m[0:5:2])
print(m[:-2])


# ndarray : numpy도 슬라이싱 가능
## 1차원일 땐 list 슬라이싱과 동일
w=np.arange(10,20)
print(w[0:5])
print(w[0:5:2])
print(w[:-2])


## 2차원일 때
r=[[1,2,3,4,5],[6,7,8,9,10],[11,12,13,14,15]] #3행 5열짜리 2차원 리스트
print(r[2][2])  # 인덱스가 (2,2)인 방에 있는 데이터


print(r[:][:]) # 모든 데이터 출력
print(r[2][:]) # 인덱스가 2인 행의 모든 데이터 출력
print(r[1][:2]) # 인덱스가 1인 행의 처음부터 2개 데이터 출력



#뒤에 오는 값이 무조건 열을 의미하는 것이 아님!!
print(r[:2][:2]) # 인덱스가 0,1인 행을 뽑은 후 처음부터 2개의 행안에 있는 데이터 출력
print(r[:2][:1])
# print(r[:, :]) => list 상태에서는 오류 발생


## 2차원 numpy인 경우 슬라이싱
s=np.arange(1,16).reshape(3,5)  #1~15까지의 수를 3행 5열로 변환
print(s)


print(s[2][2])
print(s[:][:]) # 모든 데이터 출력
print(s[2][:]) # 인덱스가 2인 행의 모든 데이터 출력
print(s[1][:2])
print(s[:2][:1])  # 2차원인 데이터에서 꺼내오기 때문에 대괄호 두개로 묶여 있음=2차원 데이터를 꺼내옴


print(s[:2, :2]) #앞의 2개 행에서 앞의 2개 열의 값을 꺼내옴
print(s[:, :]) #모든 데이터 출력
print(s[:-1, :-1]) #제일 마지막 행과 마지막 열 제외하고 출력
print(s[2, 2]) # 2행에 2열 데이터
print(s[::-1, ::-1]) # 행과 열을 거꾸로 출력


# 특정 행만 꺼내오기
print(s[[0,2]]) #2차원으로 입력->인덱스가 0, 2인 행 데이터만 반환해줘


# 특정 열만 꺼내오기
print(s[:,[1,3,4]]) #행은 다 가져오되 인덱스가 1,3,4열만 가져와줘


# 특정 행과 열에 해당하는 데이터만 꺼내오기
print(s[[0,2],[3,4]]) # 0행에 3열, 2행에 4열 데이터를 가져와줘


#전치 행렬
print(s) # 3행 5열
print(s.T) # 행하고 열이 바뀜 -> 5행 3열


#결합/분리
## zip : 2개의 list를 튜플로 묶어줌
a=[1,2,3]
b=[4,5,6]
for ab in zip(a,b):
    print(ab)












