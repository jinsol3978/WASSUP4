


# 내가 작성한 구조문
all={'홍길동':'010-123-4567'}
i=int(input())
if i==1:
    name=input("추가할 이름: ")
    phone=input("추가할 연락처: ")
    all[name]=phone
    print(all)
elif i==2:
    print(all)
elif i==3:
    name=input("검색할 이름: ")
    print(all.get(name))
elif i==4:
    name=input("수정할 사람 이름: ")
    phone=input("새 연락처: ")
    del all[name]
    all[name]=phone
    print(all)
elif i==5:
    name=input("삭제할 사람 이름: ")
    del all[name]
    print(all)
else:
    print("연락처 프로그램을 종료합니다.")


# 강사님 답변
contact={}
while True:
    print('-----전화번호 프로그램-----')
    print('1.추가 2.조회 3.검색 4.수정 5.삭제 9.종료')
    menu=int(input('메뉴를 선택해주세요.(숫자 only) : '))

    if menu==1: #연락처 추가
        print('연락처를 추가합니다.')
        new_name=input('이름: ')
        new_tel=input('전화번호: ')
        print(new_name, new_tel)
        
        # contact[new_name]=new_tel
        # setdefault:기존에 값이 존재할 경우 수정하지 않음
        contact.setdefault(new_name, new_tel)

    elif menu==2: #연락처 조회
        print('연락처를 조회합니다.')
        #print(contact)
        for name, tel in contact.items():
            print(name,':',tel)

    elif menu==3: #연락처 검색
        print('연락처를 검색합니다.')
        search_name=input('검색 이름: ')
        #print(contact[search_name]) -> 없는 이름 검색 시 오류 발생
        #없는 이름 검색 시 오류가 아닌 안내가 나가도록
        print(contact.get(search_name,'등록되지 않은 이름입니다.'))

    elif menu==4: #연락처 수정
        print('연락처를 수정합니다.')
        mod_name=input('수정 이름: ')
        
        #수정하고자 하는 사람이 없을 수도 있음->새 전화번호 입력하기 전에 수정 이름이 존재하는지 확인하기
        if mod_name in contact:
            mod_tel=input('새 전화번호: ')
            contact[mod_name]=mod_tel
        else:
            print('등록되지 않은 이름입니다.')

    elif menu==5: #연락처 삭제
        print('연락처를 삭제합니다.')
        del_name=input('삭제 이름: ')
        if del_name in contact:
            del contact[del_name]
        else:
            print('등록되지 않은 이름입니다.')

    elif menu==9: #프로그램 종료
        print('프로그램을 종료합니다.')
        break

    else: #예외
        print('잘못된 입력입니다.')










































