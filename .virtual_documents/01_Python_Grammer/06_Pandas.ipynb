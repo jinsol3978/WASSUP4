


import pandas as pd
import numpy as np





s=pd.Series([1,2,3,4,5,6,7,8,9])  #Series 만들기
print(type(s))
print(s.index)  # index를 따로 지정하지 않으면 자동으로 숫자가 기재됨
print(s.dtype)
print(s)       # 출력 결과에서 왼쪽열이 index, 우측 열이 데이터


# 특정 인덱스명 부여
s.index=['A','B','C','D','E','F','G','H','I']
print(s)


s=pd.Series([1,2,3,4,5,6,7,8,9],['A','B','C','D','E','F','G','H','I'])
print(s)


print(s.index)  #index만 출력
print(s.values) #값만 출력
print(s['A']) #원하는 데이터만 출력
print(s.A)  #원하는 데이터만 출력


## 슬라이싱 가능
print(s['A':'D'])  #직접 부여한 index 명 활용





d={'A':10,'D':20,'F':30,'H':40}
print(type(d))
for key,value in d.items() : # 딕셔너리 반복문, items로 key, value를 튜플 형식으로 꺼냄
    print(key,":",value)

print(d['A']) # 딕셔너리 특정 데이터 출력


s=pd.Series(d)    #딕셔너리를 Series로 변경
print(s.index)
print(s.values)
print(s)
print(s['A'])  #특정 값 출력
print(s.A)     #특정 값 출력

print(s[0:3])  #딕셔너리는 슬라이싱이 불가, 하지만 Series로 변경 후에는 슬라이싱 가능
print(s['A':'F'])





# Dictionary->DataFrame
# 딕셔너리는 value 값에 list 등 여러 값 입력 가능
d={
    'name':['kim','lee','park','jung'],
    'age':[25,30,35,20],
    'tel':['1111-2222','2222-1111','3333-1111','2222-3333']
}
print(type(d))
print(d)


df=pd.DataFrame(d)  #Dictionary->DataFrame
print(df)           #DataFrame 출력 시 테이블 형태로 출력 가능


print(df.index)
print(df.columns)
print(df.values)


# index와 colums에 특정 이름 부여 가능
df.index.name = 'Num'
df.columns.name='User'
print(df)

print(df.index)
print(df.columns)


# numpy->DataFrame
n=np.array(
    [['kim',20,'1111-2222'],
     ['lee',30,'2222-1111'],
     ['park',35,'3333-2222'],
     ['jung',25,'3333-1111']]
)
print(type(n))


# numpy->DataFrame
df=pd.DataFrame(n)   #index, columns을 별도로 지정하지 않으면 숫자가 자동으로 배정됨
print(df)
print(df.index)
print(df.columns)


df.columns=['name','age','tel'] #columns 명 변경
df.index=['A','B','C','D']  #index 명 변경
print(df)
print(df.columns)
print(df.index)


df=pd.DataFrame(n,columns=['name','age','tel'],index=['A','B','C','D'])
print(df)


# 데이터가 잘 들어있는지 확인하기 위해 사용하는 함수
# count : 빈 값이 있는지 확인
# unique : 다 다른 값이 들어있는지 확인하기 위함, 고윳값의 
#          (중복값이 있을 경우 개수가 작아짐, ex) 4 -> 4개의 데이터가 값이 달라!)
# top : 최빈값???
# freq : 최빈값의 빈도???
print(df.describe())


# 특정 columns만 출력
print(df['name'])  #'name'열만 출력, 한줄만 출력하기 때문에 series 타입으로 출력됨
print(type(df['name']))


print(df[['name','tel']])  # 'name', 'tel'열만 출력


# print(df['name'][2])  # 별도 index명이 부여된 상태에서 기본으로 부여되는 숫자로 조회
#                      ->조회 가능 but, 경고문 노출
print(df['name']['C'])
print(df['name'].C)
print(df['name']['B':'D'])


print(df.name, df.age) # 특정 열들의 값을 따로따로 꺼내줘


print(df.name.C)


print(df[:][:])
print(df[:2][:1])  # 위에서 2줄을 꺼낸 후에 거기서 첫번째 1줄을 꺼내라


print(df[['name','tel']])
#print(df[[0,2]])   #이미 별도로 배정한 칼럼명이 있기 때문에 숫자로 조회 시 에러 발생
print(df)


df['address']=['서울','수원','인천','안산']  #새로운 column 추가, 기존에 존재하는 열일 경우 값이 수정됨
print(df)


df['adult']=df['age'].astype(np.int64)>30 #astype(np.int64):numpy에서 이용하는 형변환 변수
print(df)


df['age']['A']=20   #기존에 입력된 데이터 수정 가능
print(df)


del(df['adult'])   # 열 삭제 가능
print(df)


# Series 정렬
s=pd.Series([10,40,50,20,70,60], index=['a','d','f','g','b','c'])
print(s)


# index 정렬, 기본값=오름차순(trun)/ index 정렬 시 value도 따라서 변경됨
s=s.sort_index()
print(s)


# index 정렬, 내림차순=False
s=s.sort_index(ascending=False)
print(s)


# value 정렬 -> values 정렬에 따라 index 정렬도 바뀜
s=s.sort_values()
print(s)


# value 정렬 -> values 정렬에 따라 index 정렬도 바뀜
s=s.sort_values(ascending=False)
print(s)


# DataFrame 정렬
## DataFrame 데이터 생성
df=pd.DataFrame([[4,5,1,2],
                 [300,400,200,100],
                 [20,10,40,30]], index=['c','a','b'], columns=['D','C','A','B'])
print(df)


# index로 정렬/ 별도 설정하지 않으면 오름차순
df=df.sort_index()
print(df)


# index로 정렬/ axis 활용 가능 -> axis=0 : '행끼리'를 의미 => 행 기준으로 오름차순
df=df.sort_index(axis=0)
print(df)


# index로 정렬/ 행 기준 내림차순(axis=0 생략 가능, 행 기준이기 때문)
df=df.sort_index(axis=0,ascending=False )
print(df)


# column으로 정렬/ axis 활용 가능 -> axis=1 : '열끼리'를 의미 => 열 기준으로 오름차순
df=df.sort_index(axis=1)
print(df)


# 열 기준으로 내림차순 정렬
df=df.sort_index(axis=1, ascending=False)
print(df)


# value를 기준으로 정렬 / A열을 기준으로 정렬=>A열의 값들이 오름차순으로 정렬됨
print(df)

df=df.sort_values(by='A')
print(df)


# value를 기준으로 정렬 / A열을 기준으로 정렬=>A열의 값들이 내림차순으로 정렬됨
print(df)

df=df.sort_values(by='A', ascending=False)
print(df)


df=pd.DataFrame([[4,5,40,100],
                 [300,10,200,2],
                 [20,400,4,30]], index=['c','a','b'], columns=['D','C','A','B'])
print(df)


# value를 기준으로 정렬 / A열을 기준으로 정렬=>A열의 값들이 오름차순으로 정렬됨
print(df)

df=df.sort_values(by='A')
print(df)


# value를 기준으로 정렬 / A열을 기준으로 정렬=>A열의 값들이 내림차순으로 정렬됨
print(df)

df=df.sort_values(by='A', ascending=False)
print(df)


print(df)

df=df.sort_values(by=['A', 'B']) # A로 먼저 정렬한 후 B로 정렬
print(df)


# 특정 인덱스 기준으로 정렬
print(df)

df=df.sort_values(by='b', axis=1)  #열끼리
print(df)





#list
m=[[1,2,3],[4,5,6],[7,8,9]]
print(m)
print(m[2][2])
print(m[:][:])
print(m[:2][:2])  # 앞에서 2개의 행 뽑은 후 그 중에서 2개의 행을 보여줘


# numpy
n=np.array(m)
print(n)


print(n[2][2])
print(n[:][:])
print(n[:2][:2])
print(n[:2,:2])  # 앞에서 2개의 행 뽑은 후 그중 앞에서 2개의 열 추출


# pandas
df=pd.DataFrame(n)
print(df)


print(df[2][2])  # 현재 컬럼명을 따로 지정하지 않았기 때문에 숫자로 조회해도 조회됨
                 # (별도 컬럼이 지정되어 있을 경우 에러 발생)
print(df[:][:])
print(df[:2][:2])
# print(df[:2,:2])   # Numpy에서는 가능했으나 DataFrame에서는 에러 발생


 # 1~20까지 나열된 2차원 numpy를 dataframe으로 변경
df=pd.DataFrame(np.arange(1,21).reshape(5,4),columns=['A','B','C','D'])
print(df)


# print(df[2][2]) ###현재 별도 컬럼명을 지정->오류 발생
print(df['C'][2])
print(df[['A','D']])
# print(df['A':'C'])  #에러 발생
# print(df[['A':'C']]) #에러 발생


# 위와 같이 오류 발생하는 것들을 표현하기 위해 iloc(정수 인덱스만 가능) 사용
print(df.iloc[2][2])
print(df.iloc[2,2])
#print(df.iloc[2,'C'])   # iloc는 정수만 사용 가능 => 에러 발생
                         # 숫자말고 문자를 사용하고 싶을 경우 loc 사용

print(df.iloc[:2,:2])   # 슬라이싱 사용 가능
print(df.iloc[:3:2,:3:2]) # 0~2까지 행을 2개의 간격으로 조회 후 0~2까지 열을 2개의 간격으로 조회


print(df.iloc[:2,:-1])
print(df.iloc[::-1,::-1])  # 간격에 -1 = 거꾸로 출력


# loc : 특정 컬럼명이 지정되었을 경우 컬럼명으로 조회
print(df)


# print(df.loc[2,2])   # 특정 컬럼명이 지정된 상태->숫자로 조회할 경우 에러 발생
print(df.loc[2,'C'])   # 컬럼명으로 조회 시 정상적으로 조회 가능


print(df.loc[:2,:'C'])
print(df[:2])
print(df.loc[1:3,'B':'D'])
print(df.loc[:,'C'])   # 모든 행, C열만 조회
print(df.loc[:,['B','D']]) # 모든 행, B열과 D열 조회
print(df[['B','D']])  # 윗줄과 동일하게 B열과 D열 조회->BUT, 특정 행을 지정할 수 없음


# 컬럼 추가
print(df)


# 컬럼 추가
df['E']=[31,32,33,34,35]   # 컬럼 추가 가능
# df[5][:]=[90,91,92,93,94]  # 행 추가 불가능
print(df)


# 컬럼 추가 - iloc 사용 => iloc의 경우 새로운 데이터 추가 불가!!!
## df.iloc[:,5]=[40,41,42,43,44]    # 에러 발생(컬럼 명이 기재되지 않았기 때문)
## df.iloc[5,:]=[90,91,92,93,94]    # 에러 발생
print(df)


 # 1~20까지 나열된 2차원 numpy를 dataframe으로 변경
df=pd.DataFrame(np.arange(1,21).reshape(5,4),columns=['A','B','C','D'])
df['E']=[31,32,33,34,35]
print(df)


# loc 행추가 가능
df.loc[5]=[90,91,92,93,94]
print(df)


# loc 열추가 가능
df.loc[:,'F']=[40,41,42,43,44,45]
print(df)


# 특정 데이터 수정 => 기존에 존재하는 컬럼명을 이용할 경우 값 수정
df.loc[0,'A']=99
print(df)


# 특정 데이터 수정 => 기존에 존재하는 컬럼명을 이용할 경우 값 수정
df.loc[1,'A':'C']=[100,121,102]  # 1번 행의 A~C까지 열의 값 변경
print(df)


# 특정 데이터 수정
df.loc[3,['A','C','E']]=[200,201,202]  # 3번 행의 A,C,E열의 값 변경
print(df)


# 특정 열 지우기
print(df)


# 특정 열 지우기
del(df['E'])
print(df)


# drop 사용
df=df.drop('F',axis=1)   #특정 열 지우기, 기본값이 행이기 때문에 axis=1로 열 지정 필요
print(df)


# drop 사용
df=df.drop(5,axis=0)   #특정 행 지우기, 기본값이 행이기 axis 생략 가능
print(df)





df=pd.DataFrame(
    [['kim',20,'1111-2222'],
     ['lee',30,'2222-1111'],
     ['park',35,'3333-2222'],
     ['jung',25,'3333-1111'],
     ['hong',40,'1111-3333']], columns=['name','age','tel']
)
print(df)


print(df.loc[3,'name'])


# loc => Boolena Indexing 가능
# 조건에 맞는 데이터만 출력
print(df.loc[df['age']>30,['name','age']]) # age가 30보다 큰 행의 name과 age 출력


# loc => Boolena Indexing 가능
# 등호 사용 가능
print(df.loc[df['name']=='kim',:])  # name이 kim인 행의 모든 열 출력


# loc => Boolena Indexing 가능
# 논리 연산자(and, or) 사용 가능

# 조건이 여러 개일 경우 소괄호로 정확히 구분해줘야 작동가능
# 아래 식에 age 조건에 소괄호 없을 경우 오류 발생
print(df.loc[(df['age']>20) & (df['age']<40), 'name':'tel'])


print(df.loc[[True,True,False,False,False],"name"])





df=pd.DataFrame(
    [['kim',20,'1111-2222'],
     ['lee',30,'2222-1111'],
     ['park',35,'3333-2222'],
     ['jung',25,'3333-1111'],
     ['hong',40,'1111-3333']], columns=['name','age','tel']
)
print(df)


df['address']=['서울',np.nan,np.nan,'수원',np.nan]   # 결측치 생성
print(df)


# 결측치만 조회하기 => isnull() 함수 활용
print(df.loc[df['address'].isnull(),'address'])  #address가 NaN인 행의 address 출력


# 여러 결측치
df['address']=['서울',np.nan,np.nan,'수원',None]   # 결측치 생성
print(df)

df.loc[df['address'].isnull(),'address'] # np.nan/None 상관없이 모든 결측치 조회


# 결측치를 특정 값으로 대체
df.loc[df['address'].isnull(),'address']='서울'
print(df)


# ' '이라는 결측치 생성
df.loc[::2,'address']=' '
print(df)


# 아무 것도 없는 문자열(' ')의 경우 등호로 골라낼 수 있음
# np.nan, None은 등호로 골라낼 수 없음(isnull 사용 필요)
df.loc[df['address']==' ', 'address']='서울'
print(df)





# 결측치 생성
df.loc[::2,'tel']=np.nan  # 특정 부분만 비우기
df.loc[5,:]=[np.nan,np.nan,np.nan,np.nan]  #5행 전체 비우기
print(df)


# dropna : not available인 경우 삭제
df.dropna(how='all', inplace=True)  #전체 다 NaN일 때만 삭제/inplace=True : 원본에 바로 적용
print(df)


df.dropna(how='any', inplace=True) # 하나라도 NaN일 때 삭제
print(df)


df=pd.DataFrame(
    [['kim',20,'1111-2222','서울'],
     ['lee',30,'2222-1111',np.nan],
     ['park',35,'3333-2222','수원'],
     ['jung',25,'3333-1111',np.nan],
     ['hong',40,'1111-3333',np.nan]], columns=['name','age','tel','address']
)
df.loc[5,:]=[np.nan,np.nan,np.nan,np.nan]
print(df)


# 새로운 값 추가
df['income']=[300, np.nan,400,500,np.nan,300]
print(df)


# 특정 열에 있는 NaN 값만 다른 값으로 대체 필요 => fillna 사용
df.fillna({'address':'서울'},inplace=True)
print(df)


# income의 결측치를 평균값으로 대체
df.fillna({'income':np.mean(df['income'])},inplace=True)
print(df)


# 여러 행 삭제
df.drop([4,5],inplace=True)
print(df)


# 여러 열 삭제
df.drop(['address','income'], axis=1, inplace=True)
print(df)


# 전치 행렬
print(df.transpose())





df=pd.DataFrame(
    [['kim',90,80,70],
     ['lee',45,np.nan,55],
     ['park',76,77,83],
     ['hong',np.nan,np.nan,77],
     ['kang',35,58,52],
     ['jang',np.nan,np.nan,np.nan]],columns=['name','kor','eng','mat']
)
print(df)


# count
print(df.count())  # axis=0이 기본값(행끼리), 공백은 카운트하지 않음


print(df.count(axis=1)) # 열끼리 카운트


# min 최소값
print(df.min())


# min : 공백 제외
# 현재 데이터의 경우 name은 최소값이 따로 없음->name 제외하고 최소값 비교
print(df.loc[:,'kor':'mat'].min())


# min : 공백 제외
# 현재 데이터의 경우 name은 최소값이 따로 없음->name 제외하고 "열끼리" 최소값 비교
print(df.loc[:,'kor':'mat'].min(axis=1))


# max 최대값
print(df.max())


# mean 평균값
# name의 경우 평균값을 구할 수 없으므로 name 제외하고 계산
print(df.loc[:,'kor':'mat'].mean())


# mean 평균값
# name의 경우 평균값을 구할 수 없으므로 name 제외하고 "열끼리" 계산
print(df.loc[:,'kor':'mat'].mean(axis=1))


# sum
# 문자열인 name은 제외
print(df.loc[:,'kor':'mat'].sum())


# sum
# 문자열인 name은 제외 / 열끼리 계산
print(df.loc[:,'kor':'mat'].sum(axis=1))


# median : 중간값
# 문자열인 name은 제외 / 짝수 개인 경우 중간값 2개 더해서 2로 나눔
print(df.loc[:,'kor':'mat'].median())


# cumsum : 누적합
# 문자열의 경우 합할 경우 글이 합쳐짐
print(df.cumsum())


# cumprod :누적곱
# 문자열 연산 불가 -> name 제외
print(df.loc[:,'kor':'mat'].cumprod())


# idxmax : 최대값의 인덱스
# idxmin : 최소값의 인덱스
print(df.idxmax())
print(df.idxmin())


# var : 분산
# std : 표준편차
print(df.loc[:,'kor':'mat'].var())
print(df.loc[:,'kor':'mat'].std())


# 점수 합계 열 추가
df['tot']=df.loc[:,'kor':'mat'].sum(axis=1)  # name을 제외한 값들을 더함
print(df)


# 점수 평균 열 추가
df['avg']=df.loc[:,'kor':'mat'].mean(axis=1)  # name을 제외한 값들의 평균
print(df)


df=df.drop('mean',axis=1)
print(df)


# corr : 상관관계
# 1=양의 상관관계, 0=상관관계가 낮다(없다), -1=음의 상관관계
print(df['kor'].corr(df['eng']))
print(df)









