


#'shirt' 출력
# 5번째 문장도 참이지만 4번째 문장이 먼저 실행되었기 때문에 미출력





# i%3==0:
result = 0
i = 1
while i <= 1000:
    if i%3==0:
        result += i
    i += 1
print(result)





i=1
while True:
    if i<6:
       print("*"*i)
       i+=1





for i in range(1,101):
    print(i)





A = [70, 60, 55, 75, 95, 90, 80, 80, 85, 100]
total = 0
for score in A:
    total += score # A학급의 점수를 모두 더한다.
average = total/len(A) # 평균을 구하기 위해 총 점수를 총 학생수로 나눈다.
print(average)





numbers=[1,2,3,4,5]
result=[num*2 for num in numbers if num%2 !=0]
print(result)



