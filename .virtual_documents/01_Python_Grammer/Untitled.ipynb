


# 존재하지 않는 파일을 호출했을 때 오류 발생(FileNotFoundError)
f=open('나없는파일', 'r')


# 나눌 수 없어서 발생하는 오류(ZeroDivisionError)
4 / 0


# 인덱스 형식 오류
a = [1, 2, 3]
a[3]


### Try-except만 쓰는 방법
try:
    4/0
except ZeroDivisionError: 
    print('0으로 나눌 수 없습니다.')


# ZeroDivisionError만 받겠다고 적어놨기 때문에 다른 오류 발생 시 오류 발생
try:
    a = [1, 2, 3]
    a[3]
except ZeroDivisionError: 
    print('0으로 나눌 수 없습니다.')


try:
    4/0
except ZeroDivisionError as e: 
    print('0으로 나눌 수 없습니다.')
    print(e)





# finally 절은 try 문 수행 도중 예외 발생 여부에 상관없이 항상 수행된다


#  여러개의 오류 처리하기
try:
    a = [1,2]
    print(a[3])
    4/0
except ZeroDivisionError:
    print("0으로 나눌 수 없습니다.")
except IndexError:
    print("인덱싱 할 수 없습니다.")


try:
    a = [1,2]
    print(a[3])
    4/0
except ZeroDivisionError as e:
    print(e)
except IndexError as e:
    print(e)





try:
    age=int(input('나이를 입력하세요: '))
except:
    print('입력이 정확하지 않습니다.')
else:
    if age <= 18:
        print('미성년자는 출입금지입니다.')
    else:
        print('환영합니다.')




































