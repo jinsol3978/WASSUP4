





## numpy 데이터 만들기(나열하는 방식) => arange(데이터를 나열하는 함수) 사용
## 데이터를 나열한 후 2차원으로 바꾸기
## reshape를 쓸 때는 데이터 수와 일치되도록 행, 열의 수를 지정 필요->안그러면 오류 발생
import numpy as np # as : 별칭부여
a=np.arange(15) # 0~14까지 나열->1차원 데이터
print(a) # 1차원 데이터 반환
a=a.reshape(3,5) # reshape : 차원을 변경/ 3행 5열 데이터로 변경
print(a) # 2차원 데이터 반환


import numpy as np # as : 별칭부여
a=np.arange(15) # 0~14까지 나열->1차원 데이터
print(a) # 1차원 데이터 반환
a=a.reshape(3,5) # reshape : 차원을 변경/ 3행 5열 데이터로 변경
print(a) # 2차원 데이터 반환
print(type(a))
print(a.shape)


print(type(a))
print(a.dtype)


print(a.ndim)


# print(dir(np))


import numpy as np
a=np.arange(15)
a=a.reshape(3,5,order='F')
print(a)


b=np.array([-1,2,5,-3,0,7,-9,4,-4,-7]) # List
print(type(b))
print(b)


t=(10,20,30,40,50) # tuple
print(type(t))
t=np.array(t)
print(type(t))


s= {10,20,30,40,50} # set
print(type(s))
s=np.array(s)
print(type(s))


# list에서 numpy로 변환한 변수 b 활용
b=np.array([-1,2,5,-3,0,7,-9,4,-4,-7])
print(b)

# abs : 절대값 구하는 함수
print(np.abs(b))


print(b.shape)
print(b.ndim)
print(b.dtype)
print(b)

# print(help(np.arange))


b=np.array([-1,2,5,-3,0,7,-9,4,-4,-7])
print(b)

# sqrt : 제곱근을 구하는 함수 -> 음수는 계산할 수 없기 때문에 "nan"으로 출력됨
print(np.sqrt(b))


# abs 함수와 함께 이용할 경우 음수를 양수로 바꿔서 제곱근 계산 가능
print(np.sqrt(np.abs(b)))






























