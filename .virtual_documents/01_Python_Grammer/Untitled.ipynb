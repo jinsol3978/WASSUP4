user=input("입력값 : ")
a=20+int(user)
if a >225:
    print(255)
else:
    print(a)
print("
