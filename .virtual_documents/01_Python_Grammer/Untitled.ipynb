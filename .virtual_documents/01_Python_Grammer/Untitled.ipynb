


import pandas as pd
import numpy as np





s=pd.Series([1,2,3,4,5,6,7,8,9])  #Series 만들기
print(type(s))
print(s.index)  # index를 따로 지정하지 않으면 자동으로 숫자가 기재됨
print(s.dtype)
print(s)       # 출력 결과에서 왼쪽열이 index, 우측 열이 데이터


# 특정 인덱스명 부여
s.index=['A','B','C','D','E','F','G','H','I']
print(s)


s=pd.Series([1,2,3,4,5,6,7,8,9],['A','B','C','D','E','F','G','H','I'])
print(s)


print(s.index)  #index만 출력
print(s.values) #값만 출력
print(s['A']) #원하는 데이터만 출력
print(s.A)  #원하는 데이터만 출력


## 슬라이싱 가능
print(s['A':'D'])  #직접 부여한 index 명 활용





d={'A':10,'D':20,'F':30,'H':40}
print(type(d))
for key,value in d.items() : # 딕셔너리 반복문, items로 key, value를 튜플 형식으로 꺼냄
    print(key,":",value)

print(d['A']) # 딕셔너리 특정 데이터 출력


s=pd.Series(d)    #딕셔너리를 Series로 변경
print(s.index)
print(s.values)
print(s)
print(s['A'])  #특정 값 출력
print(s.A)     #특정 값 출력

print(s[0:3])  #딕셔너리는 슬라이싱이 불가, 하지만 Series로 변경 후에는 슬라이싱 가능
print(s['A':'F'])





# Dictionary->DataFrame
# 딕셔너리는 value 값에 list 등 여러 값 입력 가능
d={
    'name':['kim','lee','park','jung'],
    'age':[25,30,35,20],
    'tel':['1111-2222','2222-1111','3333-1111','2222-3333']
}
print(type(d))
print(d)


df=pd.DataFrame(d)  #Dictionary->DataFrame
print(df)           #DataFrame 출력 시 테이블 형태로 출력 가능


print(df.index)
print(df.columns)
print(df.values)


# index와 colums에 특정 이름 부여 가능
df.index.name = 'Num'
df.columns.name='User'
print(df)

print(df.index)
print(df.columns)


# numpy->DataFrame
n=np.array(
    [['kim',20,'1111-2222'],
     ['lee',30,'2222-1111'],
     ['park',35,'3333-2222'],
     ['jung',25,'3333-1111']]
)
print(type(n))


# numpy->DataFrame
df=pd.DataFrame(n)   #index, columns을 별도로 지정하지 않으면 숫자가 자동으로 배정됨
print(df)
print(df.index)
print(df.columns)


df.columns=['name','age','tel'] #columns 명 변경
df.index=['A','B','C','D']  #index 명 변경
print(df)
print(df.columns)
print(df.index)


df=pd.DataFrame(n,columns=['name','age','tel'],index=['A','B','C','D'])
print(df)


# 데이터가 잘 들어있는지 확인하기 위해 사용하는 함수
# count : 빈 값이 있는지 확인
# unique : 다 다른 값이 들어있는지 확인하기 위함, 고윳값의 
#          (중복값이 있을 경우 개수가 작아짐, ex) 4 -> 4개의 데이터가 값이 달라!)
# top : 최빈값???
# freq : 최빈값의 빈도???
print(df.describe())


# 특정 columns만 출력
print(df['name'])  #'name'열만 출력, 한줄만 출력하기 때문에 series 타입으로 출력됨
print(type(df['name']))


print(df[['name','tel']])  # 'name', 'tel'열만 출력


# print(df['name'][2])  # 별도 index명이 부여된 상태에서 기본으로 부여되는 숫자로 조회
#                      ->조회 가능 but, 경고문 노출
print(df['name']['C'])
print(df['name'].C)
print(df['name']['B':'D'])


print(df.name, df.age) # 특정 열들의 값을 따로따로 꺼내줘


print(df.name.C)


print(df[:][:])
print(df[:2][:1])  # 위에서 2줄을 꺼낸 후에 거기서 첫번째 1줄을 꺼내라


print(df[['name','tel']])
#print(df[[0,2]])   #이미 별도로 배정한 칼럼명이 있기 때문에 숫자로 조회 시 에러 발생
print(df)


df['address']=['서울','수원','인천','안산']  #새로운 column 추가, 기존에 존재하는 열일 경우 값이 수정됨
print(df)


df['adult']=df['age'].astype(np.int64)>30 #astype(np.int64):numpy에서 이용하는 형변환 변수
print(df)


df['age']['A']=20   #기존에 입력된 데이터 수정 가능
print(df)


del(df['adult'])   # 열 삭제 가능
print(df)


# Series 정렬
s=pd.Series([10,40,50,20,70,60], index=['a','d','f','g','b','c'])
print(s)


# index 정렬, 기본값=오름차순(trun)/ index 정렬 시 value도 따라서 변경됨
s=s.sort_index()
print(s)


# index 정렬, 내림차순=False
s=s.sort_index(ascending=False)
print(s)


# value 정렬 -> values 정렬에 따라 index 정렬도 바뀜
s=s.sort_values()
print(s)


# value 정렬 -> values 정렬에 따라 index 정렬도 바뀜
s=s.sort_values(ascending=False)
print(s)


# DataFrame 정렬
## DataFrame 데이터 생성
df=pd.DataFrame([[4,5,1,2],
                 [300,400,200,100],
                 [20,10,40,30]], index=['c','a','b'], columns=['D','C','A','B'])
print(df)


# index로 정렬/ 별도 설정하지 않으면 오름차순
df=df.sort_index()
print(df)


# index로 정렬/ axis 활용 가능 -> axis=0 : '행끼리'를 의미 => 행 기준으로 오름차순
df=df.sort_index(axis=0)
print(df)


# index로 정렬/ 행 기준 내림차순(axis=0 생략 가능, 행 기준이기 때문)
df=df.sort_index(axis=0,ascending=False )
print(df)


# column으로 정렬/ axis 활용 가능 -> axis=1 : '열끼리'를 의미 => 열 기준으로 오름차순
df=df.sort_index(axis=1)
print(df)


# 열 기준으로 내림차순 정렬
df=df.sort_index(axis=1, ascending=False)
print(df)


# value를 기준으로 정렬 / A열을 기준으로 정렬=>A열의 값들이 오름차순으로 정렬됨
print(df)

df=df.sort_values(by='A')
print(df)


# value를 기준으로 정렬 / A열을 기준으로 정렬=>A열의 값들이 내림차순으로 정렬됨
print(df)

df=df.sort_values(by='A', ascending=False)
print(df)

































