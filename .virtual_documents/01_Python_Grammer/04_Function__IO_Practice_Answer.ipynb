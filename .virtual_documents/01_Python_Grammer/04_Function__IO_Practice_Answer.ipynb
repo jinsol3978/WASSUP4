


def is_odd(number):
    if number % 2 == 1:    # 2로 나누었을 때 나머지가 1이면 홀수이다.
        return True
    else:
        return False


is_odd(237893297823977)


is_odd_2 = lambda number: True if number % 2 == 1 else False # lambda 표현식도 사용할 수 있다


is_odd_2(3)





def avg_numbers(*args):
    result = 0
    for i in args:
        result += i # result = result + i와 같은 역할 (누적합 +=, 누적곱 *=)
    return result / len(args)

print(avg_numbers(1,2))       # 1.5 출력
print(avg_numbers(1,2,3,4,5)) # 3.0 출력





input1 = int(input("첫번째 숫자를 입력하세요:"))

# try - except - finally 적용해보기
try:
    input2 = int(input("두번째 숫자를 입력하세요:")) # 시도해보고
except ValueError as e:
    print('숫자가 아닙니다')
    print(e) # 에러나오면 예외처리하고
finally:
    print('실행완료') # 에러든 아니든 반드시 실행할 내용

total = input1 + input2
print(f"두 수의 합은 {total} 입니다")





# 1,2,4번 'youneedpython'
# 3번 you need python
print('you','need','python', sep='') # print의 매개변수 sep의 디폴트값 ' '을 '' 로 변경하면 공백없이 출력할 수 있다


print?





f1 = open("test.txt", 'w')
f1.write("Life is too short")
f1.close() # close로 작성모드를 꼭 종료해주세요

f2 = open("test.txt", 'r')
print(f2.read())
f2.close() # 마찬가지





user_input = input("저장할 내용을 입력하세요: ") # you need java 를 입력해주세요 ( 다음문제 연결 )
f = open('test.txt', 'a') # 내용을 추가하기 위해 'a'를 사용
f.write('\n') # 입력한 내용을 줄단위로 구분하기 위해 줄 바꿈 문자 삽입
f.write(user_input)
f.close()





f = open('test.txt', 'r')
body = f.read() # test.txt 파일의 내용을 body 변수에 저장
f.close()

body = body.replace('java', 'python')   # body 문자열에서 "java"를 "python"으로 변경

f = open('test.txt', 'w')  # 파일을 쓰기 모드로 다시 실행
f.write(body)
f.close()



