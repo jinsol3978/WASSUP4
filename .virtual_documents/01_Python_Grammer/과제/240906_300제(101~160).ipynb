





# 101. 파이썬에서 True 혹은 False를 갖는 데이터 타입은 무엇인가?
print("정답 : 불린 타입(bool)")


# 102. 아래 코드의 출력 결과를 예상하라
# 예상 결과 : False
print(3 == 5)


# 103. 아래 코드의 출력 결과를 예상하라
# 예상 결과 : True
print(3 < 5)


# 104. 아래 코드의 결과를 예상하라.
# 예상 결과 : True
x = 4
print(1 < x < 5)


# 105. 아래 코드의 결과를 예상하라.
# 예상 결과 : True
print ((3 == 3) and (4 != 3))


# 106. 아래 코드에서 에러가 발생하는 원인에 대해 설명하라.
# 오류 발생 원인 : 지원하지 않는 연산자임
# 'print(3>=4)'라고 표현해야 함
print(3 => 4)


# 107. 아래 코드의 출력 결과를 예상하라
# 예상 결과 : 아무것도 출력 안 함
if 4 < 3:
    print("Hello World")


# 108. 아래 코드의 출력 결과를 예상하라
# 예상 결과 : Hi, there.
if 4 < 3:
    print("Hello World.")
else:
    print("Hi, there.")


# 109. 아래 코드의 출력 결과를 예상하라
# 예상 결과 : 1,2,4
# 이미 '참'인 상태이기 때문에 else 구문은 생략
if True :
    print ("1")
    print ("2")
else :
    print("3")
print("4")


# 110. 아래 코드의 출력 결과를 예상하라
# 예상 결과 : 3, 5
# 이미 '참'인 상태-> if false 구문의 else 부분이 참에 해당하므로 해당 명령어만 수행
# 마지막 print("5")의 경우 if문과 상관없이 무조건 수행
if True :
    if False:
        print("1")
        print("2")
    else:
        print("3")
else :
    print("4")
print("5")





# 111. 사용자로부터 입력받은 문자열을 두 번 출력하라. 아래는 사용자가 "안녕하세요"를 입력한 경우의 출력 결과이다.
print(input()*2)


# 111. 다른 방법
user=input("입력:")
print(user*2)


# 112. 사용자로부터 하나의 숫자를 입력받고, 입력 받은 숫자에 10을 더해 출력하라.
print(int(input())+10)


# 112. 다른 방법
user=input("숫자를 입력하세요: ")
print(int(user)+10)


# 113. 사용자로부터 하나의 숫자를 입력 받고 짝수/홀수를 판별하라.
user=input("숫자를 입력하세요: ")
if int(user)%2>0:
    print("홀수")
else:
    print("짝수")


# 114. 사용자로부터 값을 입력받은 후 해당 값에 20을 더한 값을 출력하라. 단 사용자가 입력한 값과 20을 더한 계산 값이 255를 초과하는 경우 255를 출력해야 한다.
user=input("숫자를 입력하세요: ")
number=int(user)+20
if number>255:
    print("출력값: 255")
else:
    print(f"출력값: {number}")


#115. 사용자로부터 하나의 값을 입력받은 후 해당 값에 20을 뺀 값을 출력하라. 단 출력 값의 범위는 0~255이다. 예를 들어 결괏값이 0보다 작은 값이되는 경우 0을 출력하고 255보다 큰 값이 되는 경우 255를 출력해야 한다.
user=input("입력값: ")
number=int(user)
if number-20<0:
    print(0)
elif number-20>255:
    print(255)
else:
    print(f'출력값: {number-20}')



# 116. 사용자로부터 입력 받은 시간이 정각인지 판별하라.
time=input("현재시각: ")
if time[-2:]=="00":
    print("정각 입니다.")
else:
    print("정각 아닙니다.")


# 117. 사용자로 입력받은 단어가 아래 fruit 리스트에 포함되어 있는지를 확인하라. 포함되었다면 "정답입니다"를 아닐 경우 "오답입니다" 출력하라.
fruit=['사과', '포도', '홍시']
user=input("좋아하는 과일은? ")
if user in fruit:
    print("정답입니다.")
else :
    print("오답입니다.")


# 118. 투자 경고 종목 리스트가 있을 때 사용자로부터 종목명을 입력 받은 후 해당 종목이 투자 경고 종목이라면 '투자 경고 종목입니다'를 아니면 "투자 경고 종목이 아닙니다."를 출력하는 프로그램을 작성하라.
warn_investment_list = ["Microsoft", "Google", "Naver", "Kakao", "SAMSUNG", "LG"]
user=input("종목명: ")
if user in warn_investment_list:
    print("투자 경고 종목입니다")
else:
    print("투자 경고 종목이 아닙니다.")


# 119. 아래와 같이 fruit 딕셔너리가 정의되어 있다. 사용자가 입력한 값이 딕셔너리 키 (key) 값에 포함되었다면 "정답입니다"를 아닐 경우 "오답입니다" 출력하라.
fruit = {"봄" : "딸기", "여름" : "토마토", "가을" : "사과"}
user=input("제가좋아하는계절은: ")
if user in fruit:
    print("정답입니다")
else:
    print("오답입니다")


# 120. 아래와 같이 fruit 딕셔너리가 정의되어 있다. 사용자가 입력한 값이 딕셔너리 값 (value)에 포함되었다면 "정답입니다"를 아닐 경우 "오답입니다" 출력하라.
fruit = {"봄" : "딸기", "여름" : "토마토", "가을" : "사과"}
user=input("좋아하는과일은? ")
if user in fruit.values():
    print("정답입니다")
else:
    print("오답입니다")





# 121. 사용자로부터 문자 한 개를 입력 받고, 소문자일 경우 대문자로, 대문자 일 경우, 소문자로 변경해서 출력하라.
# islower() 함수는 문자의 소문자 여부를 판별(소문자 True, 대문자 False)
# upper() 함수는 대문자로, lower() 함수는 소문자로 변경
## islower 함수를 활용해 True를 판별할 때는 "Ture"를 조건문에 기재할 필요가 없음
user=input("알파벳을 입력하세요 : ")
if user.islower():
    print(user.upper())
else:
    print(user.lower())


# 122. 점수 구간에 해당하는 학점이 아래와 같이 정의되어 있다. 사용자로부터 score를 입력받아 학점을 출력하라.
score=input("score: ")
score=int(score)
if 81<=score<=100:
    print("grade is A")
elif 61<=score<=80:
    print("grade is B")
elif 41<=score<=60:
    print("grade is C")
elif 21<=score<=40:
    print("grade is D")
else:
    print("grade is E")


# 123. 사용자로부터 달러, 엔, 유로, 또는 위안 금액을 입력받은 후 이를 원으로 변환하는 프로그램을 작성하라. 각 통화별 환율은 다음과 같다. 사용자는 100 달러, 1000 엔, 13 유로, 100 위안과 같이 금액과 통화명 사이에 공백을 넣어 입력한다고 가정한다.
price={"달러":1167,
       "엔":1.096,
       "유로":1268,
       "위안":171}
user=input("입력: "



























