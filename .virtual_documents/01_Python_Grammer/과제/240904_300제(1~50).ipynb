





# 1. 화면에 Hello World 문자열을 출력하세요.
print("Hello World")


# 2. 화면에 Mary's cosmetics을 출력하세요. (중간에 '가 있음에 주의하세요)
print("Mary's cosmetics")


# 3. 화면에 아래 문장을 출력하세요. (중간에 "가 있음에 주의하세요.)
print('신씨가 소리질렀다. "도둑이야".')


# 4. 화면에 C:\Windows를 출력하세요.
print('C:\\Windows')


# 5. 다음 코드를 실행해보고 \t와 \n의 역할을 설명해보세요.
# \n : 줄바꿈, \t : 탭
print("안녕하세요.\n만나서\t\t반갑습니다.")


# 6. print 함수에 두 개의 단어를 입력한 예제입니다. 아래 코드의 출력 결과를 예상해봅시다.
# 예상 출력 결과 : 오늘은 일요일
print("오늘은","일요일")


# 7. print() 함수를 사용하여 다음과 같이 출력하세요. "naver;kakao;sk;samsung"
print("naver","kakao","sk","samsung",sep=';')


# 8. print() 함수를 사용하여 다음과 같이 출력하세요. "naver/kakao/sk/samsung"
print("naver","kakao","sk","samsung",sep='/')


# 9. 다음 코드를 수정하여 줄바꿈이 없이 출력하세요. (힌트: end='') print 함수는 두 번 사용합니다. 세미콜론 (;)은 한줄에 여러 개의 명령을 작성하기 위해 사용합니다.
# print("first");print("second")
print("first",end="");print("second")


# 10. 5/3의 결과를 화면에 출력하세요.
print(5/3)





# 11. 삼성전자라는 변수로 50,000원을 바인딩해보세요. 삼성전자 주식 10주를 보유하고 있을 때 총 평가금액을 출력하세요.
삼성전자=50000
총평가금액=50000*10
print(총평가금액)


# 12. 다음 표는 삼성전자의 일부 투자정보입니다. 변수를 사용해서 시가총액, 현재가, PER 등을 바인딩해보세요.
시가총액=2980000000000
현재가=50000
PER=15.79
print(시가총액, type(시가총액))
print(현재가, type(현재가))
print(PER, type(PER))


# 13. 변수 s와 t에는 각각 문자열이 바인딩 되어있습니다. 두 변수를 이용하여 아래와 같이 출력해보세요.
# s = "hello", t = "python" => hello! python
s="hello"
t="python"
print(s, end="! ");print(t)
print(s+"!",t)


# 14. 아래 코드의 실행 결과를 예상해보세요. -> "2 + 2 * 3 "
# 예상 결과 : 8
2+2*3


# 15. type() 함수는 데이터 타입을 판별합니다. 변수 a에는 128 숫자가 바인딩돼 있어 type 함수가 int (정수)형임을 알려줍니다.아래 변수에 바인딩된 값의 타입을 판별해보세요.
# a = "132"
# 예상 결과 : <class'int'>
a=132
print(type(a))


# 16. 문자열 '720'를 정수형으로 변환해보세요
num_str="720"
num_int=int(num_str)
print(num_int,type(num_int))


# 17. 정수를 문자열 100으로 변환
num=100
num_str=str(num)
print(num_str,type(num_str))


# 18. 문자열 "15.79"를 실수(float) 타입으로 변환해보세요.
float_str="15.79"
float=float(float_str)
print(float,type(float))


# 19. year라는 변수가 문자열 타입의 연도를 바인딩하고 있습니다. 이를 정수로 변환한 후 최근 3년의 연도를 화면에 출력해보세요.
year="2020"
print(int(year))
print(int(year)+1)
print(int(year)+2)


# 20. 에이컨이 월 48,584원에 무이자 36개월의 조건으로 홈쇼핑에서 판매되고 있습니다. 총 금액은 계산한 후 이를 화면에 출력해보세요. (변수사용하기)
price=48584
condition=36
총금액=price*condition
print(총금액)





# 21. letters가 바인딩하는 문자열에서 첫번째와 세번째 문자를 출력하세요.
letters='python'
find(letters,1)









