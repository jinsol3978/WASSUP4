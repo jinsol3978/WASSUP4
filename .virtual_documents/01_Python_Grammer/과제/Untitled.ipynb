





# 201. "비트코인" 문자열을 화면에 출력하는 print_coin() 함수를 정의하라.
def print_coin():
    print("비트코인")


# 202. 201번에서 정의한 함수를 호출하라.
print_coin()


# 203. 201번에서 정의한 print_coin 함수를 100번호출하라.
for i in range(100):
    print_coin()


# 204. "비트코인" 문자열을 100번 화면에 출력하는 print_coins() 함수를 정의하라.
def print_coin():
    print("비트코인")

def print_coins():
    for i in range(100):
        print_coin()
    
print_coins()


# 204. (더 쉬운 방법)
def print_coins():
    for i in range(100):
        print("비트코인")
print_coins()


# 205. 아래의 에러가 발생하는 이유에 대해 설명하라.
## 함수가 정의되기 전에 첫 줄에서 함수를 호출하기 때문
## 함수 정의 후 출력 시 정상적으로 출력됨
hello()
def hello():
    print("hi")


# 206. 아래 코드의 실행 결과를 예측하라.
## 예상 결과 : A B C A B (세로 한 줄로 출력)
def message() :
    print("A")
    print("B")

message()
print("C")
message()


# 207. 아래 코드의 실행 결과를 예측하라. (읽기 어려운 코드의 예입니다.)
## 예상 결과 : A C B (세로 한 줄로 출력)
print("A")

def message() :
    print("B")

print("C")
message()


# 208. 아래 코드의 실행 결과를 예측하라. (읽기 어려운 코드의 예입니다.)
## 예상 결과 : A C B E D (세로 한 줄로 출력)
print("A")
def message1() :
    print("B")
print("C")
def message2() :
    print("D")
message1()
print("E")
message2()


# 209. 아래 코드의 실행 결과를 예측하라.
## 예상 결과 : B A (세로 한 줄로 출력)
def message1():
    print("A")

def message2():
    print("B")
    message1()

message2()


# 210. 아래 코드의 실행 결과를 예측하라.
## 예상 결과 : B C B C B C A (세로 한 줄)
def message1():
    print("A")

def message2():
    print("B")

def message3():
    for i in range (3) :
        message2()
        print("C")
    message1()

message3()





# 211. 함수의 호출 결과를 예측하라.
## 예상 결과 : 안녕 Hi (세로로 한줄)
def 함수(문자열) :
    print(문자열)

함수("안녕")
함수("Hi")


# 212. 함수의 호출 결과를 예측하라.
## 예상 결과 : 7 15 (세로로 한줄)
def 함수(a, b) :
    print(a + b)

함수(3, 4)
함수(7, 8)


# 213. 아래와 같은 에러가 발생하는 원인을 설명하라.
## 오류 원인 : 괄호 안에 문자열을 입력하지 않았기 때문
def 함수(문자열) :
    print(문자열)

함수()


# 214. 아래와 같은 에러가 발생하는 원인을 설명하라.
## 오류 원인 : a와 b의 type이 다름->같은 type끼리만 더할 수 있음
def 함수(a, b) :
    print(a + b)

함수("안녕", 3)


# 215. 하나의 문자를 입력받아 문자열 끝에 ":D" 스마일 문자열을 이어 붙여 출력하는 print_with_smile 함수를 정의하라.
user=input('문자열을 입력해주세요 : ')

def print_with_smile():
    print(user,':D')


# 216. 215에서 정의한 함수를 호출하라. 파라미터는 "안녕하세요"로 입력하라.
print_with_smile()


# 217. 현재 가격을 입력 받아 상한가 (30%)를 출력하는 print_upper_price 함수를 정의하라.
price=int(input('현재 가격을 입력하세요: '))

def print_upper_price():
    print(price*1.3)

print_upper_price()


# 218. 두 개의 숫자를 입력받아 두 수의 합을 출력하는 print_sum 함수를 정의하라.
def print_sum(a,b):
    print(a+b)
print_sum(1,2)


# 219. 두 개의 숫자를 입력받아 합/차/곱/나눗셈을 출력하는 print_arithmetic_operation 함수를 작성하라.
def print_arithmetic_operation(a,b):
    print(a,'+',b,'=',a+b)
    print(a,'-',b,'=',a-b)
    print(a,'*',b,'=',a*b)
    print(a,'/',b,'=',a/b)

print_arithmetic_operation(3,4)


# 220. 세 개의 숫자를 입력받아 가장 큰수를 출력하는 print_max 함수를 정의하라. 단 if 문을 사용해서 수를 비교하라.
def print_max(a,b,c):
    if a>b>=c or a>c>=b:
        print(a)
    elif b>a>=c or b>c>=a:
        print(b)
    else:
        print(c)

print_max(6,10,6)


# 220. (답지 버전)
def print_max(a,b,c):
    max_value=0
    if a>max_value:
        max_value=a
    if b>max_value:
        max_value=b
    if c>max_value:
        max_value=c
    print(max_value)

print_max(24,3,5)


































































