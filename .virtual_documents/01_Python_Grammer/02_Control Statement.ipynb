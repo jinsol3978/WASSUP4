


#‘돈이 있으면 택시를 타고 가고, 돈이 없으면 걸어간다.’
# 조건문을 쓸 때 윗 명령어에 속한 조건일 경우 한 단계 들여씀=>코드 계층을 나타냄
# 콜론(:)은 코드블록을 의미, 콜론 뒤의 문장을 수행하라는 의미
money = True
if money:
     print("택시를 타고 가라")
else:
     print("걸어 가라")


# 코드 블럭 들여쓰기 에러(코드 계층을 지키지 않으면 오류 발생)
money = True
if money:
    print("택시를")
print("타고")
    print("가라")


# 코드 블럭 들여쓰기 에러(코드 계층을 지키지 않으면 오류 발생)
money = True
if money:
    print("택시를")
    print("타고")
        print("가라")





x=3
y=2
x>y


x<y


x!=y


# 만약 3,000원 이상의 돈을 가지고 있으면 택시를 타고 가고 그렇지 않으면 걸어가라.
x=4000
if x>=3000 :
    print("택시를 타고 가라")
else :
    print("걸어가라")


# 아래 조건문의 경우 int인 3000가 비교하기 위해 true를 1로 인식
# 따라서 1<3000으로 인식하여 False 값 도출
money=True
if money>=3000 :
    print("택시를 타고 가라")
else :
    print("걸어가라")


# 돈이 3000원 이상 있거나 카드가 있다면 택시를 타고 가고, 그렇지 않으면 걸어가라
# 카드의 경우 존재자체를 따지는 것이므로 if 조건문 안에서 card=True로 물을 필요 없음
money=2000
card=True
if money>=3000 or card:
    print("택시를 타고 가라")
else:
    print("걸어가라")


1 in [1, 2, 3]


1 not in [1, 2, 3]


'a' in ('a', 'b', 'c')


'j' not in 'python'


# 만약 주머니에 돈이 있으면 택시를 타고 가고, 없으면 걸어가라.
pocket=['money','phone','trash']
if 'money' in pocket:
    print("택시를 타라")
else:
    print("걸어가라")





# 조건문에서 아무 일도 하지 않게 설정하고 싶다면=>pass 활용
# pass에 해당할 경우 코드는 정상 작동하지만 아무것도 출력되지 않음
pocket=['money','phone','trash']
if 'money' in pocket:
    pass
else:
    print("카드를 꺼내라")


pocket=['','phone','trash']
if 'money' in pocket:
    pass
else:
    print("카드를 꺼내라")





# 주머니에 돈이 있으면 택시를 타고 가고, 주머니에 돈은 없지만 카드가 있으면 택시를 타고 가고,
# 돈도 없고 카드도 없으면 걸어가라.
pocket=('money','phone','trash')
card=True
if 'money' in pocket:
    print("현금-택시를 타라")
else:
    if card:
        print("카드-택시를 타라")
    else:
        print("걸어가라")


# 다중 조건문 표현 방법=>elif 활용
pocket=['money','paper','cellphone']
card=True
if 'money' in pocket:
    print("현금-택시를 타고 가라")
elif card:
    print("카드-택시를 타고 가라")
else:
    print("걸어가라")





pocket=['money', 'card']
if 'money' in pocket:
     pass 
else:
     print("카드를 꺼내라")


# 조건문 옆에 해당하는 if블록을 붙여 써도 정상작동함
if 'money' in pocket: pass 
else: print("카드를 꺼내라")





score=50
if score >= 60:
    message = "success"
else:
    message = "failure"
print(message)


# 조건부 표현식 : 변수 = 조건문이_참인_경우의_값 if 조건문 else 조건문이_거짓인_경우의_값
message = "success" if score >= 60 else "failure"
print(message)





# 대다수의 프로그램이 운영되는데 while 반복문을 활용함
# 컴퓨터가 작동하기 위해서 필요한 명령어


# ‘열 번 찍어 안 넘어가는 나무 없다’라는 속담을 파이썬 프로그램으로 만들면
# while문은 True 값일 때만 반복함, False 값이 뜨면 종료됨
treeHit = 0
while treeHit < 10:
    treeHit = treeHit +1
    print("나무를 %d번 찍었습니다." % treeHit)
    if treeHit == 10:
        print("나무 넘어갑니다.")





# while문의 경우 반복문이기 때문에
# 반복이 종료되는 명령어를 지정하지 않으면 컴퓨터가 과부화 될 수 있음


prompt='''
1. Add
2. Del
3. List
4. Quit
Enter number : '''
prompt


print(prompt)


# input은 반드시 문자열로 반환함
input()


# input 활용해서 프롬프트 while 반복문 작성하기
# input은 반드시 문자열로 반환하기 때문에 정수로 지정해줘야 숫자와 비교 가능
number=0
while number !=4:
    print(prompt)
    number=int(input()) 





# break문 활용
coffee = 10
money = 300

while money:
    print("돈을 받았으니 커피를 줍니다.")
    coffee = coffee -1
    print("남은 커피의 양은 %d개입니다." % coffee)
    if coffee == 0:
        print("커피가 다 떨어졌습니다. 판매를 중지합니다.")
        break


# 커피 자판기 프로그램을 만들기
# 단, money는 사용자 입력 받기
## 'while True:'로 설정 시 무한 반복됨, 따라서 항상 break문을 먼저 만들어야 함
## 무한반복문을 중지하기 위해선 'ctrl+c' or 상단의 네모 버튼 클릭
coffee=10
while True :
    money=int(input('돈을 넣어주세요.: '))
    if money==300:                     #돈을 딱 맞게 받은 경우
        print('커피를 줍니다.')
        coffee -=1                      #재고 소진
        print(f'남은 커피의 양은{coffee}개 입니다.') # 남은 재고 체크
        
    elif money>300:                    #돈을 더 받은 경우
        #print('거스름돈 %d을 주고 커피를 줍니다.'%(money-300)) #거스름돈 계산 필요
        print(f'거스름돈 {money-300}을 주고 커피를 줍니다.')    #거스름돈 계산 필요
        coffee -=1                      # 재고 소진 필요
        print(f'남은 커피의 양은{coffee}개 입니다.') # 남은 재고 체크
        
    else:                              #돈이 부족한 경우
        print('돈을 다시 돌려주고 커피를 주지 않습니다.')
        print(f'남은 커피의 양은{coffee}개 입니다.') # 남은 재고 체크
    
    if coffee==0:
        print('커피가 다 떨어졌습니다. 판매를 중지합니다.')      
        break





# 1부터 10까지의 숫자 중에서 홀수만 출력하는 프로그램 만들기
# while문 활용
## 나머지='/', 몫 구하기='//', 나머지 구하기='%'
a=0
while a<10:
    a +=1
    if a%2==0:
        continue  #continue에 해당할 경우 그 다음 명령어를 수행하지 않고 처음으로 돌아감
    print(a)





# 전형적인 for문
test_list=['one','two','three']

for i in test_list:
    print(i)


# 다양한 for문의 사용
a=[(1,2),(3,4),(5,6)]
for i in a:
    print(i)


# 튜플 안의 요소들이 쪼개져서 연산됨
for first, last in a:
    print(first+last)


# for 문의 응용
# 총 5명의 학생이 시험을 보았는데 시험 점수가 60점 이상이면 합격이고 그렇지 않으면 불합격이다.
# 합격인지, 불합격인지 결과를 보여 주시오.
scores=[90,25,67,45,80]
number=0

for s in scores:
    number +=1
    if s >= 60:
        print(f'{number}번 학생은 {s}점 합격입니다.')
    else:
        print(f'{number}번 학생은 {s}점 불합격입니다.')





# while문과 동알하게 문장 수행 중 countinue 문을 만나면 for문의 처음으로 돌아감(아무런 동작을 수행하지 않음)
scores=[90,25,67,45,80]
number=0
for s in scores:
    number+=1
    if s<60:
        continue
    print(f"{number}번 학생 축하합니다. 합격입니다.")





# range : 범위를 만들어주는 함수, 범위 내에 있는 요솟값을 반환해줌
# 한 개 값만 넣었을 땐 디폴트인 0과 end 값으로 적용됨
# 두 개 값을 넣었을 땐 start와 end 값으로 적용됨
range(10)


for i in range(10):
    print(i)


for i in range(1,11):
    print(i)


## for문과 range 함수를 이용해서 1부터 10까지 더하기
add=0
for i in range(1,11):
    add=add+i
print(add)


scores=[90,25,67,45,80]

for s in range(len(scores)):
    if scores[s]<60:
        continue
    print(f"{s+1}번 학생 축하합니다. 합격입니다.")


# 이중 for문은 자주 사용됨->이중 for문까지는 할 수 있어야 함
# for와 range를 이용한 구구단

for i in range(1,10):
    for j in range(1,10):
        print(i*j, end=" ")
    print(' ')


# 강사님 답
for i in range(2,10):
    print('='*10)
    print(f'{i}단')
    for j in range(1,10):
        print(f"{i}X{j}={i*j}")





a = [1,2,3,4]
result = []
for num in a:
    result.append(num*3)

print(result)


# 리스트 컴프리헨션 사용
# 명령문 구조가 간단해지며 실행 속도가 훨씬 빨라짐
a = [1,2,3,4]
result = [num * 3 for num in a]
print(result)


# 짝수에만 2을 곱함
a = [1,2,3,4]
result = [num * 3 for num in a if num % 2 == 0]
print(result)


# 리스트 컴프리헨션을 이용했을 때와 안 했을 때, 시간 차이 확인
# 시간 측정을 위한 코드, 2배 넘게 차이남
import time

start = time.time() 
numbers = [i for i in range(1000000)] 
end = time.time() 
print('List Comprehension Time:', end-start)

start = time.time() 
numbers = []
for i in range(1000000):
    numbers.append(i)
end = time.time() 
print('For loop Time:', end-start)










































