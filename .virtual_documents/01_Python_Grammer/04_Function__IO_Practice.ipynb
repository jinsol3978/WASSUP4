


def is_odd(number):
    if number%2==1 :
        return True
    else:
        return False


is_odd(3)


is_odd2=lambda number : True if number%2==1 else False


is_odd2(2)





def avg_numbers(*args):
    result = 0
    for i in args:
        result += i
    return result/len(args)


avg_numbers(1,2)


avg_numbers(1,2,3,4,5)





input1 = input("첫번째 숫자를 입력하세요:")
input2 = input("두번째 숫자를 입력하세요:")

total = int(input1) + int(input2)
print(f"두 수의 합은 {total} 입니다")


#프로그램 답게 수정한 버전 1
## input2부터 오류 여부 판단
input1 = int(input("첫번째 숫자를 입력하세요:"))
try:
    input2 = int(input("두번째 숫자를 입력하세요:"))
except ValueError as e:
    print("숫자가 아닙니다.")
    print(e)
finally:
    print("실행완료")
result=input1+input2
print(f"두 수의 합은 {result} 입니다")


# 프로그램답게 수정한 버전 2
## input1부터 오류 여부 판단!!
try:
    input1 = int(input("첫번째 숫자를 입력하세요:"))
    try:
        input2 = int(input("두번째 숫자를 입력하세요:"))
    except ValueError as e:
        print("숫자가 아닙니다.")
        print(e)
        print("실행완료")
    else:
        print("실행완료")
        result=input1+input2
        print(f"두 수의 합은 {result} 입니다")
except ValueError as e:
    print("숫자가 아닙니다.")
    print(e)
    print("실행완료")
else:
    
    result=input1+input2





# 예상 정답 : 3번
print("you" "need" "python")
print("you"+"need"+"python") 
print("you","need","python")
print("".join(["you","need","python"]))





f1 = open("test.txt", 'w')
f1.write("Life is too short")
f1.close()

f2 = open("test.txt", 'r')
print(f2.read())
f2.close()





user_input = input("저장할 내용을 입력하세요: ")
f = open('test.txt', 'a')
f.write('\n')
f.write(user_input)
f.close()

f1=open('test.txt','r')
print(f1.read())
f1.close()





f=open('test.txt','w')
f.write('Life is too short')
f.write('\n')
f.write('you need java')
f.close()

f1=open('test.txt','r')
print(f1.read())
f1.close()


f = open('test.txt', 'r')
body = f.read() # test.txt 파일의 내용을 body 변수에 저장
f.close()

body = body.replace('java','python')   # body 문자열에서 "java"를 "python"으로 변경

f=open('test.txt','w')
f.write(body)
f.close()

f1=open('test.txt','r')
print(f1.read())
f1.close()



