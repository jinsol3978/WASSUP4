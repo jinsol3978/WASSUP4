


a={'국어':80, '영어':75, '수학':55}
b=list(a.values())
(b[0]+b[1]+b[2])/len(a.values())





print(13%2, "나머지가 있으면 홀수")





pin='881120-1068234'
yyyymmdd=pin[:6]
num=pin[-7:]
print(yyyymmdd)
print(num)





pin[-7]





a='a:b:c:d'
b=a.replace(":","#")
print(b)





a=[1, 3, 5, 4, 2]
a.sort()
a.reverse()
a





a = ['Life', 'is', 'too', 'short']
result=" ".join(a)
print(result)





a=(1,2,3)
a=a+(4,)
print(a)





# 4번, 딕셔너리의 경우 변동가능성이 있는 list형이 올 수 없음
a=dict()
a['name'] = 'python'
print(a)
a[('a',)] = 'python'
print(a)
a[250] = 'python'
print(a)
a[[1]] = 'python'
print(a)





a={'A':90, 'B':80, 'C':70}
result=a['B']
print(a)
print(result)





a=[1, 1, 1, 2, 2, 3, 3, 3, 4, 4, 5]
aSet=set(a)
print(aSet)
b=list(aSet)
print(b)





# a와 b는 상대참조하고 있는 상태
# 따라서 a 요솟값을 변경할 경우 b 값도 동일하게 변경됨
# 얇은 copy 상태라고 함
a=b=[1,2,3]
id(a)==id(b)
a[1]=4
print(b)



