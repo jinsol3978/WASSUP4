{
 "cells": [
  {
   "cell_type": "markdown",
   "id": "7d3a151f-a1d1-4e1c-9fdd-226612c4161b",
   "metadata": {},
   "source": [
    "## if문"
   ]
  },
  {
   "cell_type": "code",
   "execution_count": 5,
   "id": "ef73e3bf-fda9-4f76-8d7e-3793e85734a1",
   "metadata": {},
   "outputs": [
    {
     "name": "stdout",
     "output_type": "stream",
     "text": [
      "택시를 타고 가라\n"
     ]
    }
   ],
   "source": [
    "#‘돈이 있으면 택시를 타고 가고, 돈이 없으면 걸어간다.’\n",
    "# 조건문을 쓸 때 윗 명령어에 속한 조건일 경우 한 단계 들여씀=>코드 계층을 나타냄\n",
    "# 콜론(:)은 코드블록을 의미, 콜론 뒤의 문장을 수행하라는 의미\n",
    "money = True\n",
    "if money:\n",
    "     print(\"택시를 타고 가라\")\n",
    "else:\n",
    "     print(\"걸어 가라\")"
   ]
  },
  {
   "cell_type": "code",
   "execution_count": 7,
   "id": "22b9cd14-7d80-42c6-8fff-9e7d3ccc0599",
   "metadata": {},
   "outputs": [
    {
     "ename": "IndentationError",
     "evalue": "unexpected indent (919998783.py, line 6)",
     "output_type": "error",
     "traceback": [
      "\u001b[1;36m  Cell \u001b[1;32mIn[7], line 6\u001b[1;36m\u001b[0m\n\u001b[1;33m    print(\"가라\")\u001b[0m\n\u001b[1;37m    ^\u001b[0m\n\u001b[1;31mIndentationError\u001b[0m\u001b[1;31m:\u001b[0m unexpected indent\n"
     ]
    }
   ],
   "source": [
    "# 코드 블럭 들여쓰기 에러(코드 계층을 지키지 않으면 오류 발생)\n",
    "money = True\n",
    "if money:\n",
    "    print(\"택시를\")\n",
    "print(\"타고\")\n",
    "    print(\"가라\")"
   ]
  },
  {
   "cell_type": "code",
   "execution_count": 8,
   "id": "7283fb18-f7c7-47a3-8608-74de08cf9d7b",
   "metadata": {},
   "outputs": [
    {
     "ename": "IndentationError",
     "evalue": "unexpected indent (3376502091.py, line 6)",
     "output_type": "error",
     "traceback": [
      "\u001b[1;36m  Cell \u001b[1;32mIn[8], line 6\u001b[1;36m\u001b[0m\n\u001b[1;33m    print(\"가라\")\u001b[0m\n\u001b[1;37m    ^\u001b[0m\n\u001b[1;31mIndentationError\u001b[0m\u001b[1;31m:\u001b[0m unexpected indent\n"
     ]
    }
   ],
   "source": [
    "# 코드 블럭 들여쓰기 에러(코드 계층을 지키지 않으면 오류 발생)\n",
    "money = True\n",
    "if money:\n",
    "    print(\"택시를\")\n",
    "    print(\"타고\")\n",
    "        print(\"가라\")"
   ]
  },
  {
   "cell_type": "markdown",
   "id": "3e7bd6d8-02c3-4b7b-981d-7b0142e90c60",
   "metadata": {},
   "source": [
    "### 비교 연산자"
   ]
  },
  {
   "cell_type": "code",
   "execution_count": 9,
   "id": "e46c0795-6053-470a-86c1-f0ee8fdd085b",
   "metadata": {},
   "outputs": [
    {
     "data": {
      "text/plain": [
       "True"
      ]
     },
     "execution_count": 9,
     "metadata": {},
     "output_type": "execute_result"
    }
   ],
   "source": [
    "x=3\n",
    "y=2\n",
    "x>y"
   ]
  },
  {
   "cell_type": "code",
   "execution_count": 10,
   "id": "42bc5dce-1929-4e5d-a6f3-c301682116b7",
   "metadata": {},
   "outputs": [
    {
     "data": {
      "text/plain": [
       "False"
      ]
     },
     "execution_count": 10,
     "metadata": {},
     "output_type": "execute_result"
    }
   ],
   "source": [
    "x<y"
   ]
  },
  {
   "cell_type": "code",
   "execution_count": 11,
   "id": "08039cb9-1720-4940-b16b-6c53afcd6b2b",
   "metadata": {},
   "outputs": [
    {
     "data": {
      "text/plain": [
       "True"
      ]
     },
     "execution_count": 11,
     "metadata": {},
     "output_type": "execute_result"
    }
   ],
   "source": [
    "x!=y"
   ]
  },
  {
   "cell_type": "code",
   "execution_count": 14,
   "id": "772aa488-6a9e-4b0a-ac82-03e873ce4f11",
   "metadata": {},
   "outputs": [
    {
     "name": "stdout",
     "output_type": "stream",
     "text": [
      "택시를 타고 가라\n"
     ]
    }
   ],
   "source": [
    "# 만약 3,000원 이상의 돈을 가지고 있으면 택시를 타고 가고 그렇지 않으면 걸어가라.\n",
    "x=4000\n",
    "if x>=3000 :\n",
    "    print(\"택시를 타고 가라\")\n",
    "else :\n",
    "    print(\"걸어가라\")"
   ]
  },
  {
   "cell_type": "code",
   "execution_count": 16,
   "id": "7062bd06-a747-43c9-ba78-f5713d3c16aa",
   "metadata": {},
   "outputs": [
    {
     "name": "stdout",
     "output_type": "stream",
     "text": [
      "걸어가라\n"
     ]
    }
   ],
   "source": [
    "# 아래 조건문의 경우 int인 3000가 비교하기 위해 true를 1로 인식\n",
    "# 따라서 1<3000으로 인식하여 False 값 도출\n",
    "money=True\n",
    "if money>=3000 :\n",
    "    print(\"택시를 타고 가라\")\n",
    "else :\n",
    "    print(\"걸어가라\")"
   ]
  },
  {
   "cell_type": "code",
   "execution_count": 27,
   "id": "6648839e-f609-487f-b3f6-3b0f15908d81",
   "metadata": {},
   "outputs": [
    {
     "name": "stdout",
     "output_type": "stream",
     "text": [
      "택시를 타고 가라\n"
     ]
    }
   ],
   "source": [
    "# 돈이 3000원 이상 있거나 카드가 있다면 택시를 타고 가고, 그렇지 않으면 걸어가라\n",
    "# 카드의 경우 존재자체를 따지는 것이므로 if 조건문 안에서 card=True로 물을 필요 없음\n",
    "money=2000\n",
    "card=True\n",
    "if money>=3000 or card:\n",
    "    print(\"택시를 타고 가라\")\n",
    "else:\n",
    "    print(\"걸어가라\")"
   ]
  },
  {
   "cell_type": "code",
   "execution_count": 28,
   "id": "d48f3684-c3f0-4647-b604-b394c74817ab",
   "metadata": {},
   "outputs": [
    {
     "data": {
      "text/plain": [
       "True"
      ]
     },
     "execution_count": 28,
     "metadata": {},
     "output_type": "execute_result"
    }
   ],
   "source": [
    "1 in [1, 2, 3]"
   ]
  },
  {
   "cell_type": "code",
   "execution_count": 29,
   "id": "52d9c482-47cd-4903-a4ae-ce0d566d3b0f",
   "metadata": {},
   "outputs": [
    {
     "data": {
      "text/plain": [
       "False"
      ]
     },
     "execution_count": 29,
     "metadata": {},
     "output_type": "execute_result"
    }
   ],
   "source": [
    "1 not in [1, 2, 3]"
   ]
  },
  {
   "cell_type": "code",
   "execution_count": 30,
   "id": "1daad749-a181-487d-a2cb-4b43563143e2",
   "metadata": {},
   "outputs": [
    {
     "data": {
      "text/plain": [
       "True"
      ]
     },
     "execution_count": 30,
     "metadata": {},
     "output_type": "execute_result"
    }
   ],
   "source": [
    "'a' in ('a', 'b', 'c')"
   ]
  },
  {
   "cell_type": "code",
   "execution_count": 31,
   "id": "c768a00d-8b72-4862-a32b-da59ca98ddc5",
   "metadata": {},
   "outputs": [
    {
     "data": {
      "text/plain": [
       "True"
      ]
     },
     "execution_count": 31,
     "metadata": {},
     "output_type": "execute_result"
    }
   ],
   "source": [
    "'j' not in 'python'"
   ]
  },
  {
   "cell_type": "code",
   "execution_count": 35,
   "id": "4a8608d0-5002-4937-99a1-3e86304ba28e",
   "metadata": {},
   "outputs": [
    {
     "name": "stdout",
     "output_type": "stream",
     "text": [
      "택시를 타라\n"
     ]
    }
   ],
   "source": [
    "# 만약 주머니에 돈이 있으면 택시를 타고 가고, 없으면 걸어가라.\n",
    "pocket=['money','phone','trash']\n",
    "if 'money' in pocket:\n",
    "    print(\"택시를 타라\")\n",
    "else:\n",
    "    print(\"걸어가라\")"
   ]
  },
  {
   "cell_type": "markdown",
   "id": "29fb1dfa-1346-4e23-a813-374053461ad2",
   "metadata": {},
   "source": [
    "### pass"
   ]
  },
  {
   "cell_type": "code",
   "execution_count": 40,
   "id": "c507c199-1ee4-44c5-8bc3-c87a47105eb6",
   "metadata": {},
   "outputs": [],
   "source": [
    "# 조건문에서 아무 일도 하지 않게 설정하고 싶다면=>pass 활용\n",
    "# pass에 해당할 경우 코드는 정상 작동하지만 아무것도 출력되지 않음\n",
    "pocket=['money','phone','trash']\n",
    "if 'money' in pocket:\n",
    "    pass\n",
    "else:\n",
    "    print(\"카드를 꺼내라\")"
   ]
  },
  {
   "cell_type": "code",
   "execution_count": 41,
   "id": "52e26d82-2d0c-48df-9e44-d7af23c60863",
   "metadata": {},
   "outputs": [
    {
     "name": "stdout",
     "output_type": "stream",
     "text": [
      "카드를 꺼내라\n"
     ]
    }
   ],
   "source": [
    "pocket=['','phone','trash']\n",
    "if 'money' in pocket:\n",
    "    pass\n",
    "else:\n",
    "    print(\"카드를 꺼내라\")"
   ]
  },
  {
   "cell_type": "markdown",
   "id": "2c9c873d-47aa-45e6-8007-1099fac8eb2d",
   "metadata": {},
   "source": [
    "### elif"
   ]
  },
  {
   "cell_type": "code",
   "execution_count": 56,
   "id": "d5f2622e-090d-4e07-9524-3913e598dc38",
   "metadata": {},
   "outputs": [
    {
     "name": "stdout",
     "output_type": "stream",
     "text": [
      "현금-택시를 타라\n"
     ]
    }
   ],
   "source": [
    "# 주머니에 돈이 있으면 택시를 타고 가고, 주머니에 돈은 없지만 카드가 있으면 택시를 타고 가고,\n",
    "# 돈도 없고 카드도 없으면 걸어가라.\n",
    "pocket=('money','phone','trash')\n",
    "card=True\n",
    "if 'money' in pocket:\n",
    "    print(\"현금-택시를 타라\")\n",
    "else:\n",
    "    if card:\n",
    "        print(\"카드-택시를 타라\")\n",
    "    else:\n",
    "        print(\"걸어가라\")"
   ]
  },
  {
   "cell_type": "code",
   "execution_count": 61,
   "id": "f4348ab3-1028-45d7-924f-441a175c2e59",
   "metadata": {},
   "outputs": [
    {
     "name": "stdout",
     "output_type": "stream",
     "text": [
      "현금-택시를 타고 가라\n"
     ]
    }
   ],
   "source": [
    "# 다중 조건문 표현 방법=>elif 활용\n",
    "pocket=['money','paper','cellphone']\n",
    "card=True\n",
    "if 'money' in pocket:\n",
    "    print(\"현금-택시를 타고 가라\")\n",
    "elif card:\n",
    "    print(\"카드-택시를 타고 가라\")\n",
    "else:\n",
    "    print(\"걸어가라\")"
   ]
  },
  {
   "cell_type": "markdown",
   "id": "630e8e27-e92e-4355-b913-b889fa8e257c",
   "metadata": {},
   "source": [
    "### if문 한줄로 작성하기"
   ]
  },
  {
   "cell_type": "code",
   "execution_count": 65,
   "id": "fdc84897-8e07-49c2-af96-433a3441c568",
   "metadata": {},
   "outputs": [],
   "source": [
    "pocket=['money', 'card']\n",
    "if 'money' in pocket:\n",
    "     pass \n",
    "else:\n",
    "     print(\"카드를 꺼내라\")"
   ]
  },
  {
   "cell_type": "code",
   "execution_count": 67,
   "id": "77eee5b0-33d8-4c63-8512-bace227cf1c0",
   "metadata": {},
   "outputs": [],
   "source": [
    "# 조건문 옆에 해당하는 if블록을 붙여 써도 정상작동함\n",
    "if 'money' in pocket: pass \n",
    "else: print(\"카드를 꺼내라\")"
   ]
  },
  {
   "cell_type": "markdown",
   "id": "1ca8702b-0ae0-4f56-bbf2-754bde3cd22f",
   "metadata": {},
   "source": [
    "### 조건부 표현식"
   ]
  },
  {
   "cell_type": "code",
   "execution_count": 69,
   "id": "6fe7bf41-9921-436a-bdb2-5c09f89e1495",
   "metadata": {},
   "outputs": [
    {
     "name": "stdout",
     "output_type": "stream",
     "text": [
      "failure\n"
     ]
    }
   ],
   "source": [
    "score=50\n",
    "if score >= 60:\n",
    "    message = \"success\"\n",
    "else:\n",
    "    message = \"failure\"\n",
    "print(message)"
   ]
  },
  {
   "cell_type": "code",
   "execution_count": 71,
   "id": "be9af807-6370-4f9d-95df-c8d34acb4975",
   "metadata": {},
   "outputs": [
    {
     "name": "stdout",
     "output_type": "stream",
     "text": [
      "failure\n"
     ]
    }
   ],
   "source": [
    "# 조건부 표현식 : 변수 = 조건문이_참인_경우의_값 if 조건문 else 조건문이_거짓인_경우의_값\n",
    "message = \"success\" if score >= 60 else \"failure\"\n",
    "print(message)"
   ]
  },
  {
   "cell_type": "markdown",
   "id": "1a74dea8-ba16-42e4-a96a-fd3142b8689d",
   "metadata": {},
   "source": [
    "## While 반복문"
   ]
  },
  {
   "cell_type": "code",
   "execution_count": 72,
   "id": "4fa23072-28b3-486d-84c3-31270932b780",
   "metadata": {},
   "outputs": [],
   "source": [
    "# 대다수의 프로그램이 운영되는데 while 반복문을 활용함\n",
    "# 컴퓨터가 작동하기 위해서 필요한 명령어"
   ]
  },
  {
   "cell_type": "code",
   "execution_count": 1,
   "id": "54b7b2b9-1a57-4aef-9f0b-d1aec5da4057",
   "metadata": {},
   "outputs": [
    {
     "name": "stdout",
     "output_type": "stream",
     "text": [
      "나무를 1번 찍었습니다.\n",
      "나무를 2번 찍었습니다.\n",
      "나무를 3번 찍었습니다.\n",
      "나무를 4번 찍었습니다.\n",
      "나무를 5번 찍었습니다.\n",
      "나무를 6번 찍었습니다.\n",
      "나무를 7번 찍었습니다.\n",
      "나무를 8번 찍었습니다.\n",
      "나무를 9번 찍었습니다.\n",
      "나무를 10번 찍었습니다.\n",
      "나무 넘어갑니다.\n"
     ]
    }
   ],
   "source": [
    "# ‘열 번 찍어 안 넘어가는 나무 없다’라는 속담을 파이썬 프로그램으로 만들면\n",
    "# while문은 True 값일 때만 반복함, False 값이 뜨면 종료됨\n",
    "treeHit = 0\n",
    "while treeHit < 10:\n",
    "    treeHit = treeHit +1\n",
    "    print(\"나무를 %d번 찍었습니다.\" % treeHit)\n",
    "    if treeHit == 10:\n",
    "        print(\"나무 넘어갑니다.\")"
   ]
  },
  {
   "cell_type": "markdown",
   "id": "364fb289-7e3a-4002-9ce7-176e4bb19e79",
   "metadata": {},
   "source": [
    "### while문 만들기"
   ]
  },
  {
   "cell_type": "code",
   "execution_count": 78,
   "id": "b28069a1-ac03-430c-a367-f19fa20a4671",
   "metadata": {},
   "outputs": [],
   "source": [
    "# while문의 경우 반복문이기 때문에\n",
    "# 반복이 종료되는 명령어를 지정하지 않으면 컴퓨터가 과부화 될 수 있음"
   ]
  },
  {
   "cell_type": "code",
   "execution_count": 81,
   "id": "67347e5f-0918-406c-ba0c-6f77f6f9217d",
   "metadata": {},
   "outputs": [
    {
     "data": {
      "text/plain": [
       "'\\n1. Add\\n2. Del\\n3. List\\n4. Quit\\nEnter number : '"
      ]
     },
     "execution_count": 81,
     "metadata": {},
     "output_type": "execute_result"
    }
   ],
   "source": [
    "prompt='''\n",
    "1. Add\n",
    "2. Del\n",
    "3. List\n",
    "4. Quit\n",
    "Enter number : '''\n",
    "prompt"
   ]
  },
  {
   "cell_type": "code",
   "execution_count": 83,
   "id": "69f26e61-825c-4e3f-8ff2-34826462dff5",
   "metadata": {},
   "outputs": [
    {
     "name": "stdout",
     "output_type": "stream",
     "text": [
      "\n",
      "1. Add\n",
      "2. Del\n",
      "3. List\n",
      "4. Quit\n",
      "Enter number : \n"
     ]
    }
   ],
   "source": [
    "print(prompt)"
   ]
  },
  {
   "cell_type": "code",
   "execution_count": 85,
   "id": "dd39bd1d-88cf-4b11-b026-ae59b5407af3",
   "metadata": {},
   "outputs": [
    {
     "name": "stdin",
     "output_type": "stream",
     "text": [
      " 안녕하세요\n"
     ]
    },
    {
     "data": {
      "text/plain": [
       "'안녕하세요'"
      ]
     },
     "execution_count": 85,
     "metadata": {},
     "output_type": "execute_result"
    }
   ],
   "source": [
    "# input은 반드시 문자열로 반환함\n",
    "input()"
   ]
  },
  {
   "cell_type": "code",
   "execution_count": 87,
   "id": "e0391af4-8300-4648-a2b8-b9e523e8d0d0",
   "metadata": {},
   "outputs": [
    {
     "name": "stdout",
     "output_type": "stream",
     "text": [
      "\n",
      "1. Add\n",
      "2. Del\n",
      "3. List\n",
      "4. Quit\n",
      "Enter number : \n"
     ]
    },
    {
     "name": "stdin",
     "output_type": "stream",
     "text": [
      " 1\n"
     ]
    },
    {
     "name": "stdout",
     "output_type": "stream",
     "text": [
      "\n",
      "1. Add\n",
      "2. Del\n",
      "3. List\n",
      "4. Quit\n",
      "Enter number : \n"
     ]
    },
    {
     "name": "stdin",
     "output_type": "stream",
     "text": [
      " 2\n"
     ]
    },
    {
     "name": "stdout",
     "output_type": "stream",
     "text": [
      "\n",
      "1. Add\n",
      "2. Del\n",
      "3. List\n",
      "4. Quit\n",
      "Enter number : \n"
     ]
    },
    {
     "name": "stdin",
     "output_type": "stream",
     "text": [
      " 3\n"
     ]
    },
    {
     "name": "stdout",
     "output_type": "stream",
     "text": [
      "\n",
      "1. Add\n",
      "2. Del\n",
      "3. List\n",
      "4. Quit\n",
      "Enter number : \n"
     ]
    },
    {
     "name": "stdin",
     "output_type": "stream",
     "text": [
      " 4\n"
     ]
    }
   ],
   "source": [
    "# input 활용해서 프롬프트 while 반복문 작성하기\n",
    "# input은 반드시 문자열로 반환하기 때문에 정수로 지정해줘야 숫자와 비교 가능\n",
    "number=0\n",
    "while number !=4:\n",
    "    print(prompt)\n",
    "    number=int(input()) "
   ]
  },
  {
   "cell_type": "markdown",
   "id": "aa96f7b3-9d13-436c-983f-1164c5103a73",
   "metadata": {},
   "source": [
    "### break : while 문 강제로 빠져나가기"
   ]
  },
  {
   "cell_type": "code",
   "execution_count": 94,
   "id": "ab99ef57-0e01-4f7b-aa64-002fbae7c455",
   "metadata": {},
   "outputs": [
    {
     "name": "stdout",
     "output_type": "stream",
     "text": [
      "돈을 받았으니 커피를 줍니다.\n",
      "남은 커피의 양은 9개입니다.\n",
      "돈을 받았으니 커피를 줍니다.\n",
      "남은 커피의 양은 8개입니다.\n",
      "돈을 받았으니 커피를 줍니다.\n",
      "남은 커피의 양은 7개입니다.\n",
      "돈을 받았으니 커피를 줍니다.\n",
      "남은 커피의 양은 6개입니다.\n",
      "돈을 받았으니 커피를 줍니다.\n",
      "남은 커피의 양은 5개입니다.\n",
      "돈을 받았으니 커피를 줍니다.\n",
      "남은 커피의 양은 4개입니다.\n",
      "돈을 받았으니 커피를 줍니다.\n",
      "남은 커피의 양은 3개입니다.\n",
      "돈을 받았으니 커피를 줍니다.\n",
      "남은 커피의 양은 2개입니다.\n",
      "돈을 받았으니 커피를 줍니다.\n",
      "남은 커피의 양은 1개입니다.\n",
      "돈을 받았으니 커피를 줍니다.\n",
      "남은 커피의 양은 0개입니다.\n",
      "커피가 다 떨어졌습니다. 판매를 중지합니다.\n"
     ]
    }
   ],
   "source": [
    "# break문 활용\n",
    "coffee = 10\n",
    "money = 300\n",
    "\n",
    "while money:\n",
    "    print(\"돈을 받았으니 커피를 줍니다.\")\n",
    "    coffee = coffee -1\n",
    "    print(\"남은 커피의 양은 %d개입니다.\" % coffee)\n",
    "    if coffee == 0:\n",
    "        print(\"커피가 다 떨어졌습니다. 판매를 중지합니다.\")\n",
    "        break"
   ]
  },
  {
   "cell_type": "code",
   "execution_count": 106,
   "id": "c03dd845-1def-433b-bddd-d2ac19bb20f9",
   "metadata": {},
   "outputs": [
    {
     "name": "stdin",
     "output_type": "stream",
     "text": [
      "돈을 넣어주세요.:  300\n"
     ]
    },
    {
     "name": "stdout",
     "output_type": "stream",
     "text": [
      "커피를 줍니다.\n",
      "남은 커피의 양은9개 입니다.\n"
     ]
    },
    {
     "name": "stdin",
     "output_type": "stream",
     "text": [
      "돈을 넣어주세요.:  500\n"
     ]
    },
    {
     "name": "stdout",
     "output_type": "stream",
     "text": [
      "거스름돈 200을 주고 커피를 줍니다.\n",
      "남은 커피의 양은8개 입니다.\n"
     ]
    },
    {
     "name": "stdin",
     "output_type": "stream",
     "text": [
      "돈을 넣어주세요.:  200\n"
     ]
    },
    {
     "name": "stdout",
     "output_type": "stream",
     "text": [
      "돈을 다시 돌려주고 커피를 주지 않습니다.\n",
      "남은 커피의 양은8개 입니다.\n"
     ]
    },
    {
     "name": "stdin",
     "output_type": "stream",
     "text": [
      "돈을 넣어주세요.:  600\n"
     ]
    },
    {
     "name": "stdout",
     "output_type": "stream",
     "text": [
      "거스름돈 300을 주고 커피를 줍니다.\n",
      "남은 커피의 양은7개 입니다.\n"
     ]
    },
    {
     "name": "stdin",
     "output_type": "stream",
     "text": [
      "돈을 넣어주세요.:  500\n"
     ]
    },
    {
     "name": "stdout",
     "output_type": "stream",
     "text": [
      "거스름돈 200을 주고 커피를 줍니다.\n",
      "남은 커피의 양은6개 입니다.\n"
     ]
    },
    {
     "name": "stdin",
     "output_type": "stream",
     "text": [
      "돈을 넣어주세요.:  400\n"
     ]
    },
    {
     "name": "stdout",
     "output_type": "stream",
     "text": [
      "거스름돈 100을 주고 커피를 줍니다.\n",
      "남은 커피의 양은5개 입니다.\n"
     ]
    },
    {
     "name": "stdin",
     "output_type": "stream",
     "text": [
      "돈을 넣어주세요.:  300\n"
     ]
    },
    {
     "name": "stdout",
     "output_type": "stream",
     "text": [
      "커피를 줍니다.\n",
      "남은 커피의 양은4개 입니다.\n"
     ]
    },
    {
     "name": "stdin",
     "output_type": "stream",
     "text": [
      "돈을 넣어주세요.:  300\n"
     ]
    },
    {
     "name": "stdout",
     "output_type": "stream",
     "text": [
      "커피를 줍니다.\n",
      "남은 커피의 양은3개 입니다.\n"
     ]
    },
    {
     "name": "stdin",
     "output_type": "stream",
     "text": [
      "돈을 넣어주세요.:  3000\n"
     ]
    },
    {
     "name": "stdout",
     "output_type": "stream",
     "text": [
      "거스름돈 2700을 주고 커피를 줍니다.\n",
      "남은 커피의 양은2개 입니다.\n"
     ]
    },
    {
     "name": "stdin",
     "output_type": "stream",
     "text": [
      "돈을 넣어주세요.:  300\n"
     ]
    },
    {
     "name": "stdout",
     "output_type": "stream",
     "text": [
      "커피를 줍니다.\n",
      "남은 커피의 양은1개 입니다.\n"
     ]
    },
    {
     "name": "stdin",
     "output_type": "stream",
     "text": [
      "돈을 넣어주세요.:  300\n"
     ]
    },
    {
     "name": "stdout",
     "output_type": "stream",
     "text": [
      "커피를 줍니다.\n",
      "남은 커피의 양은0개 입니다.\n",
      "커피가 다 떨어졌습니다. 판매를 중지합니다.\n"
     ]
    }
   ],
   "source": [
    "# 커피 자판기 프로그램을 만들기\n",
    "# 단, money는 사용자 입력 받기\n",
    "## 'while True:'로 설정 시 무한 반복됨, 따라서 항상 break문을 먼저 만들어야 함\n",
    "## 무한반복문을 중지하기 위해선 'ctrl+c' or 상단의 네모 버튼 클릭\n",
    "coffee=10\n",
    "while True :\n",
    "    money=int(input('돈을 넣어주세요.: '))\n",
    "    if money==300:                     #돈을 딱 맞게 받은 경우\n",
    "        print('커피를 줍니다.')\n",
    "        coffee -=1                      #재고 소진\n",
    "        print(f'남은 커피의 양은{coffee}개 입니다.') # 남은 재고 체크\n",
    "        \n",
    "    elif money>300:                    #돈을 더 받은 경우\n",
    "        #print('거스름돈 %d을 주고 커피를 줍니다.'%(money-300)) #거스름돈 계산 필요\n",
    "        print(f'거스름돈 {money-300}을 주고 커피를 줍니다.')    #거스름돈 계산 필요\n",
    "        coffee -=1                      # 재고 소진 필요\n",
    "        print(f'남은 커피의 양은{coffee}개 입니다.') # 남은 재고 체크\n",
    "        \n",
    "    else:                              #돈이 부족한 경우\n",
    "        print('돈을 다시 돌려주고 커피를 주지 않습니다.')\n",
    "        print(f'남은 커피의 양은{coffee}개 입니다.') # 남은 재고 체크\n",
    "    \n",
    "    if coffee==0:\n",
    "        print('커피가 다 떨어졌습니다. 판매를 중지합니다.')      \n",
    "        break"
   ]
  },
  {
   "cell_type": "markdown",
   "id": "f67050d3-3b96-4f92-8b42-624cca65d1b3",
   "metadata": {},
   "source": [
    "### continue : while문 맨 처음으로 돌아가기"
   ]
  },
  {
   "cell_type": "code",
   "execution_count": 109,
   "id": "233409fc-9919-4d74-b0a8-ed1a15da5451",
   "metadata": {},
   "outputs": [
    {
     "name": "stdout",
     "output_type": "stream",
     "text": [
      "1\n",
      "3\n",
      "5\n",
      "7\n",
      "9\n"
     ]
    }
   ],
   "source": [
    "# 1부터 10까지의 숫자 중에서 홀수만 출력하는 프로그램 만들기\n",
    "# while문 활용\n",
    "## 나머지='/', 몫 구하기='//', 나머지 구하기='%'\n",
    "a=0\n",
    "while a<10:\n",
    "    a +=1\n",
    "    if a%2==0:\n",
    "        continue  #continue에 해당할 경우 그 다음 명령어를 수행하지 않고 처음으로 돌아감\n",
    "    print(a)"
   ]
  },
  {
   "cell_type": "markdown",
   "id": "879a02f8-74f1-40a1-875b-ba389143dd3a",
   "metadata": {},
   "source": [
    "## for 반복문"
   ]
  },
  {
   "cell_type": "code",
   "execution_count": 110,
   "id": "288156da-4652-40be-aed7-ab81718eef1e",
   "metadata": {},
   "outputs": [
    {
     "name": "stdout",
     "output_type": "stream",
     "text": [
      "one\n",
      "two\n",
      "three\n"
     ]
    }
   ],
   "source": [
    "# 전형적인 for문\n",
    "test_list=['one','two','three']\n",
    "\n",
    "for i in test_list:\n",
    "    print(i)"
   ]
  },
  {
   "cell_type": "code",
   "execution_count": 111,
   "id": "b7446258-0b6e-48a0-afa7-24f15bde1bb5",
   "metadata": {},
   "outputs": [
    {
     "name": "stdout",
     "output_type": "stream",
     "text": [
      "(1, 2)\n",
      "(3, 4)\n",
      "(5, 6)\n"
     ]
    }
   ],
   "source": [
    "# 다양한 for문의 사용\n",
    "a=[(1,2),(3,4),(5,6)]\n",
    "for i in a:\n",
    "    print(i)"
   ]
  },
  {
   "cell_type": "code",
   "execution_count": 113,
   "id": "d965a469-b22f-4622-aedd-234df2c467b3",
   "metadata": {},
   "outputs": [
    {
     "name": "stdout",
     "output_type": "stream",
     "text": [
      "3\n",
      "7\n",
      "11\n"
     ]
    }
   ],
   "source": [
    "# 튜플 안의 요소들이 쪼개져서 연산됨\n",
    "for first, last in a:\n",
    "    print(first+last)"
   ]
  },
  {
   "cell_type": "code",
   "execution_count": 115,
   "id": "a0283461-bd52-484a-a0af-5b891851c934",
   "metadata": {},
   "outputs": [
    {
     "name": "stdout",
     "output_type": "stream",
     "text": [
      "1번 학생은 90점 합격입니다.\n",
      "2번 학생은 25점 불합격입니다.\n",
      "3번 학생은 67점 합격입니다.\n",
      "4번 학생은 45점 불합격입니다.\n",
      "5번 학생은 80점 합격입니다.\n"
     ]
    }
   ],
   "source": [
    "# for 문의 응용\n",
    "# 총 5명의 학생이 시험을 보았는데 시험 점수가 60점 이상이면 합격이고 그렇지 않으면 불합격이다.\n",
    "# 합격인지, 불합격인지 결과를 보여 주시오.\n",
    "scores=[90,25,67,45,80]\n",
    "number=0\n",
    "\n",
    "for s in scores:\n",
    "    number +=1\n",
    "    if s >= 60:\n",
    "        print(f'{number}번 학생은 {s}점 합격입니다.')\n",
    "    else:\n",
    "        print(f'{number}번 학생은 {s}점 불합격입니다.')"
   ]
  },
  {
   "cell_type": "code",
   "execution_count": null,
   "id": "35f25933-9e45-4292-8506-bcbe7b7aa800",
   "metadata": {},
   "outputs": [],
   "source": []
  },
  {
   "cell_type": "code",
   "execution_count": null,
   "id": "4d7cb767-ffd4-4dd2-90a7-d614eb6d407f",
   "metadata": {},
   "outputs": [],
   "source": []
  },
  {
   "cell_type": "code",
   "execution_count": null,
   "id": "a072bcd8-d08a-4eb6-b633-081ae1c7814d",
   "metadata": {},
   "outputs": [],
   "source": []
  },
  {
   "cell_type": "code",
   "execution_count": null,
   "id": "321b5e4f-7973-4ef3-a28f-6b5d19eb420a",
   "metadata": {},
   "outputs": [],
   "source": []
  },
  {
   "cell_type": "code",
   "execution_count": null,
   "id": "2d9114d1-7f48-49a4-871b-54b56dd91fdb",
   "metadata": {},
   "outputs": [],
   "source": []
  },
  {
   "cell_type": "code",
   "execution_count": null,
   "id": "77e608da-c368-4b7c-8ccc-937ae5fd4f58",
   "metadata": {},
   "outputs": [],
   "source": []
  },
  {
   "cell_type": "code",
   "execution_count": null,
   "id": "f9f0163d-3d57-4f96-9090-b5a709fbc4d2",
   "metadata": {},
   "outputs": [],
   "source": []
  },
  {
   "cell_type": "code",
   "execution_count": null,
   "id": "f73e3fe3-e283-4b6d-a151-6264565fbd72",
   "metadata": {},
   "outputs": [],
   "source": []
  },
  {
   "cell_type": "code",
   "execution_count": null,
   "id": "7c67ca89-4b22-4acd-a5a2-43a48ba6af88",
   "metadata": {},
   "outputs": [],
   "source": []
  },
  {
   "cell_type": "code",
   "execution_count": null,
   "id": "07e1a0d0-bb94-4fc2-a2f3-63ceec2ea4f9",
   "metadata": {},
   "outputs": [],
   "source": []
  },
  {
   "cell_type": "code",
   "execution_count": null,
   "id": "4bd965e1-f5bd-4601-a170-2486c6d213c8",
   "metadata": {},
   "outputs": [],
   "source": []
  },
  {
   "cell_type": "code",
   "execution_count": null,
   "id": "c77a29d7-6a3a-4c67-af4a-5b08d48cde98",
   "metadata": {},
   "outputs": [],
   "source": []
  },
  {
   "cell_type": "code",
   "execution_count": null,
   "id": "edb85427-ba8b-4981-85d6-2db33d5c28ee",
   "metadata": {},
   "outputs": [],
   "source": []
  },
  {
   "cell_type": "code",
   "execution_count": null,
   "id": "5322d347-e0ea-4993-a864-eb5e4a4a0537",
   "metadata": {},
   "outputs": [],
   "source": []
  },
  {
   "cell_type": "code",
   "execution_count": null,
   "id": "db09576b-48ab-4a57-abc1-ef7c6d462756",
   "metadata": {},
   "outputs": [],
   "source": []
  },
  {
   "cell_type": "code",
   "execution_count": null,
   "id": "87b4c6e3-dcb4-4e18-9cc4-f7617b4c1d03",
   "metadata": {},
   "outputs": [],
   "source": []
  },
  {
   "cell_type": "code",
   "execution_count": null,
   "id": "2511ff7b-7443-49fb-aff1-562bbc68c9de",
   "metadata": {},
   "outputs": [],
   "source": []
  }
 ],
 "metadata": {
  "kernelspec": {
   "display_name": "Python 3 (ipykernel)",
   "language": "python",
   "name": "python3"
  },
  "language_info": {
   "codemirror_mode": {
    "name": "ipython",
    "version": 3
   },
   "file_extension": ".py",
   "mimetype": "text/x-python",
   "name": "python",
   "nbconvert_exporter": "python",
   "pygments_lexer": "ipython3",
   "version": "3.12.4"
  }
 },
 "nbformat": 4,
 "nbformat_minor": 5
}
