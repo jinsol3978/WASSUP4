{
 "cells": [
  {
   "cell_type": "markdown",
   "id": "d4767bcf-c836-4c27-88d6-657a02b51063",
   "metadata": {},
   "source": [
    "# 함수와 입출력"
   ]
  },
  {
   "cell_type": "markdown",
   "id": "51b86157-1eb1-4486-8a42-0adaaccb6341",
   "metadata": {},
   "source": [
    "## 함수의 구조"
   ]
  },
  {
   "cell_type": "code",
   "execution_count": 2,
   "id": "54126563-7516-42c3-9c27-a92ff3b5a7ef",
   "metadata": {},
   "outputs": [],
   "source": [
    "# 함수를 정의할 때 쓰는 예약어, def\n",
    "def add(a,b):\n",
    "    return a+b"
   ]
  },
  {
   "cell_type": "code",
   "execution_count": 4,
   "id": "56db9fb8-c5a4-4b80-a2fd-cfb75fac7512",
   "metadata": {},
   "outputs": [
    {
     "name": "stdout",
     "output_type": "stream",
     "text": [
      "7\n"
     ]
    }
   ],
   "source": [
    "a=3\n",
    "b=4\n",
    "c=add(a,b)\n",
    "print(c)"
   ]
  },
  {
   "cell_type": "markdown",
   "id": "78237b7c-49d3-4a60-a72f-33a92ba4a8e3",
   "metadata": {},
   "source": [
    "## 매개변수(파라미터)와 인수"
   ]
  },
  {
   "cell_type": "code",
   "execution_count": 6,
   "id": "8467610c-3da2-41e2-8ae6-1e630aae3d0c",
   "metadata": {},
   "outputs": [
    {
     "name": "stdout",
     "output_type": "stream",
     "text": [
      "7\n"
     ]
    }
   ],
   "source": [
    "#함수를 호출할 때 쓰는 입력값=인수\n",
    "#함수에 입력으로 전달된 값을 받는 변수=매개변수\n",
    "def add(a, b):  # a, b는 매개변수\n",
    "    return a+b\n",
    "\n",
    "print(add(3, 4))  # 3, 4는 인수"
   ]
  },
  {
   "cell_type": "markdown",
   "id": "e1cc4a34-30af-4faa-a4c6-b4f792c8c232",
   "metadata": {},
   "source": [
    "## 입력값과 리턴값에 따른 함수의 형태"
   ]
  },
  {
   "cell_type": "code",
   "execution_count": 7,
   "id": "7fadc7d7-ca5d-4c7c-a761-e91829d217c8",
   "metadata": {},
   "outputs": [],
   "source": [
    "# 일반적인 함수\n",
    "def add(a, b): \n",
    "    result = a + b \n",
    "    return result"
   ]
  },
  {
   "cell_type": "code",
   "execution_count": 8,
   "id": "e5024767-4371-4aa1-bc36-d62ee4ad0188",
   "metadata": {},
   "outputs": [
    {
     "data": {
      "text/plain": [
       "7"
      ]
     },
     "execution_count": 8,
     "metadata": {},
     "output_type": "execute_result"
    }
   ],
   "source": [
    "add(3,4)"
   ]
  },
  {
   "cell_type": "code",
   "execution_count": 16,
   "id": "d85107a0-9ef4-47bf-81fc-fbaa6a00fce5",
   "metadata": {},
   "outputs": [],
   "source": [
    "#입력값이 없는 함수\n",
    "def say1(): \n",
    "    return 'Hi' "
   ]
  },
  {
   "cell_type": "code",
   "execution_count": 17,
   "id": "1efbf4ec-0b98-4d97-898b-3fcf2ccc7ee6",
   "metadata": {},
   "outputs": [
    {
     "data": {
      "text/plain": [
       "'Hi'"
      ]
     },
     "execution_count": 17,
     "metadata": {},
     "output_type": "execute_result"
    }
   ],
   "source": [
    "say1()"
   ]
  },
  {
   "cell_type": "code",
   "execution_count": 13,
   "id": "2da481e0-611f-4831-97ac-f8b956beaa78",
   "metadata": {},
   "outputs": [],
   "source": [
    "#리턴값이 없는 함수\n",
    "#아래 함수 실행 시 출력값이 나오지만 해당 출력값은 수행할 문장에 불과\n",
    "#print를 이용해 출력 시 오히려 'None' 값이 출력됨\n",
    "def add(a, b): \n",
    "    print(\"%d, %d의 합은 %d입니다.\" % (a, b, a+b))"
   ]
  },
  {
   "cell_type": "code",
   "execution_count": 12,
   "id": "df91cfe9-519d-442f-a740-7ee7b8bff4e4",
   "metadata": {},
   "outputs": [
    {
     "name": "stdout",
     "output_type": "stream",
     "text": [
      "3, 4의 합은 7입니다.\n"
     ]
    }
   ],
   "source": [
    "add(3,4)"
   ]
  },
  {
   "cell_type": "code",
   "execution_count": 15,
   "id": "b22bc238-82a1-439e-bcb0-4f6e9140d706",
   "metadata": {},
   "outputs": [],
   "source": [
    "#입력값도 리턴값도 없는 함수\n",
    "def say2():\n",
    "    print('Hi')"
   ]
  },
  {
   "cell_type": "code",
   "execution_count": 22,
   "id": "2e646e55-1349-4f4e-8982-3bfbfa5bd62c",
   "metadata": {},
   "outputs": [
    {
     "name": "stdout",
     "output_type": "stream",
     "text": [
      "Hi\n"
     ]
    }
   ],
   "source": [
    "say2()"
   ]
  },
  {
   "cell_type": "code",
   "execution_count": 23,
   "id": "f1764c6d-62a3-4e79-b4c6-8ad51242b13f",
   "metadata": {},
   "outputs": [
    {
     "name": "stdout",
     "output_type": "stream",
     "text": [
      "Hi\n"
     ]
    }
   ],
   "source": [
    "d=say2()"
   ]
  },
  {
   "cell_type": "code",
   "execution_count": 24,
   "id": "8fddf15a-6481-41ed-98e7-137e035f985b",
   "metadata": {},
   "outputs": [
    {
     "name": "stdout",
     "output_type": "stream",
     "text": [
      "None\n"
     ]
    }
   ],
   "source": [
    "print(d)"
   ]
  },
  {
   "cell_type": "markdown",
   "id": "1c69d3e3-ea60-417c-9c73-d756851f44c2",
   "metadata": {},
   "source": [
    "## 매개변수를 지정하여 호출하기"
   ]
  },
  {
   "cell_type": "code",
   "execution_count": 26,
   "id": "bd862a7b-7a6e-4ff9-a90c-4f3b63444333",
   "metadata": {},
   "outputs": [],
   "source": [
    "def sub(a, b):\n",
    "    return a - b"
   ]
  },
  {
   "cell_type": "code",
   "execution_count": 27,
   "id": "aeed5471-6826-419b-969c-167217af1935",
   "metadata": {},
   "outputs": [
    {
     "name": "stdout",
     "output_type": "stream",
     "text": [
      "4\n"
     ]
    }
   ],
   "source": [
    "result=sub(a=7, b=3)\n",
    "print(result)"
   ]
  },
  {
   "cell_type": "code",
   "execution_count": 28,
   "id": "5b16564d-7acb-4382-a7b8-814580ad09ce",
   "metadata": {},
   "outputs": [
    {
     "name": "stdout",
     "output_type": "stream",
     "text": [
      "4\n"
     ]
    }
   ],
   "source": [
    "#매개변수 지정 시 순서를 바꿔도 정상 작동함\n",
    "result=sub(b=3,a=7)\n",
    "print(result)"
   ]
  },
  {
   "cell_type": "markdown",
   "id": "d9a9b471-f0fc-4365-9c34-2742e9e00566",
   "metadata": {},
   "source": [
    "## 입력값이 몇 개가 될지 모를 때는 어떻게 해야 할까?"
   ]
  },
  {
   "cell_type": "code",
   "execution_count": 29,
   "id": "ce7b2c4f-15d2-40f4-ba27-c487366c982e",
   "metadata": {},
   "outputs": [],
   "source": [
    "# 여러 개의 입력값을 받는 함수 만들기 : *args\n",
    "# 사용자의 입력이 몇 개든 전부 누적해서 더해주는 함수\n",
    "def add_many(*args):\n",
    "    result=0\n",
    "    for i in args:   # *args에 입력받은 모든 값을 더한다.\n",
    "        result=result+i\n",
    "    return result"
   ]
  },
  {
   "cell_type": "code",
   "execution_count": 30,
   "id": "e3581af2-060f-46a3-aee3-a3f65c5838c2",
   "metadata": {},
   "outputs": [
    {
     "data": {
      "text/plain": [
       "1041"
      ]
     },
     "execution_count": 30,
     "metadata": {},
     "output_type": "execute_result"
    }
   ],
   "source": [
    "add_many(1,4,6,8,955,23,44)"
   ]
  },
  {
   "cell_type": "code",
   "execution_count": 33,
   "id": "d1647f1b-757d-48b2-a05e-a96633887c08",
   "metadata": {},
   "outputs": [],
   "source": [
    "# 사용자에게 다수의 입력을 받아서 옵션에 따라 누적곱 또는 누적합을 출력하는 함수를 만들어라\n",
    "def add_mul(choice, *args):\n",
    "    if choice==\"add\": #매개변수 choice에 \"add\"를 입력받았을 때\n",
    "        result=0\n",
    "        for i in args:\n",
    "            result = result+i\n",
    "    elif choice==\"mul\": #매개변수 choice에 \"mul\"을 입력받았을 때\n",
    "        result=1\n",
    "        for i in args:\n",
    "            result=result*i\n",
    "    return result"
   ]
  },
  {
   "cell_type": "code",
   "execution_count": 34,
   "id": "c7dccfe6-d9b4-4c03-93ff-904e1435e6ae",
   "metadata": {},
   "outputs": [
    {
     "name": "stdout",
     "output_type": "stream",
     "text": [
      "15\n"
     ]
    }
   ],
   "source": [
    "result=add_mul('add', 1,2,3,4,5)\n",
    "print(result)"
   ]
  },
  {
   "cell_type": "code",
   "execution_count": 35,
   "id": "91834862-5c99-476f-affb-5caad14a0ab8",
   "metadata": {},
   "outputs": [
    {
     "name": "stdout",
     "output_type": "stream",
     "text": [
      "120\n"
     ]
    }
   ],
   "source": [
    "result=add_mul('mul', 1,2,3,4,5)\n",
    "print(result)"
   ]
  },
  {
   "cell_type": "markdown",
   "id": "7e8d0e7f-236e-453b-8718-0686dd41f677",
   "metadata": {},
   "source": [
    "## 키워드 매개변수, kwargs"
   ]
  },
  {
   "cell_type": "code",
   "execution_count": 37,
   "id": "110ddf44-3ecb-4b0a-93fc-989c7fb16b10",
   "metadata": {},
   "outputs": [],
   "source": [
    "#매개변수 앞에 *을 2개 붙임\n",
    "#받아오는 모든 데이터를 딕셔너리로 반환함\n",
    "def print_kwargs(**kwargs):\n",
    "    print(kwargs)"
   ]
  },
  {
   "cell_type": "code",
   "execution_count": 38,
   "id": "5a40eb36-5e83-4fa1-8ec2-cac93f9a05f0",
   "metadata": {},
   "outputs": [
    {
     "name": "stdout",
     "output_type": "stream",
     "text": [
      "{'a': 1}\n"
     ]
    }
   ],
   "source": [
    "print_kwargs(a=1)"
   ]
  },
  {
   "cell_type": "code",
   "execution_count": 39,
   "id": "990f754c-49d7-480c-b8a4-dc87fd860069",
   "metadata": {},
   "outputs": [
    {
     "name": "stdout",
     "output_type": "stream",
     "text": [
      "{'name': 'hong', 'age': 20}\n"
     ]
    }
   ],
   "source": [
    "print_kwargs(name=\"hong\", age=20)"
   ]
  },
  {
   "cell_type": "markdown",
   "id": "1d36acd5-489f-4555-9e1f-336abe8e1789",
   "metadata": {},
   "source": [
    "## 함수의 리턴값은 언제나 하나이다"
   ]
  },
  {
   "cell_type": "code",
   "execution_count": 40,
   "id": "fb322ae8-463d-4725-b809-a88eb759d55a",
   "metadata": {},
   "outputs": [],
   "source": [
    "def add_and_mul(a,b): \n",
    "    return a+b, a*b"
   ]
  },
  {
   "cell_type": "code",
   "execution_count": 42,
   "id": "372b9846-77dd-4cca-90f1-ea78dcbc1144",
   "metadata": {},
   "outputs": [
    {
     "data": {
      "text/plain": [
       "(7, 12)"
      ]
     },
     "execution_count": 42,
     "metadata": {},
     "output_type": "execute_result"
    }
   ],
   "source": [
    "# 튜플로 묶여서 출력->1개\n",
    "add_and_mul(3,4)"
   ]
  },
  {
   "cell_type": "code",
   "execution_count": 43,
   "id": "e3b04577-b0f0-40c6-bbf7-ef0ac4957719",
   "metadata": {},
   "outputs": [
    {
     "data": {
      "text/plain": [
       "7"
      ]
     },
     "execution_count": 43,
     "metadata": {},
     "output_type": "execute_result"
    }
   ],
   "source": [
    "result1, result2=add_and_mul(3,4)\n",
    "result1"
   ]
  },
  {
   "cell_type": "code",
   "execution_count": 44,
   "id": "26e70e61-e6a1-4277-aa03-f71e6c712c7e",
   "metadata": {},
   "outputs": [
    {
     "data": {
      "text/plain": [
       "12"
      ]
     },
     "execution_count": 44,
     "metadata": {},
     "output_type": "execute_result"
    }
   ],
   "source": [
    "result2"
   ]
  },
  {
   "cell_type": "code",
   "execution_count": 47,
   "id": "56b8d243-a5ea-474d-beca-bb1be75667ee",
   "metadata": {},
   "outputs": [],
   "source": [
    "# return을 하고 나면 함수의 기능은 끝남\n",
    "# 따라서 아래와 같이 2번 return 값 입력 시 첫 번째 return만 작동\n",
    "def add_and_mul(a,b): \n",
    "    return a+b\n",
    "    return a*b"
   ]
  },
  {
   "cell_type": "code",
   "execution_count": 46,
   "id": "04fbb2e1-d260-49c4-99d3-0e0cfc09dc55",
   "metadata": {},
   "outputs": [
    {
     "data": {
      "text/plain": [
       "5"
      ]
     },
     "execution_count": 46,
     "metadata": {},
     "output_type": "execute_result"
    }
   ],
   "source": [
    "result=add_and_mul(2,3)\n",
    "result"
   ]
  },
  {
   "cell_type": "markdown",
   "id": "4c2a6e47-a316-47dd-8da7-ddf8f215f515",
   "metadata": {},
   "source": [
    "## return으로 함수 이탈하기"
   ]
  },
  {
   "cell_type": "code",
   "execution_count": 48,
   "id": "0d797ce7-de55-4243-a1eb-2edc3b164e4c",
   "metadata": {},
   "outputs": [],
   "source": [
    "def say_nick(nick):\n",
    "    if nick==\"바보\":\n",
    "        return '옥상으로 따라와'\n",
    "    print(f'나의 별명은 {nick}입니다.')"
   ]
  },
  {
   "cell_type": "code",
   "execution_count": 49,
   "id": "31ef02ba-26b1-4119-a018-8f4d99f14521",
   "metadata": {},
   "outputs": [
    {
     "name": "stdout",
     "output_type": "stream",
     "text": [
      "나의 별명은 야호입니다.\n"
     ]
    }
   ],
   "source": [
    "say_nick(\"야호\")"
   ]
  },
  {
   "cell_type": "code",
   "execution_count": 50,
   "id": "01d0b161-eff0-47b8-815f-128b0ac586eb",
   "metadata": {},
   "outputs": [
    {
     "data": {
      "text/plain": [
       "'옥상으로 따라와'"
      ]
     },
     "execution_count": 50,
     "metadata": {},
     "output_type": "execute_result"
    }
   ],
   "source": [
    "say_nick(\"바보\")"
   ]
  },
  {
   "cell_type": "markdown",
   "id": "bfb2e4a7-d2ee-4041-8d2d-e6fe35914843",
   "metadata": {},
   "source": [
    "## 매개변수에 초깃값 미리 설정하기"
   ]
  },
  {
   "cell_type": "code",
   "execution_count": 51,
   "id": "1a01ff3f-612d-4d99-b1fe-be68f01fe87a",
   "metadata": {},
   "outputs": [],
   "source": [
    "def say_myself(name, age, man=True):\n",
    "    print(f'나의 이름은 {name}입니다.')\n",
    "    print(f'나이는 {age}입니다.')\n",
    "    if man:\n",
    "        print('삐빅, 남자입니다.')\n",
    "    else:\n",
    "        print('삐빅, 여자입니다.')"
   ]
  },
  {
   "cell_type": "code",
   "execution_count": 53,
   "id": "74acfaa0-27bf-4da7-bcfb-9df386aceac4",
   "metadata": {},
   "outputs": [
    {
     "name": "stdout",
     "output_type": "stream",
     "text": [
      "나의 이름은 맹광국입니다.\n",
      "나이는 20입니다.\n",
      "삐빅, 남자입니다.\n"
     ]
    }
   ],
   "source": [
    "# man이 기본값이기 때문에 man이라고 따로 입력하지 않아도 동작 가능\n",
    "# 대신 '여자'로 출력하고 싶을 경우 'False' 기재 필요\n",
    "say_myself('맹광국',20)"
   ]
  },
  {
   "cell_type": "markdown",
   "id": "3d6cc604-6eff-4f0f-acce-fc3e845335a1",
   "metadata": {},
   "source": [
    "## 함수 안에서 선언한 변수의 효력 범위"
   ]
  },
  {
   "cell_type": "code",
   "execution_count": 55,
   "id": "9ea59ef4-2f80-44f8-a18a-0ecef1e0c359",
   "metadata": {},
   "outputs": [],
   "source": [
    "a=1\n",
    "def vartest(a): #함수 안에서만 작동->global의 a에는 적용 안 됨\n",
    "    a=a+1"
   ]
  },
  {
   "cell_type": "code",
   "execution_count": 57,
   "id": "81dd369c-bcad-4d9d-9235-a127860be3ff",
   "metadata": {},
   "outputs": [
    {
     "data": {
      "text/plain": [
       "1"
      ]
     },
     "execution_count": 57,
     "metadata": {},
     "output_type": "execute_result"
    }
   ],
   "source": [
    "#위의 함수가 local에서만 실행되기 때문에 global a 값은 변화없음\n",
    "a"
   ]
  },
  {
   "cell_type": "code",
   "execution_count": 58,
   "id": "6f92e503-e456-4670-9e12-5200cf2b7f2b",
   "metadata": {},
   "outputs": [],
   "source": [
    "vartest(a)"
   ]
  },
  {
   "cell_type": "code",
   "execution_count": 59,
   "id": "187b3961-d481-45d4-b893-99fa470a740b",
   "metadata": {},
   "outputs": [
    {
     "name": "stdout",
     "output_type": "stream",
     "text": [
      "1\n"
     ]
    }
   ],
   "source": [
    "print(a)"
   ]
  },
  {
   "cell_type": "markdown",
   "id": "7b51450c-8acb-4447-9551-8ecd10ad14b6",
   "metadata": {},
   "source": [
    "## 함수 안(local)에서 함수 밖(global)의 변수를 변경하는 방법"
   ]
  },
  {
   "cell_type": "code",
   "execution_count": 60,
   "id": "08e37b3b-526a-4e5f-ad90-83da8ce8f539",
   "metadata": {},
   "outputs": [
    {
     "name": "stdout",
     "output_type": "stream",
     "text": [
      "2\n"
     ]
    }
   ],
   "source": [
    "# 1. return 사용하기\n",
    "a = 1 \n",
    "def vartest(a): \n",
    "    a = a +1 \n",
    "    return a\n",
    "\n",
    "a = vartest(a) \n",
    "print(a)"
   ]
  },
  {
   "cell_type": "code",
   "execution_count": 61,
   "id": "b3966d6a-61b8-4f01-9146-41336d81ea9a",
   "metadata": {},
   "outputs": [
    {
     "name": "stdout",
     "output_type": "stream",
     "text": [
      "2\n"
     ]
    }
   ],
   "source": [
    "# 2. global 명령어 사용하기\n",
    "a = 1 \n",
    "def vartest(): \n",
    "    global a  #이 함수에서 사용된 a는 글로벌 a와 같다는 선언\n",
    "    a = a+1\n",
    "\n",
    "vartest() \n",
    "print(a)"
   ]
  },
  {
   "cell_type": "markdown",
   "id": "25c1d7ef-839a-4893-a3ea-615a67be3e4e",
   "metadata": {},
   "source": [
    "## lambda 예약어\n",
    "- 1회성 함수를 만듦"
   ]
  },
  {
   "cell_type": "code",
   "execution_count": 62,
   "id": "fdb2e32b-aae8-467c-a5ae-f23f1bef4e2e",
   "metadata": {},
   "outputs": [
    {
     "name": "stdout",
     "output_type": "stream",
     "text": [
      "7\n"
     ]
    }
   ],
   "source": [
    "# def와 동일한 역할을 함\n",
    "# 함수를 한 줄로 간결하게 만들 수 있음\n",
    "def add(a,b):\n",
    "    return a+b\n",
    "result=add(3,4)\n",
    "print(result)"
   ]
  },
  {
   "cell_type": "code",
   "execution_count": 63,
   "id": "6af2ae9c-d353-4ff5-9ca8-a255f84f75d6",
   "metadata": {},
   "outputs": [
    {
     "data": {
      "text/plain": [
       "7"
      ]
     },
     "execution_count": 63,
     "metadata": {},
     "output_type": "execute_result"
    }
   ],
   "source": [
    "# 위 명령어를 한줄로 만들기\n",
    "add=lambda a,b: a+b\n",
    "add(3,4)"
   ]
  },
  {
   "cell_type": "markdown",
   "id": "471194b4-93bc-4d69-9bb3-f8d6045a7f60",
   "metadata": {},
   "source": [
    "# 파일 읽고 쓰기"
   ]
  },
  {
   "cell_type": "markdown",
   "id": "dd42e02c-4059-4a22-ac9b-d8116f8c1097",
   "metadata": {},
   "source": [
    "## 파일 생성하기"
   ]
  },
  {
   "cell_type": "code",
   "execution_count": 66,
   "id": "6e6e00d0-952a-4b6a-9df6-3beff9365e38",
   "metadata": {},
   "outputs": [],
   "source": [
    "# output에 test.txt 라는 새 파일이 생성됨\n",
    "# f객체는 항상 닫아줘야 함(close)\n",
    "f=open('output/test.txt', 'w')\n",
    "f.close()"
   ]
  },
  {
   "cell_type": "markdown",
   "id": "f7ad5422-770f-49c7-8dfa-273c45e4305e",
   "metadata": {},
   "source": [
    "## 파일을 쓰기 모드로 열어 내용 쓰기"
   ]
  },
  {
   "cell_type": "code",
   "execution_count": 69,
   "id": "fcd19911-a1ea-4008-aa07-b814badd3aac",
   "metadata": {},
   "outputs": [],
   "source": [
    "# 파일 생성 후 내용 쓰기\n",
    "# 한줄로 내용이 기재됨\n",
    "f=open('output/test.txt', 'w')\n",
    "for i in range(1,11):\n",
    "    f.write(f'{i}번째 줄입니다.')\n",
    "f.close()"
   ]
  },
  {
   "cell_type": "code",
   "execution_count": 70,
   "id": "62bc119f-2abf-45ca-b417-4386f253f79d",
   "metadata": {},
   "outputs": [],
   "source": [
    "# 줄바꿈 해서 생성하기\n",
    "f=open('output/test.txt', 'w')\n",
    "for i in range(1,11):\n",
    "    f.write(f'{i}번째 줄입니다.\\n')\n",
    "f.close()"
   ]
  },
  {
   "cell_type": "code",
   "execution_count": 72,
   "id": "361af449-f401-43ac-b6e0-a4a701f324a0",
   "metadata": {},
   "outputs": [
    {
     "name": "stdout",
     "output_type": "stream",
     "text": [
      "1번째 줄입니다.\n",
      "\n"
     ]
    }
   ],
   "source": [
    "# readline 함수 이용하기 : 파일 읽기\n",
    "# 파일 내 가장 처음 만나는 내용을 반환해줌\n",
    "f=open('output/test.txt', 'r')\n",
    "line=f.readline()\n",
    "print(line)\n",
    "f.close()"
   ]
  },
  {
   "cell_type": "code",
   "execution_count": 75,
   "id": "e19f29d1-61f5-4014-b104-343ea2597ff0",
   "metadata": {},
   "outputs": [
    {
     "name": "stdout",
     "output_type": "stream",
     "text": [
      "1번째 줄입니다.\n",
      "\n",
      "2번째 줄입니다.\n",
      "\n",
      "3번째 줄입니다.\n",
      "\n",
      "4번째 줄입니다.\n",
      "\n",
      "5번째 줄입니다.\n",
      "\n"
     ]
    }
   ],
   "source": [
    "# 파일 내 5번째 줄까지 반환해줌\n",
    "f=open('output/test.txt', 'r')\n",
    "for i in range(5):\n",
    "    line=f.readline()\n",
    "    print(line) # print의 경우 줄바꿈이 포함되어 있음\n",
    "f.close()"
   ]
  },
  {
   "cell_type": "code",
   "execution_count": 76,
   "id": "40a670a4-9907-4f45-98ee-1cd9e98ebaca",
   "metadata": {},
   "outputs": [
    {
     "name": "stdout",
     "output_type": "stream",
     "text": [
      "['1번째 줄입니다.\\n', '2번째 줄입니다.\\n', '3번째 줄입니다.\\n', '4번째 줄입니다.\\n', '5번째 줄입니다.\\n', '6번째 줄입니다.\\n', '7번째 줄입니다.\\n', '8번째 줄입니다.\\n', '9번째 줄입니다.\\n', '10번째 줄입니다.\\n']\n"
     ]
    }
   ],
   "source": [
    "# readlines 함수 : 다수개의 줄 가져오기\n",
    "f=open('output/test.txt', 'r')\n",
    "lines=f.readlines()\n",
    "print(lines)"
   ]
  },
  {
   "cell_type": "code",
   "execution_count": 77,
   "id": "17f009d0-bf91-4560-8246-49eead20c70f",
   "metadata": {},
   "outputs": [
    {
     "name": "stdout",
     "output_type": "stream",
     "text": [
      "1번째 줄입니다.\n",
      "\n",
      "2번째 줄입니다.\n",
      "\n",
      "3번째 줄입니다.\n",
      "\n",
      "4번째 줄입니다.\n",
      "\n",
      "5번째 줄입니다.\n",
      "\n",
      "6번째 줄입니다.\n",
      "\n",
      "7번째 줄입니다.\n",
      "\n",
      "8번째 줄입니다.\n",
      "\n",
      "9번째 줄입니다.\n",
      "\n",
      "10번째 줄입니다.\n",
      "\n"
     ]
    }
   ],
   "source": [
    "f=open('output/test.txt', 'r')\n",
    "lines=f.readlines()\n",
    "for line in lines:\n",
    "    print(line)\n",
    "f.close()"
   ]
  },
  {
   "cell_type": "code",
   "execution_count": 80,
   "id": "54e07bfc-45fc-4c7b-be2b-b5f6eab07f78",
   "metadata": {},
   "outputs": [
    {
     "name": "stdout",
     "output_type": "stream",
     "text": [
      "1번째 줄입니다.\n",
      "2번째 줄입니다.\n",
      "3번째 줄입니다.\n",
      "4번째 줄입니다.\n",
      "5번째 줄입니다.\n",
      "6번째 줄입니다.\n",
      "7번째 줄입니다.\n",
      "8번째 줄입니다.\n",
      "9번째 줄입니다.\n",
      "10번째 줄입니다.\n"
     ]
    }
   ],
   "source": [
    "## 메모장 읽어올 때 줄바꿈 없애보기\n",
    "f=open('output/test.txt', 'r')\n",
    "lines=f.readlines()\n",
    "for line in lines:\n",
    "    line=line.strip()\n",
    "    print(line)\n",
    "f.close()"
   ]
  },
  {
   "cell_type": "code",
   "execution_count": 83,
   "id": "b459cd8d-1d20-4fcb-8712-7071145b57c8",
   "metadata": {},
   "outputs": [
    {
     "name": "stdout",
     "output_type": "stream",
     "text": [
      "<class 'str'>\n",
      "1번째 줄입니다.\n",
      "2번째 줄입니다.\n",
      "3번째 줄입니다.\n",
      "4번째 줄입니다.\n",
      "5번째 줄입니다.\n",
      "6번째 줄입니다.\n",
      "7번째 줄입니다.\n",
      "8번째 줄입니다.\n",
      "9번째 줄입니다.\n",
      "10번째 줄입니다.\n",
      "\n"
     ]
    }
   ],
   "source": [
    "# read 함수 사용하기\n",
    "# 하나의 문자열임\n",
    "f=open('output/test.txt', 'r')\n",
    "data=f.read()\n",
    "print(type(data))\n",
    "print(data)\n",
    "f.close()"
   ]
  },
  {
   "cell_type": "markdown",
   "id": "cd3e308a-2a49-4717-9dcb-c96b26ec261d",
   "metadata": {},
   "source": [
    "## 파일에 새로운 내용 추가하기"
   ]
  },
  {
   "cell_type": "code",
   "execution_count": 85,
   "id": "f7d8b643-1df1-48ef-88dd-5a285e03069f",
   "metadata": {},
   "outputs": [],
   "source": [
    "# w : 덮어쓰기가 됨\n",
    "# 원래 값 유지하며 새로운 값만 추가하기 위해선 'a' 모드로 열기\n",
    "f=open('output/test.txt', 'a')\n",
    "for i in range(11,21):\n",
    "    data=\"%d번째 줄입니다.\\n\" % i\n",
    "    f.write(data)\n",
    "f.close()"
   ]
  },
  {
   "cell_type": "markdown",
   "id": "9db274e9-1e89-4b27-a7ae-04b11c88b4d2",
   "metadata": {},
   "source": [
    "## with문"
   ]
  },
  {
   "cell_type": "code",
   "execution_count": 86,
   "id": "5bcf1f36-f14f-4e93-93e2-2d60fa57ca4d",
   "metadata": {},
   "outputs": [],
   "source": [
    "f=open('output/foo.txt', 'w')\n",
    "f.write(\"Life is too short, you need python\")\n",
    "f.close()"
   ]
  },
  {
   "cell_type": "code",
   "execution_count": 90,
   "id": "060ab388-52e5-4abd-a50b-3b08ea9a9dd3",
   "metadata": {},
   "outputs": [],
   "source": [
    "# f.close()가 불필요\n",
    "with open(\"foo.txt\", \"w\") as f:\n",
    "    f.write(\"Your leg is too short\")"
   ]
  },
  {
   "cell_type": "code",
   "execution_count": null,
   "id": "0076729a-239e-4517-95b4-b74c43fc034c",
   "metadata": {},
   "outputs": [],
   "source": []
  },
  {
   "cell_type": "code",
   "execution_count": null,
   "id": "bccce4ac-30b9-483a-bd9a-ab04b289f0dc",
   "metadata": {},
   "outputs": [],
   "source": []
  },
  {
   "cell_type": "code",
   "execution_count": null,
   "id": "823bd864-dae3-4d3e-9cb1-fdd7ac5a1f04",
   "metadata": {},
   "outputs": [],
   "source": []
  }
 ],
 "metadata": {
  "kernelspec": {
   "display_name": "Python 3 (ipykernel)",
   "language": "python",
   "name": "python3"
  },
  "language_info": {
   "codemirror_mode": {
    "name": "ipython",
    "version": 3
   },
   "file_extension": ".py",
   "mimetype": "text/x-python",
   "name": "python",
   "nbconvert_exporter": "python",
   "pygments_lexer": "ipython3",
   "version": "3.12.4"
  }
 },
 "nbformat": 4,
 "nbformat_minor": 5
}
