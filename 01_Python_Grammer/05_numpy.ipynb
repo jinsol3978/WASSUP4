{
 "cells": [
  {
   "cell_type": "markdown",
   "id": "f883cdb3-7336-4f3a-b378-5fd26e3c11bc",
   "metadata": {},
   "source": [
    "## Numpy"
   ]
  },
  {
   "cell_type": "markdown",
   "id": "26625280-66c4-4f2e-9776-70f2ae9adccd",
   "metadata": {},
   "source": [
    "### Numerical Python\n",
    "- 고성능 수치 계산을 위한 라이브러리\n",
    "- 벡터나 행렬 연산에 편리한 기능 제공\n",
    "- 모든 원소는 같은 자료형만 가능"
   ]
  },
  {
   "cell_type": "code",
   "execution_count": 2,
   "id": "087785dc-6749-4cf7-b386-379c56770cba",
   "metadata": {},
   "outputs": [
    {
     "name": "stdout",
     "output_type": "stream",
     "text": [
      "[ 0  1  2  3  4  5  6  7  8  9 10 11 12 13 14]\n",
      "[[ 0  1  2  3  4]\n",
      " [ 5  6  7  8  9]\n",
      " [10 11 12 13 14]]\n"
     ]
    }
   ],
   "source": [
    "## numpy 데이터 만들기(나열하는 방식) => arange(데이터를 나열하는 함수) 사용\n",
    "## 데이터를 나열한 후 2차원으로 바꾸기\n",
    "## reshape를 쓸 때는 데이터 수와 일치되도록 행, 열의 수를 지정 필요->안그러면 오류 발생\n",
    "import numpy as np # as : 별칭부여\n",
    "a=np.arange(15) # 0~14까지 나열->1차원 데이터\n",
    "print(a) # 1차원 데이터 반환\n",
    "a=a.reshape(3,5) # reshape : 차원을 변경/ 3행 5열 데이터로 변경\n",
    "print(a) # 2차원 데이터 반환"
   ]
  },
  {
   "cell_type": "code",
   "execution_count": 6,
   "id": "50d0e422-1719-4ada-964e-5b53c244bd94",
   "metadata": {},
   "outputs": [
    {
     "name": "stdout",
     "output_type": "stream",
     "text": [
      "[ 0  1  2  3  4  5  6  7  8  9 10 11 12 13 14]\n",
      "[[ 0  1  2  3  4]\n",
      " [ 5  6  7  8  9]\n",
      " [10 11 12 13 14]]\n",
      "<class 'numpy.ndarray'>\n",
      "(3, 5)\n"
     ]
    }
   ],
   "source": [
    "import numpy as np # as : 별칭부여\n",
    "a=np.arange(15) # 0~14까지 나열->1차원 데이터\n",
    "print(a) # 1차원 데이터 반환\n",
    "a=a.reshape(3,5) # reshape : 차원을 변경/ 3행 5열 데이터로 변경\n",
    "print(a) # 2차원 데이터 반환\n",
    "print(type(a))\n",
    "print(a.shape)"
   ]
  },
  {
   "cell_type": "code",
   "execution_count": 7,
   "id": "9f4ad964-ae32-43eb-b187-6b0a0aaf56f4",
   "metadata": {},
   "outputs": [
    {
     "name": "stdout",
     "output_type": "stream",
     "text": [
      "<class 'numpy.ndarray'>\n",
      "int32\n"
     ]
    }
   ],
   "source": [
    "print(type(a))\n",
    "print(a.dtype)"
   ]
  },
  {
   "cell_type": "code",
   "execution_count": 8,
   "id": "1c73d268-311a-4737-9123-f9461ced5bf1",
   "metadata": {},
   "outputs": [
    {
     "name": "stdout",
     "output_type": "stream",
     "text": [
      "2\n"
     ]
    }
   ],
   "source": [
    "print(a.ndim)"
   ]
  },
  {
   "cell_type": "code",
   "execution_count": 12,
   "id": "d026f449-53df-4591-a12a-5ec05b5b6fbc",
   "metadata": {},
   "outputs": [],
   "source": [
    "# print(dir(np))"
   ]
  },
  {
   "cell_type": "code",
   "execution_count": 15,
   "id": "e625e4b4-cb80-42ad-86b4-6b2a21a22e4c",
   "metadata": {},
   "outputs": [
    {
     "name": "stdout",
     "output_type": "stream",
     "text": [
      "[[ 0  3  6  9 12]\n",
      " [ 1  4  7 10 13]\n",
      " [ 2  5  8 11 14]]\n"
     ]
    }
   ],
   "source": [
    "import numpy as np\n",
    "a=np.arange(15)\n",
    "a=a.reshape(3,5,order='F')\n",
    "print(a)"
   ]
  },
  {
   "cell_type": "code",
   "execution_count": 25,
   "id": "2fd420fa-88a9-47fc-8a0a-3fcac98d68d1",
   "metadata": {},
   "outputs": [
    {
     "name": "stdout",
     "output_type": "stream",
     "text": [
      "<class 'numpy.ndarray'>\n",
      "[-1  2  5 -3  0  7 -9  4 -4 -7]\n"
     ]
    }
   ],
   "source": [
    "b=np.array([-1,2,5,-3,0,7,-9,4,-4,-7]) # List\n",
    "print(type(b))\n",
    "print(b)"
   ]
  },
  {
   "cell_type": "code",
   "execution_count": 24,
   "id": "a7bc82b8-8895-4f65-a7e3-9b9d7b4ce6fb",
   "metadata": {},
   "outputs": [
    {
     "name": "stdout",
     "output_type": "stream",
     "text": [
      "<class 'tuple'>\n",
      "<class 'numpy.ndarray'>\n"
     ]
    }
   ],
   "source": [
    "t=(10,20,30,40,50) # tuple\n",
    "print(type(t))\n",
    "t=np.array(t)\n",
    "print(type(t))"
   ]
  },
  {
   "cell_type": "code",
   "execution_count": 26,
   "id": "98c3945d-513c-41eb-b075-34d086e1662a",
   "metadata": {},
   "outputs": [
    {
     "name": "stdout",
     "output_type": "stream",
     "text": [
      "<class 'set'>\n",
      "<class 'numpy.ndarray'>\n"
     ]
    }
   ],
   "source": [
    "s= {10,20,30,40,50} # set\n",
    "print(type(s))\n",
    "s=np.array(s)\n",
    "print(type(s))"
   ]
  },
  {
   "cell_type": "code",
   "execution_count": 36,
   "id": "30d0c9f6-2055-4dd5-892c-d8cd5d22e748",
   "metadata": {},
   "outputs": [
    {
     "name": "stdout",
     "output_type": "stream",
     "text": [
      "[-1  2  5 -3  0  7 -9  4 -4 -7]\n",
      "[1 2 5 3 0 7 9 4 4 7]\n"
     ]
    }
   ],
   "source": [
    "# list에서 numpy로 변환한 변수 b 활용\n",
    "b=np.array([-1,2,5,-3,0,7,-9,4,-4,-7])\n",
    "print(b)\n",
    "\n",
    "# abs : 절대값 구하는 함수\n",
    "print(np.abs(b))"
   ]
  },
  {
   "cell_type": "code",
   "execution_count": 33,
   "id": "774608fb-3644-4cf7-bf0b-6aaee6d6763e",
   "metadata": {},
   "outputs": [
    {
     "name": "stdout",
     "output_type": "stream",
     "text": [
      "(10,)\n",
      "1\n",
      "int32\n",
      "[-1  2  5 -3  0  7 -9  4 -4 -7]\n"
     ]
    }
   ],
   "source": [
    "print(b.shape)\n",
    "print(b.ndim)\n",
    "print(b.dtype)\n",
    "print(b)\n",
    "\n",
    "# print(help(np.arange))"
   ]
  },
  {
   "cell_type": "code",
   "execution_count": 3,
   "id": "48d10392-62d9-4b4b-a9eb-bbc2f78b52b7",
   "metadata": {},
   "outputs": [
    {
     "name": "stdout",
     "output_type": "stream",
     "text": [
      "[-1  2  5 -3  0  7 -9  4 -4 -7]\n",
      "[       nan 1.41421356 2.23606798        nan 0.         2.64575131\n",
      "        nan 2.                nan        nan]\n"
     ]
    },
    {
     "name": "stderr",
     "output_type": "stream",
     "text": [
      "C:\\Users\\ae397\\AppData\\Local\\Temp\\ipykernel_5660\\4005714368.py:5: RuntimeWarning: invalid value encountered in sqrt\n",
      "  print(np.sqrt(b))\n"
     ]
    }
   ],
   "source": [
    "b=np.array([-1,2,5,-3,0,7,-9,4,-4,-7])\n",
    "print(b)\n",
    "\n",
    "# sqrt : 제곱근을 구하는 함수 -> 음수는 계산할 수 없기 때문에 \"nan\"으로 출력됨\n",
    "print(np.sqrt(b))"
   ]
  },
  {
   "cell_type": "code",
   "execution_count": 50,
   "id": "5bf40253-b1bc-4cfb-85db-6f8f5857448e",
   "metadata": {},
   "outputs": [
    {
     "name": "stdout",
     "output_type": "stream",
     "text": [
      "[1.         1.41421356 2.23606798 1.73205081 0.         2.64575131\n",
      " 3.         2.         2.         2.64575131]\n"
     ]
    }
   ],
   "source": [
    "# abs 함수와 함께 이용할 경우 음수를 양수로 바꿔서 제곱근 계산 가능\n",
    "print(np.sqrt(np.abs(b)))"
   ]
  },
  {
   "cell_type": "code",
   "execution_count": 41,
   "id": "8ed7b638-83c0-4ab5-b51e-54bd93e02235",
   "metadata": {},
   "outputs": [
    {
     "name": "stdout",
     "output_type": "stream",
     "text": [
      "[ 1  4 25  9  0 49 81 16 16 49]\n"
     ]
    }
   ],
   "source": [
    "# square : 제곱을 구하는 함수\n",
    "print(np.square(b))"
   ]
  },
  {
   "cell_type": "code",
   "execution_count": 44,
   "id": "39675667-7533-4e52-b723-637926aa3e11",
   "metadata": {},
   "outputs": [
    {
     "name": "stdout",
     "output_type": "stream",
     "text": [
      "[False False False False False False False False False False]\n"
     ]
    }
   ],
   "source": [
    "# isnan : nan 값인지 여부를 묻는 함수\n",
    "print(np.isnan(b))"
   ]
  },
  {
   "cell_type": "code",
   "execution_count": 4,
   "id": "5c70e48c-fb5a-452d-bbda-a786c8d98548",
   "metadata": {},
   "outputs": [
    {
     "name": "stdout",
     "output_type": "stream",
     "text": [
      "[-1  2  5 -3  0  7 -9  4 -4 -7]\n",
      "[False False False False False False False False False False]\n"
     ]
    }
   ],
   "source": [
    "b=np.array([-1,2,5,-3,0,7,-9,4,-4,-7])\n",
    "print(b)\n",
    "print(np.isnan(b))"
   ]
  },
  {
   "cell_type": "code",
   "execution_count": 57,
   "id": "05684e2f-c210-49e1-a873-47c1072e8909",
   "metadata": {},
   "outputs": [
    {
     "name": "stdout",
     "output_type": "stream",
     "text": [
      "-6\n",
      "-0.6\n",
      "7\n",
      "-9\n",
      "5\n",
      "6\n"
     ]
    }
   ],
   "source": [
    "print(np.sum(b))  #합계\n",
    "print(np.mean(b)) #평균\n",
    "print(np.max(b)) #최댓값\n",
    "print(np.min(b)) #최솟값\n",
    "print(np.argmax(b)) # 최대값의 인덱스를 알려주는 함수\n",
    "print(np.argmin(b)) #최소값의 인덱스를 알려주는 함수"
   ]
  },
  {
   "cell_type": "code",
   "execution_count": 60,
   "id": "bbe31949-9dc8-4331-b1d3-bce00a2b732e",
   "metadata": {},
   "outputs": [
    {
     "name": "stdout",
     "output_type": "stream",
     "text": [
      "[-9 -7 -4 -3 -1  0  2  4  5  7]\n",
      "[ 7  5  4  2  0 -1 -3 -4 -7 -9]\n"
     ]
    }
   ],
   "source": [
    "print(np.sort(b)) # 정렬, 오름차순\n",
    "print(np.sort(b)[::-1]) #정렬, 내림차순/ 슬라이싱 활용"
   ]
  },
  {
   "cell_type": "code",
   "execution_count": 63,
   "id": "1d4039a7-9909-4f44-838e-92abd38e6a5e",
   "metadata": {},
   "outputs": [
    {
     "name": "stdout",
     "output_type": "stream",
     "text": [
      "-0.5\n"
     ]
    }
   ],
   "source": [
    "print(np.median(b)) #중간값"
   ]
  },
  {
   "cell_type": "code",
   "execution_count": 10,
   "id": "436fc2bc-93f4-4bff-8bd7-be1158c990ab",
   "metadata": {},
   "outputs": [
    {
     "name": "stdout",
     "output_type": "stream",
     "text": [
      "<class 'list'>\n",
      "[[1, 2, 3], [4, 5, 6]]\n",
      "<class 'numpy.ndarray'>\n",
      "[[1 2 3]\n",
      " [4 5 6]]\n"
     ]
    }
   ],
   "source": [
    "#2차원 데이터 만들기->리스트 형태로 만들 땐 대괄호 2개 사용\n",
    "c=[[1,2,3],[4,5,6]]    # 리스트 형태\n",
    "print(type(c))\n",
    "print(c)\n",
    "\n",
    "import numpy as np    # numpy를 np로 명명\n",
    "c=np.array(c)         # list 상태인 c를 numpy 형태로 변경\n",
    "print(type(c))        # c가 numpy 형태임을 알 수 있음\n",
    "print(c)"
   ]
  },
  {
   "cell_type": "code",
   "execution_count": 15,
   "id": "40479f3a-77a4-4a43-b692-b652c23aba4d",
   "metadata": {},
   "outputs": [
    {
     "name": "stdout",
     "output_type": "stream",
     "text": [
      "21\n",
      "[5 7 9]\n",
      "[ 6 15]\n"
     ]
    }
   ],
   "source": [
    "print(np.sum(c))    # 전체 합계 구하기\n",
    "print(np.sum(c,axis=0)) # axis : 어디를 더할지 정하는 옵션/ 0=행끼리 더함\n",
    "print(np.sum(c,axis=1)) # axis : 어디를 더할지 정하는 옵션/ 1=열끼리 더함"
   ]
  },
  {
   "cell_type": "code",
   "execution_count": 17,
   "id": "dcecd6d6-1749-4b3c-9e6c-667354ac15dc",
   "metadata": {},
   "outputs": [
    {
     "name": "stdout",
     "output_type": "stream",
     "text": [
      "3.5\n",
      "[2.5 3.5 4.5]\n",
      "[2. 5.]\n"
     ]
    }
   ],
   "source": [
    "print(np.mean(c)) #전체 평균 구하기\n",
    "print(np.mean(c, axis=0)) # 행끼리 평균\n",
    "print(np.mean(c, axis=1)) # 열끼리 평균"
   ]
  },
  {
   "cell_type": "code",
   "execution_count": 19,
   "id": "0e1631a7-88c0-4c14-b92f-d2f7c9f75b93",
   "metadata": {},
   "outputs": [
    {
     "name": "stdout",
     "output_type": "stream",
     "text": [
      "3.5\n",
      "[2.5 3.5 4.5]\n",
      "[2. 5.]\n"
     ]
    }
   ],
   "source": [
    "print(np.median(c)) # 전체 중간값\n",
    "print(np.median(c, axis=0)) #행끼리 중간값\n",
    "print(np.median(c, axis=1)) #열끼리 중간값"
   ]
  },
  {
   "cell_type": "code",
   "execution_count": 20,
   "id": "9cdd0bac-100a-4805-90b7-eec78bb8eaf9",
   "metadata": {},
   "outputs": [
    {
     "name": "stdout",
     "output_type": "stream",
     "text": [
      "6\n",
      "[4 5 6]\n",
      "[3 6]\n",
      "1\n",
      "[1 2 3]\n",
      "[1 4]\n"
     ]
    }
   ],
   "source": [
    "print(np.max(c)) #전체 최대값\n",
    "print(np.max(c, axis=0)) #행끼리 최대값\n",
    "print(np.max(c, axis=1)) #열끼리 최대값\n",
    "\n",
    "print(np.min(c)) #전체 최소값\n",
    "print(np.min(c, axis=0)) #행끼리 최소값\n",
    "print(np.min(c, axis=1)) #열끼리 최소값"
   ]
  },
  {
   "cell_type": "code",
   "execution_count": 21,
   "id": "2e8f3297-ccff-483c-aeae-81459c50f060",
   "metadata": {},
   "outputs": [
    {
     "name": "stdout",
     "output_type": "stream",
     "text": [
      "1.707825127659933\n",
      "2.9166666666666665\n"
     ]
    }
   ],
   "source": [
    "print(np.std(c))  #표준편차\n",
    "print(np.var(c))  #분산"
   ]
  },
  {
   "cell_type": "code",
   "execution_count": 27,
   "id": "a96a1557-d2ce-4874-9d61-ab0c0811b4bc",
   "metadata": {},
   "outputs": [
    {
     "name": "stdout",
     "output_type": "stream",
     "text": [
      "<class 'list'>\n",
      "[10 20 30 40 50]\n",
      "[12 22 32 42 52]\n"
     ]
    }
   ],
   "source": [
    "# element wise\n",
    "## 각각의 데이터를 요소(element)라고 함 -> 아래 데이터에서는 10, 20 각각이 요소\n",
    "d=[10,20,30,40,50]\n",
    "print(type(d))\n",
    "# print(d+2) => list 상태에서 실행할 경우 오류 발생(list 형태와 int 형태를 더할 수 없기 때문)\n",
    "d=np.array(d)\n",
    "print(d)\n",
    "print(d+2)  # 각각의 요소에 대해 연산 작업 가능(numpy이기 때문)"
   ]
  },
  {
   "cell_type": "code",
   "execution_count": 29,
   "id": "f5fb9541-837e-46c5-b2ed-ea520b870ed4",
   "metadata": {},
   "outputs": [
    {
     "name": "stdout",
     "output_type": "stream",
     "text": [
      "[11 22 33 44 55]\n"
     ]
    }
   ],
   "source": [
    "e=np.array([1,2,3,4,5])\n",
    "print(d+e)   # numpy 두개를 더할 수도 있음(단, 두 numpy 데이터의 수는 똑같아야 함)"
   ]
  },
  {
   "cell_type": "code",
   "execution_count": 31,
   "id": "7fa8cbce-b131-4345-9f93-70d996accf4f",
   "metadata": {},
   "outputs": [
    {
     "name": "stdout",
     "output_type": "stream",
     "text": [
      "[ 100  400  900 1600 2500]\n",
      "[ -5.44021111  18.25890501 -29.64094872  29.80452642 -13.11874269]\n"
     ]
    }
   ],
   "source": [
    "print(d**2)  #제곱\n",
    "print(d*np.sin(d))  #삼각함수"
   ]
  },
  {
   "cell_type": "code",
   "execution_count": 33,
   "id": "6e7584fd-0341-4e29-9d85-19037ad40567",
   "metadata": {},
   "outputs": [
    {
     "name": "stdout",
     "output_type": "stream",
     "text": [
      "[False False False  True  True]\n"
     ]
    }
   ],
   "source": [
    "print(d>35) #비교연산자는 결과값으로 논리값이 나옴, 각 요소가 35보다 크냐는 의미"
   ]
  },
  {
   "cell_type": "code",
   "execution_count": 34,
   "id": "b5a3f86b-d33a-417a-bbc3-2f0c3cf2c951",
   "metadata": {},
   "outputs": [
    {
     "name": "stdout",
     "output_type": "stream",
     "text": [
      "[11 22 33 44 55]\n",
      "[ 9 18 27 36 45]\n",
      "[ 10  40  90 160 250]\n",
      "[10. 10. 10. 10. 10.]\n"
     ]
    }
   ],
   "source": [
    "#연산 함수 사용하기\n",
    "print(np.add(d,e)) #더하기\n",
    "print(np.subtract(d,e)) #빼기\n",
    "print(np.multiply(d,e)) #곱하기\n",
    "print(np.divide(d,e)) #나누기"
   ]
  },
  {
   "cell_type": "code",
   "execution_count": 37,
   "id": "b0332f29-f852-4c15-af3d-97e1c1a17056",
   "metadata": {},
   "outputs": [
    {
     "name": "stdout",
     "output_type": "stream",
     "text": [
      "[[0 1]\n",
      " [1 1]]\n",
      "[[2 0]\n",
      " [3 4]]\n"
     ]
    }
   ],
   "source": [
    "f=np.array([[0,1],[1,1]])\n",
    "g=np.array([[2,0],[3,4]])\n",
    "print(f)\n",
    "print(g)"
   ]
  },
  {
   "cell_type": "code",
   "execution_count": 40,
   "id": "abbbe861-0fc0-48c9-ac04-093c73d60eb7",
   "metadata": {},
   "outputs": [
    {
     "name": "stdout",
     "output_type": "stream",
     "text": [
      "[[0 0]\n",
      " [3 4]]\n",
      "[[3 4]\n",
      " [5 4]]\n"
     ]
    }
   ],
   "source": [
    "print(f*g)   #각 요소의 곱 (동일한 위치의 값들을 곱함)\n",
    "print(f@g)   #행렬곱을 구하는 연산자"
   ]
  },
  {
   "cell_type": "code",
   "execution_count": 42,
   "id": "32d4f4a9-8180-4007-965a-6cf87ac0a418",
   "metadata": {},
   "outputs": [
    {
     "name": "stdout",
     "output_type": "stream",
     "text": [
      "[[3 4]\n",
      " [5 4]]\n",
      "[[3 4]\n",
      " [5 4]]\n"
     ]
    }
   ],
   "source": [
    "print(np.dot(f,g)) #행렬곱을 구하는 함수\n",
    "print(f.dot(g)) #행렬곱을 구하는 함수"
   ]
  },
  {
   "cell_type": "code",
   "execution_count": 44,
   "id": "87f7d4f0-3cbe-4227-b910-a800cd13ee3f",
   "metadata": {},
   "outputs": [
    {
     "name": "stdout",
     "output_type": "stream",
     "text": [
      "[0. 0. 0. 0. 0. 0. 0. 0. 0. 0.]\n"
     ]
    }
   ],
   "source": [
    "# 비어 있는 numpy 배열 만들기\n",
    "h=np.zeros(10)  #0으로 채워진 방 10개를 만들어줘\n",
    "print(h)"
   ]
  },
  {
   "cell_type": "code",
   "execution_count": 46,
   "id": "6cad5b3d-6f43-4b28-9db8-20fd1cb02fed",
   "metadata": {},
   "outputs": [
    {
     "name": "stdout",
     "output_type": "stream",
     "text": [
      "[[0. 0. 0. 0. 0.]\n",
      " [0. 0. 0. 0. 0.]\n",
      " [0. 0. 0. 0. 0.]\n",
      " [0. 0. 0. 0. 0.]\n",
      " [0. 0. 0. 0. 0.]]\n"
     ]
    }
   ],
   "source": [
    "# zeros로 2차원 데이터 만들기\n",
    "i=np.zeros((5,5)) #튜플로 데이터 부여 => 0으로 채워진 5행 5열 데이터 만들기\n",
    "print(i)"
   ]
  },
  {
   "cell_type": "code",
   "execution_count": 50,
   "id": "04f5b999-5c07-4c16-b417-f33cc53c6a3b",
   "metadata": {},
   "outputs": [
    {
     "name": "stdout",
     "output_type": "stream",
     "text": [
      "[1. 1. 1. 1. 1. 1. 1. 1. 1. 1.]\n",
      "[[1. 1. 1. 1. 1.]\n",
      " [1. 1. 1. 1. 1.]\n",
      " [1. 1. 1. 1. 1.]\n",
      " [1. 1. 1. 1. 1.]\n",
      " [1. 1. 1. 1. 1.]]\n"
     ]
    }
   ],
   "source": [
    "# ones : 1로 채워진 빈방 만들기\n",
    "j=np.ones(10)\n",
    "print(j)\n",
    "k=np.ones((5,5))  #튜플로 데이터 부여 => 1로 채워진 5행 5열 데이터 만들기\n",
    "print(k)"
   ]
  },
  {
   "cell_type": "code",
   "execution_count": 54,
   "id": "c8045da7-7bbe-446a-9d3c-b2ecf41af557",
   "metadata": {},
   "outputs": [
    {
     "name": "stdout",
     "output_type": "stream",
     "text": [
      "<class 'numpy.ndarray'>\n",
      "[0.47419378 0.52373338 0.27141553 0.28524676 0.06168268 0.91666963\n",
      " 0.19620387 0.3351834  0.95960998 0.71896358]\n"
     ]
    }
   ],
   "source": [
    "# 랜덤값으로 numpy 데이터 만들기\n",
    "## np.random.random   0~1 사이의 난수 발생\n",
    "## np.random.randint  균일 분포의 정수 난수 발생\n",
    "## np.random.rand     0~1 사이의 균일 분표 난수 matrix array 발생\n",
    "## np.random.randn    가우시안 표준 정규 분포 난수 matrix array 발생\n",
    "## np.random.nomral   평균, 표준편차, sample 개수\n",
    "\n",
    "l=np.random.random(10)\n",
    "print(type(l))\n",
    "print(l)"
   ]
  },
  {
   "cell_type": "code",
   "execution_count": 58,
   "id": "62c35948-14c1-4496-9207-1f420db56542",
   "metadata": {},
   "outputs": [
    {
     "name": "stdout",
     "output_type": "stream",
     "text": [
      "<class 'numpy.ndarray'>\n",
      "[76 16 35  9 69 48 76 28  6 47]\n"
     ]
    }
   ],
   "source": [
    "#0~100까지 값으로 만들기\n",
    "## 0.xxx 소수점으로 나온 값에 100을 곱해 십의 자리로 만든 후 소수점 자르기(=정수로 바꾸기)\n",
    "l=np.random.random(10)*100\n",
    "l=np.array([int(i) for i in l])\n",
    "print(type(l))\n",
    "print(l)"
   ]
  },
  {
   "cell_type": "code",
   "execution_count": 61,
   "id": "804dbb15-c694-4e9b-bfc2-b680ab625fe2",
   "metadata": {},
   "outputs": [
    {
     "name": "stdout",
     "output_type": "stream",
     "text": [
      "2\n",
      "12\n"
     ]
    }
   ],
   "source": [
    "print(np.random.randint(10))    #매개변수가 범위로 사용됨, 0~10사이의 랜덤값 1개 도출\n",
    "print(np.random.randint(10,20)) #10~20사이의 랜덤값 1개 도출"
   ]
  },
  {
   "cell_type": "code",
   "execution_count": 68,
   "id": "b1b3befc-bf7d-4c97-bb8c-a71f31ccba95",
   "metadata": {},
   "outputs": [
    {
     "name": "stdout",
     "output_type": "stream",
     "text": [
      "[10, 11, 12, 13, 14]\n",
      "[10, 12, 14]\n",
      "[10, 11, 12, 13, 14, 15, 16, 17]\n"
     ]
    }
   ],
   "source": [
    "# 슬라이싱\n",
    "# list\n",
    "m=[i for i in range(10,20)]\n",
    "print(m[0:5])  #[시작 : 끝-1 : 간격]\n",
    "print(m[0:5:2])\n",
    "print(m[:-2])"
   ]
  },
  {
   "cell_type": "code",
   "execution_count": 70,
   "id": "bd049049-e89f-4208-a520-d1e9a38021c8",
   "metadata": {},
   "outputs": [
    {
     "name": "stdout",
     "output_type": "stream",
     "text": [
      "[10 11 12 13 14]\n",
      "[10 12 14]\n",
      "[10 11 12 13 14 15 16 17]\n"
     ]
    }
   ],
   "source": [
    "# ndarray : numpy도 슬라이싱 가능\n",
    "## 1차원일 땐 list 슬라이싱과 동일\n",
    "w=np.arange(10,20)\n",
    "print(w[0:5])\n",
    "print(w[0:5:2])\n",
    "print(w[:-2])"
   ]
  },
  {
   "cell_type": "code",
   "execution_count": 72,
   "id": "6d8ae3d0-a490-4b78-8cc2-c63188ed4815",
   "metadata": {},
   "outputs": [
    {
     "name": "stdout",
     "output_type": "stream",
     "text": [
      "13\n"
     ]
    }
   ],
   "source": [
    "## 2차원일 때\n",
    "r=[[1,2,3,4,5],[6,7,8,9,10],[11,12,13,14,15]] #3행 5열짜리 2차원 리스트\n",
    "print(r[2][2])  # 인덱스가 (2,2)인 방에 있는 데이터"
   ]
  },
  {
   "cell_type": "code",
   "execution_count": 79,
   "id": "c0d3d93d-47d6-4711-b886-4912aae799b2",
   "metadata": {},
   "outputs": [
    {
     "name": "stdout",
     "output_type": "stream",
     "text": [
      "[[1, 2, 3, 4, 5], [6, 7, 8, 9, 10], [11, 12, 13, 14, 15]]\n",
      "[11, 12, 13, 14, 15]\n",
      "[6, 7]\n"
     ]
    }
   ],
   "source": [
    "print(r[:][:]) # 모든 데이터 출력\n",
    "print(r[2][:]) # 인덱스가 2인 행의 모든 데이터 출력\n",
    "print(r[1][:2]) # 인덱스가 1인 행의 처음부터 2개 데이터 출력\n"
   ]
  },
  {
   "cell_type": "code",
   "execution_count": 100,
   "id": "b29980fd-a8f6-4976-bc35-b7dae5029da4",
   "metadata": {},
   "outputs": [
    {
     "name": "stdout",
     "output_type": "stream",
     "text": [
      "[[1, 2, 3, 4, 5], [6, 7, 8, 9, 10]]\n",
      "[[1, 2, 3, 4, 5]]\n"
     ]
    }
   ],
   "source": [
    "#뒤에 오는 값이 무조건 열을 의미하는 것이 아님!!\n",
    "print(r[:2][:2]) # 인덱스가 0,1인 행을 뽑은 후 처음부터 2개의 행안에 있는 데이터 출력\n",
    "print(r[:2][:1])\n",
    "# print(r[:, :]) => list 상태에서는 오류 발생"
   ]
  },
  {
   "cell_type": "code",
   "execution_count": 94,
   "id": "76b57e56-63d1-47d1-8cb0-1aee822532cd",
   "metadata": {},
   "outputs": [
    {
     "name": "stdout",
     "output_type": "stream",
     "text": [
      "[[ 1  2  3  4  5]\n",
      " [ 6  7  8  9 10]\n",
      " [11 12 13 14 15]]\n"
     ]
    }
   ],
   "source": [
    "## 2차원 numpy인 경우 슬라이싱\n",
    "s=np.arange(1,16).reshape(3,5)  #1~15까지의 수를 3행 5열로 변환\n",
    "print(s)"
   ]
  },
  {
   "cell_type": "code",
   "execution_count": 95,
   "id": "a2635890-c2a7-43d3-b88c-0c98a5f0f901",
   "metadata": {},
   "outputs": [
    {
     "name": "stdout",
     "output_type": "stream",
     "text": [
      "13\n",
      "[[ 1  2  3  4  5]\n",
      " [ 6  7  8  9 10]\n",
      " [11 12 13 14 15]]\n",
      "[11 12 13 14 15]\n",
      "[6 7]\n",
      "[[1 2 3 4 5]]\n"
     ]
    }
   ],
   "source": [
    "print(s[2][2])\n",
    "print(s[:][:]) # 모든 데이터 출력\n",
    "print(s[2][:]) # 인덱스가 2인 행의 모든 데이터 출력\n",
    "print(s[1][:2])\n",
    "print(s[:2][:1])  # 2차원인 데이터에서 꺼내오기 때문에 대괄호 두개로 묶여 있음=2차원 데이터를 꺼내옴"
   ]
  },
  {
   "cell_type": "code",
   "execution_count": 105,
   "id": "3aa3c704-f5c8-4aaa-9fdd-2759dee1a7b9",
   "metadata": {},
   "outputs": [
    {
     "name": "stdout",
     "output_type": "stream",
     "text": [
      "[[1 2]\n",
      " [6 7]]\n",
      "[[ 1  2  3  4  5]\n",
      " [ 6  7  8  9 10]\n",
      " [11 12 13 14 15]]\n",
      "[[1 2 3 4]\n",
      " [6 7 8 9]]\n",
      "13\n",
      "[[15 14 13 12 11]\n",
      " [10  9  8  7  6]\n",
      " [ 5  4  3  2  1]]\n"
     ]
    }
   ],
   "source": [
    "print(s[:2, :2]) #앞의 2개 행에서 앞의 2개 열의 값을 꺼내옴\n",
    "print(s[:, :]) #모든 데이터 출력\n",
    "print(s[:-1, :-1]) #제일 마지막 행과 마지막 열 제외하고 출력\n",
    "print(s[2, 2]) # 2행에 2열 데이터\n",
    "print(s[::-1, ::-1]) # 행과 열을 거꾸로 출력"
   ]
  },
  {
   "cell_type": "code",
   "execution_count": 108,
   "id": "6d1674fd-d995-49d2-a8e9-7d7c0e007d30",
   "metadata": {},
   "outputs": [
    {
     "name": "stdout",
     "output_type": "stream",
     "text": [
      "[[ 1  2  3  4  5]\n",
      " [11 12 13 14 15]]\n"
     ]
    }
   ],
   "source": [
    "# 특정 행만 꺼내오기\n",
    "print(s[[0,2]]) #2차원으로 입력->인덱스가 0, 2인 행 데이터만 반환해줘"
   ]
  },
  {
   "cell_type": "code",
   "execution_count": 112,
   "id": "0b311e6d-ab03-4ec8-a155-79e1c18a5c58",
   "metadata": {},
   "outputs": [
    {
     "name": "stdout",
     "output_type": "stream",
     "text": [
      "[[ 2  4  5]\n",
      " [ 7  9 10]\n",
      " [12 14 15]]\n"
     ]
    }
   ],
   "source": [
    "# 특정 열만 꺼내오기\n",
    "print(s[:,[1,3,4]]) #행은 다 가져오되 인덱스가 1,3,4열만 가져와줘"
   ]
  },
  {
   "cell_type": "code",
   "execution_count": 115,
   "id": "a1a5a1db-cb1d-49eb-b8a2-2bbe98c0b1c7",
   "metadata": {},
   "outputs": [
    {
     "name": "stdout",
     "output_type": "stream",
     "text": [
      "[ 4 15]\n"
     ]
    }
   ],
   "source": [
    "# 특정 행과 열에 해당하는 데이터만 꺼내오기\n",
    "print(s[[0,2],[3,4]]) # 0행에 3열, 2행에 4열 데이터를 가져와줘"
   ]
  },
  {
   "cell_type": "code",
   "execution_count": 116,
   "id": "e2573180-d52e-49d2-9b63-1efcd0106d38",
   "metadata": {},
   "outputs": [
    {
     "name": "stdout",
     "output_type": "stream",
     "text": [
      "[[ 1  2  3  4  5]\n",
      " [ 6  7  8  9 10]\n",
      " [11 12 13 14 15]]\n",
      "[[ 1  6 11]\n",
      " [ 2  7 12]\n",
      " [ 3  8 13]\n",
      " [ 4  9 14]\n",
      " [ 5 10 15]]\n"
     ]
    }
   ],
   "source": [
    "#전치 행렬\n",
    "print(s) # 3행 5열\n",
    "print(s.T) # 행하고 열이 바뀜 -> 5행 3열"
   ]
  },
  {
   "cell_type": "code",
   "execution_count": 118,
   "id": "528b2783-3b9b-4a1d-ad8c-e80c2d800c74",
   "metadata": {},
   "outputs": [
    {
     "name": "stdout",
     "output_type": "stream",
     "text": [
      "(1, 4)\n",
      "(2, 5)\n",
      "(3, 6)\n"
     ]
    }
   ],
   "source": [
    "#결합/분리\n",
    "## zip : 2개의 list를 튜플로 묶어줌\n",
    "a=[1,2,3]\n",
    "b=[4,5,6]\n",
    "for ab in zip(a,b):\n",
    "    print(ab)"
   ]
  },
  {
   "cell_type": "code",
   "execution_count": null,
   "id": "3ca84960-f9a1-4325-8852-5090aa9ebf1a",
   "metadata": {},
   "outputs": [],
   "source": []
  },
  {
   "cell_type": "code",
   "execution_count": null,
   "id": "5d0fe4b3-032d-485d-8be4-33c54a4d09e2",
   "metadata": {},
   "outputs": [],
   "source": []
  },
  {
   "cell_type": "code",
   "execution_count": null,
   "id": "1012afcf-d263-44dd-9995-8bcb6d673191",
   "metadata": {},
   "outputs": [],
   "source": []
  },
  {
   "cell_type": "code",
   "execution_count": null,
   "id": "56e78342-772b-4c90-9bd4-5fab90234a83",
   "metadata": {},
   "outputs": [],
   "source": []
  }
 ],
 "metadata": {
  "kernelspec": {
   "display_name": "Python 3 (ipykernel)",
   "language": "python",
   "name": "python3"
  },
  "language_info": {
   "codemirror_mode": {
    "name": "ipython",
    "version": 3
   },
   "file_extension": ".py",
   "mimetype": "text/x-python",
   "name": "python",
   "nbconvert_exporter": "python",
   "pygments_lexer": "ipython3",
   "version": "3.12.4"
  }
 },
 "nbformat": 4,
 "nbformat_minor": 5
}
