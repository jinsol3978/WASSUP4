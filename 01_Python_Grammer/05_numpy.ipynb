{
 "cells": [
  {
   "cell_type": "markdown",
   "id": "f883cdb3-7336-4f3a-b378-5fd26e3c11bc",
   "metadata": {},
   "source": [
    "## Numpy"
   ]
  },
  {
   "cell_type": "markdown",
   "id": "26625280-66c4-4f2e-9776-70f2ae9adccd",
   "metadata": {},
   "source": [
    "### Numerical Python\n",
    "- 고성능 수치 계산을 위한 라이브러리\n",
    "- 벡터나 행렬 연산에 편리한 기능 제공\n",
    "- 모든 원소는 같은 자료형만 가능"
   ]
  },
  {
   "cell_type": "code",
   "execution_count": 5,
   "id": "087785dc-6749-4cf7-b386-379c56770cba",
   "metadata": {},
   "outputs": [
    {
     "name": "stdout",
     "output_type": "stream",
     "text": [
      "[ 0  1  2  3  4  5  6  7  8  9 10 11 12 13 14]\n",
      "[[ 0  1  2  3  4]\n",
      " [ 5  6  7  8  9]\n",
      " [10 11 12 13 14]]\n"
     ]
    }
   ],
   "source": [
    "## numpy 데이터 만들기(나열하는 방식) => arange(데이터를 나열하는 함수) 사용\n",
    "## 데이터를 나열한 후 2차원으로 바꾸기\n",
    "## reshape를 쓸 때는 데이터 수와 일치되도록 행, 열의 수를 지정 필요->안그러면 오류 발생\n",
    "import numpy as np # as : 별칭부여\n",
    "a=np.arange(15) # 0~14까지 나열->1차원 데이터\n",
    "print(a) # 1차원 데이터 반환\n",
    "a=a.reshape(3,5) # reshape : 차원을 변경/ 3행 5열 데이터로 변경\n",
    "print(a) # 2차원 데이터 반환"
   ]
  },
  {
   "cell_type": "code",
   "execution_count": 6,
   "id": "50d0e422-1719-4ada-964e-5b53c244bd94",
   "metadata": {},
   "outputs": [
    {
     "name": "stdout",
     "output_type": "stream",
     "text": [
      "[ 0  1  2  3  4  5  6  7  8  9 10 11 12 13 14]\n",
      "[[ 0  1  2  3  4]\n",
      " [ 5  6  7  8  9]\n",
      " [10 11 12 13 14]]\n",
      "<class 'numpy.ndarray'>\n",
      "(3, 5)\n"
     ]
    }
   ],
   "source": [
    "import numpy as np # as : 별칭부여\n",
    "a=np.arange(15) # 0~14까지 나열->1차원 데이터\n",
    "print(a) # 1차원 데이터 반환\n",
    "a=a.reshape(3,5) # reshape : 차원을 변경/ 3행 5열 데이터로 변경\n",
    "print(a) # 2차원 데이터 반환\n",
    "print(type(a))\n",
    "print(a.shape)"
   ]
  },
  {
   "cell_type": "code",
   "execution_count": 7,
   "id": "9f4ad964-ae32-43eb-b187-6b0a0aaf56f4",
   "metadata": {},
   "outputs": [
    {
     "name": "stdout",
     "output_type": "stream",
     "text": [
      "<class 'numpy.ndarray'>\n",
      "int32\n"
     ]
    }
   ],
   "source": [
    "print(type(a))\n",
    "print(a.dtype)"
   ]
  },
  {
   "cell_type": "code",
   "execution_count": 8,
   "id": "1c73d268-311a-4737-9123-f9461ced5bf1",
   "metadata": {},
   "outputs": [
    {
     "name": "stdout",
     "output_type": "stream",
     "text": [
      "2\n"
     ]
    }
   ],
   "source": [
    "print(a.ndim)"
   ]
  },
  {
   "cell_type": "code",
   "execution_count": 12,
   "id": "d026f449-53df-4591-a12a-5ec05b5b6fbc",
   "metadata": {},
   "outputs": [],
   "source": [
    "# print(dir(np))"
   ]
  },
  {
   "cell_type": "code",
   "execution_count": 15,
   "id": "e625e4b4-cb80-42ad-86b4-6b2a21a22e4c",
   "metadata": {},
   "outputs": [
    {
     "name": "stdout",
     "output_type": "stream",
     "text": [
      "[[ 0  3  6  9 12]\n",
      " [ 1  4  7 10 13]\n",
      " [ 2  5  8 11 14]]\n"
     ]
    }
   ],
   "source": [
    "import numpy as np\n",
    "a=np.arange(15)\n",
    "a=a.reshape(3,5,order='F')\n",
    "print(a)"
   ]
  },
  {
   "cell_type": "code",
   "execution_count": 25,
   "id": "2fd420fa-88a9-47fc-8a0a-3fcac98d68d1",
   "metadata": {},
   "outputs": [
    {
     "name": "stdout",
     "output_type": "stream",
     "text": [
      "<class 'numpy.ndarray'>\n",
      "[-1  2  5 -3  0  7 -9  4 -4 -7]\n"
     ]
    }
   ],
   "source": [
    "b=np.array([-1,2,5,-3,0,7,-9,4,-4,-7]) # List\n",
    "print(type(b))\n",
    "print(b)"
   ]
  },
  {
   "cell_type": "code",
   "execution_count": 24,
   "id": "a7bc82b8-8895-4f65-a7e3-9b9d7b4ce6fb",
   "metadata": {},
   "outputs": [
    {
     "name": "stdout",
     "output_type": "stream",
     "text": [
      "<class 'tuple'>\n",
      "<class 'numpy.ndarray'>\n"
     ]
    }
   ],
   "source": [
    "t=(10,20,30,40,50) # tuple\n",
    "print(type(t))\n",
    "t=np.array(t)\n",
    "print(type(t))"
   ]
  },
  {
   "cell_type": "code",
   "execution_count": 26,
   "id": "98c3945d-513c-41eb-b075-34d086e1662a",
   "metadata": {},
   "outputs": [
    {
     "name": "stdout",
     "output_type": "stream",
     "text": [
      "<class 'set'>\n",
      "<class 'numpy.ndarray'>\n"
     ]
    }
   ],
   "source": [
    "s= {10,20,30,40,50} # set\n",
    "print(type(s))\n",
    "s=np.array(s)\n",
    "print(type(s))"
   ]
  },
  {
   "cell_type": "code",
   "execution_count": 36,
   "id": "30d0c9f6-2055-4dd5-892c-d8cd5d22e748",
   "metadata": {},
   "outputs": [
    {
     "name": "stdout",
     "output_type": "stream",
     "text": [
      "[-1  2  5 -3  0  7 -9  4 -4 -7]\n",
      "[1 2 5 3 0 7 9 4 4 7]\n"
     ]
    }
   ],
   "source": [
    "# list에서 numpy로 변환한 변수 b 활용\n",
    "b=np.array([-1,2,5,-3,0,7,-9,4,-4,-7])\n",
    "print(b)\n",
    "\n",
    "# abs : 절대값 구하는 함수\n",
    "print(np.abs(b))"
   ]
  },
  {
   "cell_type": "code",
   "execution_count": 33,
   "id": "774608fb-3644-4cf7-bf0b-6aaee6d6763e",
   "metadata": {},
   "outputs": [
    {
     "name": "stdout",
     "output_type": "stream",
     "text": [
      "(10,)\n",
      "1\n",
      "int32\n",
      "[-1  2  5 -3  0  7 -9  4 -4 -7]\n"
     ]
    }
   ],
   "source": [
    "print(b.shape)\n",
    "print(b.ndim)\n",
    "print(b.dtype)\n",
    "print(b)\n",
    "\n",
    "# print(help(np.arange))"
   ]
  },
  {
   "cell_type": "code",
   "execution_count": 52,
   "id": "48d10392-62d9-4b4b-a9eb-bbc2f78b52b7",
   "metadata": {},
   "outputs": [
    {
     "name": "stdout",
     "output_type": "stream",
     "text": [
      "[-1  2  5 -3  0  7 -9  4 -4 -7]\n",
      "[       nan 1.41421356 2.23606798        nan 0.         2.64575131\n",
      "        nan 2.                nan        nan]\n"
     ]
    },
    {
     "name": "stderr",
     "output_type": "stream",
     "text": [
      "C:\\Users\\ae397\\AppData\\Local\\Temp\\ipykernel_13324\\4005714368.py:5: RuntimeWarning: invalid value encountered in sqrt\n",
      "  print(np.sqrt(b))\n"
     ]
    }
   ],
   "source": [
    "b=np.array([-1,2,5,-3,0,7,-9,4,-4,-7])\n",
    "print(b)\n",
    "\n",
    "# sqrt : 제곱근을 구하는 함수 -> 음수는 계산할 수 없기 때문에 \"nan\"으로 출력됨\n",
    "print(np.sqrt(b))"
   ]
  },
  {
   "cell_type": "code",
   "execution_count": 50,
   "id": "5bf40253-b1bc-4cfb-85db-6f8f5857448e",
   "metadata": {},
   "outputs": [
    {
     "name": "stdout",
     "output_type": "stream",
     "text": [
      "[1.         1.41421356 2.23606798 1.73205081 0.         2.64575131\n",
      " 3.         2.         2.         2.64575131]\n"
     ]
    }
   ],
   "source": [
    "# abs 함수와 함께 이용할 경우 음수를 양수로 바꿔서 제곱근 계산 가능\n",
    "print(np.sqrt(np.abs(b)))"
   ]
  },
  {
   "cell_type": "code",
   "execution_count": 41,
   "id": "8ed7b638-83c0-4ab5-b51e-54bd93e02235",
   "metadata": {},
   "outputs": [
    {
     "name": "stdout",
     "output_type": "stream",
     "text": [
      "[ 1  4 25  9  0 49 81 16 16 49]\n"
     ]
    }
   ],
   "source": [
    "# square : 제곱을 구하는 함수\n",
    "print(np.square(b))"
   ]
  },
  {
   "cell_type": "code",
   "execution_count": 44,
   "id": "39675667-7533-4e52-b723-637926aa3e11",
   "metadata": {},
   "outputs": [
    {
     "name": "stdout",
     "output_type": "stream",
     "text": [
      "[False False False False False False False False False False]\n"
     ]
    }
   ],
   "source": [
    "# isnan : nan 값인지 여부를 묻는 함수\n",
    "print(np.isnan(b))"
   ]
  },
  {
   "cell_type": "code",
   "execution_count": 48,
   "id": "5c70e48c-fb5a-452d-bbda-a786c8d98548",
   "metadata": {},
   "outputs": [
    {
     "name": "stdout",
     "output_type": "stream",
     "text": [
      "[-1  2  5 -3  0  7 -9  4 -4 -7]\n",
      "[False False False False False False False False False False]\n"
     ]
    }
   ],
   "source": [
    "b=np.array([-1,2,5,-3,0,7,-9,4,-4,-7])\n",
    "print(b)\n",
    "print(np.isnan(b))"
   ]
  },
  {
   "cell_type": "code",
   "execution_count": 57,
   "id": "05684e2f-c210-49e1-a873-47c1072e8909",
   "metadata": {},
   "outputs": [
    {
     "name": "stdout",
     "output_type": "stream",
     "text": [
      "-6\n",
      "-0.6\n",
      "7\n",
      "-9\n",
      "5\n",
      "6\n"
     ]
    }
   ],
   "source": [
    "print(np.sum(b))  #합계\n",
    "print(np.mean(b)) #평균\n",
    "print(np.max(b)) #최댓값\n",
    "print(np.min(b)) #최솟값\n",
    "print(np.argmax(b)) # 최대값의 인덱스를 알려주는 함수\n",
    "print(np.argmin(b)) #최소값의 인덱스를 알려주는 함수"
   ]
  },
  {
   "cell_type": "code",
   "execution_count": 60,
   "id": "bbe31949-9dc8-4331-b1d3-bce00a2b732e",
   "metadata": {},
   "outputs": [
    {
     "name": "stdout",
     "output_type": "stream",
     "text": [
      "[-9 -7 -4 -3 -1  0  2  4  5  7]\n",
      "[ 7  5  4  2  0 -1 -3 -4 -7 -9]\n"
     ]
    }
   ],
   "source": [
    "print(np.sort(b)) # 정렬, 오름차순\n",
    "print(np.sort(b)[::-1]) #정렬, 내림차순/ 슬라이싱 활용"
   ]
  },
  {
   "cell_type": "code",
   "execution_count": 63,
   "id": "1d4039a7-9909-4f44-838e-92abd38e6a5e",
   "metadata": {},
   "outputs": [
    {
     "name": "stdout",
     "output_type": "stream",
     "text": [
      "-0.5\n"
     ]
    }
   ],
   "source": [
    "print(np.median(b)) #중간값"
   ]
  },
  {
   "cell_type": "code",
   "execution_count": null,
   "id": "436fc2bc-93f4-4bff-8bd7-be1158c990ab",
   "metadata": {},
   "outputs": [],
   "source": []
  },
  {
   "cell_type": "code",
   "execution_count": null,
   "id": "40479f3a-77a4-4a43-b692-b652c23aba4d",
   "metadata": {},
   "outputs": [],
   "source": []
  },
  {
   "cell_type": "code",
   "execution_count": null,
   "id": "dcecd6d6-1749-4b3c-9e6c-667354ac15dc",
   "metadata": {},
   "outputs": [],
   "source": []
  },
  {
   "cell_type": "code",
   "execution_count": null,
   "id": "0e1631a7-88c0-4c14-b92f-d2f7c9f75b93",
   "metadata": {},
   "outputs": [],
   "source": []
  },
  {
   "cell_type": "code",
   "execution_count": null,
   "id": "9cdd0bac-100a-4805-90b7-eec78bb8eaf9",
   "metadata": {},
   "outputs": [],
   "source": []
  },
  {
   "cell_type": "code",
   "execution_count": null,
   "id": "2e8f3297-ccff-483c-aeae-81459c50f060",
   "metadata": {},
   "outputs": [],
   "source": []
  },
  {
   "cell_type": "code",
   "execution_count": null,
   "id": "1b3f76c7-e50d-40ff-acea-be1acfb94099",
   "metadata": {},
   "outputs": [],
   "source": []
  },
  {
   "cell_type": "code",
   "execution_count": null,
   "id": "a96a1557-d2ce-4874-9d61-ab0c0811b4bc",
   "metadata": {},
   "outputs": [],
   "source": []
  }
 ],
 "metadata": {
  "kernelspec": {
   "display_name": "Python 3 (ipykernel)",
   "language": "python",
   "name": "python3"
  },
  "language_info": {
   "codemirror_mode": {
    "name": "ipython",
    "version": 3
   },
   "file_extension": ".py",
   "mimetype": "text/x-python",
   "name": "python",
   "nbconvert_exporter": "python",
   "pygments_lexer": "ipython3",
   "version": "3.12.4"
  }
 },
 "nbformat": 4,
 "nbformat_minor": 5
}
