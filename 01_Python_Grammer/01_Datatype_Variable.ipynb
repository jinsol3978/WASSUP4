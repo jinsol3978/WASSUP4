{
 "cells": [
  {
   "cell_type": "markdown",
   "id": "ef7e4881-c66e-42e2-a181-c219f0eaed6c",
   "metadata": {},
   "source": [
    "# 변수와 자료형"
   ]
  },
  {
   "cell_type": "markdown",
   "id": "a126a786-c161-4e3d-b50d-3ea54b9a894c",
   "metadata": {},
   "source": [
    "## 자료형의 값을 저장하는 공간, 변수"
   ]
  },
  {
   "cell_type": "code",
   "execution_count": 3,
   "id": "500342ab-d0cd-4e71-a0ee-f83497400678",
   "metadata": {},
   "outputs": [
    {
     "name": "stdout",
     "output_type": "stream",
     "text": [
      "1\n"
     ]
    }
   ],
   "source": [
    "a=1\n",
    "print(a)"
   ]
  },
  {
   "cell_type": "code",
   "execution_count": 4,
   "id": "2fe08d0e-cae8-4c90-b16e-4bfba7dfde2e",
   "metadata": {},
   "outputs": [
    {
     "data": {
      "text/plain": [
       "'python'"
      ]
     },
     "execution_count": 4,
     "metadata": {},
     "output_type": "execute_result"
    }
   ],
   "source": [
    "b = 'python'\n",
    "b"
   ]
  },
  {
   "cell_type": "code",
   "execution_count": 46,
   "id": "98ce0ffc-8a07-4103-ac7f-3e01ec454964",
   "metadata": {},
   "outputs": [
    {
     "name": "stdout",
     "output_type": "stream",
     "text": [
      "python\n"
     ]
    }
   ],
   "source": [
    "b = 'python'\n",
    "print(b)"
   ]
  },
  {
   "cell_type": "code",
   "execution_count": 5,
   "id": "9b5750bb-fee5-4ac6-bdb9-ee9a01349012",
   "metadata": {},
   "outputs": [
    {
     "data": {
      "text/plain": [
       "[1, 2, 3]"
      ]
     },
     "execution_count": 5,
     "metadata": {},
     "output_type": "execute_result"
    }
   ],
   "source": [
    "c=[1,2,3]\n",
    "c"
   ]
  },
  {
   "cell_type": "code",
   "execution_count": 179,
   "id": "b39d429c-763b-4d6b-a882-96459e924990",
   "metadata": {},
   "outputs": [
    {
     "data": {
      "text/plain": [
       "[1, 2, 3]"
      ]
     },
     "execution_count": 179,
     "metadata": {},
     "output_type": "execute_result"
    }
   ],
   "source": [
    "a=[1,2,3]\n",
    "a"
   ]
  },
  {
   "cell_type": "code",
   "execution_count": 181,
   "id": "eddcf973-d513-4668-920f-74225da0bc2d",
   "metadata": {},
   "outputs": [
    {
     "data": {
      "text/plain": [
       "2320902570880"
      ]
     },
     "execution_count": 181,
     "metadata": {},
     "output_type": "execute_result"
    }
   ],
   "source": [
    "# a 변수가 가리키는 메모리의 주소 출력 id\n",
    "id(a)"
   ]
  },
  {
   "cell_type": "code",
   "execution_count": 188,
   "id": "1485c62b-4768-4dda-bc0a-d935695aa9f9",
   "metadata": {},
   "outputs": [
    {
     "data": {
      "text/plain": [
       "[1, 9, 3]"
      ]
     },
     "execution_count": 188,
     "metadata": {},
     "output_type": "execute_result"
    }
   ],
   "source": [
    "# a를 b에 바인딩\n",
    "b=a\n",
    "b"
   ]
  },
  {
   "cell_type": "code",
   "execution_count": 184,
   "id": "2fe399ca-c830-4d10-a626-769e767611c8",
   "metadata": {},
   "outputs": [
    {
     "data": {
      "text/plain": [
       "2320902570880"
      ]
     },
     "execution_count": 184,
     "metadata": {},
     "output_type": "execute_result"
    }
   ],
   "source": [
    "# a와 b의 메모리 주소가 동일->복제된 게 아니라 상대참조!\n",
    "id(b)"
   ]
  },
  {
   "cell_type": "code",
   "execution_count": 187,
   "id": "8faaa5f0-4e68-436e-a48f-f0daab42f244",
   "metadata": {},
   "outputs": [
    {
     "data": {
      "text/plain": [
       "[1, 9, 3]"
      ]
     },
     "execution_count": 187,
     "metadata": {},
     "output_type": "execute_result"
    }
   ],
   "source": [
    "# 복제가 아니라 상대참조이기 때문에 b 수정 시 a 값도 수정됨\n",
    "b[1]=9\n",
    "b"
   ]
  },
  {
   "cell_type": "code",
   "execution_count": 186,
   "id": "26c56d29-39e8-452a-ab81-404c202ee40f",
   "metadata": {},
   "outputs": [
    {
     "data": {
      "text/plain": [
       "[1, 9, 3]"
      ]
     },
     "execution_count": 186,
     "metadata": {},
     "output_type": "execute_result"
    }
   ],
   "source": [
    "a"
   ]
  },
  {
   "cell_type": "code",
   "execution_count": 190,
   "id": "792fd558-270b-4fca-a568-10f2c8aea90f",
   "metadata": {},
   "outputs": [
    {
     "data": {
      "text/plain": [
       "True"
      ]
     },
     "execution_count": 190,
     "metadata": {},
     "output_type": "execute_result"
    }
   ],
   "source": [
    "# a가 b이니?\n",
    "a is b"
   ]
  },
  {
   "cell_type": "markdown",
   "id": "35121a11-89cc-4f43-8611-8c10bac3caf8",
   "metadata": {},
   "source": [
    "### 변수 다루기"
   ]
  },
  {
   "cell_type": "code",
   "execution_count": 191,
   "id": "540b9ef2-7019-432a-a7ed-c18694bc6a51",
   "metadata": {},
   "outputs": [
    {
     "data": {
      "text/plain": [
       "([1, 9, 3], [1, 9, 3])"
      ]
     },
     "execution_count": 191,
     "metadata": {},
     "output_type": "execute_result"
    }
   ],
   "source": [
    "a, a[:]"
   ]
  },
  {
   "cell_type": "code",
   "execution_count": 199,
   "id": "0197ab08-fba3-48dd-be27-becc72009121",
   "metadata": {},
   "outputs": [
    {
     "data": {
      "text/plain": [
       "[1, 9, 3]"
      ]
     },
     "execution_count": 199,
     "metadata": {},
     "output_type": "execute_result"
    }
   ],
   "source": [
    "# b=a와는 다르게 a의 값을 뽑아서 b에 바인딩함\n",
    "# b=a : 얇은 copy???, b=a[:] -> deep copy\n",
    "b=a[:]\n",
    "b"
   ]
  },
  {
   "cell_type": "code",
   "execution_count": 196,
   "id": "5ce4073a-a905-495b-b573-477f97b61e36",
   "metadata": {},
   "outputs": [
    {
     "data": {
      "text/plain": [
       "2320906943552"
      ]
     },
     "execution_count": 196,
     "metadata": {},
     "output_type": "execute_result"
    }
   ],
   "source": [
    "# 따라서 b=a와 달리 별도의 변수로 인식->메모리 주소가 달라짐\n",
    "id(b)"
   ]
  },
  {
   "cell_type": "code",
   "execution_count": 195,
   "id": "5c0fa0ce-e6a4-4bc5-b1fb-684654dc933b",
   "metadata": {},
   "outputs": [
    {
     "data": {
      "text/plain": [
       "False"
      ]
     },
     "execution_count": 195,
     "metadata": {},
     "output_type": "execute_result"
    }
   ],
   "source": [
    "a is b"
   ]
  },
  {
   "cell_type": "code",
   "execution_count": 198,
   "id": "6663f4da-2166-4ff7-8017-1f76e7d48e29",
   "metadata": {},
   "outputs": [
    {
     "data": {
      "text/plain": [
       "[9, 9, 3]"
      ]
     },
     "execution_count": 198,
     "metadata": {},
     "output_type": "execute_result"
    }
   ],
   "source": [
    "# 수정해도 원본에 영향을 미치지 않음\n",
    "b[0]=9\n",
    "b"
   ]
  },
  {
   "cell_type": "code",
   "execution_count": 200,
   "id": "6ecea6b0-207b-431b-9281-8cbea44a1370",
   "metadata": {},
   "outputs": [
    {
     "data": {
      "text/plain": [
       "([1, 2, 3], [1, 2, 3])"
      ]
     },
     "execution_count": 200,
     "metadata": {},
     "output_type": "execute_result"
    }
   ],
   "source": [
    "# copy 모듈 이용하기\n",
    "from copy import copy\n",
    "a=[1,2,3]\n",
    "b=copy(a)\n",
    "a,b"
   ]
  },
  {
   "cell_type": "code",
   "execution_count": 201,
   "id": "7497bad5-3822-4aa1-a0bc-d66e54ca058c",
   "metadata": {},
   "outputs": [
    {
     "data": {
      "text/plain": [
       "(2320895831040, 2320877452544)"
      ]
     },
     "execution_count": 201,
     "metadata": {},
     "output_type": "execute_result"
    }
   ],
   "source": [
    "id(a), id(b)"
   ]
  },
  {
   "cell_type": "code",
   "execution_count": 202,
   "id": "1e23f1d9-4029-4579-9c97-3fc1deb5ce60",
   "metadata": {},
   "outputs": [
    {
     "data": {
      "text/plain": [
       "False"
      ]
     },
     "execution_count": 202,
     "metadata": {},
     "output_type": "execute_result"
    }
   ],
   "source": [
    "a is b"
   ]
  },
  {
   "cell_type": "code",
   "execution_count": 203,
   "id": "e13093b8-0377-46cd-a8eb-3f0a9527c1b4",
   "metadata": {},
   "outputs": [
    {
     "data": {
      "text/plain": [
       "False"
      ]
     },
     "execution_count": 203,
     "metadata": {},
     "output_type": "execute_result"
    }
   ],
   "source": [
    "c=a.copy()\n",
    "a is c"
   ]
  },
  {
   "cell_type": "markdown",
   "id": "d0321ef9-e2f3-41bc-a418-9ae41536323f",
   "metadata": {},
   "source": [
    "### 변수 만드는 방법"
   ]
  },
  {
   "cell_type": "code",
   "execution_count": 207,
   "id": "207996b5-b4ef-4c9d-a995-fc47412262b9",
   "metadata": {},
   "outputs": [],
   "source": [
    "# 원래 튜플을 인덱싱할라면 list로 변환 후 뽑아야 함\n",
    "# 하지만 변수로 지정할 경우 바로 출력 가능\n",
    "a,b=('python', 'life')"
   ]
  },
  {
   "cell_type": "code",
   "execution_count": 208,
   "id": "f9c051d4-c3a0-42ba-8086-6d4ad3d2dccc",
   "metadata": {},
   "outputs": [
    {
     "data": {
      "text/plain": [
       "'python'"
      ]
     },
     "execution_count": 208,
     "metadata": {},
     "output_type": "execute_result"
    }
   ],
   "source": [
    "a"
   ]
  },
  {
   "cell_type": "code",
   "execution_count": 209,
   "id": "e044e868-b230-449e-bc18-3b2e514b1816",
   "metadata": {},
   "outputs": [
    {
     "data": {
      "text/plain": [
       "'life'"
      ]
     },
     "execution_count": 209,
     "metadata": {},
     "output_type": "execute_result"
    }
   ],
   "source": [
    "b"
   ]
  },
  {
   "cell_type": "code",
   "execution_count": 210,
   "id": "718137c5-0c4a-4226-87aa-f7c9d8da02cf",
   "metadata": {},
   "outputs": [],
   "source": [
    "[a,b]=['python','life']"
   ]
  },
  {
   "cell_type": "code",
   "execution_count": 211,
   "id": "08e5d519-fc98-43e9-beee-6cf67dcbb13a",
   "metadata": {},
   "outputs": [
    {
     "data": {
      "text/plain": [
       "'python'"
      ]
     },
     "execution_count": 211,
     "metadata": {},
     "output_type": "execute_result"
    }
   ],
   "source": [
    "a"
   ]
  },
  {
   "cell_type": "code",
   "execution_count": 212,
   "id": "b373a781-1352-4099-96e9-e1d8b041fe0e",
   "metadata": {},
   "outputs": [
    {
     "data": {
      "text/plain": [
       "'life'"
      ]
     },
     "execution_count": 212,
     "metadata": {},
     "output_type": "execute_result"
    }
   ],
   "source": [
    "b"
   ]
  },
  {
   "cell_type": "code",
   "execution_count": 213,
   "id": "33de0312-a37d-4946-8e07-702b55202504",
   "metadata": {},
   "outputs": [],
   "source": [
    "a=b='python'"
   ]
  },
  {
   "cell_type": "code",
   "execution_count": 214,
   "id": "7fca5bb8-e418-47e0-bbbe-4f05c91a4eb0",
   "metadata": {},
   "outputs": [
    {
     "data": {
      "text/plain": [
       "'python'"
      ]
     },
     "execution_count": 214,
     "metadata": {},
     "output_type": "execute_result"
    }
   ],
   "source": [
    "b"
   ]
  },
  {
   "cell_type": "code",
   "execution_count": 215,
   "id": "3a93ad06-fca5-4585-b1fb-fc90a2635414",
   "metadata": {},
   "outputs": [
    {
     "data": {
      "text/plain": [
       "'python'"
      ]
     },
     "execution_count": 215,
     "metadata": {},
     "output_type": "execute_result"
    }
   ],
   "source": [
    "a"
   ]
  },
  {
   "cell_type": "code",
   "execution_count": 216,
   "id": "053bd0c7-3afc-468d-84d7-9dc93589276a",
   "metadata": {},
   "outputs": [],
   "source": [
    "a=3\n",
    "b=5\n",
    "a, b=b,a"
   ]
  },
  {
   "cell_type": "code",
   "execution_count": 217,
   "id": "2b2308c7-76bb-474e-9172-3bcaf484d546",
   "metadata": {},
   "outputs": [
    {
     "data": {
      "text/plain": [
       "5"
      ]
     },
     "execution_count": 217,
     "metadata": {},
     "output_type": "execute_result"
    }
   ],
   "source": [
    "a"
   ]
  },
  {
   "cell_type": "code",
   "execution_count": 218,
   "id": "e02d0ac6-58ad-49df-ac72-561eb8558810",
   "metadata": {},
   "outputs": [
    {
     "data": {
      "text/plain": [
       "3"
      ]
     },
     "execution_count": 218,
     "metadata": {},
     "output_type": "execute_result"
    }
   ],
   "source": [
    "b"
   ]
  },
  {
   "cell_type": "markdown",
   "id": "7b94e863-b195-402c-a19c-7a4605d934b5",
   "metadata": {},
   "source": [
    "## 숫자형"
   ]
  },
  {
   "cell_type": "code",
   "execution_count": 6,
   "id": "b3815b4e-f6b7-4d86-9f68-f7ce63dc127f",
   "metadata": {},
   "outputs": [
    {
     "data": {
      "text/plain": [
       "123"
      ]
     },
     "execution_count": 6,
     "metadata": {},
     "output_type": "execute_result"
    }
   ],
   "source": [
    "# 정수형\n",
    "a=123\n",
    "a"
   ]
  },
  {
   "cell_type": "code",
   "execution_count": 7,
   "id": "d4a0705c-e350-442d-83f7-745e1be06331",
   "metadata": {},
   "outputs": [
    {
     "data": {
      "text/plain": [
       "-178"
      ]
     },
     "execution_count": 7,
     "metadata": {},
     "output_type": "execute_result"
    }
   ],
   "source": [
    "a=-178\n",
    "a"
   ]
  },
  {
   "cell_type": "code",
   "execution_count": 8,
   "id": "06c3a238-57d3-48fa-85d4-7b6171fe709a",
   "metadata": {},
   "outputs": [
    {
     "data": {
      "text/plain": [
       "0"
      ]
     },
     "execution_count": 8,
     "metadata": {},
     "output_type": "execute_result"
    }
   ],
   "source": [
    "a=0\n",
    "a"
   ]
  },
  {
   "cell_type": "code",
   "execution_count": 9,
   "id": "5391d16e-5d96-4941-b584-eee34a5c27e3",
   "metadata": {},
   "outputs": [
    {
     "data": {
      "text/plain": [
       "(1.2, -2.45)"
      ]
     },
     "execution_count": 9,
     "metadata": {},
     "output_type": "execute_result"
    }
   ],
   "source": [
    "# 실수형\n",
    "a=1.2\n",
    "b=-2.45\n",
    "a,b"
   ]
  },
  {
   "cell_type": "code",
   "execution_count": 17,
   "id": "eb05ccd6-4765-4158-a623-070918bd43b1",
   "metadata": {},
   "outputs": [
    {
     "data": {
      "text/plain": [
       "42400000000.0"
      ]
     },
     "execution_count": 17,
     "metadata": {},
     "output_type": "execute_result"
    }
   ],
   "source": [
    "a=4.24E10\n",
    "a"
   ]
  },
  {
   "cell_type": "code",
   "execution_count": 19,
   "id": "c4d8fe61-2d24-4557-a197-cc4270ca9f23",
   "metadata": {},
   "outputs": [
    {
     "data": {
      "text/plain": [
       "4.24e-10"
      ]
     },
     "execution_count": 19,
     "metadata": {},
     "output_type": "execute_result"
    }
   ],
   "source": [
    "a=4.24E-10\n",
    "a"
   ]
  },
  {
   "cell_type": "code",
   "execution_count": 20,
   "id": "12fd7a31-bf2a-405d-8b36-2b44fa79a438",
   "metadata": {},
   "outputs": [
    {
     "name": "stdout",
     "output_type": "stream",
     "text": [
      "127\n"
     ]
    }
   ],
   "source": [
    "# 8진수와 16지수\n",
    "a = 0o177\n",
    "print(a)"
   ]
  },
  {
   "cell_type": "code",
   "execution_count": 21,
   "id": "b4c703e2-339d-4f1b-b443-0b8d48fe3be6",
   "metadata": {},
   "outputs": [
    {
     "data": {
      "text/plain": [
       "(2303, 2748)"
      ]
     },
     "execution_count": 21,
     "metadata": {},
     "output_type": "execute_result"
    }
   ],
   "source": [
    "a = 0x8ff\n",
    "b = 0xABC\n",
    "a, b"
   ]
  },
  {
   "cell_type": "markdown",
   "id": "9db95476-f6a9-46ee-9d43-4b25dcc51b53",
   "metadata": {},
   "source": [
    "## 연산자"
   ]
  },
  {
   "cell_type": "code",
   "execution_count": 22,
   "id": "e5e5630d-0eaf-449c-bf6a-6ddecc9ee872",
   "metadata": {},
   "outputs": [
    {
     "data": {
      "text/plain": [
       "7"
      ]
     },
     "execution_count": 22,
     "metadata": {},
     "output_type": "execute_result"
    }
   ],
   "source": [
    "a=3\n",
    "b=4\n",
    "a+b"
   ]
  },
  {
   "cell_type": "code",
   "execution_count": 23,
   "id": "9a6987bb-878d-4a5c-8a4a-85d37452e699",
   "metadata": {},
   "outputs": [
    {
     "data": {
      "text/plain": [
       "(-1, 12, 0.75)"
      ]
     },
     "execution_count": 23,
     "metadata": {},
     "output_type": "execute_result"
    }
   ],
   "source": [
    "a-b, a*b, a/b"
   ]
  },
  {
   "cell_type": "code",
   "execution_count": 24,
   "id": "3f32f075-67b4-43cf-8d7b-7e627b203e7a",
   "metadata": {},
   "outputs": [
    {
     "data": {
      "text/plain": [
       "81"
      ]
     },
     "execution_count": 24,
     "metadata": {},
     "output_type": "execute_result"
    }
   ],
   "source": [
    "# x의 y제곱을 나타내는 ** 연산자\n",
    "a**b"
   ]
  },
  {
   "cell_type": "code",
   "execution_count": 25,
   "id": "8fde992f-838a-43af-9b64-ddac5b928830",
   "metadata": {},
   "outputs": [
    {
     "data": {
      "text/plain": [
       "(1, 3)"
      ]
     },
     "execution_count": 25,
     "metadata": {},
     "output_type": "execute_result"
    }
   ],
   "source": [
    "# 나눗셈 후 나머지를 리턴하는 % 연산자\n",
    "7%3, 3%7"
   ]
  },
  {
   "cell_type": "code",
   "execution_count": 26,
   "id": "392416a9-8fa5-4b07-9677-88efe673dcce",
   "metadata": {},
   "outputs": [
    {
     "data": {
      "text/plain": [
       "1"
      ]
     },
     "execution_count": 26,
     "metadata": {},
     "output_type": "execute_result"
    }
   ],
   "source": [
    "# 나눗셈 후 몫을 리턴하는 // 연산자\n",
    "7//4"
   ]
  },
  {
   "cell_type": "code",
   "execution_count": 27,
   "id": "c9d9cc63-1227-4228-baa2-164933d82517",
   "metadata": {},
   "outputs": [
    {
     "data": {
      "text/plain": [
       "4"
      ]
     },
     "execution_count": 27,
     "metadata": {},
     "output_type": "execute_result"
    }
   ],
   "source": [
    "# 복합 연산자\n",
    "a=a+1\n",
    "a"
   ]
  },
  {
   "cell_type": "code",
   "execution_count": 28,
   "id": "e2e4a574-6a77-4f14-bd70-db35f302cd39",
   "metadata": {},
   "outputs": [
    {
     "data": {
      "text/plain": [
       "5"
      ]
     },
     "execution_count": 28,
     "metadata": {},
     "output_type": "execute_result"
    }
   ],
   "source": [
    "a+=1\n",
    "a"
   ]
  },
  {
   "cell_type": "code",
   "execution_count": 29,
   "id": "b65a61c8-e69b-4546-b76d-1a6d51f5adfb",
   "metadata": {},
   "outputs": [
    {
     "data": {
      "text/plain": [
       "4"
      ]
     },
     "execution_count": 29,
     "metadata": {},
     "output_type": "execute_result"
    }
   ],
   "source": [
    "a-=1\n",
    "a"
   ]
  },
  {
   "cell_type": "code",
   "execution_count": null,
   "id": "850b0614-df38-410c-ae76-ddcba660e37a",
   "metadata": {},
   "outputs": [],
   "source": []
  },
  {
   "cell_type": "markdown",
   "id": "554ac12a-0952-4fd6-bb43-8247067399e3",
   "metadata": {},
   "source": [
    "## 문자열"
   ]
  },
  {
   "cell_type": "code",
   "execution_count": 31,
   "id": "23166d90-ddf2-4b06-ab53-b6294753c513",
   "metadata": {},
   "outputs": [
    {
     "data": {
      "text/plain": [
       "'Hello World'"
      ]
     },
     "execution_count": 31,
     "metadata": {},
     "output_type": "execute_result"
    }
   ],
   "source": [
    "\"Hello World\""
   ]
  },
  {
   "cell_type": "code",
   "execution_count": 32,
   "id": "76f429ad-436d-456b-acc7-cca0735721ed",
   "metadata": {},
   "outputs": [
    {
     "data": {
      "text/plain": [
       "'Python is fun'"
      ]
     },
     "execution_count": 32,
     "metadata": {},
     "output_type": "execute_result"
    }
   ],
   "source": [
    "'Python is fun'"
   ]
  },
  {
   "cell_type": "code",
   "execution_count": 33,
   "id": "3e7f284c-c5ac-4fa0-9a9d-fd3d8c2a6dd6",
   "metadata": {},
   "outputs": [
    {
     "data": {
      "text/plain": [
       "'Life is too short, You need python'"
      ]
     },
     "execution_count": 33,
     "metadata": {},
     "output_type": "execute_result"
    }
   ],
   "source": [
    "\"\"\"Life is too short, You need python\"\"\""
   ]
  },
  {
   "cell_type": "code",
   "execution_count": 34,
   "id": "d24cf6a8-45ca-4fbd-bde6-2066789e1c9a",
   "metadata": {},
   "outputs": [
    {
     "data": {
      "text/plain": [
       "'Life is too short, You need python'"
      ]
     },
     "execution_count": 34,
     "metadata": {},
     "output_type": "execute_result"
    }
   ],
   "source": [
    "'''Life is too short, You need python'''"
   ]
  },
  {
   "cell_type": "markdown",
   "id": "1bc61603-63d5-4c16-a495-8552a9b779bc",
   "metadata": {},
   "source": [
    "### 1. 문자열 안에 작은따옴표 포함하기\n",
    "Python's favorite food is perl"
   ]
  },
  {
   "cell_type": "code",
   "execution_count": 35,
   "id": "8f9218b5-177d-480d-86f5-f85e4a1e0bc1",
   "metadata": {},
   "outputs": [
    {
     "ename": "SyntaxError",
     "evalue": "unterminated string literal (detected at line 1) (2917458957.py, line 1)",
     "output_type": "error",
     "traceback": [
      "\u001b[1;36m  Cell \u001b[1;32mIn[35], line 1\u001b[1;36m\u001b[0m\n\u001b[1;33m    Python's favorite food is perl\u001b[0m\n\u001b[1;37m          ^\u001b[0m\n\u001b[1;31mSyntaxError\u001b[0m\u001b[1;31m:\u001b[0m unterminated string literal (detected at line 1)\n"
     ]
    }
   ],
   "source": [
    "Python's favorite food is perl"
   ]
  },
  {
   "cell_type": "code",
   "execution_count": 36,
   "id": "967287d6-2b0e-45a8-b958-f3917e2467a1",
   "metadata": {},
   "outputs": [
    {
     "data": {
      "text/plain": [
       "\"Python's favorite food is perl\""
      ]
     },
     "execution_count": 36,
     "metadata": {},
     "output_type": "execute_result"
    }
   ],
   "source": [
    "\"Python's favorite food is perl\""
   ]
  },
  {
   "cell_type": "markdown",
   "id": "d63614b5-fcc1-47fe-9f8b-518c50244abe",
   "metadata": {},
   "source": [
    "### 2. 문자열 안에 큰따옴표 포함하기\n",
    "\"Python is very easy.\" he says."
   ]
  },
  {
   "cell_type": "code",
   "execution_count": 37,
   "id": "f0da4654-b8b4-48dc-9e6a-de32553104fa",
   "metadata": {},
   "outputs": [
    {
     "ename": "SyntaxError",
     "evalue": "invalid syntax (2498016959.py, line 1)",
     "output_type": "error",
     "traceback": [
      "\u001b[1;36m  Cell \u001b[1;32mIn[37], line 1\u001b[1;36m\u001b[0m\n\u001b[1;33m    \"Python is very easy.\" he says.\u001b[0m\n\u001b[1;37m                           ^\u001b[0m\n\u001b[1;31mSyntaxError\u001b[0m\u001b[1;31m:\u001b[0m invalid syntax\n"
     ]
    }
   ],
   "source": [
    "\"Python is very easy.\" he says."
   ]
  },
  {
   "cell_type": "code",
   "execution_count": 38,
   "id": "487960db-cdee-458f-85f0-1ce1d899223a",
   "metadata": {},
   "outputs": [
    {
     "data": {
      "text/plain": [
       "'\"Python is very easy.\" he says.'"
      ]
     },
     "execution_count": 38,
     "metadata": {},
     "output_type": "execute_result"
    }
   ],
   "source": [
    "'\"Python is very easy.\" he says.'"
   ]
  },
  {
   "cell_type": "markdown",
   "id": "3cb1e6df-1d88-4710-98ca-a7986d12fa52",
   "metadata": {},
   "source": [
    "### 3. 역슬래시를 사용해서 작은따옴표와 큰따옴표를 문자열에 포함하기\n",
    "```\n",
    "food = 'Python\\'s favorite food is perl'   \n",
    " say = \"\\\"Python is very easy.\\\" he says.\""
   ]
  },
  {
   "cell_type": "code",
   "execution_count": 41,
   "id": "47a3c381-723d-41a0-b34d-d57c32033fed",
   "metadata": {},
   "outputs": [
    {
     "data": {
      "text/plain": [
       "\"Python's favorite food is perl\""
      ]
     },
     "execution_count": 41,
     "metadata": {},
     "output_type": "execute_result"
    }
   ],
   "source": [
    "food = 'Python\\'s favorite food is perl'\n",
    "food"
   ]
  },
  {
   "cell_type": "code",
   "execution_count": 42,
   "id": "9a762c95-e133-41d4-8541-3cca7eee84ac",
   "metadata": {},
   "outputs": [
    {
     "data": {
      "text/plain": [
       "'\"Python is very easy.\" he says.'"
      ]
     },
     "execution_count": 42,
     "metadata": {},
     "output_type": "execute_result"
    }
   ],
   "source": [
    "say = \"\\\"Python is very easy.\\\" he says.\"\n",
    "say"
   ]
  },
  {
   "cell_type": "markdown",
   "id": "02151b26-fbb6-413a-a9cb-4affc2cfdd1b",
   "metadata": {},
   "source": [
    "### 4. 여러 줄인 문자열을 변수에 대입하고 싶을 때"
   ]
  },
  {
   "cell_type": "code",
   "execution_count": 44,
   "id": "b3c690ed-1b89-49ab-8d4f-530a8239539b",
   "metadata": {},
   "outputs": [
    {
     "data": {
      "text/plain": [
       "'Life is too short\\nYou need python'"
      ]
     },
     "execution_count": 44,
     "metadata": {},
     "output_type": "execute_result"
    }
   ],
   "source": [
    "# 1. 줄을 바꾸기 위한 이스케이프 코드 \\n 삽입하기\n",
    "multiline = \"Life is too short\\nYou need python\"\n",
    "multiline"
   ]
  },
  {
   "cell_type": "code",
   "execution_count": 45,
   "id": "2c420652-78f6-4c4f-b49a-5e91a034669a",
   "metadata": {},
   "outputs": [
    {
     "name": "stdout",
     "output_type": "stream",
     "text": [
      "Life is too short\n",
      "You need python\n"
     ]
    }
   ],
   "source": [
    "print(multiline)"
   ]
  },
  {
   "cell_type": "code",
   "execution_count": 47,
   "id": "5ae339e6-fca7-4136-9750-07afa9b9e6bb",
   "metadata": {},
   "outputs": [
    {
     "data": {
      "text/plain": [
       "'\\nLife is too short\\nYou need python\\n'"
      ]
     },
     "execution_count": 47,
     "metadata": {},
     "output_type": "execute_result"
    }
   ],
   "source": [
    "# 2. 연속된 작은따옴표 3개 또는 큰따옴표 3개 사용하기\n",
    "'''\n",
    "Life is too short\n",
    "You need python\n",
    "'''"
   ]
  },
  {
   "cell_type": "code",
   "execution_count": 48,
   "id": "811b2aa4-9682-4b78-8fac-623b72d7e742",
   "metadata": {},
   "outputs": [
    {
     "data": {
      "text/plain": [
       "'\\nLife is too short\\nYou need python\\n'"
      ]
     },
     "execution_count": 48,
     "metadata": {},
     "output_type": "execute_result"
    }
   ],
   "source": [
    "\"\"\"\n",
    "Life is too short\n",
    "You need python\n",
    "\"\"\""
   ]
  },
  {
   "cell_type": "markdown",
   "id": "7aaab445-291d-4fc2-a60d-1d676e5c000d",
   "metadata": {},
   "source": [
    "### 5. 문자열 연산하기"
   ]
  },
  {
   "cell_type": "code",
   "execution_count": 49,
   "id": "52f641a7-561f-4fa3-a3c7-d33c72447d5d",
   "metadata": {},
   "outputs": [
    {
     "data": {
      "text/plain": [
       "'Python is fun!'"
      ]
     },
     "execution_count": 49,
     "metadata": {},
     "output_type": "execute_result"
    }
   ],
   "source": [
    "head = \"Python\"\n",
    "tail = \" is fun!\"\n",
    "head + tail"
   ]
  },
  {
   "cell_type": "code",
   "execution_count": 50,
   "id": "4e0b8995-4fe0-433b-9ef9-3a3b26c95be6",
   "metadata": {},
   "outputs": [
    {
     "data": {
      "text/plain": [
       "'PythonPython'"
      ]
     },
     "execution_count": 50,
     "metadata": {},
     "output_type": "execute_result"
    }
   ],
   "source": [
    "head*2"
   ]
  },
  {
   "cell_type": "code",
   "execution_count": 51,
   "id": "c9d78fae-f319-4a63-b3c5-dff907d8db2e",
   "metadata": {},
   "outputs": [
    {
     "name": "stdout",
     "output_type": "stream",
     "text": [
      "==================================================\n",
      "My Program\n",
      "==================================================\n"
     ]
    }
   ],
   "source": [
    "print(\"=\" * 50)\n",
    "print(\"My Program\")\n",
    "print(\"=\" * 50)"
   ]
  },
  {
   "cell_type": "code",
   "execution_count": 52,
   "id": "4d1d5255-0b9e-4d6f-8be1-b3438e938d0d",
   "metadata": {},
   "outputs": [
    {
     "data": {
      "text/plain": [
       "17"
      ]
     },
     "execution_count": 52,
     "metadata": {},
     "output_type": "execute_result"
    }
   ],
   "source": [
    "a = \"Life is too short\"\n",
    "len(a)"
   ]
  },
  {
   "cell_type": "markdown",
   "id": "d491728d-891a-438a-b9b5-a1b8ab7402c6",
   "metadata": {},
   "source": [
    "### 6.문자열 인덱싱과 슬라이싱"
   ]
  },
  {
   "cell_type": "code",
   "execution_count": 53,
   "id": "d8b90c69-2cc6-4750-b05a-b2cf4f1c07be",
   "metadata": {},
   "outputs": [
    {
     "data": {
      "text/plain": [
       "'Life is too short, You need Python'"
      ]
     },
     "execution_count": 53,
     "metadata": {},
     "output_type": "execute_result"
    }
   ],
   "source": [
    "a = \"Life is too short, You need Python\"\n",
    "a"
   ]
  },
  {
   "cell_type": "code",
   "execution_count": 54,
   "id": "446af742-7e6f-4d46-bad3-600d20408d5c",
   "metadata": {},
   "outputs": [
    {
     "data": {
      "text/plain": [
       "'e'"
      ]
     },
     "execution_count": 54,
     "metadata": {},
     "output_type": "execute_result"
    }
   ],
   "source": [
    "a[3]"
   ]
  },
  {
   "cell_type": "code",
   "execution_count": 56,
   "id": "69b9212a-6506-4a79-9f84-d617386e45ba",
   "metadata": {},
   "outputs": [
    {
     "data": {
      "text/plain": [
       "','"
      ]
     },
     "execution_count": 56,
     "metadata": {},
     "output_type": "execute_result"
    }
   ],
   "source": [
    "a[17]"
   ]
  },
  {
   "cell_type": "code",
   "execution_count": 58,
   "id": "f6812c1a-5361-4c6f-b2f3-d1b2514c3fc2",
   "metadata": {},
   "outputs": [
    {
     "data": {
      "text/plain": [
       "'Life'"
      ]
     },
     "execution_count": 58,
     "metadata": {},
     "output_type": "execute_result"
    }
   ],
   "source": [
    "b = a[0] + a[1] + a[2] + a[3]\n",
    "b"
   ]
  },
  {
   "cell_type": "code",
   "execution_count": 59,
   "id": "2ab423f5-56bd-422c-94d5-828fc4efd90e",
   "metadata": {},
   "outputs": [
    {
     "data": {
      "text/plain": [
       "'Lif'"
      ]
     },
     "execution_count": 59,
     "metadata": {},
     "output_type": "execute_result"
    }
   ],
   "source": [
    "a[0:3]"
   ]
  },
  {
   "cell_type": "code",
   "execution_count": 60,
   "id": "fda90809-dece-4245-9948-71d6237c6e07",
   "metadata": {},
   "outputs": [
    {
     "data": {
      "text/plain": [
       "'Life'"
      ]
     },
     "execution_count": 60,
     "metadata": {},
     "output_type": "execute_result"
    }
   ],
   "source": [
    "a[0:4]"
   ]
  },
  {
   "cell_type": "code",
   "execution_count": 61,
   "id": "b3f1eb63-71c3-4c9f-9813-bf8d85f219a0",
   "metadata": {},
   "outputs": [
    {
     "data": {
      "text/plain": [
       "'short, '"
      ]
     },
     "execution_count": 61,
     "metadata": {},
     "output_type": "execute_result"
    }
   ],
   "source": [
    "a[12:19]"
   ]
  },
  {
   "cell_type": "code",
   "execution_count": 62,
   "id": "66b341f0-1f91-4fcb-9100-003fe7d4af42",
   "metadata": {},
   "outputs": [
    {
     "data": {
      "text/plain": [
       "'short, You need Python'"
      ]
     },
     "execution_count": 62,
     "metadata": {},
     "output_type": "execute_result"
    }
   ],
   "source": [
    "a[12:]"
   ]
  },
  {
   "cell_type": "code",
   "execution_count": 63,
   "id": "995b7c0b-b133-46d6-8aec-a4229fc76731",
   "metadata": {},
   "outputs": [
    {
     "data": {
      "text/plain": [
       "'Life is too short'"
      ]
     },
     "execution_count": 63,
     "metadata": {},
     "output_type": "execute_result"
    }
   ],
   "source": [
    "a[:17]"
   ]
  },
  {
   "cell_type": "code",
   "execution_count": 67,
   "id": "8063a608-2e25-4aab-b59d-10f8b601836b",
   "metadata": {},
   "outputs": [
    {
     "data": {
      "text/plain": [
       "'Life is too short, You need Python'"
      ]
     },
     "execution_count": 67,
     "metadata": {},
     "output_type": "execute_result"
    }
   ],
   "source": [
    "a[:]"
   ]
  },
  {
   "cell_type": "code",
   "execution_count": 68,
   "id": "da497201-17c6-40f9-aff5-80e968c265eb",
   "metadata": {},
   "outputs": [
    {
     "data": {
      "text/plain": [
       "'You need'"
      ]
     },
     "execution_count": 68,
     "metadata": {},
     "output_type": "execute_result"
    }
   ],
   "source": [
    "a[19:-7]"
   ]
  },
  {
   "cell_type": "code",
   "execution_count": 75,
   "id": "d169d4f4-59df-4700-9ac3-d3114bbb6879",
   "metadata": {},
   "outputs": [
    {
     "data": {
      "text/plain": [
       "('20230331', 'Rainy')"
      ]
     },
     "execution_count": 75,
     "metadata": {},
     "output_type": "execute_result"
    }
   ],
   "source": [
    "a = \"20230331Rainy\"\n",
    "date=a[:8]\n",
    "weather=a[8:]\n",
    "date, weather"
   ]
  },
  {
   "cell_type": "code",
   "execution_count": 79,
   "id": "a15b4cc5-4129-471b-840b-c83b706a3845",
   "metadata": {},
   "outputs": [
    {
     "data": {
      "text/plain": [
       "('2023', '0331')"
      ]
     },
     "execution_count": 79,
     "metadata": {},
     "output_type": "execute_result"
    }
   ],
   "source": [
    "year=a[:4]\n",
    "day=date[4:]\n",
    "year, day"
   ]
  },
  {
   "cell_type": "markdown",
   "id": "2121ca7d-4992-40d8-8de1-dcbf6c5f2f7b",
   "metadata": {},
   "source": [
    "### 7. 문자열 포매팅"
   ]
  },
  {
   "cell_type": "code",
   "execution_count": 80,
   "id": "e832a088-a497-40f4-a766-3e853abed9bf",
   "metadata": {},
   "outputs": [
    {
     "data": {
      "text/plain": [
       "'I eat 3 apples'"
      ]
     },
     "execution_count": 80,
     "metadata": {},
     "output_type": "execute_result"
    }
   ],
   "source": [
    "\"I eat %d apples\"%3"
   ]
  },
  {
   "cell_type": "code",
   "execution_count": 82,
   "id": "d8577c3e-7e9d-4380-90a9-1bcf096b8645",
   "metadata": {},
   "outputs": [
    {
     "data": {
      "text/plain": [
       "'I eat five apples'"
      ]
     },
     "execution_count": 82,
     "metadata": {},
     "output_type": "execute_result"
    }
   ],
   "source": [
    "\"I eat %s apples\"%\"five\""
   ]
  },
  {
   "cell_type": "code",
   "execution_count": 84,
   "id": "2aed1fc0-cf5d-46ed-94bc-fd3a82ae24c0",
   "metadata": {},
   "outputs": [
    {
     "data": {
      "text/plain": [
       "'I eat 3 apples'"
      ]
     },
     "execution_count": 84,
     "metadata": {},
     "output_type": "execute_result"
    }
   ],
   "source": [
    "number=3\n",
    "\"I eat %d apples\"%number"
   ]
  },
  {
   "cell_type": "code",
   "execution_count": 85,
   "id": "7d126e38-dddc-4360-a0dd-df0dacdcfbfb",
   "metadata": {},
   "outputs": [
    {
     "data": {
      "text/plain": [
       "'I ate 10 apples. so I was sick for three days.'"
      ]
     },
     "execution_count": 85,
     "metadata": {},
     "output_type": "execute_result"
    }
   ],
   "source": [
    "number=10\n",
    "day=\"three\"\n",
    "\"I ate %d apples. so I was sick for %s days.\" % (number, day)"
   ]
  },
  {
   "cell_type": "code",
   "execution_count": 86,
   "id": "f5346e8d-24d9-4bc0-8ab8-bc23800b8d9d",
   "metadata": {},
   "outputs": [
    {
     "ename": "ValueError",
     "evalue": "incomplete format",
     "output_type": "error",
     "traceback": [
      "\u001b[1;31m---------------------------------------------------------------------------\u001b[0m",
      "\u001b[1;31mValueError\u001b[0m                                Traceback (most recent call last)",
      "Cell \u001b[1;32mIn[86], line 1\u001b[0m\n\u001b[1;32m----> 1\u001b[0m \u001b[38;5;124m\"\u001b[39m\u001b[38;5;124mError is \u001b[39m\u001b[38;5;132;01m%d\u001b[39;00m\u001b[38;5;124m%\u001b[39m\u001b[38;5;124m.\u001b[39m\u001b[38;5;124m\"\u001b[39m \u001b[38;5;241m%\u001b[39m \u001b[38;5;241m98\u001b[39m\n",
      "\u001b[1;31mValueError\u001b[0m: incomplete format"
     ]
    }
   ],
   "source": [
    "\"Error is %d%.\" % 98"
   ]
  },
  {
   "cell_type": "code",
   "execution_count": 88,
   "id": "b66b14b9-0de2-4d33-8044-dd17caaf8963",
   "metadata": {},
   "outputs": [
    {
     "data": {
      "text/plain": [
       "'Error is 98%.'"
      ]
     },
     "execution_count": 88,
     "metadata": {},
     "output_type": "execute_result"
    }
   ],
   "source": [
    "\"Error is %d%%.\" % 98"
   ]
  },
  {
   "cell_type": "markdown",
   "id": "c8f4eb49-2b45-4e42-9caa-34dcbb1b57dc",
   "metadata": {},
   "source": [
    "### 8. 소수점 표현하기"
   ]
  },
  {
   "cell_type": "code",
   "execution_count": 91,
   "id": "c98354d8-31c8-4239-9b7e-ec79e40234c8",
   "metadata": {},
   "outputs": [
    {
     "data": {
      "text/plain": [
       "'3.4213'"
      ]
     },
     "execution_count": 91,
     "metadata": {},
     "output_type": "execute_result"
    }
   ],
   "source": [
    "\"%0.4f\"%3.42134"
   ]
  },
  {
   "cell_type": "markdown",
   "id": "baaf50fc-63f5-4536-95ad-c650043dd0ac",
   "metadata": {},
   "source": [
    "### 9. format 함수를 사용한 포매팅"
   ]
  },
  {
   "cell_type": "code",
   "execution_count": 93,
   "id": "e6012148-d2d5-438a-87f4-680dd2d16129",
   "metadata": {},
   "outputs": [
    {
     "data": {
      "text/plain": [
       "'I eat 3 apples'"
      ]
     },
     "execution_count": 93,
     "metadata": {},
     "output_type": "execute_result"
    }
   ],
   "source": [
    "\"I eat {0} apples\".format(3)"
   ]
  },
  {
   "cell_type": "code",
   "execution_count": 94,
   "id": "9a88da70-81e7-4c81-892b-407a6bced0ca",
   "metadata": {},
   "outputs": [
    {
     "data": {
      "text/plain": [
       "'I eat five apples'"
      ]
     },
     "execution_count": 94,
     "metadata": {},
     "output_type": "execute_result"
    }
   ],
   "source": [
    "\"I eat {0} apples\".format(\"five\")"
   ]
  },
  {
   "cell_type": "code",
   "execution_count": 96,
   "id": "f86119ac-a76d-4538-bd7d-c3403744e01c",
   "metadata": {},
   "outputs": [
    {
     "data": {
      "text/plain": [
       "'I eat 3 apples'"
      ]
     },
     "execution_count": 96,
     "metadata": {},
     "output_type": "execute_result"
    }
   ],
   "source": [
    "number=3\n",
    "\"I eat {} apples\".format(number)"
   ]
  },
  {
   "cell_type": "code",
   "execution_count": 98,
   "id": "9994f807-bad5-4b62-8c07-16e013645c90",
   "metadata": {},
   "outputs": [
    {
     "data": {
      "text/plain": [
       "'I ate 3 apples, so i was sick for three days.'"
      ]
     },
     "execution_count": 98,
     "metadata": {},
     "output_type": "execute_result"
    }
   ],
   "source": [
    "\"I ate {} apples, so i was sick for {} days.\".format(number, day)"
   ]
  },
  {
   "cell_type": "code",
   "execution_count": 99,
   "id": "eba162f2-c57b-44a6-ad44-5fde5873cb59",
   "metadata": {},
   "outputs": [
    {
     "data": {
      "text/plain": [
       "'I ate three apples, so i was sick for 3 days.'"
      ]
     },
     "execution_count": 99,
     "metadata": {},
     "output_type": "execute_result"
    }
   ],
   "source": [
    "\"I ate {} apples, so i was sick for {} days.\".format(day, number)"
   ]
  },
  {
   "cell_type": "code",
   "execution_count": 100,
   "id": "9890bce7-fdd3-4d17-9736-f642bb6329c0",
   "metadata": {},
   "outputs": [
    {
     "data": {
      "text/plain": [
       "'I ate three apples, so i was sick for 3 days.'"
      ]
     },
     "execution_count": 100,
     "metadata": {},
     "output_type": "execute_result"
    }
   ],
   "source": [
    "\"I ate {a} apples, so i was sick for {b} days.\".format(a=day, b=number)"
   ]
  },
  {
   "cell_type": "code",
   "execution_count": 101,
   "id": "b8b091a1-80e3-4aaa-863b-0042c4be326b",
   "metadata": {},
   "outputs": [
    {
     "data": {
      "text/plain": [
       "'I ate 3 apples, so i was sick for three days.'"
      ]
     },
     "execution_count": 101,
     "metadata": {},
     "output_type": "execute_result"
    }
   ],
   "source": [
    "\"I ate {a} apples, so i was sick for {b} days.\".format(a=number, b=day)"
   ]
  },
  {
   "cell_type": "code",
   "execution_count": 102,
   "id": "022c378c-ec3c-43f8-92ec-f9fcef8103b2",
   "metadata": {},
   "outputs": [
    {
     "data": {
      "text/plain": [
       "'3.4544'"
      ]
     },
     "execution_count": 102,
     "metadata": {},
     "output_type": "execute_result"
    }
   ],
   "source": [
    "y=3.454434632\n",
    "\"{0:0.4f}\".format(y)"
   ]
  },
  {
   "cell_type": "code",
   "execution_count": 103,
   "id": "290c7dd6-f1f4-410a-8ffc-f3fb92543ec2",
   "metadata": {},
   "outputs": [
    {
     "data": {
      "text/plain": [
       "'3.4544'"
      ]
     },
     "execution_count": 103,
     "metadata": {},
     "output_type": "execute_result"
    }
   ],
   "source": [
    "\"{:0.4f}\".format(y)"
   ]
  },
  {
   "cell_type": "markdown",
   "id": "cdc1582b-00ec-4a95-96ec-343bb1a5f740",
   "metadata": {},
   "source": [
    "### 10. f 문자열 포매팅"
   ]
  },
  {
   "cell_type": "code",
   "execution_count": 104,
   "id": "30316469-755b-4d80-b0cc-d5df75c763dd",
   "metadata": {},
   "outputs": [
    {
     "data": {
      "text/plain": [
       "'나의 이름은 홍길동입니다. 나이는 30입니다.'"
      ]
     },
     "execution_count": 104,
     "metadata": {},
     "output_type": "execute_result"
    }
   ],
   "source": [
    "name=\"홍길동\"\n",
    "age=30\n",
    "f'나의 이름은 {name}입니다. 나이는 {age}입니다.'"
   ]
  },
  {
   "cell_type": "code",
   "execution_count": 105,
   "id": "3e95ed4d-5b1b-4d0f-a007-fb5942c9aba1",
   "metadata": {},
   "outputs": [
    {
     "data": {
      "text/plain": [
       "'나의 이름은 홍길동입니다. 나이는 31입니다.'"
      ]
     },
     "execution_count": 105,
     "metadata": {},
     "output_type": "execute_result"
    }
   ],
   "source": [
    "name=\"홍길동\"\n",
    "age=30\n",
    "f'나의 이름은 {name}입니다. 나이는 {age+1}입니다.'"
   ]
  },
  {
   "cell_type": "code",
   "execution_count": 106,
   "id": "6ec1bba2-e0ab-4c04-9a56-a1c931a8f0cb",
   "metadata": {},
   "outputs": [
    {
     "data": {
      "text/plain": [
       "{'name': '홍길동', 'age': 30}"
      ]
     },
     "execution_count": 106,
     "metadata": {},
     "output_type": "execute_result"
    }
   ],
   "source": [
    "d={'name':'홍길동', 'age':30}\n",
    "d"
   ]
  },
  {
   "cell_type": "code",
   "execution_count": 107,
   "id": "c3c09ca6-43ad-45b0-a168-63c12cf8fd5c",
   "metadata": {},
   "outputs": [
    {
     "data": {
      "text/plain": [
       "'홍길동'"
      ]
     },
     "execution_count": 107,
     "metadata": {},
     "output_type": "execute_result"
    }
   ],
   "source": [
    "d['name']"
   ]
  },
  {
   "cell_type": "code",
   "execution_count": 109,
   "id": "2e45a687-f12a-43c3-9a3a-02e56d5ed248",
   "metadata": {},
   "outputs": [
    {
     "data": {
      "text/plain": [
       "'나의 이름은 홍길동입니다. 나이는 30입니다.'"
      ]
     },
     "execution_count": 109,
     "metadata": {},
     "output_type": "execute_result"
    }
   ],
   "source": [
    "f\"나의 이름은 {d['name']}입니다. 나이는 {d['age']}입니다.\""
   ]
  },
  {
   "cell_type": "code",
   "execution_count": 110,
   "id": "6a8405d8-5cce-43b3-9f09-a2cf9b978c79",
   "metadata": {},
   "outputs": [
    {
     "data": {
      "text/plain": [
       "'3.4213'"
      ]
     },
     "execution_count": 110,
     "metadata": {},
     "output_type": "execute_result"
    }
   ],
   "source": [
    "y = 3.42134234\n",
    "f'{y:0.4f}'"
   ]
  },
  {
   "cell_type": "code",
   "execution_count": 111,
   "id": "d494fbfa-1e67-4f9e-81ff-9c1400523675",
   "metadata": {},
   "outputs": [
    {
     "data": {
      "text/plain": [
       "'    3.4213'"
      ]
     },
     "execution_count": 111,
     "metadata": {},
     "output_type": "execute_result"
    }
   ],
   "source": [
    "f'{y:10.4f}'"
   ]
  },
  {
   "cell_type": "code",
   "execution_count": 122,
   "id": "eed3c2e7-1bed-435e-addb-358794a62714",
   "metadata": {},
   "outputs": [
    {
     "name": "stdout",
     "output_type": "stream",
     "text": [
      "Help on built-in function find:\n",
      "\n",
      "find(...) method of builtins.str instance\n",
      "    S.find(sub[, start[, end]]) -> int\n",
      "\n",
      "    Return the lowest index in S where substring sub is found,\n",
      "    such that sub is contained within S[start:end].  Optional\n",
      "    arguments start and end are interpreted as in slice notation.\n",
      "\n",
      "    Return -1 on failure.\n",
      "\n"
     ]
    }
   ],
   "source": [
    "help(a.find)"
   ]
  },
  {
   "cell_type": "code",
   "execution_count": 120,
   "id": "5cef6368-8d7b-4b86-a863-5105a1f6bc21",
   "metadata": {},
   "outputs": [
    {
     "data": {
      "text/plain": [
       "\u001b[1;31mDocstring:\u001b[0m\n",
       "S.find(sub[, start[, end]]) -> int\n",
       "\n",
       "Return the lowest index in S where substring sub is found,\n",
       "such that sub is contained within S[start:end].  Optional\n",
       "arguments start and end are interpreted as in slice notation.\n",
       "\n",
       "Return -1 on failure.\n",
       "\u001b[1;31mType:\u001b[0m      builtin_function_or_method"
      ]
     },
     "metadata": {},
     "output_type": "display_data"
    }
   ],
   "source": [
    "# 함수 사용법이 궁금할 땐 함수명 뒤에 '?'입력\n",
    "a.find?"
   ]
  },
  {
   "cell_type": "markdown",
   "id": "bfa38895-c473-48c5-a990-ccbf327be656",
   "metadata": {},
   "source": [
    "### 11. 문자열 관련 함수들"
   ]
  },
  {
   "cell_type": "markdown",
   "id": "3ca4d4c2-72b7-4717-a58d-dd77258d221d",
   "metadata": {},
   "source": [
    "#### count"
   ]
  },
  {
   "cell_type": "code",
   "execution_count": 129,
   "id": "843c7c2d-0813-495b-861d-2700c0b94abe",
   "metadata": {},
   "outputs": [
    {
     "data": {
      "text/plain": [
       "2"
      ]
     },
     "execution_count": 129,
     "metadata": {},
     "output_type": "execute_result"
    }
   ],
   "source": [
    "# 특정 문자열 개수 세기\n",
    "a=\"hobby\"\n",
    "a.count(\"b\")"
   ]
  },
  {
   "cell_type": "markdown",
   "id": "fa0f1687-dbcd-44c1-824a-d304d77adbcd",
   "metadata": {},
   "source": [
    "#### find"
   ]
  },
  {
   "cell_type": "code",
   "execution_count": 115,
   "id": "ffd89c0b-f859-4329-bca4-0eb184b1424c",
   "metadata": {},
   "outputs": [
    {
     "data": {
      "text/plain": [
       "14"
      ]
     },
     "execution_count": 115,
     "metadata": {},
     "output_type": "execute_result"
    }
   ],
   "source": [
    "# 위치 알려주기 - find\n",
    "a='python is the best choice'\n",
    "a.find('b')"
   ]
  },
  {
   "cell_type": "code",
   "execution_count": 118,
   "id": "19ab739c-d57f-421e-9d2f-b60ab57d8c97",
   "metadata": {},
   "outputs": [
    {
     "data": {
      "text/plain": [
       "-1"
      ]
     },
     "execution_count": 118,
     "metadata": {},
     "output_type": "execute_result"
    }
   ],
   "source": [
    "# find 활용 시 없는 문자 검색할 경우 =>\"-1\"반환\n",
    "a.find('k')"
   ]
  },
  {
   "cell_type": "markdown",
   "id": "763d3493-11f4-4cb5-9968-1ac66a62b5bc",
   "metadata": {},
   "source": [
    "#### index"
   ]
  },
  {
   "cell_type": "code",
   "execution_count": 125,
   "id": "aa355969-1d2d-4df8-8eed-2a016ed1b2f3",
   "metadata": {},
   "outputs": [
    {
     "data": {
      "text/plain": [
       "8"
      ]
     },
     "execution_count": 125,
     "metadata": {},
     "output_type": "execute_result"
    }
   ],
   "source": [
    "# 위치 알려주기 - index\n",
    "a='Life is too short'\n",
    "a.index('t')"
   ]
  },
  {
   "cell_type": "code",
   "execution_count": 128,
   "id": "179f5f5c-3ba1-4133-a52c-d7c41b77706d",
   "metadata": {},
   "outputs": [
    {
     "ename": "ValueError",
     "evalue": "substring not found",
     "output_type": "error",
     "traceback": [
      "\u001b[1;31m---------------------------------------------------------------------------\u001b[0m",
      "\u001b[1;31mValueError\u001b[0m                                Traceback (most recent call last)",
      "Cell \u001b[1;32mIn[128], line 2\u001b[0m\n\u001b[0;32m      1\u001b[0m \u001b[38;5;66;03m# index 활용 시 없는 문자 검색할 경우 => error\u001b[39;00m\n\u001b[1;32m----> 2\u001b[0m a\u001b[38;5;241m.\u001b[39mindex(\u001b[38;5;124m'\u001b[39m\u001b[38;5;124mk\u001b[39m\u001b[38;5;124m'\u001b[39m)\n",
      "\u001b[1;31mValueError\u001b[0m: substring not found"
     ]
    }
   ],
   "source": [
    "# index 활용 시 없는 문자 검색할 경우 => error\n",
    "a.index('k')"
   ]
  },
  {
   "cell_type": "markdown",
   "id": "3e116d9e-6f71-4242-84b8-906b5edce8ec",
   "metadata": {},
   "source": [
    "#### join"
   ]
  },
  {
   "cell_type": "code",
   "execution_count": 130,
   "id": "6ce11972-085a-4e79-a545-d71127f8c515",
   "metadata": {},
   "outputs": [
    {
     "data": {
      "text/plain": [
       "'a,b,c,d'"
      ]
     },
     "execution_count": 130,
     "metadata": {},
     "output_type": "execute_result"
    }
   ],
   "source": [
    "# 문자열 삽입\n",
    "','.join('abcd')"
   ]
  },
  {
   "cell_type": "code",
   "execution_count": 132,
   "id": "2f1a7d23-dac6-4c44-b1df-e13625c46252",
   "metadata": {},
   "outputs": [
    {
     "data": {
      "text/plain": [
       "'a,b,c,d'"
      ]
     },
     "execution_count": 132,
     "metadata": {},
     "output_type": "execute_result"
    }
   ],
   "source": [
    "# join은 반환 시 무조건 하나의 문자열로 반환\n",
    "','.join(['a','b','c','d'])"
   ]
  },
  {
   "cell_type": "markdown",
   "id": "f7e5731f-c8da-46dd-bae3-1995e158779b",
   "metadata": {},
   "source": [
    "#### upper, lower"
   ]
  },
  {
   "cell_type": "code",
   "execution_count": 134,
   "id": "8a54fb6b-992c-468f-a6de-d68eed637318",
   "metadata": {},
   "outputs": [
    {
     "data": {
      "text/plain": [
       "'HI'"
      ]
     },
     "execution_count": 134,
     "metadata": {},
     "output_type": "execute_result"
    }
   ],
   "source": [
    "# 소문자를 대문자로-upper\n",
    "a=\"hi\"\n",
    "a.upper()"
   ]
  },
  {
   "cell_type": "code",
   "execution_count": 135,
   "id": "d3652fb9-1471-4dae-8739-01e76164a1e4",
   "metadata": {},
   "outputs": [
    {
     "data": {
      "text/plain": [
       "'hi'"
      ]
     },
     "execution_count": 135,
     "metadata": {},
     "output_type": "execute_result"
    }
   ],
   "source": [
    "# 대문자를 소문자로-lower\n",
    "a=\"HI\"\n",
    "a.lower()"
   ]
  },
  {
   "cell_type": "markdown",
   "id": "faff4569-abf3-415c-8cc2-9cf58d6323be",
   "metadata": {},
   "source": [
    "#### strip, lstrip, rstrip"
   ]
  },
  {
   "cell_type": "code",
   "execution_count": 137,
   "id": "b5d75f89-9b34-4c71-9159-771565364c3c",
   "metadata": {},
   "outputs": [
    {
     "data": {
      "text/plain": [
       "'hi'"
      ]
     },
     "execution_count": 137,
     "metadata": {},
     "output_type": "execute_result"
    }
   ],
   "source": [
    "# 왼쪽 공백 지우기-lstrip\n",
    "a=' hi '\n",
    "a.lstrip()"
   ]
  },
  {
   "cell_type": "code",
   "execution_count": 138,
   "id": "0f0fd0f3-039e-4abb-8d79-1fe1048be884",
   "metadata": {},
   "outputs": [
    {
     "data": {
      "text/plain": [
       "' hi'"
      ]
     },
     "execution_count": 138,
     "metadata": {},
     "output_type": "execute_result"
    }
   ],
   "source": [
    "# 오른쪽 공백 지우기-rstrip\n",
    "a=' hi '\n",
    "a.rstrip()"
   ]
  },
  {
   "cell_type": "code",
   "execution_count": 139,
   "id": "fa07bb77-f759-4fd3-a186-6d1369ead188",
   "metadata": {},
   "outputs": [
    {
     "data": {
      "text/plain": [
       "'hi'"
      ]
     },
     "execution_count": 139,
     "metadata": {},
     "output_type": "execute_result"
    }
   ],
   "source": [
    "# 양쪽 공백 지우기-strip\n",
    "a=' hi '\n",
    "a.strip()"
   ]
  },
  {
   "cell_type": "markdown",
   "id": "5cdd4b97-9c73-4c94-807b-d89de78c9829",
   "metadata": {},
   "source": [
    "#### replace"
   ]
  },
  {
   "cell_type": "code",
   "execution_count": 141,
   "id": "c0204713-03f7-49a3-ab7a-b66e4f518c78",
   "metadata": {},
   "outputs": [
    {
     "data": {
      "text/plain": [
       "'Your leg is too short'"
      ]
     },
     "execution_count": 141,
     "metadata": {},
     "output_type": "execute_result"
    }
   ],
   "source": [
    "# 문자열 바꾸기\n",
    "a = 'Life is too short'\n",
    "a.replace('Life','Your leg')"
   ]
  },
  {
   "cell_type": "markdown",
   "id": "e3ec726e-ed34-4f03-8448-5533cacc5cdc",
   "metadata": {},
   "source": [
    "#### split"
   ]
  },
  {
   "cell_type": "code",
   "execution_count": 146,
   "id": "35a3c808-0762-4eb0-aa78-c8b29b788ff9",
   "metadata": {},
   "outputs": [
    {
     "data": {
      "text/plain": [
       "['Life', 'is', 'too', 'short']"
      ]
     },
     "execution_count": 146,
     "metadata": {},
     "output_type": "execute_result"
    }
   ],
   "source": [
    "# 문자열 나누기\n",
    "# 리스트로 반환해줌\n",
    "a = 'Life is too short'\n",
    "a.split()"
   ]
  },
  {
   "cell_type": "code",
   "execution_count": 145,
   "id": "401b6fdc-5782-4cc1-b800-c074454c7760",
   "metadata": {},
   "outputs": [
    {
     "data": {
      "text/plain": [
       "['a', 'b', 'c', 'd']"
      ]
     },
     "execution_count": 145,
     "metadata": {},
     "output_type": "execute_result"
    }
   ],
   "source": [
    "# 특정 인자를 받을 수도 있음->인자 입력 시 해당 인자를 기준으로 나눠줌\n",
    "b='a:b:c:d'\n",
    "b.split(':')"
   ]
  },
  {
   "cell_type": "markdown",
   "id": "96899b31-fe61-4435-9757-7ec310984345",
   "metadata": {},
   "source": [
    "## 리스트 자료형"
   ]
  },
  {
   "cell_type": "code",
   "execution_count": 1,
   "id": "5d6ef29e-b625-41e1-8d2c-28e9dbbaf2da",
   "metadata": {},
   "outputs": [
    {
     "data": {
      "text/plain": [
       "[1, 3, 5, 7, 9]"
      ]
     },
     "execution_count": 1,
     "metadata": {},
     "output_type": "execute_result"
    }
   ],
   "source": [
    "odd = [1, 3, 5, 7, 9]\n",
    "odd"
   ]
  },
  {
   "cell_type": "code",
   "execution_count": 4,
   "id": "1f29e792-83c4-41c8-b37e-5860f28f1a9f",
   "metadata": {},
   "outputs": [
    {
     "data": {
      "text/plain": [
       "([],\n",
       " [1, 2, 3],\n",
       " ['Life', 'is', 'too', 'short'],\n",
       " [1, 2, 'Life', 'is'],\n",
       " [1, 2, ['Life', 'is']],\n",
       " [])"
      ]
     },
     "execution_count": 4,
     "metadata": {},
     "output_type": "execute_result"
    }
   ],
   "source": [
    "a=[]\n",
    "b=[1,2,3]\n",
    "c=['Life', 'is', 'too', 'short']\n",
    "d=[1,2,'Life','is']\n",
    "e=[1,2,['Life','is']]\n",
    "f=list()\n",
    "a,b,c,d,e,f"
   ]
  },
  {
   "cell_type": "markdown",
   "id": "1eea620d-a5f2-48a4-927e-2c5ffd1034b3",
   "metadata": {},
   "source": [
    "### 리스트 인덱싱"
   ]
  },
  {
   "cell_type": "code",
   "execution_count": 8,
   "id": "579052d2-fb74-40a0-8ab9-45175762eaf0",
   "metadata": {},
   "outputs": [
    {
     "data": {
      "text/plain": [
       "[1, 2, 3]"
      ]
     },
     "execution_count": 8,
     "metadata": {},
     "output_type": "execute_result"
    }
   ],
   "source": [
    "a=[1,2,3]\n",
    "a"
   ]
  },
  {
   "cell_type": "code",
   "execution_count": 9,
   "id": "e24e6791-fe93-49d7-9ba9-7deb21d6a9dc",
   "metadata": {},
   "outputs": [
    {
     "data": {
      "text/plain": [
       "1"
      ]
     },
     "execution_count": 9,
     "metadata": {},
     "output_type": "execute_result"
    }
   ],
   "source": [
    "a[0]"
   ]
  },
  {
   "cell_type": "code",
   "execution_count": 10,
   "id": "a2c13524-d67d-4a7a-8b64-4ced61cd77f1",
   "metadata": {},
   "outputs": [
    {
     "data": {
      "text/plain": [
       "3"
      ]
     },
     "execution_count": 10,
     "metadata": {},
     "output_type": "execute_result"
    }
   ],
   "source": [
    "a[-1]"
   ]
  },
  {
   "cell_type": "code",
   "execution_count": 13,
   "id": "c79d1263-34b2-437f-9ca2-a38bea43cad8",
   "metadata": {},
   "outputs": [
    {
     "data": {
      "text/plain": [
       "4"
      ]
     },
     "execution_count": 13,
     "metadata": {},
     "output_type": "execute_result"
    }
   ],
   "source": [
    "a[0]+a[2]"
   ]
  },
  {
   "cell_type": "code",
   "execution_count": 20,
   "id": "97bf674c-3685-4c0a-a32e-7b50d014e14b",
   "metadata": {},
   "outputs": [
    {
     "data": {
      "text/plain": [
       "[1, 2, 3, ['a', 'b', 'c']]"
      ]
     },
     "execution_count": 20,
     "metadata": {},
     "output_type": "execute_result"
    }
   ],
   "source": [
    "# 이중구조\n",
    "a=[1,2,3,['a', 'b', 'c']]\n",
    "a"
   ]
  },
  {
   "cell_type": "code",
   "execution_count": 15,
   "id": "dbca16eb-ce79-40ca-a98e-0806731279c1",
   "metadata": {},
   "outputs": [
    {
     "data": {
      "text/plain": [
       "4"
      ]
     },
     "execution_count": 15,
     "metadata": {},
     "output_type": "execute_result"
    }
   ],
   "source": [
    "len(a)"
   ]
  },
  {
   "cell_type": "code",
   "execution_count": 16,
   "id": "1e979afd-6eac-4f22-8a44-efe083ed267f",
   "metadata": {},
   "outputs": [
    {
     "data": {
      "text/plain": [
       "['a', 'b', 'c']"
      ]
     },
     "execution_count": 16,
     "metadata": {},
     "output_type": "execute_result"
    }
   ],
   "source": [
    "a[-1]"
   ]
  },
  {
   "cell_type": "code",
   "execution_count": 17,
   "id": "d960027f-e183-40fe-9ef5-9fb6b8f941ee",
   "metadata": {},
   "outputs": [
    {
     "data": {
      "text/plain": [
       "'b'"
      ]
     },
     "execution_count": 17,
     "metadata": {},
     "output_type": "execute_result"
    }
   ],
   "source": [
    "a[-1][1]"
   ]
  },
  {
   "cell_type": "code",
   "execution_count": 21,
   "id": "6e2303a9-8432-4192-b58d-ed9f9c4e8521",
   "metadata": {},
   "outputs": [
    {
     "data": {
      "text/plain": [
       "[1, 2, ['a', 'b', ['Life', 'is']]]"
      ]
     },
     "execution_count": 21,
     "metadata": {},
     "output_type": "execute_result"
    }
   ],
   "source": [
    "# 삼중구조\n",
    "a = [1, 2, ['a', 'b', ['Life', 'is']]]\n",
    "a"
   ]
  },
  {
   "cell_type": "code",
   "execution_count": 19,
   "id": "e2ebf07f-1303-461a-9fa5-743d27fb89ed",
   "metadata": {},
   "outputs": [
    {
     "data": {
      "text/plain": [
       "'Life'"
      ]
     },
     "execution_count": 19,
     "metadata": {},
     "output_type": "execute_result"
    }
   ],
   "source": [
    "a[2][2][0]"
   ]
  },
  {
   "cell_type": "markdown",
   "id": "89fddfd7-b0e4-4d60-a028-994f4c0abc24",
   "metadata": {},
   "source": [
    "### 리스트 슬라이싱"
   ]
  },
  {
   "cell_type": "code",
   "execution_count": 22,
   "id": "eeb8ab23-678e-4d16-be1b-0e3c047b181c",
   "metadata": {},
   "outputs": [],
   "source": [
    "a=[1,2,3,4,5]"
   ]
  },
  {
   "cell_type": "code",
   "execution_count": 23,
   "id": "4ef29abf-0ad5-4263-9517-9da99f4bcb46",
   "metadata": {},
   "outputs": [
    {
     "data": {
      "text/plain": [
       "[1, 2]"
      ]
     },
     "execution_count": 23,
     "metadata": {},
     "output_type": "execute_result"
    }
   ],
   "source": [
    "a[0:2]"
   ]
  },
  {
   "cell_type": "code",
   "execution_count": 28,
   "id": "660af7fd-8a30-4284-91c9-93e1be91ac86",
   "metadata": {},
   "outputs": [
    {
     "data": {
      "text/plain": [
       "[3, ['a', 'b', 'c'], 4]"
      ]
     },
     "execution_count": 28,
     "metadata": {},
     "output_type": "execute_result"
    }
   ],
   "source": [
    "# 중접된 리스트 슬라이싱\n",
    "a=[1,2,3,['a','b','c'],4,5]\n",
    "a[2:5]"
   ]
  },
  {
   "cell_type": "code",
   "execution_count": 29,
   "id": "96093e91-a818-42c2-b89f-75c80e2344bd",
   "metadata": {},
   "outputs": [
    {
     "data": {
      "text/plain": [
       "['a', 'b']"
      ]
     },
     "execution_count": 29,
     "metadata": {},
     "output_type": "execute_result"
    }
   ],
   "source": [
    "# 중첩된 리스트에서 추출 시 인덱싱 먼저한 후 슬라이싱\n",
    "a[3][0:2]"
   ]
  },
  {
   "cell_type": "markdown",
   "id": "0cd0a6b7-6648-4626-a28c-7d33be9882b8",
   "metadata": {},
   "source": [
    "### 연산하기"
   ]
  },
  {
   "cell_type": "code",
   "execution_count": 30,
   "id": "e4c0cf9c-38e3-4d1e-a071-67cb27b896db",
   "metadata": {},
   "outputs": [
    {
     "data": {
      "text/plain": [
       "[1, 2, 3, 4, 5, 6]"
      ]
     },
     "execution_count": 30,
     "metadata": {},
     "output_type": "execute_result"
    }
   ],
   "source": [
    "a=[1,2,3]\n",
    "b=[4,5,6]\n",
    "a+b"
   ]
  },
  {
   "cell_type": "code",
   "execution_count": 32,
   "id": "d8cac622-64af-409d-a7b3-0551ac5f7091",
   "metadata": {},
   "outputs": [
    {
     "data": {
      "text/plain": [
       "int"
      ]
     },
     "execution_count": 32,
     "metadata": {},
     "output_type": "execute_result"
    }
   ],
   "source": [
    "type(a[0])"
   ]
  },
  {
   "cell_type": "code",
   "execution_count": 33,
   "id": "6ccfb342-90fb-4ddc-b226-e98ec54c7019",
   "metadata": {},
   "outputs": [
    {
     "data": {
      "text/plain": [
       "[1, 2, 3, 1, 2, 3, 1, 2, 3]"
      ]
     },
     "execution_count": 33,
     "metadata": {},
     "output_type": "execute_result"
    }
   ],
   "source": [
    "a*3"
   ]
  },
  {
   "cell_type": "code",
   "execution_count": 34,
   "id": "46736fef-f7ea-4bd4-ac80-6d309b95b454",
   "metadata": {},
   "outputs": [
    {
     "ename": "TypeError",
     "evalue": "unsupported operand type(s) for +: 'int' and 'str'",
     "output_type": "error",
     "traceback": [
      "\u001b[1;31m---------------------------------------------------------------------------\u001b[0m",
      "\u001b[1;31mTypeError\u001b[0m                                 Traceback (most recent call last)",
      "Cell \u001b[1;32mIn[34], line 1\u001b[0m\n\u001b[1;32m----> 1\u001b[0m a[\u001b[38;5;241m2\u001b[39m]\u001b[38;5;241m+\u001b[39m\u001b[38;5;124m\"\u001b[39m\u001b[38;5;124mhi\u001b[39m\u001b[38;5;124m\"\u001b[39m\n",
      "\u001b[1;31mTypeError\u001b[0m: unsupported operand type(s) for +: 'int' and 'str'"
     ]
    }
   ],
   "source": [
    "a[2]+\"hi\""
   ]
  },
  {
   "cell_type": "code",
   "execution_count": 35,
   "id": "bfd85cf0-29c4-4c4f-9e3c-668965382e29",
   "metadata": {},
   "outputs": [
    {
     "data": {
      "text/plain": [
       "'3hi'"
      ]
     },
     "execution_count": 35,
     "metadata": {},
     "output_type": "execute_result"
    }
   ],
   "source": [
    "str(a[2])+\"hi\""
   ]
  },
  {
   "cell_type": "markdown",
   "id": "f4f07ea5-e007-4e30-b389-7ee5fce7a77d",
   "metadata": {},
   "source": [
    "### 수정과 삭제"
   ]
  },
  {
   "cell_type": "code",
   "execution_count": 1,
   "id": "a2709d9e-f3d1-4bfa-88d1-49cccba35cae",
   "metadata": {},
   "outputs": [
    {
     "data": {
      "text/plain": [
       "[1, 2, 4]"
      ]
     },
     "execution_count": 1,
     "metadata": {},
     "output_type": "execute_result"
    }
   ],
   "source": [
    "# 수정 : 인덱싱 활용\n",
    "a=[1,2,3]\n",
    "a[2]=4\n",
    "a"
   ]
  },
  {
   "cell_type": "code",
   "execution_count": 2,
   "id": "e98ff8c4-9150-4dac-bb9d-79be4c69baf2",
   "metadata": {},
   "outputs": [
    {
     "data": {
      "text/plain": [
       "[1, 4]"
      ]
     },
     "execution_count": 2,
     "metadata": {},
     "output_type": "execute_result"
    }
   ],
   "source": [
    "# 삭제 : del, 인덱싱 활용\n",
    "del a[1]\n",
    "a"
   ]
  },
  {
   "cell_type": "code",
   "execution_count": 40,
   "id": "6e2956d0-ce8f-4685-bed5-632e241831b5",
   "metadata": {},
   "outputs": [
    {
     "data": {
      "text/plain": [
       "[1, 2]"
      ]
     },
     "execution_count": 40,
     "metadata": {},
     "output_type": "execute_result"
    }
   ],
   "source": [
    "# 삭제 : 여러 요소 삭제도 가능(슬라이싱 활용)\n",
    "a=[1,2,3,4,5]\n",
    "del a[2:]\n",
    "a"
   ]
  },
  {
   "cell_type": "markdown",
   "id": "76c386d6-21c1-4290-9c7e-43ce566a7b1c",
   "metadata": {},
   "source": [
    "### 리스트 관련 함수(메서드)"
   ]
  },
  {
   "cell_type": "code",
   "execution_count": 3,
   "id": "3f8ab0fa-54bd-4db4-a4b6-ff70ef538825",
   "metadata": {},
   "outputs": [
    {
     "data": {
      "text/plain": [
       "[1, 2, 3, 4]"
      ]
     },
     "execution_count": 3,
     "metadata": {},
     "output_type": "execute_result"
    }
   ],
   "source": [
    "# 리스트에 요소 추가하기 : append\n",
    "a=[1,2,3]\n",
    "a.append(4)\n",
    "a"
   ]
  },
  {
   "cell_type": "code",
   "execution_count": 4,
   "id": "f1dc092b-387b-4c3a-8b19-1ca11129eeb6",
   "metadata": {},
   "outputs": [
    {
     "data": {
      "text/plain": [
       "[1, 2, 3, 4, [5, 6]]"
      ]
     },
     "execution_count": 4,
     "metadata": {},
     "output_type": "execute_result"
    }
   ],
   "source": [
    "a.append([5,6,])\n",
    "a"
   ]
  },
  {
   "cell_type": "code",
   "execution_count": 46,
   "id": "87e94675-bffa-4321-b4d6-f6e1d45fd664",
   "metadata": {},
   "outputs": [
    {
     "data": {
      "text/plain": [
       "[1, 2, 3, 4]"
      ]
     },
     "execution_count": 46,
     "metadata": {},
     "output_type": "execute_result"
    }
   ],
   "source": [
    "# 리스트 정렬\n",
    "a=[1,4,3,2]\n",
    "a.sort()\n",
    "a"
   ]
  },
  {
   "cell_type": "code",
   "execution_count": 49,
   "id": "8284df23-81f9-4181-8440-ed15a781c5dc",
   "metadata": {},
   "outputs": [
    {
     "data": {
      "text/plain": [
       "\u001b[1;31mSignature:\u001b[0m \u001b[0ma\u001b[0m\u001b[1;33m.\u001b[0m\u001b[0msort\u001b[0m\u001b[1;33m(\u001b[0m\u001b[1;33m*\u001b[0m\u001b[1;33m,\u001b[0m \u001b[0mkey\u001b[0m\u001b[1;33m=\u001b[0m\u001b[1;32mNone\u001b[0m\u001b[1;33m,\u001b[0m \u001b[0mreverse\u001b[0m\u001b[1;33m=\u001b[0m\u001b[1;32mFalse\u001b[0m\u001b[1;33m)\u001b[0m\u001b[1;33m\u001b[0m\u001b[1;33m\u001b[0m\u001b[0m\n",
       "\u001b[1;31mDocstring:\u001b[0m\n",
       "Sort the list in ascending order and return None.\n",
       "\n",
       "The sort is in-place (i.e. the list itself is modified) and stable (i.e. the\n",
       "order of two equal elements is maintained).\n",
       "\n",
       "If a key function is given, apply it once to each list item and sort them,\n",
       "ascending or descending, according to their function values.\n",
       "\n",
       "The reverse flag can be set to sort in descending order.\n",
       "\u001b[1;31mType:\u001b[0m      builtin_function_or_method"
      ]
     },
     "metadata": {},
     "output_type": "display_data"
    }
   ],
   "source": [
    "# 기본적으로 오름차순으로 정렬되며 함수 이용 시 원본 값이 변경됨\n",
    "a.sort?"
   ]
  },
  {
   "cell_type": "code",
   "execution_count": 48,
   "id": "28f6679e-13b1-4075-affc-848f0e31c710",
   "metadata": {},
   "outputs": [
    {
     "data": {
      "text/plain": [
       "[1, 2, 3, 4]"
      ]
     },
     "execution_count": 48,
     "metadata": {},
     "output_type": "execute_result"
    }
   ],
   "source": [
    "a"
   ]
  },
  {
   "cell_type": "code",
   "execution_count": 53,
   "id": "2252c472-d25a-4e28-99aa-170b6258a543",
   "metadata": {},
   "outputs": [
    {
     "data": {
      "text/plain": [
       "['a', 'b', 'c']"
      ]
     },
     "execution_count": 53,
     "metadata": {},
     "output_type": "execute_result"
    }
   ],
   "source": [
    "a=['a','c','b']\n",
    "a.sort()\n",
    "a"
   ]
  },
  {
   "cell_type": "code",
   "execution_count": 59,
   "id": "ec7aa4f7-3bb0-4cb1-abe3-1a8b92a9b4c8",
   "metadata": {},
   "outputs": [
    {
     "data": {
      "text/plain": [
       "['c', 'b', 'a']"
      ]
     },
     "execution_count": 59,
     "metadata": {},
     "output_type": "execute_result"
    }
   ],
   "source": [
    "# 내림차순도 가능\n",
    "a.sort(reverse=True)\n",
    "a"
   ]
  },
  {
   "cell_type": "code",
   "execution_count": 61,
   "id": "4be189dd-1992-4343-88ff-0423722997bf",
   "metadata": {},
   "outputs": [
    {
     "data": {
      "text/plain": [
       "['b', 'c', 'a']"
      ]
     },
     "execution_count": 61,
     "metadata": {},
     "output_type": "execute_result"
    }
   ],
   "source": [
    "# 리스트 뒤집기 reverse\n",
    "a=['a', 'c', 'b']\n",
    "a.reverse()\n",
    "a"
   ]
  },
  {
   "cell_type": "code",
   "execution_count": 62,
   "id": "0980d6cf-99d4-4df2-b2a4-77b6b3564c9f",
   "metadata": {},
   "outputs": [
    {
     "data": {
      "text/plain": [
       "2"
      ]
     },
     "execution_count": 62,
     "metadata": {},
     "output_type": "execute_result"
    }
   ],
   "source": [
    "# 인덱스 반환 index\n",
    "a=[1,2,3]\n",
    "a.index(3)"
   ]
  },
  {
   "cell_type": "code",
   "execution_count": 63,
   "id": "df81afc5-e1d0-41c1-8b62-e0da64a562b4",
   "metadata": {},
   "outputs": [
    {
     "ename": "ValueError",
     "evalue": "0 is not in list",
     "output_type": "error",
     "traceback": [
      "\u001b[1;31m---------------------------------------------------------------------------\u001b[0m",
      "\u001b[1;31mValueError\u001b[0m                                Traceback (most recent call last)",
      "Cell \u001b[1;32mIn[63], line 1\u001b[0m\n\u001b[1;32m----> 1\u001b[0m a\u001b[38;5;241m.\u001b[39mindex(\u001b[38;5;241m0\u001b[39m)\n",
      "\u001b[1;31mValueError\u001b[0m: 0 is not in list"
     ]
    }
   ],
   "source": [
    "# 없는 값을 반환하려고 하면 오류 발생\n",
    "a.index(0)"
   ]
  },
  {
   "cell_type": "code",
   "execution_count": 64,
   "id": "33983285-9e52-49ab-9318-9e9ffe865c13",
   "metadata": {},
   "outputs": [
    {
     "data": {
      "text/plain": [
       "[4, 1, 2, 3]"
      ]
     },
     "execution_count": 64,
     "metadata": {},
     "output_type": "execute_result"
    }
   ],
   "source": [
    "# 리스트 요소 삽입 insert\n",
    "a=[1,2,3]\n",
    "a.insert(0,4)\n",
    "a"
   ]
  },
  {
   "cell_type": "code",
   "execution_count": 65,
   "id": "e6c6e6d4-0fc1-422f-956b-835a5b850672",
   "metadata": {},
   "outputs": [
    {
     "data": {
      "text/plain": [
       "[4, 1, 2, 5, 3]"
      ]
     },
     "execution_count": 65,
     "metadata": {},
     "output_type": "execute_result"
    }
   ],
   "source": [
    "a.insert(3,5)\n",
    "a"
   ]
  },
  {
   "cell_type": "code",
   "execution_count": 67,
   "id": "583f72b2-2ea0-4c3c-9a9c-547e528ef19c",
   "metadata": {},
   "outputs": [
    {
     "data": {
      "text/plain": [
       "[1, 2, 1, 2, 3]"
      ]
     },
     "execution_count": 67,
     "metadata": {},
     "output_type": "execute_result"
    }
   ],
   "source": [
    "# 리스트 요소 제거 remove\n",
    "# 값이 중복되어 있을 경우 먼저 나온 값만 삭제됨\n",
    "a=[1,2,3,1,2,3]\n",
    "a.remove(3)\n",
    "a"
   ]
  },
  {
   "cell_type": "code",
   "execution_count": 70,
   "id": "827f5f0d-960d-4421-8047-4d51fa2ccf84",
   "metadata": {},
   "outputs": [
    {
     "data": {
      "text/plain": [
       "3"
      ]
     },
     "execution_count": 70,
     "metadata": {},
     "output_type": "execute_result"
    }
   ],
   "source": [
    "# 리스트 요소 끄집어 내기 pop\n",
    "# pop(x)는 리스트의 x번째 요소를 리턴하고 그 요소는 삭제함\n",
    "a=[1,2,3]\n",
    "a.pop()"
   ]
  },
  {
   "cell_type": "code",
   "execution_count": 69,
   "id": "aa2b600d-2512-4aa3-9460-0e98b8b34875",
   "metadata": {},
   "outputs": [
    {
     "data": {
      "text/plain": [
       "[1, 2]"
      ]
     },
     "execution_count": 69,
     "metadata": {},
     "output_type": "execute_result"
    }
   ],
   "source": [
    "a"
   ]
  },
  {
   "cell_type": "code",
   "execution_count": 71,
   "id": "f8ba36f8-f46a-400f-9d26-66d3a7370585",
   "metadata": {},
   "outputs": [
    {
     "data": {
      "text/plain": [
       "2"
      ]
     },
     "execution_count": 71,
     "metadata": {},
     "output_type": "execute_result"
    }
   ],
   "source": [
    "# 리스트에 포함된 요소 x의 개수 세기 count\n",
    "a=[1,2,3,1]\n",
    "a.count(1)"
   ]
  },
  {
   "cell_type": "code",
   "execution_count": 73,
   "id": "df311645-9d5a-4397-840a-0fa2cb72bea0",
   "metadata": {},
   "outputs": [
    {
     "data": {
      "text/plain": [
       "[1, 2, 3, 4, 5]"
      ]
     },
     "execution_count": 73,
     "metadata": {},
     "output_type": "execute_result"
    }
   ],
   "source": [
    "# 리스트 확장 extend\n",
    "a=[1,2,3]\n",
    "a.extend([4,5])\n",
    "a"
   ]
  },
  {
   "cell_type": "code",
   "execution_count": 75,
   "id": "b4a4810b-052a-426e-b465-3e92e03cd5b6",
   "metadata": {},
   "outputs": [
    {
     "data": {
      "text/plain": [
       "[1, 2, 3, [4, 5]]"
      ]
     },
     "execution_count": 75,
     "metadata": {},
     "output_type": "execute_result"
    }
   ],
   "source": [
    "a=[1,2,3]\n",
    "a.append([4,5])\n",
    "a"
   ]
  },
  {
   "cell_type": "markdown",
   "id": "886f442f-4bd9-4083-bb29-b2df73ed8a88",
   "metadata": {},
   "source": [
    "## 튜플"
   ]
  },
  {
   "cell_type": "code",
   "execution_count": 81,
   "id": "76072e84-9efb-40b8-9165-6ebb99883a78",
   "metadata": {},
   "outputs": [
    {
     "data": {
      "text/plain": [
       "((), (1,), (1, 2, 3), (1, 2, 3), ('a', 'b', ('ab', 'cd')))"
      ]
     },
     "execution_count": 81,
     "metadata": {},
     "output_type": "execute_result"
    }
   ],
   "source": [
    "# 튜플은 수정 불가\n",
    "# 데이터 이동할 때 활용(실수로라도 데이터가 변경되면 안되기 때문)\n",
    "# 함수의 입출력에도 활용됨(함수를 입출력하는 과정에서 값이 변하면 안되기 때문)\n",
    "t1 = ()\n",
    "t2 = (1,)\n",
    "t3 = (1, 2, 3)\n",
    "t4 = 1, 2, 3\n",
    "t5 = ('a', 'b', ('ab', 'cd'))\n",
    "t1, t2, t3,t4,t5"
   ]
  },
  {
   "cell_type": "code",
   "execution_count": 77,
   "id": "3ccbdb66-99ea-4eef-8618-4d24046a772b",
   "metadata": {},
   "outputs": [
    {
     "data": {
      "text/plain": [
       "(tuple, tuple, tuple, tuple, tuple)"
      ]
     },
     "execution_count": 77,
     "metadata": {},
     "output_type": "execute_result"
    }
   ],
   "source": [
    "type(t1), type(t2),type(t3),type(t4),type(t5)"
   ]
  },
  {
   "cell_type": "code",
   "execution_count": 80,
   "id": "1d219c6b-ec35-4d90-95b8-9eee00a8e6bc",
   "metadata": {},
   "outputs": [
    {
     "data": {
      "text/plain": [
       "(1, int)"
      ]
     },
     "execution_count": 80,
     "metadata": {},
     "output_type": "execute_result"
    }
   ],
   "source": [
    "# 반드시 하나 이상의 값을 넣어줘야 튜플로 인정됨\n",
    "# t2처럼 넣을 값이 없다면 공백으로 넣기\n",
    "t6=(1)\n",
    "t6, type(t6)"
   ]
  },
  {
   "cell_type": "markdown",
   "id": "bd292912-7c1c-4219-8d12-11f23ab35b17",
   "metadata": {},
   "source": [
    "### 튜플 요솟값 삭제"
   ]
  },
  {
   "cell_type": "code",
   "execution_count": 82,
   "id": "f39668b9-7ad7-4b51-878d-2d90128acbba",
   "metadata": {},
   "outputs": [
    {
     "data": {
      "text/plain": [
       "(1, 2, 'a', 'b')"
      ]
     },
     "execution_count": 82,
     "metadata": {},
     "output_type": "execute_result"
    }
   ],
   "source": [
    "t1=(1,2,'a','b')\n",
    "t1"
   ]
  },
  {
   "cell_type": "code",
   "execution_count": 84,
   "id": "29cb8916-6289-47ad-8b78-15e25f44db9b",
   "metadata": {},
   "outputs": [
    {
     "ename": "TypeError",
     "evalue": "'tuple' object doesn't support item deletion",
     "output_type": "error",
     "traceback": [
      "\u001b[1;31m---------------------------------------------------------------------------\u001b[0m",
      "\u001b[1;31mTypeError\u001b[0m                                 Traceback (most recent call last)",
      "Cell \u001b[1;32mIn[84], line 2\u001b[0m\n\u001b[0;32m      1\u001b[0m \u001b[38;5;66;03m# 튜플 요솟값은 삭제 불가->오류 발생\u001b[39;00m\n\u001b[1;32m----> 2\u001b[0m \u001b[38;5;28;01mdel\u001b[39;00m t1[\u001b[38;5;241m0\u001b[39m]\n",
      "\u001b[1;31mTypeError\u001b[0m: 'tuple' object doesn't support item deletion"
     ]
    }
   ],
   "source": [
    "# 튜플 요솟값은 삭제 불가->오류 발생\n",
    "del t1[0]"
   ]
  },
  {
   "cell_type": "code",
   "execution_count": 85,
   "id": "c7dfcb60-59b0-4835-a6af-2d396b9ce989",
   "metadata": {},
   "outputs": [
    {
     "ename": "TypeError",
     "evalue": "'tuple' object does not support item assignment",
     "output_type": "error",
     "traceback": [
      "\u001b[1;31m---------------------------------------------------------------------------\u001b[0m",
      "\u001b[1;31mTypeError\u001b[0m                                 Traceback (most recent call last)",
      "Cell \u001b[1;32mIn[85], line 2\u001b[0m\n\u001b[0;32m      1\u001b[0m \u001b[38;5;66;03m# 튜플 요솟값 변경 불가->오류 발생\u001b[39;00m\n\u001b[1;32m----> 2\u001b[0m t1[\u001b[38;5;241m0\u001b[39m]\u001b[38;5;241m=\u001b[39m\u001b[38;5;124m'\u001b[39m\u001b[38;5;124mc\u001b[39m\u001b[38;5;124m'\u001b[39m\n",
      "\u001b[1;31mTypeError\u001b[0m: 'tuple' object does not support item assignment"
     ]
    }
   ],
   "source": [
    "# 튜플 요솟값 변경 불가->오류 발생\n",
    "t1[0]='c'"
   ]
  },
  {
   "cell_type": "markdown",
   "id": "8f6ba936-9e4e-412d-a5ea-7708316f7efe",
   "metadata": {},
   "source": [
    "### 튜플 다루기"
   ]
  },
  {
   "cell_type": "code",
   "execution_count": 86,
   "id": "1b262b80-5ffc-4f4f-98b0-445d929bdb76",
   "metadata": {},
   "outputs": [
    {
     "data": {
      "text/plain": [
       "1"
      ]
     },
     "execution_count": 86,
     "metadata": {},
     "output_type": "execute_result"
    }
   ],
   "source": [
    "# 튜플은 시퀀스 자료형->인덱싱과 슬라이싱 가능\n",
    "t1[0]"
   ]
  },
  {
   "cell_type": "code",
   "execution_count": 87,
   "id": "4c2c3449-ce2b-48fe-9008-fb4d1a9134ab",
   "metadata": {},
   "outputs": [
    {
     "data": {
      "text/plain": [
       "(2, 'a', 'b')"
      ]
     },
     "execution_count": 87,
     "metadata": {},
     "output_type": "execute_result"
    }
   ],
   "source": [
    "t1[1:]"
   ]
  },
  {
   "cell_type": "code",
   "execution_count": 89,
   "id": "df6c564e-9d1a-435f-bd21-a527cc2bdae7",
   "metadata": {},
   "outputs": [
    {
     "data": {
      "text/plain": [
       "(1, 2, 'a', 'b', 3, 4)"
      ]
     },
     "execution_count": 89,
     "metadata": {},
     "output_type": "execute_result"
    }
   ],
   "source": [
    "# 연산자 사용 시 문자열, 리스트형과 동일하게 적용됨\n",
    "t2=(3,4)\n",
    "t1+t2"
   ]
  },
  {
   "cell_type": "code",
   "execution_count": 90,
   "id": "4634fea4-a206-44bf-8dc8-13e522c5bc07",
   "metadata": {},
   "outputs": [
    {
     "data": {
      "text/plain": [
       "(3, 4, 3, 4, 3, 4)"
      ]
     },
     "execution_count": 90,
     "metadata": {},
     "output_type": "execute_result"
    }
   ],
   "source": [
    "t2*3"
   ]
  },
  {
   "cell_type": "code",
   "execution_count": 91,
   "id": "52f23aa9-8328-4132-a7a8-fe21691844ff",
   "metadata": {},
   "outputs": [
    {
     "data": {
      "text/plain": [
       "4"
      ]
     },
     "execution_count": 91,
     "metadata": {},
     "output_type": "execute_result"
    }
   ],
   "source": [
    "# 튜플의 경우 요솟값을 변형할 수 없기 때문에 내장 함수가 별로 없음\n",
    "# 튜플 길이 구하는 len은 사용 가능\n",
    "len(t1)"
   ]
  },
  {
   "cell_type": "markdown",
   "id": "03d3c850-f350-4af3-a995-cc59c6f4037e",
   "metadata": {},
   "source": [
    "## 딕셔너리"
   ]
  },
  {
   "cell_type": "code",
   "execution_count": 92,
   "id": "4e3bc2a1-14ba-4b1c-b1a3-a96eb800b2f2",
   "metadata": {},
   "outputs": [
    {
     "data": {
      "text/plain": [
       "{'name': 'pay', 'phone': '010-1234-1234', 'birth': '1118'}"
      ]
     },
     "execution_count": 92,
     "metadata": {},
     "output_type": "execute_result"
    }
   ],
   "source": [
    "dic={'name':'pay', 'phone':'010-1234-1234', 'birth':'1118'}\n",
    "dic"
   ]
  },
  {
   "cell_type": "code",
   "execution_count": 95,
   "id": "062e74d2-6923-4e79-8e9b-f2f5475fc9e8",
   "metadata": {},
   "outputs": [
    {
     "data": {
      "text/plain": [
       "{'a': [1, 2, 3]}"
      ]
     },
     "execution_count": 95,
     "metadata": {},
     "output_type": "execute_result"
    }
   ],
   "source": [
    "# value에 리스트도 넣을 수 있음\n",
    "a={'a':[1,2,3]}\n",
    "a"
   ]
  },
  {
   "cell_type": "code",
   "execution_count": 96,
   "id": "f0e55c24-dedc-4266-95bf-42c3bde640c1",
   "metadata": {},
   "outputs": [
    {
     "ename": "TypeError",
     "evalue": "unhashable type: 'list'",
     "output_type": "error",
     "traceback": [
      "\u001b[1;31m---------------------------------------------------------------------------\u001b[0m",
      "\u001b[1;31mTypeError\u001b[0m                                 Traceback (most recent call last)",
      "Cell \u001b[1;32mIn[96], line 3\u001b[0m\n\u001b[0;32m      1\u001b[0m \u001b[38;5;66;03m# key에는 리스트를 넣을 수 없음->key는 1개만 존재해야하고 불변해야 함\u001b[39;00m\n\u001b[0;32m      2\u001b[0m \u001b[38;5;66;03m# 하지만 리스트는 여러 요소가 들어가 있으며 변할 수 있기 때문에 key값에 올 수 없음\u001b[39;00m\n\u001b[1;32m----> 3\u001b[0m b\u001b[38;5;241m=\u001b[39m{[\u001b[38;5;241m1\u001b[39m,\u001b[38;5;241m2\u001b[39m,\u001b[38;5;241m3\u001b[39m]:\u001b[38;5;124m'\u001b[39m\u001b[38;5;124ma\u001b[39m\u001b[38;5;124m'\u001b[39m}\n\u001b[0;32m      4\u001b[0m b\n",
      "\u001b[1;31mTypeError\u001b[0m: unhashable type: 'list'"
     ]
    }
   ],
   "source": [
    "# key에는 리스트를 넣을 수 없음->key는 1개만 존재해야하고 불변해야 함\n",
    "# 하지만 리스트는 여러 요소가 들어가 있으며 변할 수 있기 때문에 key값에 올 수 없음\n",
    "b={[1,2,3]:'a'}\n",
    "b"
   ]
  },
  {
   "cell_type": "markdown",
   "id": "1d0cd424-6297-49fc-b591-50e3adc096e9",
   "metadata": {},
   "source": [
    "### 딕셔너리 쌍 추가, 삭제하기"
   ]
  },
  {
   "cell_type": "code",
   "execution_count": 111,
   "id": "2b4f9bf8-72b0-42d6-9d79-05505bab788d",
   "metadata": {},
   "outputs": [
    {
     "data": {
      "text/plain": [
       "{1: 'a'}"
      ]
     },
     "execution_count": 111,
     "metadata": {},
     "output_type": "execute_result"
    }
   ],
   "source": [
    "# 여러가지 요소를 추가할 수 있고 key만 알면 조회가 가능하기 때문에 많이 사용함\n",
    "a={1:'a'}\n",
    "a"
   ]
  },
  {
   "cell_type": "code",
   "execution_count": 112,
   "id": "a55a4910-e051-4de8-a6a9-1e0f7f4fe353",
   "metadata": {},
   "outputs": [
    {
     "data": {
      "text/plain": [
       "{1: 'a', 2: 'b'}"
      ]
     },
     "execution_count": 112,
     "metadata": {},
     "output_type": "execute_result"
    }
   ],
   "source": [
    "a[2]='b'\n",
    "a"
   ]
  },
  {
   "cell_type": "code",
   "execution_count": 113,
   "id": "bc948a69-b9da-4532-844b-80e0a5f87524",
   "metadata": {},
   "outputs": [
    {
     "data": {
      "text/plain": [
       "{1: 'a', 2: 'b', 'name': 'pay'}"
      ]
     },
     "execution_count": 113,
     "metadata": {},
     "output_type": "execute_result"
    }
   ],
   "source": [
    "a['name']='pay'\n",
    "a"
   ]
  },
  {
   "cell_type": "code",
   "execution_count": 114,
   "id": "bbc7f50f-4ab5-4598-a594-bf18e5ddb114",
   "metadata": {},
   "outputs": [
    {
     "data": {
      "text/plain": [
       "{1: 'a', 2: 'b', 'name': 'pay', 3: [1, 2, 3]}"
      ]
     },
     "execution_count": 114,
     "metadata": {},
     "output_type": "execute_result"
    }
   ],
   "source": [
    "a[3]=[1,2,3]\n",
    "a"
   ]
  },
  {
   "cell_type": "code",
   "execution_count": 115,
   "id": "aa5a8add-800b-4cfb-a804-0504265b7d7d",
   "metadata": {},
   "outputs": [
    {
     "data": {
      "text/plain": [
       "{2: 'b', 'name': 'pay', 3: [1, 2, 3]}"
      ]
     },
     "execution_count": 115,
     "metadata": {},
     "output_type": "execute_result"
    }
   ],
   "source": [
    "# 딕셔너리 삭제하기\n",
    "# 1번 키를 삭제하고 싶다는 의미\n",
    "del a[1]\n",
    "a"
   ]
  },
  {
   "cell_type": "markdown",
   "id": "7c2d857c-0508-4988-90ad-0ed21cc02c50",
   "metadata": {},
   "source": [
    "### 딕셔너리 다루기"
   ]
  },
  {
   "cell_type": "code",
   "execution_count": 116,
   "id": "2bfec070-eff0-4157-82cc-e3c837dbf00d",
   "metadata": {},
   "outputs": [
    {
     "data": {
      "text/plain": [
       "10"
      ]
     },
     "execution_count": 116,
     "metadata": {},
     "output_type": "execute_result"
    }
   ],
   "source": [
    "# key를 사용해서 value 얻기\n",
    "grade={'pay':10,'jullet':99}\n",
    "grade['pay']"
   ]
  },
  {
   "cell_type": "markdown",
   "id": "a61971fc-594c-4b94-a5b0-070d1315089e",
   "metadata": {},
   "source": [
    "### 딕셔너리 관련 함수"
   ]
  },
  {
   "cell_type": "code",
   "execution_count": 117,
   "id": "b819e939-3b1f-48b1-91b5-e633b6769cfd",
   "metadata": {},
   "outputs": [
    {
     "data": {
      "text/plain": [
       "{'name': 'pay', 'phone': '010-1234-1234', 'birth': '1118'}"
      ]
     },
     "execution_count": 117,
     "metadata": {},
     "output_type": "execute_result"
    }
   ],
   "source": [
    "# key 리스트 만들기 - keys\n",
    "dic"
   ]
  },
  {
   "cell_type": "code",
   "execution_count": 118,
   "id": "1766d539-f784-4865-a159-77d5a12009be",
   "metadata": {},
   "outputs": [
    {
     "data": {
      "text/plain": [
       "dict_keys(['name', 'phone', 'birth'])"
      ]
     },
     "execution_count": 118,
     "metadata": {},
     "output_type": "execute_result"
    }
   ],
   "source": [
    "dic.keys()"
   ]
  },
  {
   "cell_type": "code",
   "execution_count": 123,
   "id": "6150d8f5-0a1a-4656-9698-27d1e2d19f0d",
   "metadata": {},
   "outputs": [
    {
     "name": "stdout",
     "output_type": "stream",
     "text": [
      "name\n",
      "phone\n",
      "birth\n"
     ]
    }
   ],
   "source": [
    "# 추후 반복문 작성 시 사용\n",
    "# for 반복문(dic의 key 값을 따로따로 뽑고 싶을 때 이용)\n",
    "for k in dic.keys():\n",
    "    print(k)"
   ]
  },
  {
   "cell_type": "code",
   "execution_count": 122,
   "id": "a3e949af-d7ba-4f1f-b528-d4fc9078cdf2",
   "metadata": {},
   "outputs": [
    {
     "name": "stdout",
     "output_type": "stream",
     "text": [
      "pay\n",
      "010-1234-1234\n",
      "1118\n"
     ]
    }
   ],
   "source": [
    "for k in dic.keys():\n",
    "    print(dic[k])"
   ]
  },
  {
   "cell_type": "code",
   "execution_count": 125,
   "id": "ae35df38-7e7d-42c7-94aa-7e543bd672be",
   "metadata": {},
   "outputs": [
    {
     "data": {
      "text/plain": [
       "dict_keys"
      ]
     },
     "execution_count": 125,
     "metadata": {},
     "output_type": "execute_result"
    }
   ],
   "source": [
    "# dic.keys()의 값은 리스트처럼 보이지만 객체임\n",
    "# 따라서 리스트로 뽑기 위해선 list로 변수형 변경 필요\n",
    "type(dic.keys())"
   ]
  },
  {
   "cell_type": "code",
   "execution_count": 126,
   "id": "93de2ac3-7bd3-4c27-a794-1b10bf84cf59",
   "metadata": {},
   "outputs": [
    {
     "data": {
      "text/plain": [
       "['name', 'phone', 'birth']"
      ]
     },
     "execution_count": 126,
     "metadata": {},
     "output_type": "execute_result"
    }
   ],
   "source": [
    "list(dic.keys())"
   ]
  },
  {
   "cell_type": "code",
   "execution_count": 127,
   "id": "976a77e9-5c8a-4763-a628-52ce8fcf7e6d",
   "metadata": {},
   "outputs": [
    {
     "data": {
      "text/plain": [
       "dict_values(['pay', '010-1234-1234', '1118'])"
      ]
     },
     "execution_count": 127,
     "metadata": {},
     "output_type": "execute_result"
    }
   ],
   "source": [
    "# value 리스트 만들기 values\n",
    "dic.values()"
   ]
  },
  {
   "cell_type": "code",
   "execution_count": 128,
   "id": "88bab9e6-99ff-4e59-b2da-ccf2c5fb68e6",
   "metadata": {},
   "outputs": [
    {
     "data": {
      "text/plain": [
       "dict_items([('name', 'pay'), ('phone', '010-1234-1234'), ('birth', '1118')])"
      ]
     },
     "execution_count": 128,
     "metadata": {},
     "output_type": "execute_result"
    }
   ],
   "source": [
    "# key, value 쌍 얻기 items\n",
    "dic.items()"
   ]
  },
  {
   "cell_type": "code",
   "execution_count": 129,
   "id": "f8ee61e9-e959-4fb5-aa58-2738e49a97fe",
   "metadata": {},
   "outputs": [
    {
     "data": {
      "text/plain": [
       "{}"
      ]
     },
     "execution_count": 129,
     "metadata": {},
     "output_type": "execute_result"
    }
   ],
   "source": [
    "# key:value 쌍 모두 지우기 clear\n",
    "dic.clear()\n",
    "dic"
   ]
  },
  {
   "cell_type": "code",
   "execution_count": 130,
   "id": "8f021152-5c6c-4dfc-b6c3-0cbe112f9bb2",
   "metadata": {},
   "outputs": [
    {
     "data": {
      "text/plain": [
       "{'name': 'pey', 'phone': '010-9999-1234', 'birth': '1118'}"
      ]
     },
     "execution_count": 130,
     "metadata": {},
     "output_type": "execute_result"
    }
   ],
   "source": [
    "# key로 value 얻기 get\n",
    "a = {'name': 'pey', 'phone': '010-9999-1234', 'birth': '1118'}\n",
    "a"
   ]
  },
  {
   "cell_type": "code",
   "execution_count": 131,
   "id": "1531b65f-00a4-4b42-b33a-b8142864f14d",
   "metadata": {},
   "outputs": [
    {
     "data": {
      "text/plain": [
       "'pey'"
      ]
     },
     "execution_count": 131,
     "metadata": {},
     "output_type": "execute_result"
    }
   ],
   "source": [
    "a.get('name')"
   ]
  },
  {
   "cell_type": "code",
   "execution_count": 133,
   "id": "d5245335-0921-4bdf-8f4a-3658b1751817",
   "metadata": {},
   "outputs": [
    {
     "data": {
      "text/plain": [
       "'pey'"
      ]
     },
     "execution_count": 133,
     "metadata": {},
     "output_type": "execute_result"
    }
   ],
   "source": [
    "# 인덱싱으로 값을 찾는 것과 get의 차이\n",
    "# 인덱싱으로 찾을 경우 없는 값을 넣으면 오류 발생\n",
    "# get의 경우 없는 값을 넣으면 아무 값도 출력하지 않음\n",
    "a['name']"
   ]
  },
  {
   "cell_type": "code",
   "execution_count": 134,
   "id": "7e807b64-1644-4769-ab6f-434baa412f31",
   "metadata": {},
   "outputs": [],
   "source": [
    "a.get('nokey')"
   ]
  },
  {
   "cell_type": "code",
   "execution_count": 135,
   "id": "573238bd-7983-452f-924a-e904085e8097",
   "metadata": {},
   "outputs": [
    {
     "ename": "KeyError",
     "evalue": "'nokey'",
     "output_type": "error",
     "traceback": [
      "\u001b[1;31m---------------------------------------------------------------------------\u001b[0m",
      "\u001b[1;31mKeyError\u001b[0m                                  Traceback (most recent call last)",
      "Cell \u001b[1;32mIn[135], line 1\u001b[0m\n\u001b[1;32m----> 1\u001b[0m a[\u001b[38;5;124m'\u001b[39m\u001b[38;5;124mnokey\u001b[39m\u001b[38;5;124m'\u001b[39m]\n",
      "\u001b[1;31mKeyError\u001b[0m: 'nokey'"
     ]
    }
   ],
   "source": [
    "a['nokey']"
   ]
  },
  {
   "cell_type": "code",
   "execution_count": 136,
   "id": "bca50391-dd46-4cd3-b803-5ae21a2a47c0",
   "metadata": {},
   "outputs": [
    {
     "data": {
      "text/plain": [
       "'defaultkey'"
      ]
     },
     "execution_count": 136,
     "metadata": {},
     "output_type": "execute_result"
    }
   ],
   "source": [
    "# get의 경우 없는 값을 찾았을 때 어떤 값이 노출될지 설정 가능\n",
    "a.get('nokey', 'defaultkey')"
   ]
  },
  {
   "cell_type": "code",
   "execution_count": 138,
   "id": "232f4f62-5392-4559-9cbc-989d73ea2bbf",
   "metadata": {},
   "outputs": [
    {
     "data": {
      "text/plain": [
       "True"
      ]
     },
     "execution_count": 138,
     "metadata": {},
     "output_type": "execute_result"
    }
   ],
   "source": [
    "# 해당 key가 딕셔너리 안에 있는지 조사하기 in\n",
    "# 있을 경우 True, 없을 경우 False 출력\n",
    "'name' in a"
   ]
  },
  {
   "cell_type": "code",
   "execution_count": 139,
   "id": "e5d16d6a-ec5f-4c01-9b98-8070a438c395",
   "metadata": {},
   "outputs": [
    {
     "data": {
      "text/plain": [
       "False"
      ]
     },
     "execution_count": 139,
     "metadata": {},
     "output_type": "execute_result"
    }
   ],
   "source": [
    "'email' in a"
   ]
  },
  {
   "cell_type": "markdown",
   "id": "6dbe0d03-ddf5-48f9-a815-7b9dd0f54157",
   "metadata": {},
   "source": [
    "## 집합"
   ]
  },
  {
   "cell_type": "code",
   "execution_count": 140,
   "id": "56906557-b59f-4bdc-80c2-ad15b619c319",
   "metadata": {},
   "outputs": [
    {
     "data": {
      "text/plain": [
       "({1, 2, 3}, set)"
      ]
     },
     "execution_count": 140,
     "metadata": {},
     "output_type": "execute_result"
    }
   ],
   "source": [
    "# set 키워드를 사용해서 만들 수 있음\n",
    "s1=set([1,2,3])\n",
    "s1, type(s1)"
   ]
  },
  {
   "cell_type": "code",
   "execution_count": 143,
   "id": "8e052430-d975-47e3-a08d-286d2ff4309b",
   "metadata": {},
   "outputs": [
    {
     "data": {
      "text/plain": [
       "{'H', 'e', 'l', 'o'}"
      ]
     },
     "execution_count": 143,
     "metadata": {},
     "output_type": "execute_result"
    }
   ],
   "source": [
    "# 요소 별로 분리해주며 중복을 없애줌(+순서가 없음)\n",
    "s2=set(\"Hello\")\n",
    "s2"
   ]
  },
  {
   "cell_type": "code",
   "execution_count": 144,
   "id": "419f7b9e-bda2-4f58-a970-b9efb7bef7d4",
   "metadata": {},
   "outputs": [
    {
     "ename": "TypeError",
     "evalue": "'set' object is not subscriptable",
     "output_type": "error",
     "traceback": [
      "\u001b[1;31m---------------------------------------------------------------------------\u001b[0m",
      "\u001b[1;31mTypeError\u001b[0m                                 Traceback (most recent call last)",
      "Cell \u001b[1;32mIn[144], line 2\u001b[0m\n\u001b[0;32m      1\u001b[0m \u001b[38;5;66;03m# 순서가 없음->인덱싱 불가\u001b[39;00m\n\u001b[1;32m----> 2\u001b[0m s1[\u001b[38;5;241m0\u001b[39m]\n",
      "\u001b[1;31mTypeError\u001b[0m: 'set' object is not subscriptable"
     ]
    }
   ],
   "source": [
    "# 순서가 없음->인덱싱 불가\n",
    "s1[0]"
   ]
  },
  {
   "cell_type": "code",
   "execution_count": 147,
   "id": "9c304c44-f7c6-401a-9e1a-22da2e498ef7",
   "metadata": {},
   "outputs": [
    {
     "data": {
      "text/plain": [
       "[1, 2, 3]"
      ]
     },
     "execution_count": 147,
     "metadata": {},
     "output_type": "execute_result"
    }
   ],
   "source": [
    "# 인덱싱하고 싶을 땐 list로 형변환 필요\n",
    "l1=list(s1)\n",
    "l1"
   ]
  },
  {
   "cell_type": "code",
   "execution_count": 146,
   "id": "89c62025-2ee6-4be9-b315-eb2bd84439c7",
   "metadata": {},
   "outputs": [
    {
     "data": {
      "text/plain": [
       "1"
      ]
     },
     "execution_count": 146,
     "metadata": {},
     "output_type": "execute_result"
    }
   ],
   "source": [
    "l1[0]"
   ]
  },
  {
   "cell_type": "code",
   "execution_count": 148,
   "id": "cc1b4470-9668-4aca-9b0e-8cd51a0fa4d8",
   "metadata": {},
   "outputs": [
    {
     "data": {
      "text/plain": [
       "(1, 2, 3)"
      ]
     },
     "execution_count": 148,
     "metadata": {},
     "output_type": "execute_result"
    }
   ],
   "source": [
    "tuple(s1)"
   ]
  },
  {
   "cell_type": "code",
   "execution_count": 149,
   "id": "8238980f-e785-47f1-aa65-23367490edb4",
   "metadata": {},
   "outputs": [],
   "source": [
    "s1=set([1,2,3,4,5,6])\n",
    "s2=set([4,5,6,7,8,9])"
   ]
  },
  {
   "cell_type": "markdown",
   "id": "62fe5dde-8c60-48da-9f66-c8546415b43c",
   "metadata": {},
   "source": [
    "### 교집합 구하기"
   ]
  },
  {
   "cell_type": "code",
   "execution_count": 153,
   "id": "3a80bfb2-65da-46c0-bc64-9273a5533a74",
   "metadata": {},
   "outputs": [
    {
     "data": {
      "text/plain": [
       "{4, 5, 6}"
      ]
     },
     "execution_count": 153,
     "metadata": {},
     "output_type": "execute_result"
    }
   ],
   "source": [
    "# 교집합 구하기 연산자(&) 활용\n",
    "s1&s2"
   ]
  },
  {
   "cell_type": "code",
   "execution_count": 155,
   "id": "46545957-1146-4d30-891e-af0cd42464be",
   "metadata": {},
   "outputs": [
    {
     "data": {
      "text/plain": [
       "{4, 5, 6}"
      ]
     },
     "execution_count": 155,
     "metadata": {},
     "output_type": "execute_result"
    }
   ],
   "source": [
    "# 교집합 구하기 메서드(객체 함수) 활용\n",
    "s1.intersection(s2)"
   ]
  },
  {
   "cell_type": "markdown",
   "id": "4e64d4d9-cb38-4790-9f9a-367399de4598",
   "metadata": {},
   "source": [
    "### 합집합 구하기"
   ]
  },
  {
   "cell_type": "code",
   "execution_count": 154,
   "id": "0cd70b01-359c-4b88-be4e-b7ab423e1fc4",
   "metadata": {},
   "outputs": [
    {
     "data": {
      "text/plain": [
       "{1, 2, 3, 4, 5, 6, 7, 8, 9}"
      ]
     },
     "execution_count": 154,
     "metadata": {},
     "output_type": "execute_result"
    }
   ],
   "source": [
    "# 합집합 구하기 연산자(|) 활용\n",
    "s1|s2"
   ]
  },
  {
   "cell_type": "code",
   "execution_count": 157,
   "id": "7f782012-18a4-488a-9fc5-ae0cf3b32618",
   "metadata": {},
   "outputs": [
    {
     "data": {
      "text/plain": [
       "{1, 2, 3, 4, 5, 6, 7, 8, 9}"
      ]
     },
     "execution_count": 157,
     "metadata": {},
     "output_type": "execute_result"
    }
   ],
   "source": [
    "# 합집합 구하기 메서드 활용\n",
    "s1.union(s2)"
   ]
  },
  {
   "cell_type": "markdown",
   "id": "eb6ff891-2d22-42a1-8e49-2f89aed003f5",
   "metadata": {},
   "source": [
    "### 차집합 구하기"
   ]
  },
  {
   "cell_type": "code",
   "execution_count": 159,
   "id": "26decee8-0e42-495f-bda6-d6e2f837f576",
   "metadata": {},
   "outputs": [
    {
     "data": {
      "text/plain": [
       "{1, 2, 3}"
      ]
     },
     "execution_count": 159,
     "metadata": {},
     "output_type": "execute_result"
    }
   ],
   "source": [
    "# 차집합 구하기 연산자(-) 활용\n",
    "s1-s2"
   ]
  },
  {
   "cell_type": "code",
   "execution_count": 160,
   "id": "4d5f406d-0bb7-49f4-ab4f-1c676d62da53",
   "metadata": {},
   "outputs": [
    {
     "data": {
      "text/plain": [
       "{1, 2, 3}"
      ]
     },
     "execution_count": 160,
     "metadata": {},
     "output_type": "execute_result"
    }
   ],
   "source": [
    "# 차집합 구하기 메서드 활용\n",
    "s1.difference(s2)"
   ]
  },
  {
   "cell_type": "markdown",
   "id": "73501268-fc7e-4834-afa9-75a85bf62acd",
   "metadata": {},
   "source": [
    "### 집합 관련 함수"
   ]
  },
  {
   "cell_type": "code",
   "execution_count": 161,
   "id": "f31c72e7-dc0d-4da3-b265-adedefa758a4",
   "metadata": {},
   "outputs": [
    {
     "data": {
      "text/plain": [
       "{0, 1, 2, 3, 4, 5, 6}"
      ]
     },
     "execution_count": 161,
     "metadata": {},
     "output_type": "execute_result"
    }
   ],
   "source": [
    "# 값 1개 추가하기 add\n",
    "s1.add(0)\n",
    "s1"
   ]
  },
  {
   "cell_type": "code",
   "execution_count": 162,
   "id": "9b417d89-8fea-4b82-a4a9-1318d2d0c840",
   "metadata": {},
   "outputs": [
    {
     "data": {
      "text/plain": [
       "{0, 1, 2, 3, 4, 5, 6, 7, 8, 9}"
      ]
     },
     "execution_count": 162,
     "metadata": {},
     "output_type": "execute_result"
    }
   ],
   "source": [
    "# 값 여러개 추가하기 update\n",
    "s1.update([7,8,9])\n",
    "s1"
   ]
  },
  {
   "cell_type": "code",
   "execution_count": 163,
   "id": "89f4671e-f339-4efe-a5dd-d7604982d6ec",
   "metadata": {},
   "outputs": [
    {
     "data": {
      "text/plain": [
       "{1, 2, 3, 4, 5, 6, 7, 8, 9}"
      ]
     },
     "execution_count": 163,
     "metadata": {},
     "output_type": "execute_result"
    }
   ],
   "source": [
    "# 특정 값 제거하기 remove\n",
    "s1.remove(0)\n",
    "s1"
   ]
  },
  {
   "cell_type": "markdown",
   "id": "850b938d-8688-4f31-bcb0-ce76b5a5c0fd",
   "metadata": {},
   "source": [
    "## 불린(논리) 자료형"
   ]
  },
  {
   "cell_type": "code",
   "execution_count": 164,
   "id": "49afab6d-6f7d-480e-b56f-dac88016261e",
   "metadata": {},
   "outputs": [
    {
     "data": {
      "text/plain": [
       "(bool, bool)"
      ]
     },
     "execution_count": 164,
     "metadata": {},
     "output_type": "execute_result"
    }
   ],
   "source": [
    "# 사용법\n",
    "a=True\n",
    "b=False\n",
    "type(a), type(b)"
   ]
  },
  {
   "cell_type": "code",
   "execution_count": 169,
   "id": "d2e1f3c6-3eca-4b97-b959-23ba3107b0c1",
   "metadata": {},
   "outputs": [
    {
     "data": {
      "text/plain": [
       "True"
      ]
     },
     "execution_count": 169,
     "metadata": {},
     "output_type": "execute_result"
    }
   ],
   "source": [
    "# = : 대입, == : 비교\n",
    "# 비교를 통해 참, 거짓을 반환 => 조건문\n",
    "# 1이 1이니?\n",
    "1==1"
   ]
  },
  {
   "cell_type": "code",
   "execution_count": 167,
   "id": "e542e7f2-ac91-45e6-b3bc-75757e9a1a46",
   "metadata": {},
   "outputs": [
    {
     "data": {
      "text/plain": [
       "True"
      ]
     },
     "execution_count": 167,
     "metadata": {},
     "output_type": "execute_result"
    }
   ],
   "source": [
    "2>1"
   ]
  },
  {
   "cell_type": "code",
   "execution_count": 168,
   "id": "391df552-fee9-4a80-abf3-a9b4c99a633d",
   "metadata": {},
   "outputs": [
    {
     "data": {
      "text/plain": [
       "False"
      ]
     },
     "execution_count": 168,
     "metadata": {},
     "output_type": "execute_result"
    }
   ],
   "source": [
    "2<1"
   ]
  },
  {
   "cell_type": "markdown",
   "id": "b7e03342-1510-469e-8fdf-8b19ec573f57",
   "metadata": {},
   "source": [
    "### 자료형의 참과 거짓"
   ]
  },
  {
   "cell_type": "code",
   "execution_count": 170,
   "id": "9b0cd497-dd78-4370-8672-1c2b85c95f02",
   "metadata": {},
   "outputs": [],
   "source": [
    "# 문자형, 리스트에 값(요소)이 있으면 True\n",
    "# 문자형, 리스트에 값이 없으면 False\n",
    "# 1=True, 0=False, None=False"
   ]
  },
  {
   "cell_type": "code",
   "execution_count": 173,
   "id": "f88dbf29-11dd-4218-b65a-dc420c49c911",
   "metadata": {},
   "outputs": [
    {
     "name": "stdout",
     "output_type": "stream",
     "text": [
      "4\n",
      "3\n",
      "2\n",
      "1\n"
     ]
    }
   ],
   "source": [
    "# while 반복 문\n",
    "# a있는 값들이 뒤에서부터 하나씩 조회되고 삭제됨\n",
    "# 모든 값이 삭제되고 나면 while 문이 종료됨\n",
    "a=[1,2,3,4]\n",
    "while a:\n",
    "    print(a.pop())"
   ]
  },
  {
   "cell_type": "code",
   "execution_count": 174,
   "id": "0e507fd2-016c-41f6-b2e5-4abdc9e6c478",
   "metadata": {},
   "outputs": [
    {
     "name": "stdout",
     "output_type": "stream",
     "text": [
      "[1, 2, 3, 4]\n",
      "[1, 2, 3] 4\n",
      "[1, 2, 3]\n",
      "[1, 2] 3\n",
      "[1, 2]\n",
      "[1] 2\n",
      "[1]\n",
      "[] 1\n"
     ]
    }
   ],
   "source": [
    "a=[1,2,3,4]\n",
    "while a:\n",
    "    print(a)\n",
    "    print(a,a.pop())"
   ]
  },
  {
   "cell_type": "code",
   "execution_count": 176,
   "id": "3afc5f1f-04f2-47b3-a730-5e399f4d75dd",
   "metadata": {},
   "outputs": [
    {
     "name": "stdout",
     "output_type": "stream",
     "text": [
      "참\n"
     ]
    }
   ],
   "source": [
    "# if문(분기문)\n",
    "# if 조건문 : print('참') else print('거짓')\n",
    "# 아래의 경우 값이 있으니 참 출력\n",
    "if [1,2,3] :\n",
    "    print('참')\n",
    "else :\n",
    "    print('거짓')"
   ]
  },
  {
   "cell_type": "markdown",
   "id": "99bdf436-784f-4e8f-8977-9c3656ce032a",
   "metadata": {},
   "source": [
    "### 불 연산(논리 연산)"
   ]
  },
  {
   "cell_type": "code",
   "execution_count": 177,
   "id": "86e217bf-a314-41fc-9d97-f35ac330f135",
   "metadata": {},
   "outputs": [
    {
     "data": {
      "text/plain": [
       "True"
      ]
     },
     "execution_count": 177,
     "metadata": {},
     "output_type": "execute_result"
    }
   ],
   "source": [
    "bool('python')"
   ]
  },
  {
   "cell_type": "code",
   "execution_count": 178,
   "id": "c68bf41b-d326-4ae9-b353-b49b75d1b0e0",
   "metadata": {},
   "outputs": [
    {
     "data": {
      "text/plain": [
       "False"
      ]
     },
     "execution_count": 178,
     "metadata": {},
     "output_type": "execute_result"
    }
   ],
   "source": [
    "bool('')"
   ]
  },
  {
   "cell_type": "code",
   "execution_count": null,
   "id": "3d2645fd-a824-4ed6-b06f-4e99a2c65c9d",
   "metadata": {},
   "outputs": [],
   "source": []
  },
  {
   "cell_type": "code",
   "execution_count": null,
   "id": "2e58d75e-aba2-4e04-ac99-4d3d12947b2d",
   "metadata": {},
   "outputs": [],
   "source": []
  },
  {
   "cell_type": "code",
   "execution_count": null,
   "id": "2ff32f41-ea78-43a2-950d-7371d8929d73",
   "metadata": {},
   "outputs": [],
   "source": []
  },
  {
   "cell_type": "code",
   "execution_count": null,
   "id": "21e5813f-db05-45bf-a518-494386ce538f",
   "metadata": {},
   "outputs": [],
   "source": []
  },
  {
   "cell_type": "code",
   "execution_count": null,
   "id": "80146a66-60ed-4350-8257-e2f845bba54a",
   "metadata": {},
   "outputs": [],
   "source": []
  },
  {
   "cell_type": "code",
   "execution_count": null,
   "id": "d03a87f0-b2d2-45c5-b409-e3f4c5b3f2e6",
   "metadata": {},
   "outputs": [],
   "source": []
  }
 ],
 "metadata": {
  "kernelspec": {
   "display_name": "Python 3 (ipykernel)",
   "language": "python",
   "name": "python3"
  },
  "language_info": {
   "codemirror_mode": {
    "name": "ipython",
    "version": 3
   },
   "file_extension": ".py",
   "mimetype": "text/x-python",
   "name": "python",
   "nbconvert_exporter": "python",
   "pygments_lexer": "ipython3",
   "version": "3.12.4"
  }
 },
 "nbformat": 4,
 "nbformat_minor": 5
}
