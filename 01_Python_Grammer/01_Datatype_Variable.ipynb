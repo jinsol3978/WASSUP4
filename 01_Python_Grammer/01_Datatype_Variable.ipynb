{
 "cells": [
  {
   "cell_type": "markdown",
   "id": "ef7e4881-c66e-42e2-a181-c219f0eaed6c",
   "metadata": {},
   "source": [
    "# 변수와 자료형"
   ]
  },
  {
   "cell_type": "markdown",
   "id": "a126a786-c161-4e3d-b50d-3ea54b9a894c",
   "metadata": {},
   "source": [
    "## 자료형의 값을 저장하는 공간, 변수"
   ]
  },
  {
   "cell_type": "code",
   "execution_count": 3,
   "id": "500342ab-d0cd-4e71-a0ee-f83497400678",
   "metadata": {},
   "outputs": [
    {
     "name": "stdout",
     "output_type": "stream",
     "text": [
      "1\n"
     ]
    }
   ],
   "source": [
    "a=1\n",
    "print(a)"
   ]
  },
  {
   "cell_type": "code",
   "execution_count": 4,
   "id": "2fe08d0e-cae8-4c90-b16e-4bfba7dfde2e",
   "metadata": {},
   "outputs": [
    {
     "data": {
      "text/plain": [
       "'python'"
      ]
     },
     "execution_count": 4,
     "metadata": {},
     "output_type": "execute_result"
    }
   ],
   "source": [
    "b = 'python'\n",
    "b"
   ]
  },
  {
   "cell_type": "code",
   "execution_count": 46,
   "id": "98ce0ffc-8a07-4103-ac7f-3e01ec454964",
   "metadata": {},
   "outputs": [
    {
     "name": "stdout",
     "output_type": "stream",
     "text": [
      "python\n"
     ]
    }
   ],
   "source": [
    "b = 'python'\n",
    "print(b)"
   ]
  },
  {
   "cell_type": "code",
   "execution_count": 5,
   "id": "9b5750bb-fee5-4ac6-bdb9-ee9a01349012",
   "metadata": {},
   "outputs": [
    {
     "data": {
      "text/plain": [
       "[1, 2, 3]"
      ]
     },
     "execution_count": 5,
     "metadata": {},
     "output_type": "execute_result"
    }
   ],
   "source": [
    "c=[1,2,3]\n",
    "c"
   ]
  },
  {
   "cell_type": "markdown",
   "id": "7b94e863-b195-402c-a19c-7a4605d934b5",
   "metadata": {},
   "source": [
    "## 숫자형"
   ]
  },
  {
   "cell_type": "code",
   "execution_count": 6,
   "id": "b3815b4e-f6b7-4d86-9f68-f7ce63dc127f",
   "metadata": {},
   "outputs": [
    {
     "data": {
      "text/plain": [
       "123"
      ]
     },
     "execution_count": 6,
     "metadata": {},
     "output_type": "execute_result"
    }
   ],
   "source": [
    "# 정수형\n",
    "a=123\n",
    "a"
   ]
  },
  {
   "cell_type": "code",
   "execution_count": 7,
   "id": "d4a0705c-e350-442d-83f7-745e1be06331",
   "metadata": {},
   "outputs": [
    {
     "data": {
      "text/plain": [
       "-178"
      ]
     },
     "execution_count": 7,
     "metadata": {},
     "output_type": "execute_result"
    }
   ],
   "source": [
    "a=-178\n",
    "a"
   ]
  },
  {
   "cell_type": "code",
   "execution_count": 8,
   "id": "06c3a238-57d3-48fa-85d4-7b6171fe709a",
   "metadata": {},
   "outputs": [
    {
     "data": {
      "text/plain": [
       "0"
      ]
     },
     "execution_count": 8,
     "metadata": {},
     "output_type": "execute_result"
    }
   ],
   "source": [
    "a=0\n",
    "a"
   ]
  },
  {
   "cell_type": "code",
   "execution_count": 9,
   "id": "5391d16e-5d96-4941-b584-eee34a5c27e3",
   "metadata": {},
   "outputs": [
    {
     "data": {
      "text/plain": [
       "(1.2, -2.45)"
      ]
     },
     "execution_count": 9,
     "metadata": {},
     "output_type": "execute_result"
    }
   ],
   "source": [
    "# 실수형\n",
    "a=1.2\n",
    "b=-2.45\n",
    "a,b"
   ]
  },
  {
   "cell_type": "code",
   "execution_count": 17,
   "id": "eb05ccd6-4765-4158-a623-070918bd43b1",
   "metadata": {},
   "outputs": [
    {
     "data": {
      "text/plain": [
       "42400000000.0"
      ]
     },
     "execution_count": 17,
     "metadata": {},
     "output_type": "execute_result"
    }
   ],
   "source": [
    "a=4.24E10\n",
    "a"
   ]
  },
  {
   "cell_type": "code",
   "execution_count": 19,
   "id": "c4d8fe61-2d24-4557-a197-cc4270ca9f23",
   "metadata": {},
   "outputs": [
    {
     "data": {
      "text/plain": [
       "4.24e-10"
      ]
     },
     "execution_count": 19,
     "metadata": {},
     "output_type": "execute_result"
    }
   ],
   "source": [
    "a=4.24E-10\n",
    "a"
   ]
  },
  {
   "cell_type": "code",
   "execution_count": 20,
   "id": "12fd7a31-bf2a-405d-8b36-2b44fa79a438",
   "metadata": {},
   "outputs": [
    {
     "name": "stdout",
     "output_type": "stream",
     "text": [
      "127\n"
     ]
    }
   ],
   "source": [
    "# 8진수와 16지수\n",
    "a = 0o177\n",
    "print(a)"
   ]
  },
  {
   "cell_type": "code",
   "execution_count": 21,
   "id": "b4c703e2-339d-4f1b-b443-0b8d48fe3be6",
   "metadata": {},
   "outputs": [
    {
     "data": {
      "text/plain": [
       "(2303, 2748)"
      ]
     },
     "execution_count": 21,
     "metadata": {},
     "output_type": "execute_result"
    }
   ],
   "source": [
    "a = 0x8ff\n",
    "b = 0xABC\n",
    "a, b"
   ]
  },
  {
   "cell_type": "markdown",
   "id": "9db95476-f6a9-46ee-9d43-4b25dcc51b53",
   "metadata": {},
   "source": [
    "## 연산자"
   ]
  },
  {
   "cell_type": "code",
   "execution_count": 22,
   "id": "e5e5630d-0eaf-449c-bf6a-6ddecc9ee872",
   "metadata": {},
   "outputs": [
    {
     "data": {
      "text/plain": [
       "7"
      ]
     },
     "execution_count": 22,
     "metadata": {},
     "output_type": "execute_result"
    }
   ],
   "source": [
    "a=3\n",
    "b=4\n",
    "a+b"
   ]
  },
  {
   "cell_type": "code",
   "execution_count": 23,
   "id": "9a6987bb-878d-4a5c-8a4a-85d37452e699",
   "metadata": {},
   "outputs": [
    {
     "data": {
      "text/plain": [
       "(-1, 12, 0.75)"
      ]
     },
     "execution_count": 23,
     "metadata": {},
     "output_type": "execute_result"
    }
   ],
   "source": [
    "a-b, a*b, a/b"
   ]
  },
  {
   "cell_type": "code",
   "execution_count": 24,
   "id": "3f32f075-67b4-43cf-8d7b-7e627b203e7a",
   "metadata": {},
   "outputs": [
    {
     "data": {
      "text/plain": [
       "81"
      ]
     },
     "execution_count": 24,
     "metadata": {},
     "output_type": "execute_result"
    }
   ],
   "source": [
    "# x의 y제곱을 나타내는 ** 연산자\n",
    "a**b"
   ]
  },
  {
   "cell_type": "code",
   "execution_count": 25,
   "id": "8fde992f-838a-43af-9b64-ddac5b928830",
   "metadata": {},
   "outputs": [
    {
     "data": {
      "text/plain": [
       "(1, 3)"
      ]
     },
     "execution_count": 25,
     "metadata": {},
     "output_type": "execute_result"
    }
   ],
   "source": [
    "# 나눗셈 후 나머지를 리턴하는 % 연산자\n",
    "7%3, 3%7"
   ]
  },
  {
   "cell_type": "code",
   "execution_count": 26,
   "id": "392416a9-8fa5-4b07-9677-88efe673dcce",
   "metadata": {},
   "outputs": [
    {
     "data": {
      "text/plain": [
       "1"
      ]
     },
     "execution_count": 26,
     "metadata": {},
     "output_type": "execute_result"
    }
   ],
   "source": [
    "# 나눗셈 후 몫을 리턴하는 // 연산자\n",
    "7//4"
   ]
  },
  {
   "cell_type": "code",
   "execution_count": 27,
   "id": "c9d9cc63-1227-4228-baa2-164933d82517",
   "metadata": {},
   "outputs": [
    {
     "data": {
      "text/plain": [
       "4"
      ]
     },
     "execution_count": 27,
     "metadata": {},
     "output_type": "execute_result"
    }
   ],
   "source": [
    "# 복합 연산자\n",
    "a=a+1\n",
    "a"
   ]
  },
  {
   "cell_type": "code",
   "execution_count": 28,
   "id": "e2e4a574-6a77-4f14-bd70-db35f302cd39",
   "metadata": {},
   "outputs": [
    {
     "data": {
      "text/plain": [
       "5"
      ]
     },
     "execution_count": 28,
     "metadata": {},
     "output_type": "execute_result"
    }
   ],
   "source": [
    "a+=1\n",
    "a"
   ]
  },
  {
   "cell_type": "code",
   "execution_count": 29,
   "id": "b65a61c8-e69b-4546-b76d-1a6d51f5adfb",
   "metadata": {},
   "outputs": [
    {
     "data": {
      "text/plain": [
       "4"
      ]
     },
     "execution_count": 29,
     "metadata": {},
     "output_type": "execute_result"
    }
   ],
   "source": [
    "a-=1\n",
    "a"
   ]
  },
  {
   "cell_type": "code",
   "execution_count": null,
   "id": "850b0614-df38-410c-ae76-ddcba660e37a",
   "metadata": {},
   "outputs": [],
   "source": []
  },
  {
   "cell_type": "markdown",
   "id": "554ac12a-0952-4fd6-bb43-8247067399e3",
   "metadata": {},
   "source": [
    "## 문자열"
   ]
  },
  {
   "cell_type": "code",
   "execution_count": 31,
   "id": "23166d90-ddf2-4b06-ab53-b6294753c513",
   "metadata": {},
   "outputs": [
    {
     "data": {
      "text/plain": [
       "'Hello World'"
      ]
     },
     "execution_count": 31,
     "metadata": {},
     "output_type": "execute_result"
    }
   ],
   "source": [
    "\"Hello World\""
   ]
  },
  {
   "cell_type": "code",
   "execution_count": 32,
   "id": "76f429ad-436d-456b-acc7-cca0735721ed",
   "metadata": {},
   "outputs": [
    {
     "data": {
      "text/plain": [
       "'Python is fun'"
      ]
     },
     "execution_count": 32,
     "metadata": {},
     "output_type": "execute_result"
    }
   ],
   "source": [
    "'Python is fun'"
   ]
  },
  {
   "cell_type": "code",
   "execution_count": 33,
   "id": "3e7f284c-c5ac-4fa0-9a9d-fd3d8c2a6dd6",
   "metadata": {},
   "outputs": [
    {
     "data": {
      "text/plain": [
       "'Life is too short, You need python'"
      ]
     },
     "execution_count": 33,
     "metadata": {},
     "output_type": "execute_result"
    }
   ],
   "source": [
    "\"\"\"Life is too short, You need python\"\"\""
   ]
  },
  {
   "cell_type": "code",
   "execution_count": 34,
   "id": "d24cf6a8-45ca-4fbd-bde6-2066789e1c9a",
   "metadata": {},
   "outputs": [
    {
     "data": {
      "text/plain": [
       "'Life is too short, You need python'"
      ]
     },
     "execution_count": 34,
     "metadata": {},
     "output_type": "execute_result"
    }
   ],
   "source": [
    "'''Life is too short, You need python'''"
   ]
  },
  {
   "cell_type": "markdown",
   "id": "1bc61603-63d5-4c16-a495-8552a9b779bc",
   "metadata": {},
   "source": [
    "### 1. 문자열 안에 작은따옴표 포함하기\n",
    "Python's favorite food is perl"
   ]
  },
  {
   "cell_type": "code",
   "execution_count": 35,
   "id": "8f9218b5-177d-480d-86f5-f85e4a1e0bc1",
   "metadata": {},
   "outputs": [
    {
     "ename": "SyntaxError",
     "evalue": "unterminated string literal (detected at line 1) (2917458957.py, line 1)",
     "output_type": "error",
     "traceback": [
      "\u001b[1;36m  Cell \u001b[1;32mIn[35], line 1\u001b[1;36m\u001b[0m\n\u001b[1;33m    Python's favorite food is perl\u001b[0m\n\u001b[1;37m          ^\u001b[0m\n\u001b[1;31mSyntaxError\u001b[0m\u001b[1;31m:\u001b[0m unterminated string literal (detected at line 1)\n"
     ]
    }
   ],
   "source": [
    "Python's favorite food is perl"
   ]
  },
  {
   "cell_type": "code",
   "execution_count": 36,
   "id": "967287d6-2b0e-45a8-b958-f3917e2467a1",
   "metadata": {},
   "outputs": [
    {
     "data": {
      "text/plain": [
       "\"Python's favorite food is perl\""
      ]
     },
     "execution_count": 36,
     "metadata": {},
     "output_type": "execute_result"
    }
   ],
   "source": [
    "\"Python's favorite food is perl\""
   ]
  },
  {
   "cell_type": "markdown",
   "id": "d63614b5-fcc1-47fe-9f8b-518c50244abe",
   "metadata": {},
   "source": [
    "### 2. 문자열 안에 큰따옴표 포함하기\n",
    "\"Python is very easy.\" he says."
   ]
  },
  {
   "cell_type": "code",
   "execution_count": 37,
   "id": "f0da4654-b8b4-48dc-9e6a-de32553104fa",
   "metadata": {},
   "outputs": [
    {
     "ename": "SyntaxError",
     "evalue": "invalid syntax (2498016959.py, line 1)",
     "output_type": "error",
     "traceback": [
      "\u001b[1;36m  Cell \u001b[1;32mIn[37], line 1\u001b[1;36m\u001b[0m\n\u001b[1;33m    \"Python is very easy.\" he says.\u001b[0m\n\u001b[1;37m                           ^\u001b[0m\n\u001b[1;31mSyntaxError\u001b[0m\u001b[1;31m:\u001b[0m invalid syntax\n"
     ]
    }
   ],
   "source": [
    "\"Python is very easy.\" he says."
   ]
  },
  {
   "cell_type": "code",
   "execution_count": 38,
   "id": "487960db-cdee-458f-85f0-1ce1d899223a",
   "metadata": {},
   "outputs": [
    {
     "data": {
      "text/plain": [
       "'\"Python is very easy.\" he says.'"
      ]
     },
     "execution_count": 38,
     "metadata": {},
     "output_type": "execute_result"
    }
   ],
   "source": [
    "'\"Python is very easy.\" he says.'"
   ]
  },
  {
   "cell_type": "markdown",
   "id": "3cb1e6df-1d88-4710-98ca-a7986d12fa52",
   "metadata": {},
   "source": [
    "### 3. 역슬래시를 사용해서 작은따옴표와 큰따옴표를 문자열에 포함하기\n",
    "```\n",
    "food = 'Python\\'s favorite food is perl'   \n",
    " say = \"\\\"Python is very easy.\\\" he says.\""
   ]
  },
  {
   "cell_type": "code",
   "execution_count": 41,
   "id": "47a3c381-723d-41a0-b34d-d57c32033fed",
   "metadata": {},
   "outputs": [
    {
     "data": {
      "text/plain": [
       "\"Python's favorite food is perl\""
      ]
     },
     "execution_count": 41,
     "metadata": {},
     "output_type": "execute_result"
    }
   ],
   "source": [
    "food = 'Python\\'s favorite food is perl'\n",
    "food"
   ]
  },
  {
   "cell_type": "code",
   "execution_count": 42,
   "id": "9a762c95-e133-41d4-8541-3cca7eee84ac",
   "metadata": {},
   "outputs": [
    {
     "data": {
      "text/plain": [
       "'\"Python is very easy.\" he says.'"
      ]
     },
     "execution_count": 42,
     "metadata": {},
     "output_type": "execute_result"
    }
   ],
   "source": [
    "say = \"\\\"Python is very easy.\\\" he says.\"\n",
    "say"
   ]
  },
  {
   "cell_type": "markdown",
   "id": "02151b26-fbb6-413a-a9cb-4affc2cfdd1b",
   "metadata": {},
   "source": [
    "### 4. 여러 줄인 문자열을 변수에 대입하고 싶을 때"
   ]
  },
  {
   "cell_type": "code",
   "execution_count": 44,
   "id": "b3c690ed-1b89-49ab-8d4f-530a8239539b",
   "metadata": {},
   "outputs": [
    {
     "data": {
      "text/plain": [
       "'Life is too short\\nYou need python'"
      ]
     },
     "execution_count": 44,
     "metadata": {},
     "output_type": "execute_result"
    }
   ],
   "source": [
    "# 1. 줄을 바꾸기 위한 이스케이프 코드 \\n 삽입하기\n",
    "multiline = \"Life is too short\\nYou need python\"\n",
    "multiline"
   ]
  },
  {
   "cell_type": "code",
   "execution_count": 45,
   "id": "2c420652-78f6-4c4f-b49a-5e91a034669a",
   "metadata": {},
   "outputs": [
    {
     "name": "stdout",
     "output_type": "stream",
     "text": [
      "Life is too short\n",
      "You need python\n"
     ]
    }
   ],
   "source": [
    "print(multiline)"
   ]
  },
  {
   "cell_type": "code",
   "execution_count": 47,
   "id": "5ae339e6-fca7-4136-9750-07afa9b9e6bb",
   "metadata": {},
   "outputs": [
    {
     "data": {
      "text/plain": [
       "'\\nLife is too short\\nYou need python\\n'"
      ]
     },
     "execution_count": 47,
     "metadata": {},
     "output_type": "execute_result"
    }
   ],
   "source": [
    "# 2. 연속된 작은따옴표 3개 또는 큰따옴표 3개 사용하기\n",
    "'''\n",
    "Life is too short\n",
    "You need python\n",
    "'''"
   ]
  },
  {
   "cell_type": "code",
   "execution_count": 48,
   "id": "811b2aa4-9682-4b78-8fac-623b72d7e742",
   "metadata": {},
   "outputs": [
    {
     "data": {
      "text/plain": [
       "'\\nLife is too short\\nYou need python\\n'"
      ]
     },
     "execution_count": 48,
     "metadata": {},
     "output_type": "execute_result"
    }
   ],
   "source": [
    "\"\"\"\n",
    "Life is too short\n",
    "You need python\n",
    "\"\"\""
   ]
  },
  {
   "cell_type": "markdown",
   "id": "7aaab445-291d-4fc2-a60d-1d676e5c000d",
   "metadata": {},
   "source": [
    "### 5. 문자열 연산하기"
   ]
  },
  {
   "cell_type": "code",
   "execution_count": 49,
   "id": "52f641a7-561f-4fa3-a3c7-d33c72447d5d",
   "metadata": {},
   "outputs": [
    {
     "data": {
      "text/plain": [
       "'Python is fun!'"
      ]
     },
     "execution_count": 49,
     "metadata": {},
     "output_type": "execute_result"
    }
   ],
   "source": [
    "head = \"Python\"\n",
    "tail = \" is fun!\"\n",
    "head + tail"
   ]
  },
  {
   "cell_type": "code",
   "execution_count": 50,
   "id": "4e0b8995-4fe0-433b-9ef9-3a3b26c95be6",
   "metadata": {},
   "outputs": [
    {
     "data": {
      "text/plain": [
       "'PythonPython'"
      ]
     },
     "execution_count": 50,
     "metadata": {},
     "output_type": "execute_result"
    }
   ],
   "source": [
    "head*2"
   ]
  },
  {
   "cell_type": "code",
   "execution_count": 51,
   "id": "c9d78fae-f319-4a63-b3c5-dff907d8db2e",
   "metadata": {},
   "outputs": [
    {
     "name": "stdout",
     "output_type": "stream",
     "text": [
      "==================================================\n",
      "My Program\n",
      "==================================================\n"
     ]
    }
   ],
   "source": [
    "print(\"=\" * 50)\n",
    "print(\"My Program\")\n",
    "print(\"=\" * 50)"
   ]
  },
  {
   "cell_type": "code",
   "execution_count": 52,
   "id": "4d1d5255-0b9e-4d6f-8be1-b3438e938d0d",
   "metadata": {},
   "outputs": [
    {
     "data": {
      "text/plain": [
       "17"
      ]
     },
     "execution_count": 52,
     "metadata": {},
     "output_type": "execute_result"
    }
   ],
   "source": [
    "a = \"Life is too short\"\n",
    "len(a)"
   ]
  },
  {
   "cell_type": "markdown",
   "id": "d491728d-891a-438a-b9b5-a1b8ab7402c6",
   "metadata": {},
   "source": [
    "### 6.문자열 인덱싱과 슬라이싱"
   ]
  },
  {
   "cell_type": "code",
   "execution_count": 53,
   "id": "d8b90c69-2cc6-4750-b05a-b2cf4f1c07be",
   "metadata": {},
   "outputs": [
    {
     "data": {
      "text/plain": [
       "'Life is too short, You need Python'"
      ]
     },
     "execution_count": 53,
     "metadata": {},
     "output_type": "execute_result"
    }
   ],
   "source": [
    "a = \"Life is too short, You need Python\"\n",
    "a"
   ]
  },
  {
   "cell_type": "code",
   "execution_count": 54,
   "id": "446af742-7e6f-4d46-bad3-600d20408d5c",
   "metadata": {},
   "outputs": [
    {
     "data": {
      "text/plain": [
       "'e'"
      ]
     },
     "execution_count": 54,
     "metadata": {},
     "output_type": "execute_result"
    }
   ],
   "source": [
    "a[3]"
   ]
  },
  {
   "cell_type": "code",
   "execution_count": 56,
   "id": "69b9212a-6506-4a79-9f84-d617386e45ba",
   "metadata": {},
   "outputs": [
    {
     "data": {
      "text/plain": [
       "','"
      ]
     },
     "execution_count": 56,
     "metadata": {},
     "output_type": "execute_result"
    }
   ],
   "source": [
    "a[17]"
   ]
  },
  {
   "cell_type": "code",
   "execution_count": 58,
   "id": "f6812c1a-5361-4c6f-b2f3-d1b2514c3fc2",
   "metadata": {},
   "outputs": [
    {
     "data": {
      "text/plain": [
       "'Life'"
      ]
     },
     "execution_count": 58,
     "metadata": {},
     "output_type": "execute_result"
    }
   ],
   "source": [
    "b = a[0] + a[1] + a[2] + a[3]\n",
    "b"
   ]
  },
  {
   "cell_type": "code",
   "execution_count": 59,
   "id": "2ab423f5-56bd-422c-94d5-828fc4efd90e",
   "metadata": {},
   "outputs": [
    {
     "data": {
      "text/plain": [
       "'Lif'"
      ]
     },
     "execution_count": 59,
     "metadata": {},
     "output_type": "execute_result"
    }
   ],
   "source": [
    "a[0:3]"
   ]
  },
  {
   "cell_type": "code",
   "execution_count": 60,
   "id": "fda90809-dece-4245-9948-71d6237c6e07",
   "metadata": {},
   "outputs": [
    {
     "data": {
      "text/plain": [
       "'Life'"
      ]
     },
     "execution_count": 60,
     "metadata": {},
     "output_type": "execute_result"
    }
   ],
   "source": [
    "a[0:4]"
   ]
  },
  {
   "cell_type": "code",
   "execution_count": 61,
   "id": "b3f1eb63-71c3-4c9f-9813-bf8d85f219a0",
   "metadata": {},
   "outputs": [
    {
     "data": {
      "text/plain": [
       "'short, '"
      ]
     },
     "execution_count": 61,
     "metadata": {},
     "output_type": "execute_result"
    }
   ],
   "source": [
    "a[12:19]"
   ]
  },
  {
   "cell_type": "code",
   "execution_count": 62,
   "id": "66b341f0-1f91-4fcb-9100-003fe7d4af42",
   "metadata": {},
   "outputs": [
    {
     "data": {
      "text/plain": [
       "'short, You need Python'"
      ]
     },
     "execution_count": 62,
     "metadata": {},
     "output_type": "execute_result"
    }
   ],
   "source": [
    "a[12:]"
   ]
  },
  {
   "cell_type": "code",
   "execution_count": 63,
   "id": "995b7c0b-b133-46d6-8aec-a4229fc76731",
   "metadata": {},
   "outputs": [
    {
     "data": {
      "text/plain": [
       "'Life is too short'"
      ]
     },
     "execution_count": 63,
     "metadata": {},
     "output_type": "execute_result"
    }
   ],
   "source": [
    "a[:17]"
   ]
  },
  {
   "cell_type": "code",
   "execution_count": 67,
   "id": "8063a608-2e25-4aab-b59d-10f8b601836b",
   "metadata": {},
   "outputs": [
    {
     "data": {
      "text/plain": [
       "'Life is too short, You need Python'"
      ]
     },
     "execution_count": 67,
     "metadata": {},
     "output_type": "execute_result"
    }
   ],
   "source": [
    "a[:]"
   ]
  },
  {
   "cell_type": "code",
   "execution_count": 68,
   "id": "da497201-17c6-40f9-aff5-80e968c265eb",
   "metadata": {},
   "outputs": [
    {
     "data": {
      "text/plain": [
       "'You need'"
      ]
     },
     "execution_count": 68,
     "metadata": {},
     "output_type": "execute_result"
    }
   ],
   "source": [
    "a[19:-7]"
   ]
  },
  {
   "cell_type": "code",
   "execution_count": 75,
   "id": "d169d4f4-59df-4700-9ac3-d3114bbb6879",
   "metadata": {},
   "outputs": [
    {
     "data": {
      "text/plain": [
       "('20230331', 'Rainy')"
      ]
     },
     "execution_count": 75,
     "metadata": {},
     "output_type": "execute_result"
    }
   ],
   "source": [
    "a = \"20230331Rainy\"\n",
    "date=a[:8]\n",
    "weather=a[8:]\n",
    "date, weather"
   ]
  },
  {
   "cell_type": "code",
   "execution_count": 79,
   "id": "a15b4cc5-4129-471b-840b-c83b706a3845",
   "metadata": {},
   "outputs": [
    {
     "data": {
      "text/plain": [
       "('2023', '0331')"
      ]
     },
     "execution_count": 79,
     "metadata": {},
     "output_type": "execute_result"
    }
   ],
   "source": [
    "year=a[:4]\n",
    "day=date[4:]\n",
    "year, day"
   ]
  },
  {
   "cell_type": "markdown",
   "id": "2121ca7d-4992-40d8-8de1-dcbf6c5f2f7b",
   "metadata": {},
   "source": [
    "### 7. 문자열 포매팅"
   ]
  },
  {
   "cell_type": "code",
   "execution_count": 80,
   "id": "e832a088-a497-40f4-a766-3e853abed9bf",
   "metadata": {},
   "outputs": [
    {
     "data": {
      "text/plain": [
       "'I eat 3 apples'"
      ]
     },
     "execution_count": 80,
     "metadata": {},
     "output_type": "execute_result"
    }
   ],
   "source": [
    "\"I eat %d apples\"%3"
   ]
  },
  {
   "cell_type": "code",
   "execution_count": 82,
   "id": "d8577c3e-7e9d-4380-90a9-1bcf096b8645",
   "metadata": {},
   "outputs": [
    {
     "data": {
      "text/plain": [
       "'I eat five apples'"
      ]
     },
     "execution_count": 82,
     "metadata": {},
     "output_type": "execute_result"
    }
   ],
   "source": [
    "\"I eat %s apples\"%\"five\""
   ]
  },
  {
   "cell_type": "code",
   "execution_count": 84,
   "id": "2aed1fc0-cf5d-46ed-94bc-fd3a82ae24c0",
   "metadata": {},
   "outputs": [
    {
     "data": {
      "text/plain": [
       "'I eat 3 apples'"
      ]
     },
     "execution_count": 84,
     "metadata": {},
     "output_type": "execute_result"
    }
   ],
   "source": [
    "number=3\n",
    "\"I eat %d apples\"%number"
   ]
  },
  {
   "cell_type": "code",
   "execution_count": 85,
   "id": "7d126e38-dddc-4360-a0dd-df0dacdcfbfb",
   "metadata": {},
   "outputs": [
    {
     "data": {
      "text/plain": [
       "'I ate 10 apples. so I was sick for three days.'"
      ]
     },
     "execution_count": 85,
     "metadata": {},
     "output_type": "execute_result"
    }
   ],
   "source": [
    "number=10\n",
    "day=\"three\"\n",
    "\"I ate %d apples. so I was sick for %s days.\" % (number, day)"
   ]
  },
  {
   "cell_type": "code",
   "execution_count": 86,
   "id": "f5346e8d-24d9-4bc0-8ab8-bc23800b8d9d",
   "metadata": {},
   "outputs": [
    {
     "ename": "ValueError",
     "evalue": "incomplete format",
     "output_type": "error",
     "traceback": [
      "\u001b[1;31m---------------------------------------------------------------------------\u001b[0m",
      "\u001b[1;31mValueError\u001b[0m                                Traceback (most recent call last)",
      "Cell \u001b[1;32mIn[86], line 1\u001b[0m\n\u001b[1;32m----> 1\u001b[0m \u001b[38;5;124m\"\u001b[39m\u001b[38;5;124mError is \u001b[39m\u001b[38;5;132;01m%d\u001b[39;00m\u001b[38;5;124m%\u001b[39m\u001b[38;5;124m.\u001b[39m\u001b[38;5;124m\"\u001b[39m \u001b[38;5;241m%\u001b[39m \u001b[38;5;241m98\u001b[39m\n",
      "\u001b[1;31mValueError\u001b[0m: incomplete format"
     ]
    }
   ],
   "source": [
    "\"Error is %d%.\" % 98"
   ]
  },
  {
   "cell_type": "code",
   "execution_count": 88,
   "id": "b66b14b9-0de2-4d33-8044-dd17caaf8963",
   "metadata": {},
   "outputs": [
    {
     "data": {
      "text/plain": [
       "'Error is 98%.'"
      ]
     },
     "execution_count": 88,
     "metadata": {},
     "output_type": "execute_result"
    }
   ],
   "source": [
    "\"Error is %d%%.\" % 98"
   ]
  },
  {
   "cell_type": "markdown",
   "id": "c8f4eb49-2b45-4e42-9caa-34dcbb1b57dc",
   "metadata": {},
   "source": [
    "### 8. 소수점 표현하기"
   ]
  },
  {
   "cell_type": "code",
   "execution_count": 91,
   "id": "c98354d8-31c8-4239-9b7e-ec79e40234c8",
   "metadata": {},
   "outputs": [
    {
     "data": {
      "text/plain": [
       "'3.4213'"
      ]
     },
     "execution_count": 91,
     "metadata": {},
     "output_type": "execute_result"
    }
   ],
   "source": [
    "\"%0.4f\"%3.42134"
   ]
  },
  {
   "cell_type": "markdown",
   "id": "baaf50fc-63f5-4536-95ad-c650043dd0ac",
   "metadata": {},
   "source": [
    "### 9. format 함수를 사용한 포매팅"
   ]
  },
  {
   "cell_type": "code",
   "execution_count": 93,
   "id": "e6012148-d2d5-438a-87f4-680dd2d16129",
   "metadata": {},
   "outputs": [
    {
     "data": {
      "text/plain": [
       "'I eat 3 apples'"
      ]
     },
     "execution_count": 93,
     "metadata": {},
     "output_type": "execute_result"
    }
   ],
   "source": [
    "\"I eat {0} apples\".format(3)"
   ]
  },
  {
   "cell_type": "code",
   "execution_count": 94,
   "id": "9a88da70-81e7-4c81-892b-407a6bced0ca",
   "metadata": {},
   "outputs": [
    {
     "data": {
      "text/plain": [
       "'I eat five apples'"
      ]
     },
     "execution_count": 94,
     "metadata": {},
     "output_type": "execute_result"
    }
   ],
   "source": [
    "\"I eat {0} apples\".format(\"five\")"
   ]
  },
  {
   "cell_type": "code",
   "execution_count": 96,
   "id": "f86119ac-a76d-4538-bd7d-c3403744e01c",
   "metadata": {},
   "outputs": [
    {
     "data": {
      "text/plain": [
       "'I eat 3 apples'"
      ]
     },
     "execution_count": 96,
     "metadata": {},
     "output_type": "execute_result"
    }
   ],
   "source": [
    "number=3\n",
    "\"I eat {} apples\".format(number)"
   ]
  },
  {
   "cell_type": "code",
   "execution_count": 98,
   "id": "9994f807-bad5-4b62-8c07-16e013645c90",
   "metadata": {},
   "outputs": [
    {
     "data": {
      "text/plain": [
       "'I ate 3 apples, so i was sick for three days.'"
      ]
     },
     "execution_count": 98,
     "metadata": {},
     "output_type": "execute_result"
    }
   ],
   "source": [
    "\"I ate {} apples, so i was sick for {} days.\".format(number, day)"
   ]
  },
  {
   "cell_type": "code",
   "execution_count": 99,
   "id": "eba162f2-c57b-44a6-ad44-5fde5873cb59",
   "metadata": {},
   "outputs": [
    {
     "data": {
      "text/plain": [
       "'I ate three apples, so i was sick for 3 days.'"
      ]
     },
     "execution_count": 99,
     "metadata": {},
     "output_type": "execute_result"
    }
   ],
   "source": [
    "\"I ate {} apples, so i was sick for {} days.\".format(day, number)"
   ]
  },
  {
   "cell_type": "code",
   "execution_count": 100,
   "id": "9890bce7-fdd3-4d17-9736-f642bb6329c0",
   "metadata": {},
   "outputs": [
    {
     "data": {
      "text/plain": [
       "'I ate three apples, so i was sick for 3 days.'"
      ]
     },
     "execution_count": 100,
     "metadata": {},
     "output_type": "execute_result"
    }
   ],
   "source": [
    "\"I ate {a} apples, so i was sick for {b} days.\".format(a=day, b=number)"
   ]
  },
  {
   "cell_type": "code",
   "execution_count": 101,
   "id": "b8b091a1-80e3-4aaa-863b-0042c4be326b",
   "metadata": {},
   "outputs": [
    {
     "data": {
      "text/plain": [
       "'I ate 3 apples, so i was sick for three days.'"
      ]
     },
     "execution_count": 101,
     "metadata": {},
     "output_type": "execute_result"
    }
   ],
   "source": [
    "\"I ate {a} apples, so i was sick for {b} days.\".format(a=number, b=day)"
   ]
  },
  {
   "cell_type": "code",
   "execution_count": 102,
   "id": "022c378c-ec3c-43f8-92ec-f9fcef8103b2",
   "metadata": {},
   "outputs": [
    {
     "data": {
      "text/plain": [
       "'3.4544'"
      ]
     },
     "execution_count": 102,
     "metadata": {},
     "output_type": "execute_result"
    }
   ],
   "source": [
    "y=3.454434632\n",
    "\"{0:0.4f}\".format(y)"
   ]
  },
  {
   "cell_type": "code",
   "execution_count": 103,
   "id": "290c7dd6-f1f4-410a-8ffc-f3fb92543ec2",
   "metadata": {},
   "outputs": [
    {
     "data": {
      "text/plain": [
       "'3.4544'"
      ]
     },
     "execution_count": 103,
     "metadata": {},
     "output_type": "execute_result"
    }
   ],
   "source": [
    "\"{:0.4f}\".format(y)"
   ]
  },
  {
   "cell_type": "markdown",
   "id": "cdc1582b-00ec-4a95-96ec-343bb1a5f740",
   "metadata": {},
   "source": [
    "### 10. f 문자열 포매팅"
   ]
  },
  {
   "cell_type": "code",
   "execution_count": 104,
   "id": "30316469-755b-4d80-b0cc-d5df75c763dd",
   "metadata": {},
   "outputs": [
    {
     "data": {
      "text/plain": [
       "'나의 이름은 홍길동입니다. 나이는 30입니다.'"
      ]
     },
     "execution_count": 104,
     "metadata": {},
     "output_type": "execute_result"
    }
   ],
   "source": [
    "name=\"홍길동\"\n",
    "age=30\n",
    "f'나의 이름은 {name}입니다. 나이는 {age}입니다.'"
   ]
  },
  {
   "cell_type": "code",
   "execution_count": 105,
   "id": "3e95ed4d-5b1b-4d0f-a007-fb5942c9aba1",
   "metadata": {},
   "outputs": [
    {
     "data": {
      "text/plain": [
       "'나의 이름은 홍길동입니다. 나이는 31입니다.'"
      ]
     },
     "execution_count": 105,
     "metadata": {},
     "output_type": "execute_result"
    }
   ],
   "source": [
    "name=\"홍길동\"\n",
    "age=30\n",
    "f'나의 이름은 {name}입니다. 나이는 {age+1}입니다.'"
   ]
  },
  {
   "cell_type": "code",
   "execution_count": 106,
   "id": "6ec1bba2-e0ab-4c04-9a56-a1c931a8f0cb",
   "metadata": {},
   "outputs": [
    {
     "data": {
      "text/plain": [
       "{'name': '홍길동', 'age': 30}"
      ]
     },
     "execution_count": 106,
     "metadata": {},
     "output_type": "execute_result"
    }
   ],
   "source": [
    "d={'name':'홍길동', 'age':30}\n",
    "d"
   ]
  },
  {
   "cell_type": "code",
   "execution_count": 107,
   "id": "c3c09ca6-43ad-45b0-a168-63c12cf8fd5c",
   "metadata": {},
   "outputs": [
    {
     "data": {
      "text/plain": [
       "'홍길동'"
      ]
     },
     "execution_count": 107,
     "metadata": {},
     "output_type": "execute_result"
    }
   ],
   "source": [
    "d['name']"
   ]
  },
  {
   "cell_type": "code",
   "execution_count": 109,
   "id": "2e45a687-f12a-43c3-9a3a-02e56d5ed248",
   "metadata": {},
   "outputs": [
    {
     "data": {
      "text/plain": [
       "'나의 이름은 홍길동입니다. 나이는 30입니다.'"
      ]
     },
     "execution_count": 109,
     "metadata": {},
     "output_type": "execute_result"
    }
   ],
   "source": [
    "f\"나의 이름은 {d['name']}입니다. 나이는 {d['age']}입니다.\""
   ]
  },
  {
   "cell_type": "code",
   "execution_count": 110,
   "id": "6a8405d8-5cce-43b3-9f09-a2cf9b978c79",
   "metadata": {},
   "outputs": [
    {
     "data": {
      "text/plain": [
       "'3.4213'"
      ]
     },
     "execution_count": 110,
     "metadata": {},
     "output_type": "execute_result"
    }
   ],
   "source": [
    "y = 3.42134234\n",
    "f'{y:0.4f}'"
   ]
  },
  {
   "cell_type": "code",
   "execution_count": 111,
   "id": "d494fbfa-1e67-4f9e-81ff-9c1400523675",
   "metadata": {},
   "outputs": [
    {
     "data": {
      "text/plain": [
       "'    3.4213'"
      ]
     },
     "execution_count": 111,
     "metadata": {},
     "output_type": "execute_result"
    }
   ],
   "source": [
    "f'{y:10.4f}'"
   ]
  },
  {
   "cell_type": "code",
   "execution_count": 122,
   "id": "eed3c2e7-1bed-435e-addb-358794a62714",
   "metadata": {},
   "outputs": [
    {
     "name": "stdout",
     "output_type": "stream",
     "text": [
      "Help on built-in function find:\n",
      "\n",
      "find(...) method of builtins.str instance\n",
      "    S.find(sub[, start[, end]]) -> int\n",
      "\n",
      "    Return the lowest index in S where substring sub is found,\n",
      "    such that sub is contained within S[start:end].  Optional\n",
      "    arguments start and end are interpreted as in slice notation.\n",
      "\n",
      "    Return -1 on failure.\n",
      "\n"
     ]
    }
   ],
   "source": [
    "help(a.find)"
   ]
  },
  {
   "cell_type": "code",
   "execution_count": 120,
   "id": "5cef6368-8d7b-4b86-a863-5105a1f6bc21",
   "metadata": {},
   "outputs": [
    {
     "data": {
      "text/plain": [
       "\u001b[1;31mDocstring:\u001b[0m\n",
       "S.find(sub[, start[, end]]) -> int\n",
       "\n",
       "Return the lowest index in S where substring sub is found,\n",
       "such that sub is contained within S[start:end].  Optional\n",
       "arguments start and end are interpreted as in slice notation.\n",
       "\n",
       "Return -1 on failure.\n",
       "\u001b[1;31mType:\u001b[0m      builtin_function_or_method"
      ]
     },
     "metadata": {},
     "output_type": "display_data"
    }
   ],
   "source": [
    "# 함수 사용법이 궁금할 땐 함수명 뒤에 '?'입력\n",
    "a.find?"
   ]
  },
  {
   "cell_type": "markdown",
   "id": "bfa38895-c473-48c5-a990-ccbf327be656",
   "metadata": {},
   "source": [
    "### 11. 문자열 관련 함수들"
   ]
  },
  {
   "cell_type": "markdown",
   "id": "3ca4d4c2-72b7-4717-a58d-dd77258d221d",
   "metadata": {},
   "source": [
    "#### count"
   ]
  },
  {
   "cell_type": "code",
   "execution_count": 129,
   "id": "843c7c2d-0813-495b-861d-2700c0b94abe",
   "metadata": {},
   "outputs": [
    {
     "data": {
      "text/plain": [
       "2"
      ]
     },
     "execution_count": 129,
     "metadata": {},
     "output_type": "execute_result"
    }
   ],
   "source": [
    "# 특정 문자열 개수 세기\n",
    "a=\"hobby\"\n",
    "a.count(\"b\")"
   ]
  },
  {
   "cell_type": "markdown",
   "id": "fa0f1687-dbcd-44c1-824a-d304d77adbcd",
   "metadata": {},
   "source": [
    "#### find"
   ]
  },
  {
   "cell_type": "code",
   "execution_count": 115,
   "id": "ffd89c0b-f859-4329-bca4-0eb184b1424c",
   "metadata": {},
   "outputs": [
    {
     "data": {
      "text/plain": [
       "14"
      ]
     },
     "execution_count": 115,
     "metadata": {},
     "output_type": "execute_result"
    }
   ],
   "source": [
    "# 위치 알려주기 - find\n",
    "a='python is the best choice'\n",
    "a.find('b')"
   ]
  },
  {
   "cell_type": "code",
   "execution_count": 118,
   "id": "19ab739c-d57f-421e-9d2f-b60ab57d8c97",
   "metadata": {},
   "outputs": [
    {
     "data": {
      "text/plain": [
       "-1"
      ]
     },
     "execution_count": 118,
     "metadata": {},
     "output_type": "execute_result"
    }
   ],
   "source": [
    "# find 활용 시 없는 문자 검색할 경우 =>\"-1\"반환\n",
    "a.find('k')"
   ]
  },
  {
   "cell_type": "markdown",
   "id": "763d3493-11f4-4cb5-9968-1ac66a62b5bc",
   "metadata": {},
   "source": [
    "#### index"
   ]
  },
  {
   "cell_type": "code",
   "execution_count": 125,
   "id": "aa355969-1d2d-4df8-8eed-2a016ed1b2f3",
   "metadata": {},
   "outputs": [
    {
     "data": {
      "text/plain": [
       "8"
      ]
     },
     "execution_count": 125,
     "metadata": {},
     "output_type": "execute_result"
    }
   ],
   "source": [
    "# 위치 알려주기 - index\n",
    "a='Life is too short'\n",
    "a.index('t')"
   ]
  },
  {
   "cell_type": "code",
   "execution_count": 128,
   "id": "179f5f5c-3ba1-4133-a52c-d7c41b77706d",
   "metadata": {},
   "outputs": [
    {
     "ename": "ValueError",
     "evalue": "substring not found",
     "output_type": "error",
     "traceback": [
      "\u001b[1;31m---------------------------------------------------------------------------\u001b[0m",
      "\u001b[1;31mValueError\u001b[0m                                Traceback (most recent call last)",
      "Cell \u001b[1;32mIn[128], line 2\u001b[0m\n\u001b[0;32m      1\u001b[0m \u001b[38;5;66;03m# index 활용 시 없는 문자 검색할 경우 => error\u001b[39;00m\n\u001b[1;32m----> 2\u001b[0m a\u001b[38;5;241m.\u001b[39mindex(\u001b[38;5;124m'\u001b[39m\u001b[38;5;124mk\u001b[39m\u001b[38;5;124m'\u001b[39m)\n",
      "\u001b[1;31mValueError\u001b[0m: substring not found"
     ]
    }
   ],
   "source": [
    "# index 활용 시 없는 문자 검색할 경우 => error\n",
    "a.index('k')"
   ]
  },
  {
   "cell_type": "markdown",
   "id": "3e116d9e-6f71-4242-84b8-906b5edce8ec",
   "metadata": {},
   "source": [
    "#### join"
   ]
  },
  {
   "cell_type": "code",
   "execution_count": 130,
   "id": "6ce11972-085a-4e79-a545-d71127f8c515",
   "metadata": {},
   "outputs": [
    {
     "data": {
      "text/plain": [
       "'a,b,c,d'"
      ]
     },
     "execution_count": 130,
     "metadata": {},
     "output_type": "execute_result"
    }
   ],
   "source": [
    "# 문자열 삽입\n",
    "','.join('abcd')"
   ]
  },
  {
   "cell_type": "code",
   "execution_count": 132,
   "id": "2f1a7d23-dac6-4c44-b1df-e13625c46252",
   "metadata": {},
   "outputs": [
    {
     "data": {
      "text/plain": [
       "'a,b,c,d'"
      ]
     },
     "execution_count": 132,
     "metadata": {},
     "output_type": "execute_result"
    }
   ],
   "source": [
    "# join은 반환 시 무조건 하나의 문자열로 반환\n",
    "','.join(['a','b','c','d'])"
   ]
  },
  {
   "cell_type": "markdown",
   "id": "f7e5731f-c8da-46dd-bae3-1995e158779b",
   "metadata": {},
   "source": [
    "#### upper, lower"
   ]
  },
  {
   "cell_type": "code",
   "execution_count": 134,
   "id": "8a54fb6b-992c-468f-a6de-d68eed637318",
   "metadata": {},
   "outputs": [
    {
     "data": {
      "text/plain": [
       "'HI'"
      ]
     },
     "execution_count": 134,
     "metadata": {},
     "output_type": "execute_result"
    }
   ],
   "source": [
    "# 소문자를 대문자로-upper\n",
    "a=\"hi\"\n",
    "a.upper()"
   ]
  },
  {
   "cell_type": "code",
   "execution_count": 135,
   "id": "d3652fb9-1471-4dae-8739-01e76164a1e4",
   "metadata": {},
   "outputs": [
    {
     "data": {
      "text/plain": [
       "'hi'"
      ]
     },
     "execution_count": 135,
     "metadata": {},
     "output_type": "execute_result"
    }
   ],
   "source": [
    "# 대문자를 소문자로-lower\n",
    "a=\"HI\"\n",
    "a.lower()"
   ]
  },
  {
   "cell_type": "markdown",
   "id": "faff4569-abf3-415c-8cc2-9cf58d6323be",
   "metadata": {},
   "source": [
    "#### strip, lstrip, rstrip"
   ]
  },
  {
   "cell_type": "code",
   "execution_count": 137,
   "id": "b5d75f89-9b34-4c71-9159-771565364c3c",
   "metadata": {},
   "outputs": [
    {
     "data": {
      "text/plain": [
       "'hi'"
      ]
     },
     "execution_count": 137,
     "metadata": {},
     "output_type": "execute_result"
    }
   ],
   "source": [
    "# 왼쪽 공백 지우기-lstrip\n",
    "a=' hi '\n",
    "a.lstrip()"
   ]
  },
  {
   "cell_type": "code",
   "execution_count": 138,
   "id": "0f0fd0f3-039e-4abb-8d79-1fe1048be884",
   "metadata": {},
   "outputs": [
    {
     "data": {
      "text/plain": [
       "' hi'"
      ]
     },
     "execution_count": 138,
     "metadata": {},
     "output_type": "execute_result"
    }
   ],
   "source": [
    "# 오른쪽 공백 지우기-rstrip\n",
    "a=' hi '\n",
    "a.rstrip()"
   ]
  },
  {
   "cell_type": "code",
   "execution_count": 139,
   "id": "fa07bb77-f759-4fd3-a186-6d1369ead188",
   "metadata": {},
   "outputs": [
    {
     "data": {
      "text/plain": [
       "'hi'"
      ]
     },
     "execution_count": 139,
     "metadata": {},
     "output_type": "execute_result"
    }
   ],
   "source": [
    "# 양쪽 공백 지우기-strip\n",
    "a=' hi '\n",
    "a.strip()"
   ]
  },
  {
   "cell_type": "markdown",
   "id": "5cdd4b97-9c73-4c94-807b-d89de78c9829",
   "metadata": {},
   "source": [
    "#### replace"
   ]
  },
  {
   "cell_type": "code",
   "execution_count": 141,
   "id": "c0204713-03f7-49a3-ab7a-b66e4f518c78",
   "metadata": {},
   "outputs": [
    {
     "data": {
      "text/plain": [
       "'Your leg is too short'"
      ]
     },
     "execution_count": 141,
     "metadata": {},
     "output_type": "execute_result"
    }
   ],
   "source": [
    "# 문자열 바꾸기\n",
    "a = 'Life is too short'\n",
    "a.replace('Life','Your leg')"
   ]
  },
  {
   "cell_type": "markdown",
   "id": "e3ec726e-ed34-4f03-8448-5533cacc5cdc",
   "metadata": {},
   "source": [
    "#### split"
   ]
  },
  {
   "cell_type": "code",
   "execution_count": 146,
   "id": "35a3c808-0762-4eb0-aa78-c8b29b788ff9",
   "metadata": {},
   "outputs": [
    {
     "data": {
      "text/plain": [
       "['Life', 'is', 'too', 'short']"
      ]
     },
     "execution_count": 146,
     "metadata": {},
     "output_type": "execute_result"
    }
   ],
   "source": [
    "# 문자열 나누기\n",
    "# 리스트로 반환해줌\n",
    "a = 'Life is too short'\n",
    "a.split()"
   ]
  },
  {
   "cell_type": "code",
   "execution_count": 145,
   "id": "401b6fdc-5782-4cc1-b800-c074454c7760",
   "metadata": {},
   "outputs": [
    {
     "data": {
      "text/plain": [
       "['a', 'b', 'c', 'd']"
      ]
     },
     "execution_count": 145,
     "metadata": {},
     "output_type": "execute_result"
    }
   ],
   "source": [
    "# 특정 인자를 받을 수도 있음->인자 입력 시 해당 인자를 기준으로 나눠줌\n",
    "b='a:b:c:d'\n",
    "b.split(':')"
   ]
  },
  {
   "cell_type": "code",
   "execution_count": null,
   "id": "0b67ece0-028b-4375-9e99-ef00d33428df",
   "metadata": {},
   "outputs": [],
   "source": []
  },
  {
   "cell_type": "code",
   "execution_count": null,
   "id": "5d6ef29e-b625-41e1-8d2c-28e9dbbaf2da",
   "metadata": {},
   "outputs": [],
   "source": []
  },
  {
   "cell_type": "code",
   "execution_count": null,
   "id": "1f29e792-83c4-41c8-b37e-5860f28f1a9f",
   "metadata": {},
   "outputs": [],
   "source": []
  },
  {
   "cell_type": "code",
   "execution_count": null,
   "id": "2955983e-74a7-4e0b-9ef3-10abab735419",
   "metadata": {},
   "outputs": [],
   "source": []
  },
  {
   "cell_type": "code",
   "execution_count": null,
   "id": "579052d2-fb74-40a0-8ab9-45175762eaf0",
   "metadata": {},
   "outputs": [],
   "source": []
  },
  {
   "cell_type": "code",
   "execution_count": null,
   "id": "e24e6791-fe93-49d7-9ba9-7deb21d6a9dc",
   "metadata": {},
   "outputs": [],
   "source": []
  },
  {
   "cell_type": "code",
   "execution_count": null,
   "id": "a2c13524-d67d-4a7a-8b64-4ced61cd77f1",
   "metadata": {},
   "outputs": [],
   "source": []
  },
  {
   "cell_type": "code",
   "execution_count": null,
   "id": "c79d1263-34b2-437f-9ca2-a38bea43cad8",
   "metadata": {},
   "outputs": [],
   "source": []
  },
  {
   "cell_type": "code",
   "execution_count": null,
   "id": "97bf674c-3685-4c0a-a32e-7b50d014e14b",
   "metadata": {},
   "outputs": [],
   "source": []
  },
  {
   "cell_type": "code",
   "execution_count": null,
   "id": "dbca16eb-ce79-40ca-a98e-0806731279c1",
   "metadata": {},
   "outputs": [],
   "source": []
  },
  {
   "cell_type": "code",
   "execution_count": null,
   "id": "1e979afd-6eac-4f22-8a44-efe083ed267f",
   "metadata": {},
   "outputs": [],
   "source": []
  },
  {
   "cell_type": "code",
   "execution_count": null,
   "id": "d960027f-e183-40fe-9ef5-9fb6b8f941ee",
   "metadata": {},
   "outputs": [],
   "source": []
  },
  {
   "cell_type": "code",
   "execution_count": null,
   "id": "6e2303a9-8432-4192-b58d-ed9f9c4e8521",
   "metadata": {},
   "outputs": [],
   "source": []
  },
  {
   "cell_type": "code",
   "execution_count": null,
   "id": "e2ebf07f-1303-461a-9fa5-743d27fb89ed",
   "metadata": {},
   "outputs": [],
   "source": []
  },
  {
   "cell_type": "code",
   "execution_count": null,
   "id": "c9474a08-24c2-43be-825a-a9e6c5ea51ef",
   "metadata": {},
   "outputs": [],
   "source": []
  },
  {
   "cell_type": "code",
   "execution_count": null,
   "id": "6ccfb342-90fb-4ddc-b226-e98ec54c7019",
   "metadata": {},
   "outputs": [],
   "source": []
  },
  {
   "cell_type": "code",
   "execution_count": null,
   "id": "46736fef-f7ea-4bd4-ac80-6d309b95b454",
   "metadata": {},
   "outputs": [],
   "source": []
  }
 ],
 "metadata": {
  "kernelspec": {
   "display_name": "Python 3 (ipykernel)",
   "language": "python",
   "name": "python3"
  },
  "language_info": {
   "codemirror_mode": {
    "name": "ipython",
    "version": 3
   },
   "file_extension": ".py",
   "mimetype": "text/x-python",
   "name": "python",
   "nbconvert_exporter": "python",
   "pygments_lexer": "ipython3",
   "version": "3.12.4"
  }
 },
 "nbformat": 4,
 "nbformat_minor": 5
}
