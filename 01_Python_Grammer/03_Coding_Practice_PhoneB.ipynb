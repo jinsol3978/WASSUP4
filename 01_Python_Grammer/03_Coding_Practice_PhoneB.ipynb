{
 "cells": [
  {
   "cell_type": "markdown",
   "id": "c72b7280-805e-4e14-82dd-f87bbf22ede4",
   "metadata": {},
   "source": [
    "## 1. 전화번호 프로그램 만들기\n",
    "- 홍길동 010-123-4567\n",
    "- 기능1 : 연락처 추가\n",
    "- 기능2 : 연락처 전체 보기\n",
    "- 기능3 : 검색, 이름을 입력받아서 전화번호 조회\n",
    "- 기능4 : 수정, 이름을 입력받아서 전화번호 입력수정\n",
    "- 기능5 : 삭제, 이름 입력받아서 삭제\n",
    "- 기능6 : 프로그램 종료"
   ]
  },
  {
   "cell_type": "code",
   "execution_count": 20,
   "id": "e359cc16-dded-445c-966f-af3b050eea3e",
   "metadata": {},
   "outputs": [
    {
     "name": "stdin",
     "output_type": "stream",
     "text": [
      " 2\n"
     ]
    },
    {
     "name": "stdout",
     "output_type": "stream",
     "text": [
      "{'홍길동': '010-123-4567'}\n"
     ]
    }
   ],
   "source": [
    "# 내가 작성한 구조문\n",
    "all={'홍길동':'010-123-4567'}\n",
    "i=int(input())\n",
    "if i==1:\n",
    "    name=input(\"추가할 이름: \")\n",
    "    phone=input(\"추가할 연락처: \")\n",
    "    all[name]=phone\n",
    "    print(all)\n",
    "elif i==2:\n",
    "    print(all)\n",
    "elif i==3:\n",
    "    name=input(\"검색할 이름: \")\n",
    "    print(all.get(name))\n",
    "elif i==4:\n",
    "    name=input(\"수정할 사람 이름: \")\n",
    "    phone=input(\"새 연락처: \")\n",
    "    del all[name]\n",
    "    all[name]=phone\n",
    "    print(all)\n",
    "elif i==5:\n",
    "    name=input(\"삭제할 사람 이름: \")\n",
    "    del all[name]\n",
    "    print(all)\n",
    "else:\n",
    "    print(\"연락처 프로그램을 종료합니다.\")"
   ]
  },
  {
   "cell_type": "code",
   "execution_count": 41,
   "id": "a98424d7-c8c8-4cae-9198-d688ba8af970",
   "metadata": {},
   "outputs": [
    {
     "name": "stdout",
     "output_type": "stream",
     "text": [
      "-----전화번호 프로그램-----\n",
      "1.추가 2.조회 3.검색 4.수정 5.삭제 9.종료\n"
     ]
    },
    {
     "name": "stdin",
     "output_type": "stream",
     "text": [
      "메뉴를 선택해주세요.(숫자 only) :  9\n"
     ]
    },
    {
     "name": "stdout",
     "output_type": "stream",
     "text": [
      "프로그램을 종료합니다.\n"
     ]
    }
   ],
   "source": [
    "# 강사님 답변\n",
    "contact={}\n",
    "while True:\n",
    "    print('-----전화번호 프로그램-----')\n",
    "    print('1.추가 2.조회 3.검색 4.수정 5.삭제 9.종료')\n",
    "    menu=int(input('메뉴를 선택해주세요.(숫자 only) : '))\n",
    "\n",
    "    if menu==1: #연락처 추가\n",
    "        print('연락처를 추가합니다.')\n",
    "        new_name=input('이름: ')\n",
    "        new_tel=input('전화번호: ')\n",
    "        print(new_name, new_tel)\n",
    "        \n",
    "        # contact[new_name]=new_tel\n",
    "        # setdefault:기존에 값이 존재할 경우 수정하지 않음\n",
    "        contact.setdefault(new_name, new_tel)\n",
    "\n",
    "    elif menu==2: #연락처 조회\n",
    "        print('연락처를 조회합니다.')\n",
    "        #print(contact)\n",
    "        for name, tel in contact.items():\n",
    "            print(name,':',tel)\n",
    "\n",
    "    elif menu==3: #연락처 검색\n",
    "        print('연락처를 검색합니다.')\n",
    "        search_name=input('검색 이름: ')\n",
    "        #print(contact[search_name]) -> 없는 이름 검색 시 오류 발생\n",
    "        #없는 이름 검색 시 오류가 아닌 안내가 나가도록\n",
    "        print(contact.get(search_name,'등록되지 않은 이름입니다.'))\n",
    "\n",
    "    elif menu==4: #연락처 수정\n",
    "        print('연락처를 수정합니다.')\n",
    "        mod_name=input('수정 이름: ')\n",
    "        \n",
    "        #수정하고자 하는 사람이 없을 수도 있음->새 전화번호 입력하기 전에 수정 이름이 존재하는지 확인하기\n",
    "        if mod_name in contact:\n",
    "            mod_tel=input('새 전화번호: ')\n",
    "            contact[mod_name]=mod_tel\n",
    "        else:\n",
    "            print('등록되지 않은 이름입니다.')\n",
    "\n",
    "    elif menu==5: #연락처 삭제\n",
    "        print('연락처를 삭제합니다.')\n",
    "        del_name=input('삭제 이름: ')\n",
    "        if del_name in contact:\n",
    "            del contact[del_name]\n",
    "        else:\n",
    "            print('등록되지 않은 이름입니다.')\n",
    "\n",
    "    elif menu==9: #프로그램 종료\n",
    "        print('프로그램을 종료합니다.')\n",
    "        break\n",
    "\n",
    "    else: #예외\n",
    "        print('잘못된 입력입니다.')"
   ]
  },
  {
   "cell_type": "code",
   "execution_count": null,
   "id": "aa1ecd0e-59ff-4dbb-80c7-ef549a732808",
   "metadata": {},
   "outputs": [],
   "source": []
  },
  {
   "cell_type": "code",
   "execution_count": null,
   "id": "34ddc82a-9238-4171-a2dc-3ef3e2d05013",
   "metadata": {},
   "outputs": [],
   "source": []
  },
  {
   "cell_type": "code",
   "execution_count": null,
   "id": "e3004a28-4c2b-4b2e-bbd6-31ed5870d89a",
   "metadata": {},
   "outputs": [],
   "source": []
  },
  {
   "cell_type": "code",
   "execution_count": null,
   "id": "f527df29-e5c3-4b15-a572-bec59603b241",
   "metadata": {},
   "outputs": [],
   "source": []
  },
  {
   "cell_type": "code",
   "execution_count": null,
   "id": "f34aee95-5e96-4b6a-8527-fc5ffd6ffc68",
   "metadata": {},
   "outputs": [],
   "source": []
  },
  {
   "cell_type": "code",
   "execution_count": null,
   "id": "217e4988-51f9-4149-b545-038230247051",
   "metadata": {},
   "outputs": [],
   "source": []
  },
  {
   "cell_type": "code",
   "execution_count": null,
   "id": "30d47bd9-3c3b-481e-9c79-671f95634da7",
   "metadata": {},
   "outputs": [],
   "source": []
  },
  {
   "cell_type": "code",
   "execution_count": null,
   "id": "a9819425-29f5-4095-8228-ef99baefa07d",
   "metadata": {},
   "outputs": [],
   "source": []
  },
  {
   "cell_type": "code",
   "execution_count": null,
   "id": "c46101c9-1729-49e5-a590-876af852a36b",
   "metadata": {},
   "outputs": [],
   "source": []
  },
  {
   "cell_type": "code",
   "execution_count": null,
   "id": "b56e5131-a94d-4992-affb-63dc5b95184b",
   "metadata": {},
   "outputs": [],
   "source": []
  },
  {
   "cell_type": "code",
   "execution_count": null,
   "id": "86aacd13-ca42-402d-836e-8ad63821c70a",
   "metadata": {},
   "outputs": [],
   "source": []
  },
  {
   "cell_type": "code",
   "execution_count": null,
   "id": "30583bac-b1d0-4860-8caf-19e801da0d40",
   "metadata": {},
   "outputs": [],
   "source": []
  },
  {
   "cell_type": "code",
   "execution_count": null,
   "id": "8ad3b1d1-e714-4961-b3e9-f770f1da42a2",
   "metadata": {},
   "outputs": [],
   "source": []
  },
  {
   "cell_type": "code",
   "execution_count": null,
   "id": "3a346058-72e5-492b-81f4-be64f3dc2e0d",
   "metadata": {},
   "outputs": [],
   "source": []
  }
 ],
 "metadata": {
  "kernelspec": {
   "display_name": "Python 3 (ipykernel)",
   "language": "python",
   "name": "python3"
  },
  "language_info": {
   "codemirror_mode": {
    "name": "ipython",
    "version": 3
   },
   "file_extension": ".py",
   "mimetype": "text/x-python",
   "name": "python",
   "nbconvert_exporter": "python",
   "pygments_lexer": "ipython3",
   "version": "3.12.4"
  }
 },
 "nbformat": 4,
 "nbformat_minor": 5
}
