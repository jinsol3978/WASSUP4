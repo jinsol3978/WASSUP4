{
 "cells": [
  {
   "cell_type": "markdown",
   "id": "87d9e536-b7f5-4863-bd0b-cadfa7bf1361",
   "metadata": {},
   "source": [
    "## 초보자를 위한 파이썬 300제(1~50)\n",
    "2024.09.04 (출처 : https://wikidocs.net/7014)"
   ]
  },
  {
   "cell_type": "markdown",
   "id": "844692ea-77ef-4fb0-9ef5-b85b794b3f87",
   "metadata": {},
   "source": [
    "### 01~10"
   ]
  },
  {
   "cell_type": "code",
   "execution_count": 1,
   "id": "33df91da-0d55-4581-a96b-967111e1db04",
   "metadata": {},
   "outputs": [
    {
     "name": "stdout",
     "output_type": "stream",
     "text": [
      "Hello World\n"
     ]
    }
   ],
   "source": [
    "# 1. 화면에 Hello World 문자열을 출력하세요.\n",
    "print(\"Hello World\")"
   ]
  },
  {
   "cell_type": "code",
   "execution_count": 2,
   "id": "5fbd4c66-c789-46ab-bf29-c0451babe023",
   "metadata": {},
   "outputs": [
    {
     "name": "stdout",
     "output_type": "stream",
     "text": [
      "Mary's cosmetics\n"
     ]
    }
   ],
   "source": [
    "# 2. 화면에 Mary's cosmetics을 출력하세요. (중간에 '가 있음에 주의하세요)\n",
    "print(\"Mary's cosmetics\")"
   ]
  },
  {
   "cell_type": "code",
   "execution_count": 5,
   "id": "7047e0a1-2896-487a-90e1-7a210d71678c",
   "metadata": {},
   "outputs": [
    {
     "name": "stdout",
     "output_type": "stream",
     "text": [
      "신씨가 소리질렀다. \"도둑이야\".\n"
     ]
    }
   ],
   "source": [
    "# 3. 화면에 아래 문장을 출력하세요. (중간에 \"가 있음에 주의하세요.)\n",
    "print('신씨가 소리질렀다. \"도둑이야\".')"
   ]
  },
  {
   "cell_type": "code",
   "execution_count": 10,
   "id": "1b008adf-188c-463e-9485-d55ae8a280e6",
   "metadata": {},
   "outputs": [
    {
     "name": "stdout",
     "output_type": "stream",
     "text": [
      "C:\\Windows\n"
     ]
    }
   ],
   "source": [
    "# 4. 화면에 C:\\Windows를 출력하세요.\n",
    "print('C:\\\\Windows')"
   ]
  },
  {
   "cell_type": "code",
   "execution_count": 14,
   "id": "f4e343ad-8ca5-4298-9077-1785dc513998",
   "metadata": {},
   "outputs": [
    {
     "name": "stdout",
     "output_type": "stream",
     "text": [
      "안녕하세요.\n",
      "만나서\t\t반갑습니다.\n"
     ]
    }
   ],
   "source": [
    "# 5. 다음 코드를 실행해보고 \\t와 \\n의 역할을 설명해보세요.\n",
    "# \\n : 줄바꿈, \\t : 탭\n",
    "print(\"안녕하세요.\\n만나서\\t\\t반갑습니다.\")"
   ]
  },
  {
   "cell_type": "code",
   "execution_count": 16,
   "id": "31c2f19c-e149-443d-972e-f10d9e897048",
   "metadata": {},
   "outputs": [
    {
     "name": "stdout",
     "output_type": "stream",
     "text": [
      "오늘은 일요일\n"
     ]
    }
   ],
   "source": [
    "# 6. print 함수에 두 개의 단어를 입력한 예제입니다. 아래 코드의 출력 결과를 예상해봅시다.\n",
    "# 예상 출력 결과 : 오늘은 일요일\n",
    "print(\"오늘은\",\"일요일\")"
   ]
  },
  {
   "cell_type": "code",
   "execution_count": 22,
   "id": "bfa24c0b-5696-46d2-bc26-6f9ef2d5c12b",
   "metadata": {},
   "outputs": [
    {
     "name": "stdout",
     "output_type": "stream",
     "text": [
      "naver;kakao;sk;samsung\n"
     ]
    }
   ],
   "source": [
    "# 7. print() 함수를 사용하여 다음과 같이 출력하세요. \"naver;kakao;sk;samsung\"\n",
    "print(\"naver\",\"kakao\",\"sk\",\"samsung\",sep=';')"
   ]
  },
  {
   "cell_type": "code",
   "execution_count": 23,
   "id": "2e549c83-b8f9-48d8-ad97-f9d37d5392c4",
   "metadata": {},
   "outputs": [
    {
     "name": "stdout",
     "output_type": "stream",
     "text": [
      "naver/kakao/sk/samsung\n"
     ]
    }
   ],
   "source": [
    "# 8. print() 함수를 사용하여 다음과 같이 출력하세요. \"naver/kakao/sk/samsung\"\n",
    "print(\"naver\",\"kakao\",\"sk\",\"samsung\",sep='/')"
   ]
  },
  {
   "cell_type": "code",
   "execution_count": 31,
   "id": "c4c565b9-9c5a-4b33-85a7-6c070a825745",
   "metadata": {},
   "outputs": [
    {
     "name": "stdout",
     "output_type": "stream",
     "text": [
      "firstsecond\n"
     ]
    }
   ],
   "source": [
    "# 9. 다음 코드를 수정하여 줄바꿈이 없이 출력하세요. (힌트: end='') print 함수는 두 번 사용합니다. 세미콜론 (;)은 한줄에 여러 개의 명령을 작성하기 위해 사용합니다.\n",
    "# print(\"first\");print(\"second\")\n",
    "print(\"first\",end=\"\");print(\"second\")"
   ]
  },
  {
   "cell_type": "code",
   "execution_count": 32,
   "id": "0ed8a6fa-85bf-4b76-8359-63a9d79e05f6",
   "metadata": {},
   "outputs": [
    {
     "name": "stdout",
     "output_type": "stream",
     "text": [
      "1.6666666666666667\n"
     ]
    }
   ],
   "source": [
    "# 10. 5/3의 결과를 화면에 출력하세요.\n",
    "print(5/3)"
   ]
  },
  {
   "cell_type": "markdown",
   "id": "de282bae-3ca7-491e-a905-c4b4402a6735",
   "metadata": {},
   "source": [
    "### 11~20"
   ]
  },
  {
   "cell_type": "code",
   "execution_count": 35,
   "id": "936c159e-9b4f-4035-bbfd-ae86186ab96e",
   "metadata": {},
   "outputs": [
    {
     "name": "stdout",
     "output_type": "stream",
     "text": [
      "500000\n"
     ]
    }
   ],
   "source": [
    "# 11. 삼성전자라는 변수로 50,000원을 바인딩해보세요. 삼성전자 주식 10주를 보유하고 있을 때 총 평가금액을 출력하세요.\n",
    "삼성전자=50000\n",
    "총평가금액=50000*10\n",
    "print(총평가금액)"
   ]
  },
  {
   "cell_type": "code",
   "execution_count": 39,
   "id": "f54015c0-d50f-4694-9132-13af87886a89",
   "metadata": {},
   "outputs": [
    {
     "name": "stdout",
     "output_type": "stream",
     "text": [
      "2980000000000 <class 'int'>\n",
      "50000 <class 'int'>\n",
      "15.79 <class 'float'>\n"
     ]
    }
   ],
   "source": [
    "# 12. 다음 표는 삼성전자의 일부 투자정보입니다. 변수를 사용해서 시가총액, 현재가, PER 등을 바인딩해보세요.\n",
    "시가총액=2980000000000\n",
    "현재가=50000\n",
    "PER=15.79\n",
    "print(시가총액, type(시가총액))\n",
    "print(현재가, type(현재가))\n",
    "print(PER, type(PER))"
   ]
  },
  {
   "cell_type": "code",
   "execution_count": 45,
   "id": "144d016d-6a14-4b62-9ab5-df96d9c5c1c9",
   "metadata": {},
   "outputs": [
    {
     "name": "stdout",
     "output_type": "stream",
     "text": [
      "hello! python\n",
      "hello! python\n"
     ]
    }
   ],
   "source": [
    "# 13. 변수 s와 t에는 각각 문자열이 바인딩 되어있습니다. 두 변수를 이용하여 아래와 같이 출력해보세요.\n",
    "# s = \"hello\", t = \"python\" => hello! python\n",
    "s=\"hello\"\n",
    "t=\"python\"\n",
    "print(s, end=\"! \");print(t)\n",
    "print(s+\"!\",t)"
   ]
  },
  {
   "cell_type": "code",
   "execution_count": 46,
   "id": "607b1017-fb62-41cf-8948-568c4f05183c",
   "metadata": {},
   "outputs": [
    {
     "data": {
      "text/plain": [
       "8"
      ]
     },
     "execution_count": 46,
     "metadata": {},
     "output_type": "execute_result"
    }
   ],
   "source": [
    "# 14. 아래 코드의 실행 결과를 예상해보세요. -> \"2 + 2 * 3 \"\n",
    "# 예상 결과 : 8\n",
    "2+2*3"
   ]
  },
  {
   "cell_type": "code",
   "execution_count": 49,
   "id": "3884ef21-13fb-4800-a3b1-bb38c9ae08d2",
   "metadata": {},
   "outputs": [
    {
     "name": "stdout",
     "output_type": "stream",
     "text": [
      "<class 'int'>\n"
     ]
    }
   ],
   "source": [
    "# 15. type() 함수는 데이터 타입을 판별합니다. 변수 a에는 128 숫자가 바인딩돼 있어 type 함수가 int (정수)형임을 알려줍니다.아래 변수에 바인딩된 값의 타입을 판별해보세요.\n",
    "# a = \"132\"\n",
    "# 예상 결과 : <class'int'>\n",
    "a=132\n",
    "print(type(a))"
   ]
  },
  {
   "cell_type": "code",
   "execution_count": 57,
   "id": "2f122303-08ee-4ec6-8dbf-7efb787ea77d",
   "metadata": {},
   "outputs": [
    {
     "name": "stdout",
     "output_type": "stream",
     "text": [
      "720 <class 'int'>\n"
     ]
    }
   ],
   "source": [
    "# 16. 문자열 '720'를 정수형으로 변환해보세요\n",
    "num_str=\"720\"\n",
    "num_int=int(num_str)\n",
    "print(num_int,type(num_int))"
   ]
  },
  {
   "cell_type": "code",
   "execution_count": 58,
   "id": "9fb2c6d5-0dad-4d90-8e47-fbe234ebea4d",
   "metadata": {},
   "outputs": [
    {
     "name": "stdout",
     "output_type": "stream",
     "text": [
      "100 <class 'str'>\n"
     ]
    }
   ],
   "source": [
    "# 17. 정수를 문자열 100으로 변환\n",
    "num=100\n",
    "num_str=str(num)\n",
    "print(num_str,type(num_str))"
   ]
  },
  {
   "cell_type": "code",
   "execution_count": 59,
   "id": "d3efd599-3757-4424-9973-7c88daeb60fb",
   "metadata": {},
   "outputs": [
    {
     "name": "stdout",
     "output_type": "stream",
     "text": [
      "15.79 <class 'float'>\n"
     ]
    }
   ],
   "source": [
    "# 18. 문자열 \"15.79\"를 실수(float) 타입으로 변환해보세요.\n",
    "float_str=\"15.79\"\n",
    "float=float(float_str)\n",
    "print(float,type(float))"
   ]
  },
  {
   "cell_type": "code",
   "execution_count": 63,
   "id": "13a80418-1b85-41dd-9760-4ed69ba0c118",
   "metadata": {},
   "outputs": [
    {
     "name": "stdout",
     "output_type": "stream",
     "text": [
      "2020\n",
      "2021\n",
      "2022\n"
     ]
    }
   ],
   "source": [
    "# 19. year라는 변수가 문자열 타입의 연도를 바인딩하고 있습니다. 이를 정수로 변환한 후 최근 3년의 연도를 화면에 출력해보세요.\n",
    "year=\"2020\"\n",
    "print(int(year))\n",
    "print(int(year)+1)\n",
    "print(int(year)+2)"
   ]
  },
  {
   "cell_type": "code",
   "execution_count": 64,
   "id": "35af594e-7cb8-4270-99cc-efe25e85f5d8",
   "metadata": {},
   "outputs": [
    {
     "name": "stdout",
     "output_type": "stream",
     "text": [
      "1749024\n"
     ]
    }
   ],
   "source": [
    "# 20. 에이컨이 월 48,584원에 무이자 36개월의 조건으로 홈쇼핑에서 판매되고 있습니다. 총 금액은 계산한 후 이를 화면에 출력해보세요. (변수사용하기)\n",
    "price=48584\n",
    "condition=36\n",
    "총금액=price*condition\n",
    "print(총금액)"
   ]
  },
  {
   "cell_type": "markdown",
   "id": "47f282e6-d295-4e9c-86e2-d6d9cdeff14e",
   "metadata": {},
   "source": [
    "### 21~30"
   ]
  },
  {
   "cell_type": "code",
   "execution_count": 1,
   "id": "3630b111-2c83-41c9-9b85-9edb8dfc31c3",
   "metadata": {},
   "outputs": [
    {
     "ename": "NameError",
     "evalue": "name 'find' is not defined",
     "output_type": "error",
     "traceback": [
      "\u001b[1;31m---------------------------------------------------------------------------\u001b[0m",
      "\u001b[1;31mNameError\u001b[0m                                 Traceback (most recent call last)",
      "Cell \u001b[1;32mIn[1], line 3\u001b[0m\n\u001b[0;32m      1\u001b[0m \u001b[38;5;66;03m# 21. letters가 바인딩하는 문자열에서 첫번째와 세번째 문자를 출력하세요.\u001b[39;00m\n\u001b[0;32m      2\u001b[0m letters\u001b[38;5;241m=\u001b[39m\u001b[38;5;124m'\u001b[39m\u001b[38;5;124mpython\u001b[39m\u001b[38;5;124m'\u001b[39m\n\u001b[1;32m----> 3\u001b[0m find(letters,\u001b[38;5;241m1\u001b[39m)\n",
      "\u001b[1;31mNameError\u001b[0m: name 'find' is not defined"
     ]
    }
   ],
   "source": [
    "# 21. letters가 바인딩하는 문자열에서 첫번째와 세번째 문자를 출력하세요.\n",
    "letters='python'\n",
    "find(letters,1)"
   ]
  },
  {
   "cell_type": "code",
   "execution_count": null,
   "id": "00cca7f0-51c9-44fe-a912-9a374987a493",
   "metadata": {},
   "outputs": [],
   "source": []
  },
  {
   "cell_type": "code",
   "execution_count": null,
   "id": "e3ffe0ac-91a5-4ae8-8dbf-9cf3156e579c",
   "metadata": {},
   "outputs": [],
   "source": []
  },
  {
   "cell_type": "code",
   "execution_count": null,
   "id": "a7918ccd-f034-4ad8-a26e-626f13805098",
   "metadata": {},
   "outputs": [],
   "source": []
  }
 ],
 "metadata": {
  "kernelspec": {
   "display_name": "Python 3 (ipykernel)",
   "language": "python",
   "name": "python3"
  },
  "language_info": {
   "codemirror_mode": {
    "name": "ipython",
    "version": 3
   },
   "file_extension": ".py",
   "mimetype": "text/x-python",
   "name": "python",
   "nbconvert_exporter": "python",
   "pygments_lexer": "ipython3",
   "version": "3.12.4"
  }
 },
 "nbformat": 4,
 "nbformat_minor": 5
}
