{
 "cells": [
  {
   "cell_type": "markdown",
   "id": "b2d70992-f6d9-4b8a-8257-b9466becf87a",
   "metadata": {},
   "source": [
    "## 초보자를 위한 파이썬 300제(101~160)\n",
    "2024.09.06 (출처 : https://wikidocs.net/7014)"
   ]
  },
  {
   "cell_type": "markdown",
   "id": "9d54f0ec-397c-4b27-96f4-3e8aa4295c7f",
   "metadata": {},
   "source": [
    "### 101~110"
   ]
  },
  {
   "cell_type": "code",
   "execution_count": 2,
   "id": "bc86cbcc-8a8d-4278-ab39-4649f8991d40",
   "metadata": {},
   "outputs": [
    {
     "name": "stdout",
     "output_type": "stream",
     "text": [
      "정답 : 불린 타입(bool)\n"
     ]
    }
   ],
   "source": [
    "# 101. 파이썬에서 True 혹은 False를 갖는 데이터 타입은 무엇인가?\n",
    "print(\"정답 : 불린 타입(bool)\")"
   ]
  },
  {
   "cell_type": "code",
   "execution_count": 3,
   "id": "8656b0eb-6d0e-4eb2-9124-8cefda0d3d26",
   "metadata": {},
   "outputs": [
    {
     "name": "stdout",
     "output_type": "stream",
     "text": [
      "False\n"
     ]
    }
   ],
   "source": [
    "# 102. 아래 코드의 출력 결과를 예상하라\n",
    "# 예상 결과 : False\n",
    "print(3 == 5)"
   ]
  },
  {
   "cell_type": "code",
   "execution_count": 4,
   "id": "f5ba283a-3531-4edb-b09d-4734e53828a3",
   "metadata": {},
   "outputs": [
    {
     "name": "stdout",
     "output_type": "stream",
     "text": [
      "True\n"
     ]
    }
   ],
   "source": [
    "# 103. 아래 코드의 출력 결과를 예상하라\n",
    "# 예상 결과 : True\n",
    "print(3 < 5)"
   ]
  },
  {
   "cell_type": "code",
   "execution_count": 5,
   "id": "04c6e936-1cf9-44ed-92cd-62a247ec8c34",
   "metadata": {},
   "outputs": [
    {
     "name": "stdout",
     "output_type": "stream",
     "text": [
      "True\n"
     ]
    }
   ],
   "source": [
    "# 104. 아래 코드의 결과를 예상하라.\n",
    "# 예상 결과 : True\n",
    "x = 4\n",
    "print(1 < x < 5)"
   ]
  },
  {
   "cell_type": "code",
   "execution_count": 6,
   "id": "caef4111-d45f-44cb-acb2-fce0569b8591",
   "metadata": {},
   "outputs": [
    {
     "name": "stdout",
     "output_type": "stream",
     "text": [
      "True\n"
     ]
    }
   ],
   "source": [
    "# 105. 아래 코드의 결과를 예상하라.\n",
    "# 예상 결과 : True\n",
    "print ((3 == 3) and (4 != 3))"
   ]
  },
  {
   "cell_type": "code",
   "execution_count": 11,
   "id": "47868fb5-92d2-46d9-96e0-07290d14b48c",
   "metadata": {},
   "outputs": [
    {
     "ename": "SyntaxError",
     "evalue": "expression cannot contain assignment, perhaps you meant \"==\"? (847056608.py, line 4)",
     "output_type": "error",
     "traceback": [
      "\u001b[1;36m  Cell \u001b[1;32mIn[11], line 4\u001b[1;36m\u001b[0m\n\u001b[1;33m    print(3 => 4)\u001b[0m\n\u001b[1;37m          ^\u001b[0m\n\u001b[1;31mSyntaxError\u001b[0m\u001b[1;31m:\u001b[0m expression cannot contain assignment, perhaps you meant \"==\"?\n"
     ]
    }
   ],
   "source": [
    "# 106. 아래 코드에서 에러가 발생하는 원인에 대해 설명하라.\n",
    "# 오류 발생 원인 : 지원하지 않는 연산자임\n",
    "# 'print(3>=4)'라고 표현해야 함\n",
    "print(3 => 4)"
   ]
  },
  {
   "cell_type": "code",
   "execution_count": 13,
   "id": "77a08067-e441-41ed-a24a-e81371662ee5",
   "metadata": {},
   "outputs": [],
   "source": [
    "# 107. 아래 코드의 출력 결과를 예상하라\n",
    "# 예상 결과 : 아무것도 출력 안 함\n",
    "if 4 < 3:\n",
    "    print(\"Hello World\")"
   ]
  },
  {
   "cell_type": "code",
   "execution_count": 15,
   "id": "54ef3936-1c40-4ed4-b19f-348bf247c9ba",
   "metadata": {},
   "outputs": [
    {
     "name": "stdout",
     "output_type": "stream",
     "text": [
      "Hi, there.\n"
     ]
    }
   ],
   "source": [
    "# 108. 아래 코드의 출력 결과를 예상하라\n",
    "# 예상 결과 : Hi, there.\n",
    "if 4 < 3:\n",
    "    print(\"Hello World.\")\n",
    "else:\n",
    "    print(\"Hi, there.\")"
   ]
  },
  {
   "cell_type": "code",
   "execution_count": 18,
   "id": "e5607b7c-070d-4375-a185-fd2975e78b34",
   "metadata": {},
   "outputs": [
    {
     "name": "stdout",
     "output_type": "stream",
     "text": [
      "1\n",
      "2\n",
      "4\n"
     ]
    }
   ],
   "source": [
    "# 109. 아래 코드의 출력 결과를 예상하라\n",
    "# 예상 결과 : 1,2,4\n",
    "# 이미 '참'인 상태이기 때문에 else 구문은 생략\n",
    "if True :\n",
    "    print (\"1\")\n",
    "    print (\"2\")\n",
    "else :\n",
    "    print(\"3\")\n",
    "print(\"4\")"
   ]
  },
  {
   "cell_type": "code",
   "execution_count": 21,
   "id": "37fe7c96-d6e8-48e1-96a6-1f99804f55b7",
   "metadata": {},
   "outputs": [
    {
     "name": "stdout",
     "output_type": "stream",
     "text": [
      "3\n",
      "5\n"
     ]
    }
   ],
   "source": [
    "# 110. 아래 코드의 출력 결과를 예상하라\n",
    "# 예상 결과 : 3, 5\n",
    "# 이미 '참'인 상태-> if false 구문의 else 부분이 참에 해당하므로 해당 명령어만 수행\n",
    "# 마지막 print(\"5\")의 경우 if문과 상관없이 무조건 수행\n",
    "if True :\n",
    "    if False:\n",
    "        print(\"1\")\n",
    "        print(\"2\")\n",
    "    else:\n",
    "        print(\"3\")\n",
    "else :\n",
    "    print(\"4\")\n",
    "print(\"5\")"
   ]
  },
  {
   "cell_type": "markdown",
   "id": "e355348c-3d93-4579-9286-1a54e7d33e2f",
   "metadata": {},
   "source": [
    "### 111~120"
   ]
  },
  {
   "cell_type": "code",
   "execution_count": 22,
   "id": "485db997-7f39-4887-a9a0-2145a73129ec",
   "metadata": {},
   "outputs": [
    {
     "name": "stdin",
     "output_type": "stream",
     "text": [
      " 안녕하세요\n"
     ]
    },
    {
     "name": "stdout",
     "output_type": "stream",
     "text": [
      "안녕하세요안녕하세요\n"
     ]
    }
   ],
   "source": [
    "# 111. 사용자로부터 입력받은 문자열을 두 번 출력하라. 아래는 사용자가 \"안녕하세요\"를 입력한 경우의 출력 결과이다.\n",
    "print(input()*2)"
   ]
  },
  {
   "cell_type": "code",
   "execution_count": 24,
   "id": "d213facf-039f-4a8c-a3ba-5d2c1c578f79",
   "metadata": {},
   "outputs": [
    {
     "name": "stdin",
     "output_type": "stream",
     "text": [
      "입력: 안녕하세요\n"
     ]
    },
    {
     "name": "stdout",
     "output_type": "stream",
     "text": [
      "안녕하세요안녕하세요\n"
     ]
    }
   ],
   "source": [
    "# 111. 다른 방법\n",
    "user=input(\"입력:\")\n",
    "print(user*2)"
   ]
  },
  {
   "cell_type": "code",
   "execution_count": 27,
   "id": "dac27d9d-5400-427f-8693-2e3de7daced2",
   "metadata": {},
   "outputs": [
    {
     "name": "stdin",
     "output_type": "stream",
     "text": [
      " 20\n"
     ]
    },
    {
     "name": "stdout",
     "output_type": "stream",
     "text": [
      "30\n"
     ]
    }
   ],
   "source": [
    "# 112. 사용자로부터 하나의 숫자를 입력받고, 입력 받은 숫자에 10을 더해 출력하라.\n",
    "print(int(input())+10)"
   ]
  },
  {
   "cell_type": "code",
   "execution_count": 28,
   "id": "b4965d41-12d4-43aa-acd1-04999077bd57",
   "metadata": {},
   "outputs": [
    {
     "name": "stdin",
     "output_type": "stream",
     "text": [
      "숫자를 입력하세요:  30\n"
     ]
    },
    {
     "name": "stdout",
     "output_type": "stream",
     "text": [
      "40\n"
     ]
    }
   ],
   "source": [
    "# 112. 다른 방법\n",
    "user=input(\"숫자를 입력하세요: \")\n",
    "print(int(user)+10)"
   ]
  },
  {
   "cell_type": "code",
   "execution_count": 30,
   "id": "55a54be9-be6c-4624-9879-9c6ce5337cb5",
   "metadata": {},
   "outputs": [
    {
     "name": "stdin",
     "output_type": "stream",
     "text": [
      "숫자를 입력하세요:  5\n"
     ]
    },
    {
     "name": "stdout",
     "output_type": "stream",
     "text": [
      "홀수\n"
     ]
    }
   ],
   "source": [
    "# 113. 사용자로부터 하나의 숫자를 입력 받고 짝수/홀수를 판별하라.\n",
    "user=input(\"숫자를 입력하세요: \")\n",
    "if int(user)%2>0:\n",
    "    print(\"홀수\")\n",
    "else:\n",
    "    print(\"짝수\")"
   ]
  },
  {
   "cell_type": "code",
   "execution_count": 33,
   "id": "f886ccfc-6441-4986-9616-3b6e8abfb674",
   "metadata": {},
   "outputs": [
    {
     "name": "stdin",
     "output_type": "stream",
     "text": [
      "숫자를 입력하세요:  260\n"
     ]
    },
    {
     "name": "stdout",
     "output_type": "stream",
     "text": [
      "출력값: 255\n"
     ]
    }
   ],
   "source": [
    "# 114. 사용자로부터 값을 입력받은 후 해당 값에 20을 더한 값을 출력하라. 단 사용자가 입력한 값과 20을 더한 계산 값이 255를 초과하는 경우 255를 출력해야 한다.\n",
    "user=input(\"숫자를 입력하세요: \")\n",
    "number=int(user)+20\n",
    "if number>255:\n",
    "    print(\"출력값: 255\")\n",
    "else:\n",
    "    print(f\"출력값: {number}\")"
   ]
  },
  {
   "cell_type": "code",
   "execution_count": 5,
   "id": "3a93ffd8-b0e9-4f76-81bb-4d079e586275",
   "metadata": {},
   "outputs": [
    {
     "name": "stdin",
     "output_type": "stream",
     "text": [
      "입력값:  500\n"
     ]
    },
    {
     "name": "stdout",
     "output_type": "stream",
     "text": [
      "255\n"
     ]
    }
   ],
   "source": [
    "#115. 사용자로부터 하나의 값을 입력받은 후 해당 값에 20을 뺀 값을 출력하라. 단 출력 값의 범위는 0~255이다. 예를 들어 결괏값이 0보다 작은 값이되는 경우 0을 출력하고 255보다 큰 값이 되는 경우 255를 출력해야 한다.\n",
    "user=input(\"입력값: \")\n",
    "number=int(user)\n",
    "if number-20<0:\n",
    "    print(0)\n",
    "elif number-20>255:\n",
    "    print(255)\n",
    "else:\n",
    "    print(f'출력값: {number-20}')\n"
   ]
  },
  {
   "cell_type": "code",
   "execution_count": 7,
   "id": "df796b3c-f045-4649-ad47-3cdff6e04f01",
   "metadata": {},
   "outputs": [
    {
     "name": "stdin",
     "output_type": "stream",
     "text": [
      "현재시각:  03:00\n"
     ]
    },
    {
     "name": "stdout",
     "output_type": "stream",
     "text": [
      "정각 입니다.\n"
     ]
    }
   ],
   "source": [
    "# 116. 사용자로부터 입력 받은 시간이 정각인지 판별하라.\n",
    "time=input(\"현재시각: \")\n",
    "if time[-2:]==\"00\":\n",
    "    print(\"정각 입니다.\")\n",
    "else:\n",
    "    print(\"정각 아닙니다.\")"
   ]
  },
  {
   "cell_type": "code",
   "execution_count": 9,
   "id": "1f7cc1c6-a0c9-47ed-8d7b-a537fad52393",
   "metadata": {},
   "outputs": [
    {
     "name": "stdin",
     "output_type": "stream",
     "text": [
      "좋아하는 과일은?  배\n"
     ]
    },
    {
     "name": "stdout",
     "output_type": "stream",
     "text": [
      "오답입니다.\n"
     ]
    }
   ],
   "source": [
    "# 117. 사용자로 입력받은 단어가 아래 fruit 리스트에 포함되어 있는지를 확인하라. 포함되었다면 \"정답입니다\"를 아닐 경우 \"오답입니다\" 출력하라.\n",
    "fruit=['사과', '포도', '홍시']\n",
    "user=input(\"좋아하는 과일은? \")\n",
    "if user in fruit:\n",
    "    print(\"정답입니다.\")\n",
    "else :\n",
    "    print(\"오답입니다.\")"
   ]
  },
  {
   "cell_type": "code",
   "execution_count": 11,
   "id": "283ef7e0-b177-4c18-a110-2b57b629858e",
   "metadata": {},
   "outputs": [
    {
     "name": "stdin",
     "output_type": "stream",
     "text": [
      "종목명:  kakao\n"
     ]
    },
    {
     "name": "stdout",
     "output_type": "stream",
     "text": [
      "투자 경고 종목이 아닙니다.\n"
     ]
    }
   ],
   "source": [
    "# 118. 투자 경고 종목 리스트가 있을 때 사용자로부터 종목명을 입력 받은 후 해당 종목이 투자 경고 종목이라면 '투자 경고 종목입니다'를 아니면 \"투자 경고 종목이 아닙니다.\"를 출력하는 프로그램을 작성하라.\n",
    "warn_investment_list = [\"Microsoft\", \"Google\", \"Naver\", \"Kakao\", \"SAMSUNG\", \"LG\"]\n",
    "user=input(\"종목명: \")\n",
    "if user in warn_investment_list:\n",
    "    print(\"투자 경고 종목입니다\")\n",
    "else:\n",
    "    print(\"투자 경고 종목이 아닙니다.\")"
   ]
  },
  {
   "cell_type": "code",
   "execution_count": 16,
   "id": "c46dc068-7e32-4f98-8b7d-8164715673a3",
   "metadata": {},
   "outputs": [
    {
     "name": "stdin",
     "output_type": "stream",
     "text": [
      "제가좋아하는계절은:  딸기\n"
     ]
    },
    {
     "name": "stdout",
     "output_type": "stream",
     "text": [
      "오답입니다\n"
     ]
    }
   ],
   "source": [
    "# 119. 아래와 같이 fruit 딕셔너리가 정의되어 있다. 사용자가 입력한 값이 딕셔너리 키 (key) 값에 포함되었다면 \"정답입니다\"를 아닐 경우 \"오답입니다\" 출력하라.\n",
    "fruit = {\"봄\" : \"딸기\", \"여름\" : \"토마토\", \"가을\" : \"사과\"}\n",
    "user=input(\"제가좋아하는계절은: \")\n",
    "if user in fruit:\n",
    "    print(\"정답입니다\")\n",
    "else:\n",
    "    print(\"오답입니다\")"
   ]
  },
  {
   "cell_type": "code",
   "execution_count": 18,
   "id": "f105157f-f627-4244-bcda-7986ad33c016",
   "metadata": {},
   "outputs": [
    {
     "name": "stdin",
     "output_type": "stream",
     "text": [
      "좋아하는과일은?  봄\n"
     ]
    },
    {
     "name": "stdout",
     "output_type": "stream",
     "text": [
      "오답입니다\n"
     ]
    }
   ],
   "source": [
    "# 120. 아래와 같이 fruit 딕셔너리가 정의되어 있다. 사용자가 입력한 값이 딕셔너리 값 (value)에 포함되었다면 \"정답입니다\"를 아닐 경우 \"오답입니다\" 출력하라.\n",
    "fruit = {\"봄\" : \"딸기\", \"여름\" : \"토마토\", \"가을\" : \"사과\"}\n",
    "user=input(\"좋아하는과일은? \")\n",
    "if user in fruit.values():\n",
    "    print(\"정답입니다\")\n",
    "else:\n",
    "    print(\"오답입니다\")"
   ]
  },
  {
   "cell_type": "code",
   "execution_count": null,
   "id": "4e7d1250-cf1b-4847-b71d-472cd8f0f0a0",
   "metadata": {},
   "outputs": [],
   "source": []
  },
  {
   "cell_type": "code",
   "execution_count": null,
   "id": "80a92809-58c8-4785-b3c3-1598752d6912",
   "metadata": {},
   "outputs": [],
   "source": []
  },
  {
   "cell_type": "code",
   "execution_count": null,
   "id": "36ca7909-82a6-469b-9f37-ba9fa04ca19c",
   "metadata": {},
   "outputs": [],
   "source": []
  },
  {
   "cell_type": "code",
   "execution_count": null,
   "id": "d87428e6-abea-4b8f-8b6b-ba788efc66d3",
   "metadata": {},
   "outputs": [],
   "source": []
  },
  {
   "cell_type": "code",
   "execution_count": null,
   "id": "6680f1c0-72a6-4d6e-bf2c-43984d3d95ed",
   "metadata": {},
   "outputs": [],
   "source": []
  },
  {
   "cell_type": "code",
   "execution_count": null,
   "id": "c5e5b740-5506-4c08-b9dc-df1c48266133",
   "metadata": {},
   "outputs": [],
   "source": []
  },
  {
   "cell_type": "code",
   "execution_count": null,
   "id": "f7e20a87-307e-4c6f-b11a-db2ecc67398d",
   "metadata": {},
   "outputs": [],
   "source": []
  },
  {
   "cell_type": "code",
   "execution_count": null,
   "id": "4026f3e7-3dbe-49a7-a652-eba2a848124c",
   "metadata": {},
   "outputs": [],
   "source": []
  },
  {
   "cell_type": "code",
   "execution_count": null,
   "id": "077e7ed1-7735-41fd-a88a-f07558c7c2e3",
   "metadata": {},
   "outputs": [],
   "source": []
  },
  {
   "cell_type": "code",
   "execution_count": null,
   "id": "0fca122f-061b-41df-b6aa-5af9baaad2a3",
   "metadata": {},
   "outputs": [],
   "source": []
  },
  {
   "cell_type": "code",
   "execution_count": null,
   "id": "dd45db34-5f56-4077-a223-47fd85a32ff0",
   "metadata": {},
   "outputs": [],
   "source": []
  },
  {
   "cell_type": "code",
   "execution_count": null,
   "id": "7ec221a1-b2c7-43cd-9998-67851e16ba5f",
   "metadata": {},
   "outputs": [],
   "source": []
  },
  {
   "cell_type": "code",
   "execution_count": null,
   "id": "f8c33e50-831d-4bdf-825f-eb3da31ac927",
   "metadata": {},
   "outputs": [],
   "source": []
  }
 ],
 "metadata": {
  "kernelspec": {
   "display_name": "Python 3 (ipykernel)",
   "language": "python",
   "name": "python3"
  },
  "language_info": {
   "codemirror_mode": {
    "name": "ipython",
    "version": 3
   },
   "file_extension": ".py",
   "mimetype": "text/x-python",
   "name": "python",
   "nbconvert_exporter": "python",
   "pygments_lexer": "ipython3",
   "version": "3.12.4"
  }
 },
 "nbformat": 4,
 "nbformat_minor": 5
}
