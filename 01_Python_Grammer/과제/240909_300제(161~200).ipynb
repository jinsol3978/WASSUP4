{
 "cells": [
  {
   "cell_type": "markdown",
   "id": "93f6b934-b386-4570-b543-04ff85c87054",
   "metadata": {},
   "source": [
    "## 초보자를 위한 파이썬 300제(161~200)\n",
    "2024.09.09 (출처 : https://wikidocs.net/7014)"
   ]
  },
  {
   "cell_type": "markdown",
   "id": "424561d2-4330-4eef-8ace-6184e918390b",
   "metadata": {},
   "source": [
    "### 161~170"
   ]
  },
  {
   "cell_type": "code",
   "execution_count": 3,
   "id": "5bae890b-219a-42dc-93ee-9f03cb15ccb3",
   "metadata": {},
   "outputs": [
    {
     "name": "stdout",
     "output_type": "stream",
     "text": [
      "0\n",
      "1\n",
      "2\n",
      "3\n",
      "4\n",
      "5\n",
      "6\n",
      "7\n",
      "8\n",
      "9\n",
      "10\n",
      "11\n",
      "12\n",
      "13\n",
      "14\n",
      "15\n",
      "16\n",
      "17\n",
      "18\n",
      "19\n",
      "20\n",
      "21\n",
      "22\n",
      "23\n",
      "24\n",
      "25\n",
      "26\n",
      "27\n",
      "28\n",
      "29\n",
      "30\n",
      "31\n",
      "32\n",
      "33\n",
      "34\n",
      "35\n",
      "36\n",
      "37\n",
      "38\n",
      "39\n",
      "40\n",
      "41\n",
      "42\n",
      "43\n",
      "44\n",
      "45\n",
      "46\n",
      "47\n",
      "48\n",
      "49\n",
      "50\n",
      "51\n",
      "52\n",
      "53\n",
      "54\n",
      "55\n",
      "56\n",
      "57\n",
      "58\n",
      "59\n",
      "60\n",
      "61\n",
      "62\n",
      "63\n",
      "64\n",
      "65\n",
      "66\n",
      "67\n",
      "68\n",
      "69\n",
      "70\n",
      "71\n",
      "72\n",
      "73\n",
      "74\n",
      "75\n",
      "76\n",
      "77\n",
      "78\n",
      "79\n",
      "80\n",
      "81\n",
      "82\n",
      "83\n",
      "84\n",
      "85\n",
      "86\n",
      "87\n",
      "88\n",
      "89\n",
      "90\n",
      "91\n",
      "92\n",
      "93\n",
      "94\n",
      "95\n",
      "96\n",
      "97\n",
      "98\n",
      "99\n"
     ]
    }
   ],
   "source": [
    "# 161. for문과 range 구문을 사용해서 0~99까지 한 라인에 하나씩 순차적으로 출력하는 프로그램을 작성하라.\n",
    "for i in range(0,100):\n",
    "    print(i)"
   ]
  },
  {
   "cell_type": "code",
   "execution_count": 6,
   "id": "d1fb5121-243c-45c8-a20a-41977d3864a6",
   "metadata": {},
   "outputs": [
    {
     "name": "stdout",
     "output_type": "stream",
     "text": [
      "2002\n",
      "2006\n",
      "2010\n",
      "2014\n",
      "2018\n",
      "2022\n",
      "2026\n",
      "2030\n",
      "2034\n",
      "2038\n",
      "2042\n",
      "2046\n",
      "2050\n"
     ]
    }
   ],
   "source": [
    "# 162. 월드컵은 4년에 한 번 개최된다. range()를 사용하여 2002~2050년까지 중 월드컵이 개최되는 연도를 출력하라.\n",
    "for year in range(2002,2051,4):\n",
    "    print(year)"
   ]
  },
  {
   "cell_type": "code",
   "execution_count": 7,
   "id": "c83f5d05-ba15-42cf-b7a0-c45c6a9c92e8",
   "metadata": {},
   "outputs": [
    {
     "name": "stdout",
     "output_type": "stream",
     "text": [
      "3\n",
      "6\n",
      "9\n",
      "12\n",
      "15\n",
      "18\n",
      "21\n",
      "24\n",
      "27\n",
      "30\n"
     ]
    }
   ],
   "source": [
    "# 163. 1부터 30까지의 숫자 중 3의 배수를 출력하라.\n",
    "for i in range(1,31):\n",
    "    if i%3==0:\n",
    "        print(i)"
   ]
  },
  {
   "cell_type": "code",
   "execution_count": 8,
   "id": "fe8158b5-e80d-4f76-98e4-250461276aa7",
   "metadata": {},
   "outputs": [
    {
     "name": "stdout",
     "output_type": "stream",
     "text": [
      "3\n",
      "6\n",
      "9\n",
      "12\n",
      "15\n",
      "18\n",
      "21\n",
      "24\n",
      "27\n",
      "30\n"
     ]
    }
   ],
   "source": [
    "# 163. (답지 방법)\n",
    "for i in range(3,31,3):\n",
    "    print(i)"
   ]
  },
  {
   "cell_type": "code",
   "execution_count": 11,
   "id": "e1947e3f-7645-459c-90d8-568b3d0b77ed",
   "metadata": {},
   "outputs": [
    {
     "name": "stdout",
     "output_type": "stream",
     "text": [
      "99\n",
      "98\n",
      "97\n",
      "96\n",
      "95\n",
      "94\n",
      "93\n",
      "92\n",
      "91\n",
      "90\n",
      "89\n",
      "88\n",
      "87\n",
      "86\n",
      "85\n",
      "84\n",
      "83\n",
      "82\n",
      "81\n",
      "80\n",
      "79\n",
      "78\n",
      "77\n",
      "76\n",
      "75\n",
      "74\n",
      "73\n",
      "72\n",
      "71\n",
      "70\n",
      "69\n",
      "68\n",
      "67\n",
      "66\n",
      "65\n",
      "64\n",
      "63\n",
      "62\n",
      "61\n",
      "60\n",
      "59\n",
      "58\n",
      "57\n",
      "56\n",
      "55\n",
      "54\n",
      "53\n",
      "52\n",
      "51\n",
      "50\n",
      "49\n",
      "48\n",
      "47\n",
      "46\n",
      "45\n",
      "44\n",
      "43\n",
      "42\n",
      "41\n",
      "40\n",
      "39\n",
      "38\n",
      "37\n",
      "36\n",
      "35\n",
      "34\n",
      "33\n",
      "32\n",
      "31\n",
      "30\n",
      "29\n",
      "28\n",
      "27\n",
      "26\n",
      "25\n",
      "24\n",
      "23\n",
      "22\n",
      "21\n",
      "20\n",
      "19\n",
      "18\n",
      "17\n",
      "16\n",
      "15\n",
      "14\n",
      "13\n",
      "12\n",
      "11\n",
      "10\n",
      "9\n",
      "8\n",
      "7\n",
      "6\n",
      "5\n",
      "4\n",
      "3\n",
      "2\n",
      "1\n",
      "0\n"
     ]
    }
   ],
   "source": [
    "# 164. 99부터 0까지 1씩 감소하는 숫자들을, 한 라인에 하나씩 출력하라.\n",
    "for i in range(100):\n",
    "    print(99-i)"
   ]
  },
  {
   "cell_type": "code",
   "execution_count": 13,
   "id": "5e8627c0-b75b-46d4-b657-a745056c395e",
   "metadata": {},
   "outputs": [
    {
     "name": "stdout",
     "output_type": "stream",
     "text": [
      "0.0\n",
      "0.1\n",
      "0.2\n",
      "0.3\n",
      "0.4\n",
      "0.5\n",
      "0.6\n",
      "0.7\n",
      "0.8\n",
      "0.9\n"
     ]
    }
   ],
   "source": [
    "# 165. for문을 사용해서 아래와 같이 출력하라.\n",
    "for i in range(10):\n",
    "    print(i/10)"
   ]
  },
  {
   "cell_type": "code",
   "execution_count": 15,
   "id": "61aaf305-309c-425e-8d75-ab7ef056c087",
   "metadata": {},
   "outputs": [
    {
     "name": "stdout",
     "output_type": "stream",
     "text": [
      "3 X 2 = 6\n",
      "3 X 3 = 9\n",
      "3 X 4 = 12\n",
      "3 X 5 = 15\n",
      "3 X 6 = 18\n",
      "3 X 7 = 21\n",
      "3 X 8 = 24\n",
      "3 X 9 = 27\n"
     ]
    }
   ],
   "source": [
    "# 166. 구구단 3단을 출력하라.\n",
    "for i in range(2,10):\n",
    "    print(3,\"X\",i,\"=\",3*i)"
   ]
  },
  {
   "cell_type": "code",
   "execution_count": 16,
   "id": "653c7f11-6543-4a97-8487-f32d889da049",
   "metadata": {},
   "outputs": [
    {
     "name": "stdout",
     "output_type": "stream",
     "text": [
      "3 X 1 = 3\n",
      "3 X 3 = 9\n",
      "3 X 5 = 15\n",
      "3 X 7 = 21\n",
      "3 X 9 = 27\n"
     ]
    }
   ],
   "source": [
    "# 167. 구구단 3단을 출력하라. 단 홀수 번째만 출력한다.\n",
    "for i in range(1,10,2):\n",
    "    print(3,\"X\",i,\"=\",3*i)"
   ]
  },
  {
   "cell_type": "code",
   "execution_count": 20,
   "id": "2ea9a7e6-e363-489d-828c-afb4106f3939",
   "metadata": {},
   "outputs": [
    {
     "name": "stdout",
     "output_type": "stream",
     "text": [
      "합 : 55\n"
     ]
    }
   ],
   "source": [
    "# 168. 1~10까지의 숫자에 대해 모두 더한 값을 출력하는 프로그램을 for 문을 사용하여 작성하라.\n",
    "total=0\n",
    "for i in range(1,11):\n",
    "    total+=i\n",
    "print(\"합 :\",total)"
   ]
  },
  {
   "cell_type": "code",
   "execution_count": 21,
   "id": "cc6a27e3-3b21-4845-95b1-831ef33f059a",
   "metadata": {},
   "outputs": [
    {
     "name": "stdout",
     "output_type": "stream",
     "text": [
      "합 : 25\n"
     ]
    }
   ],
   "source": [
    "# 169. 1~10까지의 숫자 중 모든 홀수의 합을 출력하는 프로그램을 for 문을 사용하여 작성하라.\n",
    "total=0\n",
    "for i in range(1,11,2):\n",
    "    total+=i\n",
    "print(\"합 :\",total)"
   ]
  },
  {
   "cell_type": "code",
   "execution_count": 23,
   "id": "97d1f519-3f09-4f48-baec-34980a8a2017",
   "metadata": {},
   "outputs": [
    {
     "name": "stdout",
     "output_type": "stream",
     "text": [
      "3628800\n"
     ]
    }
   ],
   "source": [
    "# 170. 1~10까지의 숫자를 모두 곱한 값을 출력하는 프로그램을 for 문을 사용하여 작성하라.\n",
    "num=1\n",
    "for i in range(1,11):\n",
    "    num*=i\n",
    "print(num)"
   ]
  },
  {
   "cell_type": "markdown",
   "id": "93e9d0ef-8969-40b6-916d-bd41eb834f23",
   "metadata": {},
   "source": [
    "### 171~180"
   ]
  },
  {
   "cell_type": "code",
   "execution_count": null,
   "id": "56afbb05-311b-4f4f-8595-df8dd0d72277",
   "metadata": {},
   "outputs": [],
   "source": []
  }
 ],
 "metadata": {
  "kernelspec": {
   "display_name": "Python 3 (ipykernel)",
   "language": "python",
   "name": "python3"
  },
  "language_info": {
   "codemirror_mode": {
    "name": "ipython",
    "version": 3
   },
   "file_extension": ".py",
   "mimetype": "text/x-python",
   "name": "python",
   "nbconvert_exporter": "python",
   "pygments_lexer": "ipython3",
   "version": "3.12.4"
  }
 },
 "nbformat": 4,
 "nbformat_minor": 5
}
