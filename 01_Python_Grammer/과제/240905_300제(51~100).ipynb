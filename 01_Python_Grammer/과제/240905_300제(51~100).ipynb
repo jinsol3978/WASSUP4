{
 "cells": [
  {
   "cell_type": "markdown",
   "id": "010745f3-3971-4dae-91ec-37a291e593b2",
   "metadata": {},
   "source": [
    "## 초보자를 위한 파이썬 300제(51~100)\n",
    "2024.09.05 (출처 : https://wikidocs.net/7014)"
   ]
  },
  {
   "cell_type": "markdown",
   "id": "caf707a1-aee0-49e4-b082-cc0c88046dbc",
   "metadata": {},
   "source": [
    "### 51~60"
   ]
  },
  {
   "cell_type": "code",
   "execution_count": 3,
   "id": "8985e27e-3a73-4402-921c-3515c16b9918",
   "metadata": {},
   "outputs": [
    {
     "data": {
      "text/plain": [
       "['닥터 스트레인지', '스프릿', '럭키']"
      ]
     },
     "execution_count": 3,
     "metadata": {},
     "output_type": "execute_result"
    }
   ],
   "source": [
    "# 51. 2016년 11월 영화 예매 순위 기준 top3는 다음과 같습니다. 영화 제목을 movie_rank 이름의 리스트에 저장해보세요. (순위 정보는 저장하지 않습니다.)\n",
    "movie_rank=['닥터 스트레인지', '스프릿', '럭키']\n",
    "movie_rank"
   ]
  },
  {
   "cell_type": "code",
   "execution_count": 7,
   "id": "0cc755df-b146-49c4-a853-14537134f40f",
   "metadata": {},
   "outputs": [
    {
     "name": "stdout",
     "output_type": "stream",
     "text": [
      "['닥터 스트레인지', '스프릿', '럭키', '배트맨']\n"
     ]
    }
   ],
   "source": [
    "# 52. 051의 movie_rank 리스트에 \"배트맨\"을 추가하라.\n",
    "movie_rank=['닥터 스트레인지', '스프릿', '럭키']\n",
    "movie_rank.append(\"배트맨\")\n",
    "print(movie_rank)"
   ]
  },
  {
   "cell_type": "code",
   "execution_count": 9,
   "id": "d4996a41-030e-41de-b42a-51158205498e",
   "metadata": {},
   "outputs": [
    {
     "name": "stdout",
     "output_type": "stream",
     "text": [
      "['닥터 스트레인지', '슈퍼맨', '스플릿', '럭키', '배트맨']\n"
     ]
    }
   ],
   "source": [
    "# 53. movie_rank 리스트에는 아래와 같이 네 개의 영화 제목이 바인딩되어 있다. \"슈퍼맨\"을 \"닥터 스트레인지\"와 \"스플릿\" 사이에 추가하라.\n",
    "movie_rank = ['닥터 스트레인지', '스플릿', '럭키', '배트맨']\n",
    "movie_rank.insert(1,\"슈퍼맨\")\n",
    "print(movie_rank)"
   ]
  },
  {
   "cell_type": "code",
   "execution_count": 13,
   "id": "9c4e4267-fba8-4849-ae4c-0186e25a8ba6",
   "metadata": {},
   "outputs": [
    {
     "name": "stdout",
     "output_type": "stream",
     "text": [
      "['닥터 스트레인지', '슈퍼맨', '스플릿', '배트맨']\n"
     ]
    }
   ],
   "source": [
    "# 54. movie_rank 리스트에서 '럭키'를 삭제하라.\n",
    "movie_rank = ['닥터 스트레인지', '슈퍼맨', '스플릿', '럭키', '배트맨']\n",
    "del movie_rank[3]\n",
    "print(movie_rank)"
   ]
  },
  {
   "cell_type": "code",
   "execution_count": 16,
   "id": "b8ce669b-b878-49cc-83bc-106c09a2a788",
   "metadata": {},
   "outputs": [
    {
     "name": "stdout",
     "output_type": "stream",
     "text": [
      "['닥터 스트레인지', '슈퍼맨']\n"
     ]
    }
   ],
   "source": [
    "# 55. movie_rank 리스트에서 '스플릿' 과 '배트맨'을 를 삭제하라.\n",
    "movie_rank = ['닥터 스트레인지', '슈퍼맨', '스플릿', '배트맨']\n",
    "del movie_rank[2]\n",
    "del movie_rank[2]\n",
    "print(movie_rank)"
   ]
  },
  {
   "cell_type": "code",
   "execution_count": 20,
   "id": "b75e638d-3e37-44ac-83b4-ebc79d33ce83",
   "metadata": {},
   "outputs": [
    {
     "name": "stdout",
     "output_type": "stream",
     "text": [
      "['C', 'C++', 'JAVA', 'Python', 'Go', 'C#']\n"
     ]
    }
   ],
   "source": [
    "# 56. lang1과 lang2 리스트가 있을 때 lang1과 lang2의 원소를 모두 갖고 있는 langs 리스트를 만들어라.\n",
    "lang1 = [\"C\", \"C++\", \"JAVA\"]\n",
    "lang2 = [\"Python\", \"Go\", \"C#\"]\n",
    "langs=lang1+lang2\n",
    "print(langs)"
   ]
  },
  {
   "cell_type": "code",
   "execution_count": 23,
   "id": "d74c3d70-c18c-4f61-9c18-eca23dcd3f54",
   "metadata": {},
   "outputs": [
    {
     "name": "stdout",
     "output_type": "stream",
     "text": [
      "max 7\n",
      "min 1\n"
     ]
    }
   ],
   "source": [
    "# 57. 다음 리스트에서 최댓값과 최솟값을 출력하라. (힌트: min(), max() 함수 사용)\n",
    "nums = [1, 2, 3, 4, 5, 6, 7]\n",
    "print(\"max\", max(nums))\n",
    "print(\"min\", min(nums))"
   ]
  },
  {
   "cell_type": "code",
   "execution_count": 25,
   "id": "98ac2abd-210e-4ff2-b850-53db1b649b7e",
   "metadata": {},
   "outputs": [
    {
     "name": "stdout",
     "output_type": "stream",
     "text": [
      "15\n"
     ]
    }
   ],
   "source": [
    "# 58. 다음 리스트의 합을 출력하라.\n",
    "nums = [1, 2, 3, 4, 5]\n",
    "print(sum(nums))"
   ]
  },
  {
   "cell_type": "code",
   "execution_count": 26,
   "id": "1caf3149-ebf4-40ab-a6d9-1701ed51cb74",
   "metadata": {},
   "outputs": [
    {
     "data": {
      "text/plain": [
       "12"
      ]
     },
     "execution_count": 26,
     "metadata": {},
     "output_type": "execute_result"
    }
   ],
   "source": [
    "# 59. 다음 리스트에 저장된 데이터의 개수를 화면에 구하라.\n",
    "cook = [\"피자\", \"김밥\", \"만두\", \"양념치킨\", \"족발\", \"피자\", \"김치만두\", \"쫄면\", \"소시지\", \"라면\", \"팥빙수\", \"김치전\"]\n",
    "len(cook)"
   ]
  },
  {
   "cell_type": "code",
   "execution_count": 29,
   "id": "18c3e45d-ddb0-4dd1-b13f-e032ec171f67",
   "metadata": {},
   "outputs": [
    {
     "name": "stdout",
     "output_type": "stream",
     "text": [
      "3.0\n"
     ]
    }
   ],
   "source": [
    "# 60. 다음 리스트의 평균을 출력하라.\n",
    "nums = [1, 2, 3, 4, 5]\n",
    "average=sum(nums)/len(nums)\n",
    "print(average)"
   ]
  },
  {
   "cell_type": "markdown",
   "id": "43b7eeb1-f0db-44ca-ad85-64af0aeefdb5",
   "metadata": {},
   "source": [
    "### 61~70"
   ]
  },
  {
   "cell_type": "code",
   "execution_count": 31,
   "id": "d232f2ee-0f5a-4199-9f5a-8b9b1d1766d8",
   "metadata": {},
   "outputs": [
    {
     "name": "stdout",
     "output_type": "stream",
     "text": [
      "[100, 130, 140, 150, 160, 170]\n"
     ]
    }
   ],
   "source": [
    "# 61. price 변수에는 날짜와 종가 정보가 저장돼 있다. 날짜 정보를 제외하고 가격 정보만을 출력하라. (힌트 : 슬라이싱)\n",
    "price = ['20180728', 100, 130, 140, 150, 160, 170]\n",
    "print(price[1:])"
   ]
  },
  {
   "cell_type": "code",
   "execution_count": 36,
   "id": "5dbc5859-c451-45da-be87-12baf6f2b3a3",
   "metadata": {},
   "outputs": [
    {
     "name": "stdout",
     "output_type": "stream",
     "text": [
      "[1, 3, 5, 7, 9]\n"
     ]
    }
   ],
   "source": [
    "# 62. 슬라이싱을 사용해서 홀수만 출력하라.\n",
    "nums = [1, 2, 3, 4, 5, 6, 7, 8, 9, 10]\n",
    "print(nums[::2])"
   ]
  },
  {
   "cell_type": "code",
   "execution_count": 37,
   "id": "21b31af3-96dc-4a2d-9e1b-8d3772929e7f",
   "metadata": {},
   "outputs": [
    {
     "name": "stdout",
     "output_type": "stream",
     "text": [
      "[2, 4, 6, 8, 10]\n"
     ]
    }
   ],
   "source": [
    "# 63. 슬라이싱을 사용해서 짝수만 출력하라.\n",
    "nums = [1, 2, 3, 4, 5, 6, 7, 8, 9, 10]\n",
    "print(nums[1::2])"
   ]
  },
  {
   "cell_type": "code",
   "execution_count": 54,
   "id": "bfb66fb1-bab8-4de2-8061-f169664e47e5",
   "metadata": {},
   "outputs": [
    {
     "name": "stdout",
     "output_type": "stream",
     "text": [
      "[5, 4, 3, 2, 1]\n"
     ]
    }
   ],
   "source": [
    "# 64. 슬라이싱을 사용해서 리스트의 숫자를 역 방향으로 출력하라.\n",
    "# 슬라이싱에서 3번째 자리는 간격을 의미\n",
    "nums = [1, 2, 3, 4, 5]\n",
    "print(nums[::-1])"
   ]
  },
  {
   "cell_type": "code",
   "execution_count": 42,
   "id": "6fbe6572-8d5e-4356-b082-553e98048f0f",
   "metadata": {},
   "outputs": [
    {
     "name": "stdout",
     "output_type": "stream",
     "text": [
      "삼성전자 Naver\n"
     ]
    }
   ],
   "source": [
    "# 65. interest 리스트를 사용하여 아래와 같이 화면에 출력하라.\n",
    "# 출력 예시 :삼성전자 Naver\n",
    "interest = ['삼성전자', 'LG전자', 'Naver']\n",
    "print(interest[0],interest[2])"
   ]
  },
  {
   "cell_type": "code",
   "execution_count": 45,
   "id": "9871a895-9cef-49d4-b7ae-f5795a95bcee",
   "metadata": {},
   "outputs": [
    {
     "name": "stdout",
     "output_type": "stream",
     "text": [
      "삼성전자 LG전자 Naver SK하이닉스 미래에셋대우\n"
     ]
    }
   ],
   "source": [
    "# 66. interest 리스트를 사용하여 아래와 같이 화면에 출력하라.\n",
    "# 출력 예시 : 삼성전자 LG전자 Naver SK하이닉스 미래에셋대우\n",
    "interest = ['삼성전자', 'LG전자', 'Naver', 'SK하이닉스', '미래에셋대우']\n",
    "print(\" \".join(interest))"
   ]
  },
  {
   "cell_type": "code",
   "execution_count": 46,
   "id": "c725623d-18a1-40e6-8532-bedd8e5941a3",
   "metadata": {},
   "outputs": [
    {
     "name": "stdout",
     "output_type": "stream",
     "text": [
      "삼성전자/LG전자/Naver/SK하이닉스/미래에셋대우\n"
     ]
    }
   ],
   "source": [
    "# 67. interest 리스트를 사용하여 아래와 같이 화면에 출력하라.\n",
    "# 출력 예시 : 삼성전자/LG전자/Naver/SK하이닉스/미래에셋대우\n",
    "interest = ['삼성전자', 'LG전자', 'Naver', 'SK하이닉스', '미래에셋대우']\n",
    "print(\"/\".join(interest))"
   ]
  },
  {
   "cell_type": "code",
   "execution_count": 49,
   "id": "74153f62-b2e4-477f-8c62-ead793a2dcf0",
   "metadata": {},
   "outputs": [
    {
     "name": "stdout",
     "output_type": "stream",
     "text": [
      "삼성전자\n",
      "LG전자\n",
      "Naver\n",
      "SK하이닉스\n",
      "미래에셋대우\n"
     ]
    }
   ],
   "source": [
    "# 68. join() 메서드를 사용해서 interest 리스트를 아래와 같이 화면에 출력하라.\n",
    "interest = ['삼성전자', 'LG전자', 'Naver', 'SK하이닉스', '미래에셋대우']\n",
    "print(\"\\n\".join(interest))"
   ]
  },
  {
   "cell_type": "code",
   "execution_count": 53,
   "id": "620010eb-d1d7-449d-9e2d-8c2b1a486fdb",
   "metadata": {},
   "outputs": [
    {
     "name": "stdout",
     "output_type": "stream",
     "text": [
      "['삼성전자', 'LG전자', 'Naver']\n"
     ]
    }
   ],
   "source": [
    "# 69. 회사 이름이 슬래시 ('/')로 구분되어 하나의 문자열로 저장되어 있다. 이를 interest 이름의 리스트로 분리 저장하라.\n",
    "# split : 문자열 나누기\n",
    "string = \"삼성전자/LG전자/Naver\"\n",
    "interest=string.split(\"/\")\n",
    "print(interest)"
   ]
  },
  {
   "cell_type": "code",
   "execution_count": 56,
   "id": "4eab28dc-845d-4d44-aa63-f2de35730905",
   "metadata": {},
   "outputs": [
    {
     "name": "stdout",
     "output_type": "stream",
     "text": [
      "[1, 2, 3, 4, 5, 9, 10]\n"
     ]
    }
   ],
   "source": [
    "# 70. 리스트에 있는 값을 오름차순으로 정렬하세요.\n",
    "data = [2, 4, 3, 1, 5, 10, 9]\n",
    "data.sort()\n",
    "print(data)"
   ]
  },
  {
   "cell_type": "markdown",
   "id": "1eaac897-34d1-496a-aebf-bebc4df16a75",
   "metadata": {},
   "source": [
    "### 71~80"
   ]
  },
  {
   "cell_type": "code",
   "execution_count": 59,
   "id": "10785994-7fb3-4725-8810-a97ea9e40fd7",
   "metadata": {},
   "outputs": [
    {
     "data": {
      "text/plain": [
       "tuple"
      ]
     },
     "execution_count": 59,
     "metadata": {},
     "output_type": "execute_result"
    }
   ],
   "source": [
    "# 71. my_variable 이름의 비어있는 튜플을 만들라.\n",
    "my_variable=()\n",
    "type(my_variable)"
   ]
  },
  {
   "cell_type": "code",
   "execution_count": 61,
   "id": "1189446e-24ab-41c8-b5a4-a6d027656488",
   "metadata": {},
   "outputs": [
    {
     "name": "stdout",
     "output_type": "stream",
     "text": [
      "('닥터 스트레인지', '스플릿', '럭키')\n"
     ]
    }
   ],
   "source": [
    "# 72. 2016년 11월 영화 예매 순위 기준 top3는 다음과 같다. 영화 제목을 movie_rank 이름의 튜플에 저장하라. (순위 정보는 저장하지 않는다.)\n",
    "movie_rank=(\"닥터 스트레인지\",\"스플릿\",\"럭키\")\n",
    "print(movie_rank)"
   ]
  },
  {
   "cell_type": "code",
   "execution_count": 63,
   "id": "c98ce181-a918-41f6-8e28-9c695ab28803",
   "metadata": {},
   "outputs": [
    {
     "data": {
      "text/plain": [
       "tuple"
      ]
     },
     "execution_count": 63,
     "metadata": {},
     "output_type": "execute_result"
    }
   ],
   "source": [
    "# 73. 숫자 1 이 저장된 튜플을 생성하라.\n",
    "my_tuple=(1,)\n",
    "type(my_tuple)"
   ]
  },
  {
   "cell_type": "code",
   "execution_count": 67,
   "id": "46e7c53a-c7d7-4ab3-afb2-2b85b6c11ff2",
   "metadata": {},
   "outputs": [
    {
     "ename": "TypeError",
     "evalue": "'tuple' object does not support item assignment",
     "output_type": "error",
     "traceback": [
      "\u001b[1;31m---------------------------------------------------------------------------\u001b[0m",
      "\u001b[1;31mTypeError\u001b[0m                                 Traceback (most recent call last)",
      "Cell \u001b[1;32mIn[67], line 3\u001b[0m\n\u001b[0;32m      1\u001b[0m \u001b[38;5;66;03m# 74. 다음 코드를 실행해보고 오류가 발생하는 원인을 설명하라.\u001b[39;00m\n\u001b[0;32m      2\u001b[0m t\u001b[38;5;241m=\u001b[39m(\u001b[38;5;241m1\u001b[39m,\u001b[38;5;241m2\u001b[39m,\u001b[38;5;241m3\u001b[39m)\n\u001b[1;32m----> 3\u001b[0m t[\u001b[38;5;241m0\u001b[39m]\u001b[38;5;241m=\u001b[39m\u001b[38;5;124m'\u001b[39m\u001b[38;5;124ma\u001b[39m\u001b[38;5;124m'\u001b[39m\n",
      "\u001b[1;31mTypeError\u001b[0m: 'tuple' object does not support item assignment"
     ]
    }
   ],
   "source": [
    "# 74. 다음 코드를 실행해보고 오류가 발생하는 원인을 설명하라.\n",
    "t=(1,2,3)\n",
    "t[0]='a'\n",
    "# 오류 발생 원인 : tuple은 요소값을 변경할 수 없음"
   ]
  },
  {
   "cell_type": "code",
   "execution_count": 69,
   "id": "ee1f0785-a794-4fc8-83b4-c04f4ab797f0",
   "metadata": {},
   "outputs": [
    {
     "data": {
      "text/plain": [
       "tuple"
      ]
     },
     "execution_count": 69,
     "metadata": {},
     "output_type": "execute_result"
    }
   ],
   "source": [
    "# 75. 아래와 같이 t에는 1, 2, 3, 4 데이터가 바인딩되어 있다. t가 바인딩하는 데이터 타입은 무엇인가?\n",
    "t = 1, 2, 3, 4\n",
    "# 튜플은 괄호에 해당하므로 t는 튜플에 해당함\n",
    "type(t)"
   ]
  },
  {
   "cell_type": "code",
   "execution_count": 72,
   "id": "a603c3ff-2e3f-4bec-ac33-83ac0727f189",
   "metadata": {},
   "outputs": [
    {
     "data": {
      "text/plain": [
       "('A', 'B', 'C')"
      ]
     },
     "execution_count": 72,
     "metadata": {},
     "output_type": "execute_result"
    }
   ],
   "source": [
    "# 76. 변수 t에는 아래와 같은 값이 저장되어 있다. 변수 t가 ('A', 'b', 'c') 튜플을 가리키도록 수정 하라.\n",
    "t = ('a', 'b', 'c')\n",
    "t=('A','B','C')\n",
    "t"
   ]
  },
  {
   "cell_type": "code",
   "execution_count": 76,
   "id": "47a94716-294b-48f5-8472-c7d67cb0d86e",
   "metadata": {},
   "outputs": [
    {
     "name": "stdout",
     "output_type": "stream",
     "text": [
      "['삼성전자', 'LG전자', 'SK Hynix'] <class 'list'>\n"
     ]
    }
   ],
   "source": [
    "# 77. 다음 튜플을 리스트로 변환하라.\n",
    "interest = ('삼성전자', 'LG전자', 'SK Hynix')\n",
    "data=list(interest)\n",
    "print(data,type(data))"
   ]
  },
  {
   "cell_type": "code",
   "execution_count": 75,
   "id": "b587b371-0fc8-4131-8de3-19ed4671d7d1",
   "metadata": {},
   "outputs": [
    {
     "name": "stdout",
     "output_type": "stream",
     "text": [
      "('삼성전자', 'LG전자', 'SK Hynix') <class 'tuple'>\n"
     ]
    }
   ],
   "source": [
    "# 78. 다음 리스트를 튜플로 변경하라.\n",
    "interest = ['삼성전자', 'LG전자', 'SK Hynix']\n",
    "data=tuple(interest)\n",
    "print(data, type(data))"
   ]
  },
  {
   "cell_type": "code",
   "execution_count": 77,
   "id": "40726965-b561-4549-a70a-4e538da5c403",
   "metadata": {},
   "outputs": [
    {
     "name": "stdout",
     "output_type": "stream",
     "text": [
      "apple banana cake\n"
     ]
    }
   ],
   "source": [
    "# 79. 다음 코드의 실행 결과를 예상하라.\n",
    "# 예상 결과 : apple banana cake\n",
    "temp = ('apple', 'banana', 'cake')\n",
    "a, b, c = temp\n",
    "print(a, b, c)"
   ]
  },
  {
   "cell_type": "code",
   "execution_count": 83,
   "id": "a86afeda-faf8-4735-b015-80aee34fafbd",
   "metadata": {},
   "outputs": [
    {
     "name": "stdout",
     "output_type": "stream",
     "text": [
      "(2, 4, 6, 8, 10, 12, 14, 16, 18, 20, 22, 24, 26, 28, 30, 32, 34, 36, 38, 40, 42, 44, 46, 48, 50, 52, 54, 56, 58, 60, 62, 64, 66, 68, 70, 72, 74, 76, 78, 80, 82, 84, 86, 88, 90, 92, 94, 96, 98)\n"
     ]
    }
   ],
   "source": [
    "# 80. 1 부터 99까지의 정수 중 짝수만 저장된 튜플을 생성하라.\n",
    "data=tuple(range(2,100,2))\n",
    "print(data)"
   ]
  },
  {
   "cell_type": "code",
   "execution_count": null,
   "id": "87321535-29f7-4a7d-82cb-971fc7bbb067",
   "metadata": {},
   "outputs": [],
   "source": []
  },
  {
   "cell_type": "code",
   "execution_count": null,
   "id": "a22ab337-74d5-4519-89e5-6b60b56b64ea",
   "metadata": {},
   "outputs": [],
   "source": []
  },
  {
   "cell_type": "code",
   "execution_count": null,
   "id": "66e83453-5434-4717-8282-8f24327f9b91",
   "metadata": {},
   "outputs": [],
   "source": []
  },
  {
   "cell_type": "code",
   "execution_count": null,
   "id": "19b05568-97dd-4662-baf2-310b21170db0",
   "metadata": {},
   "outputs": [],
   "source": []
  },
  {
   "cell_type": "code",
   "execution_count": null,
   "id": "309cdc1d-742d-4f7e-8edf-01752fdf37bb",
   "metadata": {},
   "outputs": [],
   "source": []
  }
 ],
 "metadata": {
  "kernelspec": {
   "display_name": "Python 3 (ipykernel)",
   "language": "python",
   "name": "python3"
  },
  "language_info": {
   "codemirror_mode": {
    "name": "ipython",
    "version": 3
   },
   "file_extension": ".py",
   "mimetype": "text/x-python",
   "name": "python",
   "nbconvert_exporter": "python",
   "pygments_lexer": "ipython3",
   "version": "3.12.4"
  }
 },
 "nbformat": 4,
 "nbformat_minor": 5
}
