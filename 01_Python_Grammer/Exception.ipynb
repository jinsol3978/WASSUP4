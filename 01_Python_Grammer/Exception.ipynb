{
 "cells": [
  {
   "cell_type": "markdown",
   "id": "b5a3fcce-5930-4f57-b5b1-ab9b011b7775",
   "metadata": {},
   "source": [
    "## 예외처리"
   ]
  },
  {
   "cell_type": "code",
   "execution_count": 2,
   "id": "f2c195fe-29c4-46d0-9760-00ac8035a9bb",
   "metadata": {},
   "outputs": [
    {
     "ename": "FileNotFoundError",
     "evalue": "[Errno 2] No such file or directory: '나없는파일'",
     "output_type": "error",
     "traceback": [
      "\u001b[1;31m---------------------------------------------------------------------------\u001b[0m",
      "\u001b[1;31mFileNotFoundError\u001b[0m                         Traceback (most recent call last)",
      "Cell \u001b[1;32mIn[2], line 2\u001b[0m\n\u001b[0;32m      1\u001b[0m \u001b[38;5;66;03m# 존재하지 않는 파일을 호출했을 때 오류 발생(FileNotFoundError)\u001b[39;00m\n\u001b[1;32m----> 2\u001b[0m f\u001b[38;5;241m=\u001b[39m\u001b[38;5;28mopen\u001b[39m(\u001b[38;5;124m'\u001b[39m\u001b[38;5;124m나없는파일\u001b[39m\u001b[38;5;124m'\u001b[39m, \u001b[38;5;124m'\u001b[39m\u001b[38;5;124mr\u001b[39m\u001b[38;5;124m'\u001b[39m)\n",
      "File \u001b[1;32m~\\anaconda3\\Lib\\site-packages\\IPython\\core\\interactiveshell.py:324\u001b[0m, in \u001b[0;36m_modified_open\u001b[1;34m(file, *args, **kwargs)\u001b[0m\n\u001b[0;32m    317\u001b[0m \u001b[38;5;28;01mif\u001b[39;00m file \u001b[38;5;129;01min\u001b[39;00m {\u001b[38;5;241m0\u001b[39m, \u001b[38;5;241m1\u001b[39m, \u001b[38;5;241m2\u001b[39m}:\n\u001b[0;32m    318\u001b[0m     \u001b[38;5;28;01mraise\u001b[39;00m \u001b[38;5;167;01mValueError\u001b[39;00m(\n\u001b[0;32m    319\u001b[0m         \u001b[38;5;124mf\u001b[39m\u001b[38;5;124m\"\u001b[39m\u001b[38;5;124mIPython won\u001b[39m\u001b[38;5;124m'\u001b[39m\u001b[38;5;124mt let you open fd=\u001b[39m\u001b[38;5;132;01m{\u001b[39;00mfile\u001b[38;5;132;01m}\u001b[39;00m\u001b[38;5;124m by default \u001b[39m\u001b[38;5;124m\"\u001b[39m\n\u001b[0;32m    320\u001b[0m         \u001b[38;5;124m\"\u001b[39m\u001b[38;5;124mas it is likely to crash IPython. If you know what you are doing, \u001b[39m\u001b[38;5;124m\"\u001b[39m\n\u001b[0;32m    321\u001b[0m         \u001b[38;5;124m\"\u001b[39m\u001b[38;5;124myou can use builtins\u001b[39m\u001b[38;5;124m'\u001b[39m\u001b[38;5;124m open.\u001b[39m\u001b[38;5;124m\"\u001b[39m\n\u001b[0;32m    322\u001b[0m     )\n\u001b[1;32m--> 324\u001b[0m \u001b[38;5;28;01mreturn\u001b[39;00m io_open(file, \u001b[38;5;241m*\u001b[39margs, \u001b[38;5;241m*\u001b[39m\u001b[38;5;241m*\u001b[39mkwargs)\n",
      "\u001b[1;31mFileNotFoundError\u001b[0m: [Errno 2] No such file or directory: '나없는파일'"
     ]
    }
   ],
   "source": [
    "# 존재하지 않는 파일을 호출했을 때 오류 발생(FileNotFoundError)\n",
    "f=open('나없는파일', 'r')"
   ]
  },
  {
   "cell_type": "code",
   "execution_count": 4,
   "id": "36432583-5b36-42aa-85d5-798f333a9282",
   "metadata": {},
   "outputs": [
    {
     "ename": "ZeroDivisionError",
     "evalue": "division by zero",
     "output_type": "error",
     "traceback": [
      "\u001b[1;31m---------------------------------------------------------------------------\u001b[0m",
      "\u001b[1;31mZeroDivisionError\u001b[0m                         Traceback (most recent call last)",
      "Cell \u001b[1;32mIn[4], line 2\u001b[0m\n\u001b[0;32m      1\u001b[0m \u001b[38;5;66;03m# 나눌 수 없어서 발생하는 오류(ZeroDivisionError)\u001b[39;00m\n\u001b[1;32m----> 2\u001b[0m \u001b[38;5;241m4\u001b[39m \u001b[38;5;241m/\u001b[39m \u001b[38;5;241m0\u001b[39m\n",
      "\u001b[1;31mZeroDivisionError\u001b[0m: division by zero"
     ]
    }
   ],
   "source": [
    "# 나눌 수 없어서 발생하는 오류(ZeroDivisionError)\n",
    "4 / 0"
   ]
  },
  {
   "cell_type": "code",
   "execution_count": 6,
   "id": "51cf55a2-a0e3-49c8-bed5-c789136c187d",
   "metadata": {},
   "outputs": [
    {
     "ename": "IndexError",
     "evalue": "list index out of range",
     "output_type": "error",
     "traceback": [
      "\u001b[1;31m---------------------------------------------------------------------------\u001b[0m",
      "\u001b[1;31mIndexError\u001b[0m                                Traceback (most recent call last)",
      "Cell \u001b[1;32mIn[6], line 3\u001b[0m\n\u001b[0;32m      1\u001b[0m \u001b[38;5;66;03m# 인덱스 형식 오류\u001b[39;00m\n\u001b[0;32m      2\u001b[0m a \u001b[38;5;241m=\u001b[39m [\u001b[38;5;241m1\u001b[39m, \u001b[38;5;241m2\u001b[39m, \u001b[38;5;241m3\u001b[39m]\n\u001b[1;32m----> 3\u001b[0m a[\u001b[38;5;241m3\u001b[39m]\n",
      "\u001b[1;31mIndexError\u001b[0m: list index out of range"
     ]
    }
   ],
   "source": [
    "# 인덱스 형식 오류\n",
    "a = [1, 2, 3]\n",
    "a[3]"
   ]
  },
  {
   "cell_type": "code",
   "execution_count": 8,
   "id": "1ac48da0-b10a-447e-911f-ee95f0d22bd0",
   "metadata": {},
   "outputs": [
    {
     "name": "stdout",
     "output_type": "stream",
     "text": [
      "0으로 나눌 수 없습니다.\n"
     ]
    }
   ],
   "source": [
    "### Try-except만 쓰는 방법\n",
    "try:\n",
    "    4/0\n",
    "except ZeroDivisionError: \n",
    "    print('0으로 나눌 수 없습니다.')"
   ]
  },
  {
   "cell_type": "code",
   "execution_count": 10,
   "id": "645d1c83-7bef-4614-8d29-f644bd002b5c",
   "metadata": {},
   "outputs": [
    {
     "ename": "IndexError",
     "evalue": "list index out of range",
     "output_type": "error",
     "traceback": [
      "\u001b[1;31m---------------------------------------------------------------------------\u001b[0m",
      "\u001b[1;31mIndexError\u001b[0m                                Traceback (most recent call last)",
      "Cell \u001b[1;32mIn[10], line 4\u001b[0m\n\u001b[0;32m      2\u001b[0m \u001b[38;5;28;01mtry\u001b[39;00m:\n\u001b[0;32m      3\u001b[0m     a \u001b[38;5;241m=\u001b[39m [\u001b[38;5;241m1\u001b[39m, \u001b[38;5;241m2\u001b[39m, \u001b[38;5;241m3\u001b[39m]\n\u001b[1;32m----> 4\u001b[0m     a[\u001b[38;5;241m3\u001b[39m]\n\u001b[0;32m      5\u001b[0m \u001b[38;5;28;01mexcept\u001b[39;00m \u001b[38;5;167;01mZeroDivisionError\u001b[39;00m: \n\u001b[0;32m      6\u001b[0m     \u001b[38;5;28mprint\u001b[39m(\u001b[38;5;124m'\u001b[39m\u001b[38;5;124m0으로 나눌 수 없습니다.\u001b[39m\u001b[38;5;124m'\u001b[39m)\n",
      "\u001b[1;31mIndexError\u001b[0m: list index out of range"
     ]
    }
   ],
   "source": [
    "# ZeroDivisionError만 받겠다고 적어놨기 때문에 다른 오류 발생 시 오류 발생\n",
    "try:\n",
    "    a = [1, 2, 3]\n",
    "    a[3]\n",
    "except ZeroDivisionError: \n",
    "    print('0으로 나눌 수 없습니다.')"
   ]
  },
  {
   "cell_type": "code",
   "execution_count": 11,
   "id": "32b20f71-8916-4848-9e93-0c3707ec7309",
   "metadata": {},
   "outputs": [
    {
     "name": "stdout",
     "output_type": "stream",
     "text": [
      "0으로 나눌 수 없습니다.\n",
      "division by zero\n"
     ]
    }
   ],
   "source": [
    "try:\n",
    "    4/0\n",
    "except ZeroDivisionError as e: \n",
    "    print('0으로 나눌 수 없습니다.')\n",
    "    print(e)"
   ]
  },
  {
   "cell_type": "markdown",
   "id": "72f10864-ad92-46cb-9ab8-964afdd19a6e",
   "metadata": {},
   "source": [
    "### try-finally 문"
   ]
  },
  {
   "cell_type": "code",
   "execution_count": 12,
   "id": "c50923d5-582a-4c3b-909d-b78ab5137b1e",
   "metadata": {},
   "outputs": [],
   "source": [
    "# finally 절은 try 문 수행 도중 예외 발생 여부에 상관없이 항상 수행된다"
   ]
  },
  {
   "cell_type": "code",
   "execution_count": 13,
   "id": "43ef62d3-5039-4ffd-a3ae-9341b893fd4f",
   "metadata": {},
   "outputs": [
    {
     "name": "stdout",
     "output_type": "stream",
     "text": [
      "인덱싱 할 수 없습니다.\n"
     ]
    }
   ],
   "source": [
    "#  여러개의 오류 처리하기\n",
    "try:\n",
    "    a = [1,2]\n",
    "    print(a[3])\n",
    "    4/0\n",
    "except ZeroDivisionError:\n",
    "    print(\"0으로 나눌 수 없습니다.\")\n",
    "except IndexError:\n",
    "    print(\"인덱싱 할 수 없습니다.\")"
   ]
  },
  {
   "cell_type": "code",
   "execution_count": 14,
   "id": "4b385c38-b1dd-4678-8e22-8886ace02063",
   "metadata": {},
   "outputs": [
    {
     "name": "stdout",
     "output_type": "stream",
     "text": [
      "list index out of range\n"
     ]
    }
   ],
   "source": [
    "try:\n",
    "    a = [1,2]\n",
    "    print(a[3])\n",
    "    4/0\n",
    "except ZeroDivisionError as e:\n",
    "    print(e)\n",
    "except IndexError as e:\n",
    "    print(e)"
   ]
  },
  {
   "cell_type": "markdown",
   "id": "b649472a-b996-480f-b650-f0721ba7d06a",
   "metadata": {},
   "source": [
    "### try-else 문"
   ]
  },
  {
   "cell_type": "code",
   "execution_count": 15,
   "id": "4e0ac947-d66d-40ff-adbe-b88f73342586",
   "metadata": {},
   "outputs": [
    {
     "name": "stdin",
     "output_type": "stream",
     "text": [
      "나이를 입력하세요:  15\n"
     ]
    },
    {
     "name": "stdout",
     "output_type": "stream",
     "text": [
      "미성년자는 출입금지입니다.\n"
     ]
    }
   ],
   "source": [
    "try:\n",
    "    age=int(input('나이를 입력하세요: '))\n",
    "except:\n",
    "    print('입력이 정확하지 않습니다.')\n",
    "else:\n",
    "    if age <= 18:\n",
    "        print('미성년자는 출입금지입니다.')\n",
    "    else:\n",
    "        print('환영합니다.')"
   ]
  },
  {
   "cell_type": "code",
   "execution_count": null,
   "id": "4b9b5200-8ab5-4ffb-acf8-5f3887219c3f",
   "metadata": {},
   "outputs": [],
   "source": []
  },
  {
   "cell_type": "code",
   "execution_count": null,
   "id": "ff0a3a1a-cb1a-481f-94e8-77cd7ce36b53",
   "metadata": {},
   "outputs": [],
   "source": []
  },
  {
   "cell_type": "code",
   "execution_count": null,
   "id": "d4f94314-a7f4-4537-b2b5-8b5fd889cc85",
   "metadata": {},
   "outputs": [],
   "source": []
  },
  {
   "cell_type": "code",
   "execution_count": null,
   "id": "8f34685a-15eb-4359-b595-0f77239ce890",
   "metadata": {},
   "outputs": [],
   "source": []
  },
  {
   "cell_type": "code",
   "execution_count": null,
   "id": "fcbaec93-60ee-4da8-93c7-af1779ec7163",
   "metadata": {},
   "outputs": [],
   "source": []
  },
  {
   "cell_type": "code",
   "execution_count": null,
   "id": "7408bd01-4896-4c17-8f26-da81430194eb",
   "metadata": {},
   "outputs": [],
   "source": []
  },
  {
   "cell_type": "code",
   "execution_count": null,
   "id": "19b3a897-1ca2-47db-aabc-17a299502095",
   "metadata": {},
   "outputs": [],
   "source": []
  },
  {
   "cell_type": "code",
   "execution_count": null,
   "id": "3c5aa502-7e29-4d96-90af-123d8e5d5c57",
   "metadata": {},
   "outputs": [],
   "source": []
  },
  {
   "cell_type": "code",
   "execution_count": null,
   "id": "b1cd7cd0-0876-4fcc-b068-d515e463c210",
   "metadata": {},
   "outputs": [],
   "source": []
  },
  {
   "cell_type": "code",
   "execution_count": null,
   "id": "02c17881-8a67-4bdf-a764-4931109c1bee",
   "metadata": {},
   "outputs": [],
   "source": []
  },
  {
   "cell_type": "code",
   "execution_count": null,
   "id": "d5fc33ac-3d7b-432e-85b5-a69bc140b17d",
   "metadata": {},
   "outputs": [],
   "source": []
  },
  {
   "cell_type": "code",
   "execution_count": null,
   "id": "f1be0f2a-8ee1-422d-9dde-c68bff8cf2d3",
   "metadata": {},
   "outputs": [],
   "source": []
  }
 ],
 "metadata": {
  "kernelspec": {
   "display_name": "Python 3 (ipykernel)",
   "language": "python",
   "name": "python3"
  },
  "language_info": {
   "codemirror_mode": {
    "name": "ipython",
    "version": 3
   },
   "file_extension": ".py",
   "mimetype": "text/x-python",
   "name": "python",
   "nbconvert_exporter": "python",
   "pygments_lexer": "ipython3",
   "version": "3.12.4"
  }
 },
 "nbformat": 4,
 "nbformat_minor": 5
}
