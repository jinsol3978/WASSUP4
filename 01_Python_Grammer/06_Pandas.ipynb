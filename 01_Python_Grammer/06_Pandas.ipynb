{
 "cells": [
  {
   "cell_type": "markdown",
   "id": "0642fd8e-8fdb-4afb-a1f9-505b38e94f77",
   "metadata": {},
   "source": [
    "## Pandas"
   ]
  },
  {
   "cell_type": "code",
   "execution_count": 1,
   "id": "b96c95a1-3049-4a73-9740-3e85a5face85",
   "metadata": {},
   "outputs": [],
   "source": [
    "import pandas as pd\n",
    "import numpy as np"
   ]
  },
  {
   "cell_type": "markdown",
   "id": "a7ea23ae-e396-4e6c-ac73-318382c2617b",
   "metadata": {},
   "source": [
    "### Series"
   ]
  },
  {
   "cell_type": "code",
   "execution_count": 8,
   "id": "dc9baeaf-8ecb-49fb-b00e-081934a09608",
   "metadata": {},
   "outputs": [
    {
     "name": "stdout",
     "output_type": "stream",
     "text": [
      "<class 'pandas.core.series.Series'>\n",
      "RangeIndex(start=0, stop=9, step=1)\n",
      "int64\n",
      "0    1\n",
      "1    2\n",
      "2    3\n",
      "3    4\n",
      "4    5\n",
      "5    6\n",
      "6    7\n",
      "7    8\n",
      "8    9\n",
      "dtype: int64\n"
     ]
    }
   ],
   "source": [
    "s=pd.Series([1,2,3,4,5,6,7,8,9])  #Series 만들기\n",
    "print(type(s))\n",
    "print(s.index)  # index를 따로 지정하지 않으면 자동으로 숫자가 기재됨\n",
    "print(s.dtype)\n",
    "print(s)       # 출력 결과에서 왼쪽열이 index, 우측 열이 데이터"
   ]
  },
  {
   "cell_type": "code",
   "execution_count": 11,
   "id": "14f5e2f5-88ff-4c4b-907f-57f3b2c9edc2",
   "metadata": {},
   "outputs": [
    {
     "name": "stdout",
     "output_type": "stream",
     "text": [
      "A    1\n",
      "B    2\n",
      "C    3\n",
      "D    4\n",
      "E    5\n",
      "F    6\n",
      "G    7\n",
      "H    8\n",
      "I    9\n",
      "dtype: int64\n"
     ]
    }
   ],
   "source": [
    "# 특정 인덱스명 부여\n",
    "s.index=['A','B','C','D','E','F','G','H','I']\n",
    "print(s)"
   ]
  },
  {
   "cell_type": "code",
   "execution_count": 12,
   "id": "73f34654-4c93-4cbb-af7a-db70361258ad",
   "metadata": {},
   "outputs": [
    {
     "name": "stdout",
     "output_type": "stream",
     "text": [
      "A    1\n",
      "B    2\n",
      "C    3\n",
      "D    4\n",
      "E    5\n",
      "F    6\n",
      "G    7\n",
      "H    8\n",
      "I    9\n",
      "dtype: int64\n"
     ]
    }
   ],
   "source": [
    "s=pd.Series([1,2,3,4,5,6,7,8,9],['A','B','C','D','E','F','G','H','I'])\n",
    "print(s)"
   ]
  },
  {
   "cell_type": "code",
   "execution_count": 18,
   "id": "8e270221-3c04-4cc6-88b7-f2f00e1081d0",
   "metadata": {},
   "outputs": [
    {
     "name": "stdout",
     "output_type": "stream",
     "text": [
      "Index(['A', 'B', 'C', 'D', 'E', 'F', 'G', 'H', 'I'], dtype='object')\n",
      "[1 2 3 4 5 6 7 8 9]\n",
      "1\n",
      "1\n"
     ]
    }
   ],
   "source": [
    "print(s.index)  #index만 출력\n",
    "print(s.values) #값만 출력\n",
    "print(s['A']) #원하는 데이터만 출력\n",
    "print(s.A)  #원하는 데이터만 출력"
   ]
  },
  {
   "cell_type": "code",
   "execution_count": 20,
   "id": "5d37ef84-4942-4f84-bd11-968f53fead19",
   "metadata": {},
   "outputs": [
    {
     "name": "stdout",
     "output_type": "stream",
     "text": [
      "A    1\n",
      "B    2\n",
      "C    3\n",
      "D    4\n",
      "dtype: int64\n"
     ]
    }
   ],
   "source": [
    "## 슬라이싱 가능\n",
    "print(s['A':'D'])  #직접 부여한 index 명 활용"
   ]
  },
  {
   "cell_type": "markdown",
   "id": "f8f270d8-2834-418e-8c09-dd183df8da2e",
   "metadata": {},
   "source": [
    "### Dictionary->Series\n",
    "- Dictionary : 다른 언어의 Map, Json과 유사"
   ]
  },
  {
   "cell_type": "code",
   "execution_count": 26,
   "id": "c1e96f2f-bae4-4085-90b2-2bf2ce88c5c2",
   "metadata": {},
   "outputs": [
    {
     "name": "stdout",
     "output_type": "stream",
     "text": [
      "<class 'dict'>\n",
      "A : 10\n",
      "D : 20\n",
      "F : 30\n",
      "H : 40\n",
      "10\n"
     ]
    }
   ],
   "source": [
    "d={'A':10,'D':20,'F':30,'H':40}\n",
    "print(type(d))\n",
    "for key,value in d.items() : # 딕셔너리 반복문, items로 key, value를 튜플 형식으로 꺼냄\n",
    "    print(key,\":\",value)\n",
    "\n",
    "print(d['A']) # 딕셔너리 특정 데이터 출력"
   ]
  },
  {
   "cell_type": "code",
   "execution_count": 35,
   "id": "577f1983-6e10-4759-a7e1-2076b8a167f7",
   "metadata": {},
   "outputs": [
    {
     "name": "stdout",
     "output_type": "stream",
     "text": [
      "Index(['A', 'D', 'F', 'H'], dtype='object')\n",
      "[10 20 30 40]\n",
      "A    10\n",
      "D    20\n",
      "F    30\n",
      "H    40\n",
      "dtype: int64\n",
      "10\n",
      "10\n",
      "A    10\n",
      "D    20\n",
      "F    30\n",
      "dtype: int64\n",
      "A    10\n",
      "D    20\n",
      "F    30\n",
      "dtype: int64\n"
     ]
    }
   ],
   "source": [
    "s=pd.Series(d)    #딕셔너리를 Series로 변경\n",
    "print(s.index)\n",
    "print(s.values)\n",
    "print(s)\n",
    "print(s['A'])  #특정 값 출력\n",
    "print(s.A)     #특정 값 출력\n",
    "\n",
    "print(s[0:3])  #딕셔너리는 슬라이싱이 불가, 하지만 Series로 변경 후에는 슬라이싱 가능\n",
    "print(s['A':'F'])"
   ]
  },
  {
   "cell_type": "markdown",
   "id": "e2e0e0c3-6f20-41ca-b0ff-a46e83eb5b62",
   "metadata": {},
   "source": [
    "### DataFrame"
   ]
  },
  {
   "cell_type": "code",
   "execution_count": 38,
   "id": "0d7e1ac2-e389-4a6a-b535-957888b1359a",
   "metadata": {},
   "outputs": [
    {
     "name": "stdout",
     "output_type": "stream",
     "text": [
      "<class 'dict'>\n",
      "{'name': ['kim', 'lee', 'park', 'jung'], 'age': [25, 30, 35, 20], 'tel': ['1111-2222', '2222-1111', '3333-1111', '2222-3333']}\n"
     ]
    }
   ],
   "source": [
    "# Dictionary->DataFrame\n",
    "# 딕셔너리는 value 값에 list 등 여러 값 입력 가능\n",
    "d={\n",
    "    'name':['kim','lee','park','jung'],\n",
    "    'age':[25,30,35,20],\n",
    "    'tel':['1111-2222','2222-1111','3333-1111','2222-3333']\n",
    "}\n",
    "print(type(d))\n",
    "print(d)"
   ]
  },
  {
   "cell_type": "code",
   "execution_count": 40,
   "id": "81bde6db-6903-417a-b31e-f65f2d603c58",
   "metadata": {},
   "outputs": [
    {
     "name": "stdout",
     "output_type": "stream",
     "text": [
      "   name  age        tel\n",
      "0   kim   25  1111-2222\n",
      "1   lee   30  2222-1111\n",
      "2  park   35  3333-1111\n",
      "3  jung   20  2222-3333\n"
     ]
    }
   ],
   "source": [
    "df=pd.DataFrame(d)  #Dictionary->DataFrame\n",
    "print(df)           #DataFrame 출력 시 테이블 형태로 출력 가능"
   ]
  },
  {
   "cell_type": "code",
   "execution_count": 42,
   "id": "6fc7ad6d-d1c0-48c9-9eb9-82be5078d319",
   "metadata": {},
   "outputs": [
    {
     "name": "stdout",
     "output_type": "stream",
     "text": [
      "RangeIndex(start=0, stop=4, step=1)\n",
      "Index(['name', 'age', 'tel'], dtype='object')\n",
      "[['kim' 25 '1111-2222']\n",
      " ['lee' 30 '2222-1111']\n",
      " ['park' 35 '3333-1111']\n",
      " ['jung' 20 '2222-3333']]\n"
     ]
    }
   ],
   "source": [
    "print(df.index)\n",
    "print(df.columns)\n",
    "print(df.values)"
   ]
  },
  {
   "cell_type": "code",
   "execution_count": 45,
   "id": "d4e05f19-8ab1-41ab-96eb-0bdf0d7943f4",
   "metadata": {},
   "outputs": [
    {
     "name": "stdout",
     "output_type": "stream",
     "text": [
      "User  name  age        tel\n",
      "Num                       \n",
      "0      kim   25  1111-2222\n",
      "1      lee   30  2222-1111\n",
      "2     park   35  3333-1111\n",
      "3     jung   20  2222-3333\n",
      "RangeIndex(start=0, stop=4, step=1, name='Num')\n",
      "Index(['name', 'age', 'tel'], dtype='object', name='User')\n"
     ]
    }
   ],
   "source": [
    "# index와 colums에 특정 이름 부여 가능\n",
    "df.index.name = 'Num'\n",
    "df.columns.name='User'\n",
    "print(df)\n",
    "\n",
    "print(df.index)\n",
    "print(df.columns)"
   ]
  },
  {
   "cell_type": "code",
   "execution_count": 47,
   "id": "a0d8caae-26e6-4dcf-903c-422e7591a10b",
   "metadata": {},
   "outputs": [
    {
     "name": "stdout",
     "output_type": "stream",
     "text": [
      "<class 'numpy.ndarray'>\n"
     ]
    }
   ],
   "source": [
    "# numpy->DataFrame\n",
    "n=np.array(\n",
    "    [['kim',20,'1111-2222'],\n",
    "     ['lee',30,'2222-1111'],\n",
    "     ['park',35,'3333-2222'],\n",
    "     ['jung',25,'3333-1111']]\n",
    ")\n",
    "print(type(n))"
   ]
  },
  {
   "cell_type": "code",
   "execution_count": 51,
   "id": "27059fc8-1a71-406b-a050-3ea67916d6ef",
   "metadata": {},
   "outputs": [
    {
     "name": "stdout",
     "output_type": "stream",
     "text": [
      "      0   1          2\n",
      "0   kim  20  1111-2222\n",
      "1   lee  30  2222-1111\n",
      "2  park  35  3333-2222\n",
      "3  jung  25  3333-1111\n",
      "RangeIndex(start=0, stop=4, step=1)\n",
      "RangeIndex(start=0, stop=3, step=1)\n"
     ]
    }
   ],
   "source": [
    "# numpy->DataFrame\n",
    "df=pd.DataFrame(n)   #index, columns을 별도로 지정하지 않으면 숫자가 자동으로 배정됨\n",
    "print(df)\n",
    "print(df.index)\n",
    "print(df.columns)"
   ]
  },
  {
   "cell_type": "code",
   "execution_count": 53,
   "id": "217d91c3-c0db-430b-8281-d8608adcb8aa",
   "metadata": {},
   "outputs": [
    {
     "name": "stdout",
     "output_type": "stream",
     "text": [
      "   name age        tel\n",
      "A   kim  20  1111-2222\n",
      "B   lee  30  2222-1111\n",
      "C  park  35  3333-2222\n",
      "D  jung  25  3333-1111\n",
      "Index(['name', 'age', 'tel'], dtype='object')\n",
      "Index(['A', 'B', 'C', 'D'], dtype='object')\n"
     ]
    }
   ],
   "source": [
    "df.columns=['name','age','tel'] #columns 명 변경\n",
    "df.index=['A','B','C','D']  #index 명 변경\n",
    "print(df)\n",
    "print(df.columns)\n",
    "print(df.index)"
   ]
  },
  {
   "cell_type": "code",
   "execution_count": 54,
   "id": "8f71fedc-416a-41ec-8edf-ee90ab43df81",
   "metadata": {},
   "outputs": [
    {
     "name": "stdout",
     "output_type": "stream",
     "text": [
      "   name age        tel\n",
      "A   kim  20  1111-2222\n",
      "B   lee  30  2222-1111\n",
      "C  park  35  3333-2222\n",
      "D  jung  25  3333-1111\n"
     ]
    }
   ],
   "source": [
    "df=pd.DataFrame(n,columns=['name','age','tel'],index=['A','B','C','D'])\n",
    "print(df)"
   ]
  },
  {
   "cell_type": "code",
   "execution_count": 56,
   "id": "4b905c59-8c50-44cf-b639-11b39fd8449a",
   "metadata": {},
   "outputs": [
    {
     "name": "stdout",
     "output_type": "stream",
     "text": [
      "       name age        tel\n",
      "count     4   4          4\n",
      "unique    4   4          4\n",
      "top     kim  20  1111-2222\n",
      "freq      1   1          1\n"
     ]
    }
   ],
   "source": [
    "# 데이터가 잘 들어있는지 확인하기 위해 사용하는 함수\n",
    "# count : 빈 값이 있는지 확인\n",
    "# unique : 다 다른 값이 들어있는지 확인하기 위함, 고윳값의 \n",
    "#          (중복값이 있을 경우 개수가 작아짐, ex) 4 -> 4개의 데이터가 값이 달라!)\n",
    "# top : 최빈값???\n",
    "# freq : 최빈값의 빈도???\n",
    "print(df.describe())"
   ]
  },
  {
   "cell_type": "code",
   "execution_count": 62,
   "id": "1488c37c-d66d-41bd-82f8-ce39f73e9f64",
   "metadata": {},
   "outputs": [
    {
     "name": "stdout",
     "output_type": "stream",
     "text": [
      "A     kim\n",
      "B     lee\n",
      "C    park\n",
      "D    jung\n",
      "Name: name, dtype: object\n",
      "<class 'pandas.core.series.Series'>\n"
     ]
    }
   ],
   "source": [
    "# 특정 columns만 출력\n",
    "print(df['name'])  #'name'열만 출력, 한줄만 출력하기 때문에 series 타입으로 출력됨\n",
    "print(type(df['name']))"
   ]
  },
  {
   "cell_type": "code",
   "execution_count": 61,
   "id": "7e2ebd35-a15c-43da-a754-4b77429e8abf",
   "metadata": {},
   "outputs": [
    {
     "name": "stdout",
     "output_type": "stream",
     "text": [
      "   name        tel\n",
      "A   kim  1111-2222\n",
      "B   lee  2222-1111\n",
      "C  park  3333-2222\n",
      "D  jung  3333-1111\n"
     ]
    }
   ],
   "source": [
    "print(df[['name','tel']])  # 'name', 'tel'열만 출력"
   ]
  },
  {
   "cell_type": "code",
   "execution_count": 71,
   "id": "7633d9a9-0419-45b7-82bd-a307c45a0c19",
   "metadata": {},
   "outputs": [
    {
     "name": "stdout",
     "output_type": "stream",
     "text": [
      "park\n",
      "park\n",
      "B     lee\n",
      "C    park\n",
      "D    jung\n",
      "Name: name, dtype: object\n"
     ]
    }
   ],
   "source": [
    "# print(df['name'][2])  # 별도 index명이 부여된 상태에서 기본으로 부여되는 숫자로 조회\n",
    "#                      ->조회 가능 but, 경고문 노출\n",
    "print(df['name']['C'])\n",
    "print(df['name'].C)\n",
    "print(df['name']['B':'D'])"
   ]
  },
  {
   "cell_type": "code",
   "execution_count": 73,
   "id": "c8fb539b-a4c9-44eb-bc0e-b84aedcfc4a7",
   "metadata": {},
   "outputs": [
    {
     "name": "stdout",
     "output_type": "stream",
     "text": [
      "A     kim\n",
      "B     lee\n",
      "C    park\n",
      "D    jung\n",
      "Name: name, dtype: object A    20\n",
      "B    30\n",
      "C    35\n",
      "D    25\n",
      "Name: age, dtype: object\n"
     ]
    }
   ],
   "source": [
    "print(df.name, df.age) # 특정 열들의 값을 따로따로 꺼내줘"
   ]
  },
  {
   "cell_type": "code",
   "execution_count": 74,
   "id": "6758ef44-9e55-4ee1-aba1-082650c66e42",
   "metadata": {},
   "outputs": [
    {
     "name": "stdout",
     "output_type": "stream",
     "text": [
      "park\n"
     ]
    }
   ],
   "source": [
    "print(df.name.C)"
   ]
  },
  {
   "cell_type": "code",
   "execution_count": 78,
   "id": "95261c58-1a1c-4c11-bab5-a266fca4bf3e",
   "metadata": {},
   "outputs": [
    {
     "name": "stdout",
     "output_type": "stream",
     "text": [
      "   name age        tel\n",
      "A   kim  20  1111-2222\n",
      "B   lee  30  2222-1111\n",
      "C  park  35  3333-2222\n",
      "D  jung  25  3333-1111\n",
      "  name age        tel\n",
      "A  kim  20  1111-2222\n"
     ]
    }
   ],
   "source": [
    "print(df[:][:])\n",
    "print(df[:2][:1])  # 위에서 2줄을 꺼낸 후에 거기서 첫번째 1줄을 꺼내라"
   ]
  },
  {
   "cell_type": "code",
   "execution_count": 81,
   "id": "abf96081-91e6-425f-9957-500e92c1c6b1",
   "metadata": {},
   "outputs": [
    {
     "name": "stdout",
     "output_type": "stream",
     "text": [
      "   name        tel\n",
      "A   kim  1111-2222\n",
      "B   lee  2222-1111\n",
      "C  park  3333-2222\n",
      "D  jung  3333-1111\n",
      "   name age        tel\n",
      "A   kim  20  1111-2222\n",
      "B   lee  30  2222-1111\n",
      "C  park  35  3333-2222\n",
      "D  jung  25  3333-1111\n"
     ]
    }
   ],
   "source": [
    "print(df[['name','tel']])\n",
    "#print(df[[0,2]])   #이미 별도로 배정한 칼럼명이 있기 때문에 숫자로 조회 시 에러 발생\n",
    "print(df)"
   ]
  },
  {
   "cell_type": "code",
   "execution_count": 83,
   "id": "a99bcf0d-5765-48d2-80a5-64545f03b814",
   "metadata": {},
   "outputs": [
    {
     "name": "stdout",
     "output_type": "stream",
     "text": [
      "   name age        tel address\n",
      "A   kim  20  1111-2222      서울\n",
      "B   lee  30  2222-1111      수원\n",
      "C  park  35  3333-2222      인천\n",
      "D  jung  25  3333-1111      안산\n"
     ]
    }
   ],
   "source": [
    "df['address']=['서울','수원','인천','안산']  #새로운 column 추가, 기존에 존재하는 열일 경우 값이 수정됨\n",
    "print(df)"
   ]
  },
  {
   "cell_type": "code",
   "execution_count": 93,
   "id": "78cd6c67-4252-4987-a585-f108983f15cc",
   "metadata": {},
   "outputs": [
    {
     "name": "stdout",
     "output_type": "stream",
     "text": [
      "   name age        tel address  adult\n",
      "A   kim  30  1111-2222      서울  False\n",
      "B   lee  30  2222-1111      수원  False\n",
      "C  park  35  3333-2222      인천   True\n",
      "D  jung  25  3333-1111      안산  False\n"
     ]
    }
   ],
   "source": [
    "df['adult']=df['age'].astype(np.int64)>30 #astype(np.int64):numpy에서 이용하는 형변환 변수\n",
    "print(df)"
   ]
  },
  {
   "cell_type": "code",
   "execution_count": 94,
   "id": "ea2e574d-521e-4207-920c-8d781692e342",
   "metadata": {},
   "outputs": [
    {
     "name": "stdout",
     "output_type": "stream",
     "text": [
      "   name age        tel address  adult\n",
      "A   kim  20  1111-2222      서울  False\n",
      "B   lee  30  2222-1111      수원  False\n",
      "C  park  35  3333-2222      인천   True\n",
      "D  jung  25  3333-1111      안산  False\n"
     ]
    },
    {
     "name": "stderr",
     "output_type": "stream",
     "text": [
      "C:\\Users\\ae397\\AppData\\Local\\Temp\\ipykernel_12408\\1980487139.py:1: FutureWarning: ChainedAssignmentError: behaviour will change in pandas 3.0!\n",
      "You are setting values through chained assignment. Currently this works in certain cases, but when using Copy-on-Write (which will become the default behaviour in pandas 3.0) this will never work to update the original DataFrame or Series, because the intermediate object on which we are setting values will behave as a copy.\n",
      "A typical example is when you are setting values in a column of a DataFrame, like:\n",
      "\n",
      "df[\"col\"][row_indexer] = value\n",
      "\n",
      "Use `df.loc[row_indexer, \"col\"] = values` instead, to perform the assignment in a single step and ensure this keeps updating the original `df`.\n",
      "\n",
      "See the caveats in the documentation: https://pandas.pydata.org/pandas-docs/stable/user_guide/indexing.html#returning-a-view-versus-a-copy\n",
      "\n",
      "  df['age']['A']=20   #기존에 입력된 데이터 수정 가능\n",
      "C:\\Users\\ae397\\AppData\\Local\\Temp\\ipykernel_12408\\1980487139.py:1: SettingWithCopyWarning: \n",
      "A value is trying to be set on a copy of a slice from a DataFrame\n",
      "\n",
      "See the caveats in the documentation: https://pandas.pydata.org/pandas-docs/stable/user_guide/indexing.html#returning-a-view-versus-a-copy\n",
      "  df['age']['A']=20   #기존에 입력된 데이터 수정 가능\n"
     ]
    }
   ],
   "source": [
    "df['age']['A']=20   #기존에 입력된 데이터 수정 가능\n",
    "print(df)"
   ]
  },
  {
   "cell_type": "code",
   "execution_count": 95,
   "id": "db0207e9-23cc-47d4-9e43-9a95d39a8564",
   "metadata": {},
   "outputs": [
    {
     "name": "stdout",
     "output_type": "stream",
     "text": [
      "   name age        tel address\n",
      "A   kim  20  1111-2222      서울\n",
      "B   lee  30  2222-1111      수원\n",
      "C  park  35  3333-2222      인천\n",
      "D  jung  25  3333-1111      안산\n"
     ]
    }
   ],
   "source": [
    "del(df['adult'])   # 열 삭제 가능\n",
    "print(df)"
   ]
  },
  {
   "cell_type": "code",
   "execution_count": 99,
   "id": "450c3e1f-d9bf-435f-b833-8f11c9992f89",
   "metadata": {},
   "outputs": [
    {
     "name": "stdout",
     "output_type": "stream",
     "text": [
      "a    10\n",
      "d    40\n",
      "f    50\n",
      "g    20\n",
      "b    70\n",
      "c    60\n",
      "dtype: int64\n"
     ]
    }
   ],
   "source": [
    "# Series 정렬\n",
    "s=pd.Series([10,40,50,20,70,60], index=['a','d','f','g','b','c'])\n",
    "print(s)"
   ]
  },
  {
   "cell_type": "code",
   "execution_count": 103,
   "id": "2bc5ee32-e733-42ea-9c0c-df21f3d9c5f7",
   "metadata": {},
   "outputs": [
    {
     "name": "stdout",
     "output_type": "stream",
     "text": [
      "a    10\n",
      "b    70\n",
      "c    60\n",
      "d    40\n",
      "f    50\n",
      "g    20\n",
      "dtype: int64\n"
     ]
    }
   ],
   "source": [
    "# index 정렬, 기본값=오름차순(trun)/ index 정렬 시 value도 따라서 변경됨\n",
    "s=s.sort_index()\n",
    "print(s)"
   ]
  },
  {
   "cell_type": "code",
   "execution_count": 102,
   "id": "14b2f792-421f-49ca-99ca-71a742505dee",
   "metadata": {},
   "outputs": [
    {
     "name": "stdout",
     "output_type": "stream",
     "text": [
      "g    20\n",
      "f    50\n",
      "d    40\n",
      "c    60\n",
      "b    70\n",
      "a    10\n",
      "dtype: int64\n"
     ]
    }
   ],
   "source": [
    "# index 정렬, 내림차순=False\n",
    "s=s.sort_index(ascending=False)\n",
    "print(s)"
   ]
  },
  {
   "cell_type": "code",
   "execution_count": 105,
   "id": "aa7f4399-e4d5-40ad-9f13-c04645c858b2",
   "metadata": {},
   "outputs": [
    {
     "name": "stdout",
     "output_type": "stream",
     "text": [
      "a    10\n",
      "g    20\n",
      "d    40\n",
      "f    50\n",
      "c    60\n",
      "b    70\n",
      "dtype: int64\n"
     ]
    }
   ],
   "source": [
    "# value 정렬 -> values 정렬에 따라 index 정렬도 바뀜\n",
    "s=s.sort_values()\n",
    "print(s)"
   ]
  },
  {
   "cell_type": "code",
   "execution_count": 106,
   "id": "26054b05-7363-4b77-ac31-270a28905921",
   "metadata": {},
   "outputs": [
    {
     "name": "stdout",
     "output_type": "stream",
     "text": [
      "b    70\n",
      "c    60\n",
      "f    50\n",
      "d    40\n",
      "g    20\n",
      "a    10\n",
      "dtype: int64\n"
     ]
    }
   ],
   "source": [
    "# value 정렬 -> values 정렬에 따라 index 정렬도 바뀜\n",
    "s=s.sort_values(ascending=False)\n",
    "print(s)"
   ]
  },
  {
   "cell_type": "code",
   "execution_count": 143,
   "id": "137feeed-11e5-4cdc-b7b1-36791cd69b71",
   "metadata": {},
   "outputs": [
    {
     "name": "stdout",
     "output_type": "stream",
     "text": [
      "     D    C    A    B\n",
      "c    4    5    1    2\n",
      "a  300  400  200  100\n",
      "b   20   10   40   30\n"
     ]
    }
   ],
   "source": [
    "# DataFrame 정렬\n",
    "## DataFrame 데이터 생성\n",
    "df=pd.DataFrame([[4,5,1,2],\n",
    "                 [300,400,200,100],\n",
    "                 [20,10,40,30]], index=['c','a','b'], columns=['D','C','A','B'])\n",
    "print(df)"
   ]
  },
  {
   "cell_type": "code",
   "execution_count": 117,
   "id": "a1cb62c7-137b-49be-b7c8-31b623620010",
   "metadata": {},
   "outputs": [
    {
     "name": "stdout",
     "output_type": "stream",
     "text": [
      "     D    C    A    B\n",
      "a  300  400  200  100\n",
      "b   20   10   40   30\n",
      "c    4    5    1    2\n"
     ]
    }
   ],
   "source": [
    "# index로 정렬/ 별도 설정하지 않으면 오름차순\n",
    "df=df.sort_index()\n",
    "print(df)"
   ]
  },
  {
   "cell_type": "code",
   "execution_count": 126,
   "id": "975aa6da-e9d1-4ae6-88f8-11712dbe311f",
   "metadata": {},
   "outputs": [
    {
     "name": "stdout",
     "output_type": "stream",
     "text": [
      "     D    C    B    A\n",
      "a  300  400  100  200\n",
      "b   20   10   30   40\n",
      "c    4    5    2    1\n"
     ]
    }
   ],
   "source": [
    "# index로 정렬/ axis 활용 가능 -> axis=0 : '행끼리'를 의미 => 행 기준으로 오름차순\n",
    "df=df.sort_index(axis=0)\n",
    "print(df)"
   ]
  },
  {
   "cell_type": "code",
   "execution_count": 128,
   "id": "7a0704a8-fe2c-41f9-a689-5be34ed30e0b",
   "metadata": {},
   "outputs": [
    {
     "name": "stdout",
     "output_type": "stream",
     "text": [
      "     D    C    B    A\n",
      "c    4    5    2    1\n",
      "b   20   10   30   40\n",
      "a  300  400  100  200\n"
     ]
    }
   ],
   "source": [
    "# index로 정렬/ 행 기준 내림차순(axis=0 생략 가능, 행 기준이기 때문)\n",
    "df=df.sort_index(axis=0,ascending=False )\n",
    "print(df)"
   ]
  },
  {
   "cell_type": "code",
   "execution_count": 129,
   "id": "7e88ad9f-deed-4fc7-bf74-7b67ba1970a6",
   "metadata": {},
   "outputs": [
    {
     "name": "stdout",
     "output_type": "stream",
     "text": [
      "     A    B    C    D\n",
      "c    1    2    5    4\n",
      "b   40   30   10   20\n",
      "a  200  100  400  300\n"
     ]
    }
   ],
   "source": [
    "# column으로 정렬/ axis 활용 가능 -> axis=1 : '열끼리'를 의미 => 열 기준으로 오름차순\n",
    "df=df.sort_index(axis=1)\n",
    "print(df)"
   ]
  },
  {
   "cell_type": "code",
   "execution_count": 132,
   "id": "478e329b-146b-48de-a771-b366e1341240",
   "metadata": {},
   "outputs": [
    {
     "name": "stdout",
     "output_type": "stream",
     "text": [
      "     D    C    B    A\n",
      "c    4    5    2    1\n",
      "b   20   10   30   40\n",
      "a  300  400  100  200\n"
     ]
    }
   ],
   "source": [
    "# 열 기준으로 내림차순 정렬\n",
    "df=df.sort_index(axis=1, ascending=False)\n",
    "print(df)"
   ]
  },
  {
   "cell_type": "code",
   "execution_count": 139,
   "id": "5f8286cd-0451-411f-a6e8-d0f92dbe28f9",
   "metadata": {},
   "outputs": [
    {
     "name": "stdout",
     "output_type": "stream",
     "text": [
      "     D    C    A    B\n",
      "c    4    5    1    2\n",
      "a  300  400  200  100\n",
      "b   20   10   40   30\n",
      "     D    C    A    B\n",
      "c    4    5    1    2\n",
      "b   20   10   40   30\n",
      "a  300  400  200  100\n"
     ]
    }
   ],
   "source": [
    "# value를 기준으로 정렬 / A열을 기준으로 정렬=>A열의 값들이 오름차순으로 정렬됨\n",
    "print(df)\n",
    "\n",
    "df=df.sort_values(by='A')\n",
    "print(df)"
   ]
  },
  {
   "cell_type": "code",
   "execution_count": 145,
   "id": "14070743-c2bf-4bee-93bc-5ecc832a17ce",
   "metadata": {},
   "outputs": [
    {
     "name": "stdout",
     "output_type": "stream",
     "text": [
      "     D    C    A    B\n",
      "c    4    5    1    2\n",
      "a  300  400  200  100\n",
      "b   20   10   40   30\n",
      "     D    C    A    B\n",
      "a  300  400  200  100\n",
      "b   20   10   40   30\n",
      "c    4    5    1    2\n"
     ]
    }
   ],
   "source": [
    "# value를 기준으로 정렬 / A열을 기준으로 정렬=>A열의 값들이 내림차순으로 정렬됨\n",
    "print(df)\n",
    "\n",
    "df=df.sort_values(by='A', ascending=False)\n",
    "print(df)"
   ]
  },
  {
   "cell_type": "code",
   "execution_count": 39,
   "id": "85a83fcd-9a3f-4cbe-93b0-d2dc5f715180",
   "metadata": {},
   "outputs": [
    {
     "name": "stdout",
     "output_type": "stream",
     "text": [
      "     D    C    A    B\n",
      "c    4    5   40  100\n",
      "a  300   10  200    2\n",
      "b   20  400    4   30\n"
     ]
    }
   ],
   "source": [
    "df=pd.DataFrame([[4,5,40,100],\n",
    "                 [300,10,200,2],\n",
    "                 [20,400,4,30]], index=['c','a','b'], columns=['D','C','A','B'])\n",
    "print(df)"
   ]
  },
  {
   "cell_type": "code",
   "execution_count": 3,
   "id": "d1733070-a6ba-4c31-9e67-0c441c7e013d",
   "metadata": {},
   "outputs": [
    {
     "name": "stdout",
     "output_type": "stream",
     "text": [
      "     D    C    A    B\n",
      "c    4    5   40  100\n",
      "a  300   10  200    2\n",
      "b   20  400    4   30\n",
      "     D    C    A    B\n",
      "b   20  400    4   30\n",
      "c    4    5   40  100\n",
      "a  300   10  200    2\n"
     ]
    }
   ],
   "source": [
    "# value를 기준으로 정렬 / A열을 기준으로 정렬=>A열의 값들이 오름차순으로 정렬됨\n",
    "print(df)\n",
    "\n",
    "df=df.sort_values(by='A')\n",
    "print(df)"
   ]
  },
  {
   "cell_type": "code",
   "execution_count": 5,
   "id": "00d9c4a8-c06c-4d46-8a51-faed0addceac",
   "metadata": {},
   "outputs": [
    {
     "name": "stdout",
     "output_type": "stream",
     "text": [
      "     D    C    A    B\n",
      "c    4    5   40  100\n",
      "a  300   10  200    2\n",
      "b   20  400    4   30\n",
      "     D    C    A    B\n",
      "a  300   10  200    2\n",
      "c    4    5   40  100\n",
      "b   20  400    4   30\n"
     ]
    }
   ],
   "source": [
    "# value를 기준으로 정렬 / A열을 기준으로 정렬=>A열의 값들이 내림차순으로 정렬됨\n",
    "print(df)\n",
    "\n",
    "df=df.sort_values(by='A', ascending=False)\n",
    "print(df)"
   ]
  },
  {
   "cell_type": "code",
   "execution_count": 13,
   "id": "fa1c3d5a-1798-418b-893b-3cd962164e4e",
   "metadata": {},
   "outputs": [
    {
     "name": "stdout",
     "output_type": "stream",
     "text": [
      "     D    C    A    B\n",
      "c    4    5   40  100\n",
      "a  300   10  200    2\n",
      "b   20  400    4   30\n",
      "     D    C    A    B\n",
      "b   20  400    4   30\n",
      "c    4    5   40  100\n",
      "a  300   10  200    2\n"
     ]
    }
   ],
   "source": [
    "print(df)\n",
    "\n",
    "df=df.sort_values(by=['A', 'B']) # A로 먼저 정렬한 후 B로 정렬\n",
    "print(df)"
   ]
  },
  {
   "cell_type": "code",
   "execution_count": 11,
   "id": "c8ad0f2f-df54-478c-8b60-196c185c0d74",
   "metadata": {},
   "outputs": [
    {
     "name": "stdout",
     "output_type": "stream",
     "text": [
      "     A    D    B    C\n",
      "c   40    4  100    5\n",
      "a  200  300    2   10\n",
      "b    4   20   30  400\n",
      "     A    D    B    C\n",
      "c   40    4  100    5\n",
      "a  200  300    2   10\n",
      "b    4   20   30  400\n"
     ]
    }
   ],
   "source": [
    "# 특정 인덱스 기준으로 정렬\n",
    "print(df)\n",
    "\n",
    "df=df.sort_values(by='b', axis=1)  #열끼리\n",
    "print(df)"
   ]
  },
  {
   "cell_type": "markdown",
   "id": "31d7dc83-1e68-4b18-abdd-cde11ccc4515",
   "metadata": {},
   "source": [
    "### 슬라이싱\n",
    "- .iloc     정수 인덱스\n",
    "- .loc      라벨 인덱스\n",
    "- .ix       depercated"
   ]
  },
  {
   "cell_type": "code",
   "execution_count": 40,
   "id": "b86bba40-42ca-4480-8907-74885284bfad",
   "metadata": {},
   "outputs": [
    {
     "name": "stdout",
     "output_type": "stream",
     "text": [
      "[[1, 2, 3], [4, 5, 6], [7, 8, 9]]\n",
      "9\n",
      "[[1, 2, 3], [4, 5, 6], [7, 8, 9]]\n",
      "[[1, 2, 3], [4, 5, 6]]\n"
     ]
    }
   ],
   "source": [
    "#list\n",
    "m=[[1,2,3],[4,5,6],[7,8,9]]\n",
    "print(m)\n",
    "print(m[2][2])\n",
    "print(m[:][:])\n",
    "print(m[:2][:2])  # 앞에서 2개의 행 뽑은 후 그 중에서 2개의 행을 보여줘"
   ]
  },
  {
   "cell_type": "code",
   "execution_count": 41,
   "id": "208d3346-3351-44df-bbdf-b7ca421392cf",
   "metadata": {},
   "outputs": [
    {
     "name": "stdout",
     "output_type": "stream",
     "text": [
      "[[1 2 3]\n",
      " [4 5 6]\n",
      " [7 8 9]]\n"
     ]
    }
   ],
   "source": [
    "# numpy\n",
    "n=np.array(m)\n",
    "print(n)"
   ]
  },
  {
   "cell_type": "code",
   "execution_count": 42,
   "id": "72885932-30b6-4e0b-9435-21eca425141e",
   "metadata": {},
   "outputs": [
    {
     "name": "stdout",
     "output_type": "stream",
     "text": [
      "9\n",
      "[[1 2 3]\n",
      " [4 5 6]\n",
      " [7 8 9]]\n",
      "[[1 2 3]\n",
      " [4 5 6]]\n",
      "[[1 2]\n",
      " [4 5]]\n"
     ]
    }
   ],
   "source": [
    "print(n[2][2])\n",
    "print(n[:][:])\n",
    "print(n[:2][:2])\n",
    "print(n[:2,:2])  # 앞에서 2개의 행 뽑은 후 그중 앞에서 2개의 열 추출"
   ]
  },
  {
   "cell_type": "code",
   "execution_count": 43,
   "id": "332d9c8d-3c4d-4127-8409-ca21d2d8ef74",
   "metadata": {},
   "outputs": [
    {
     "name": "stdout",
     "output_type": "stream",
     "text": [
      "   0  1  2\n",
      "0  1  2  3\n",
      "1  4  5  6\n",
      "2  7  8  9\n"
     ]
    }
   ],
   "source": [
    "# pandas\n",
    "df=pd.DataFrame(n)\n",
    "print(df)"
   ]
  },
  {
   "cell_type": "code",
   "execution_count": 44,
   "id": "64ff36d9-7f24-4eaa-b6ce-853f3f077e96",
   "metadata": {},
   "outputs": [
    {
     "name": "stdout",
     "output_type": "stream",
     "text": [
      "9\n",
      "   0  1  2\n",
      "0  1  2  3\n",
      "1  4  5  6\n",
      "2  7  8  9\n",
      "   0  1  2\n",
      "0  1  2  3\n",
      "1  4  5  6\n"
     ]
    }
   ],
   "source": [
    "print(df[2][2])  # 현재 컬럼명을 따로 지정하지 않았기 때문에 숫자로 조회해도 조회됨\n",
    "                 # (별도 컬럼이 지정되어 있을 경우 에러 발생)\n",
    "print(df[:][:])\n",
    "print(df[:2][:2])\n",
    "# print(df[:2,:2])   # Numpy에서는 가능했으나 DataFrame에서는 에러 발생"
   ]
  },
  {
   "cell_type": "code",
   "execution_count": 62,
   "id": "c82bcb06-0932-4e0c-9543-d23c410f410e",
   "metadata": {},
   "outputs": [
    {
     "name": "stdout",
     "output_type": "stream",
     "text": [
      "    A   B   C   D\n",
      "0   1   2   3   4\n",
      "1   5   6   7   8\n",
      "2   9  10  11  12\n",
      "3  13  14  15  16\n",
      "4  17  18  19  20\n"
     ]
    }
   ],
   "source": [
    " # 1~20까지 나열된 2차원 numpy를 dataframe으로 변경\n",
    "df=pd.DataFrame(np.arange(1,21).reshape(5,4),columns=['A','B','C','D'])\n",
    "print(df)"
   ]
  },
  {
   "cell_type": "code",
   "execution_count": 63,
   "id": "5e702c78-f8bf-40a2-9b06-c1461c70c3c1",
   "metadata": {},
   "outputs": [
    {
     "name": "stdout",
     "output_type": "stream",
     "text": [
      "11\n",
      "    A   D\n",
      "0   1   4\n",
      "1   5   8\n",
      "2   9  12\n",
      "3  13  16\n",
      "4  17  20\n"
     ]
    }
   ],
   "source": [
    "# print(df[2][2]) ###현재 별도 컬럼명을 지정->오류 발생\n",
    "print(df['C'][2])\n",
    "print(df[['A','D']])\n",
    "# print(df['A':'C'])  #에러 발생\n",
    "# print(df[['A':'C']]) #에러 발생"
   ]
  },
  {
   "cell_type": "code",
   "execution_count": 57,
   "id": "b739eed7-4fb2-4305-8c59-d2b8e44c2039",
   "metadata": {},
   "outputs": [
    {
     "name": "stdout",
     "output_type": "stream",
     "text": [
      "11\n",
      "11\n",
      "   A  B\n",
      "0  1  2\n",
      "1  5  6\n",
      "   A   C\n",
      "0  1   3\n",
      "2  9  11\n"
     ]
    },
    {
     "name": "stderr",
     "output_type": "stream",
     "text": [
      "C:\\Users\\ae397\\AppData\\Local\\Temp\\ipykernel_21576\\38656942.py:2: FutureWarning: Series.__getitem__ treating keys as positions is deprecated. In a future version, integer keys will always be treated as labels (consistent with DataFrame behavior). To access a value by position, use `ser.iloc[pos]`\n",
      "  print(df.iloc[2][2])\n"
     ]
    }
   ],
   "source": [
    "# 위와 같이 오류 발생하는 것들을 표현하기 위해 iloc(정수 인덱스만 가능) 사용\n",
    "print(df.iloc[2][2])\n",
    "print(df.iloc[2,2])\n",
    "#print(df.iloc[2,'C'])   # iloc는 정수만 사용 가능 => 에러 발생\n",
    "                         # 숫자말고 문자를 사용하고 싶을 경우 loc 사용\n",
    "\n",
    "print(df.iloc[:2,:2])   # 슬라이싱 사용 가능\n",
    "print(df.iloc[:3:2,:3:2]) # 0~2까지 행을 2개의 간격으로 조회 후 0~2까지 열을 2개의 간격으로 조회"
   ]
  },
  {
   "cell_type": "code",
   "execution_count": 61,
   "id": "d9c01be1-8149-45a1-9c83-1936801e674e",
   "metadata": {},
   "outputs": [
    {
     "name": "stdout",
     "output_type": "stream",
     "text": [
      "   A  B  C\n",
      "0  1  2  3\n",
      "1  5  6  7\n",
      "    D   C   B   A\n",
      "4  20  19  18  17\n",
      "3  16  15  14  13\n",
      "2  12  11  10   9\n",
      "1   8   7   6   5\n",
      "0   4   3   2   1\n"
     ]
    }
   ],
   "source": [
    "print(df.iloc[:2,:-1])\n",
    "print(df.iloc[::-1,::-1])  # 간격에 -1 = 거꾸로 출력"
   ]
  },
  {
   "cell_type": "code",
   "execution_count": 66,
   "id": "e39cf86b-32a6-4a28-99ba-0af324bad085",
   "metadata": {},
   "outputs": [
    {
     "name": "stdout",
     "output_type": "stream",
     "text": [
      "    A   B   C   D\n",
      "0   1   2   3   4\n",
      "1   5   6   7   8\n",
      "2   9  10  11  12\n",
      "3  13  14  15  16\n",
      "4  17  18  19  20\n"
     ]
    }
   ],
   "source": [
    "# loc : 특정 컬럼명이 지정되었을 경우 컬럼명으로 조회\n",
    "print(df)"
   ]
  },
  {
   "cell_type": "code",
   "execution_count": 68,
   "id": "dd24538e-c028-4720-9863-0eadee1c1971",
   "metadata": {},
   "outputs": [
    {
     "name": "stdout",
     "output_type": "stream",
     "text": [
      "11\n"
     ]
    }
   ],
   "source": [
    "# print(df.loc[2,2])   # 특정 컬럼명이 지정된 상태->숫자로 조회할 경우 에러 발생\n",
    "print(df.loc[2,'C'])   # 컬럼명으로 조회 시 정상적으로 조회 가능"
   ]
  },
  {
   "cell_type": "code",
   "execution_count": 74,
   "id": "40f1d90f-825a-4ad1-a9b3-0ef290a0bf6f",
   "metadata": {},
   "outputs": [
    {
     "name": "stdout",
     "output_type": "stream",
     "text": [
      "   A   B   C\n",
      "0  1   2   3\n",
      "1  5   6   7\n",
      "2  9  10  11\n",
      "   A  B  C  D\n",
      "0  1  2  3  4\n",
      "1  5  6  7  8\n",
      "    B   C   D\n",
      "1   6   7   8\n",
      "2  10  11  12\n",
      "3  14  15  16\n",
      "0     3\n",
      "1     7\n",
      "2    11\n",
      "3    15\n",
      "4    19\n",
      "Name: C, dtype: int32\n",
      "    B   D\n",
      "0   2   4\n",
      "1   6   8\n",
      "2  10  12\n",
      "3  14  16\n",
      "4  18  20\n",
      "    B   D\n",
      "0   2   4\n",
      "1   6   8\n",
      "2  10  12\n",
      "3  14  16\n",
      "4  18  20\n"
     ]
    }
   ],
   "source": [
    "print(df.loc[:2,:'C'])\n",
    "print(df[:2])\n",
    "print(df.loc[1:3,'B':'D'])\n",
    "print(df.loc[:,'C'])   # 모든 행, C열만 조회\n",
    "print(df.loc[:,['B','D']]) # 모든 행, B열과 D열 조회\n",
    "print(df[['B','D']])  # 윗줄과 동일하게 B열과 D열 조회->BUT, 특정 행을 지정할 수 없음"
   ]
  },
  {
   "cell_type": "code",
   "execution_count": 75,
   "id": "5f9dc5b1-0be5-42c9-9161-7a5deea15d9d",
   "metadata": {},
   "outputs": [
    {
     "name": "stdout",
     "output_type": "stream",
     "text": [
      "    A   B   C   D\n",
      "0   1   2   3   4\n",
      "1   5   6   7   8\n",
      "2   9  10  11  12\n",
      "3  13  14  15  16\n",
      "4  17  18  19  20\n"
     ]
    }
   ],
   "source": [
    "# 컬럼 추가\n",
    "print(df)"
   ]
  },
  {
   "cell_type": "code",
   "execution_count": 81,
   "id": "4fe18bd8-49ac-4604-b268-2624ce9c18b8",
   "metadata": {},
   "outputs": [
    {
     "name": "stdout",
     "output_type": "stream",
     "text": [
      "    A   B   C   D   E\n",
      "0   1   2   3   4  31\n",
      "1   5   6   7   8  32\n",
      "2   9  10  11  12  33\n",
      "3  13  14  15  16  34\n",
      "4  17  18  19  20  35\n"
     ]
    }
   ],
   "source": [
    "# 컬럼 추가\n",
    "df['E']=[31,32,33,34,35]   # 컬럼 추가 가능\n",
    "# df[5][:]=[90,91,92,93,94]  # 행 추가 불가능\n",
    "print(df)"
   ]
  },
  {
   "cell_type": "code",
   "execution_count": 83,
   "id": "78d55c11-30a8-4d07-9cde-ae841ce797ee",
   "metadata": {},
   "outputs": [
    {
     "ename": "IndexError",
     "evalue": "iloc cannot enlarge its target object",
     "output_type": "error",
     "traceback": [
      "\u001b[1;31m---------------------------------------------------------------------------\u001b[0m",
      "\u001b[1;31mIndexError\u001b[0m                                Traceback (most recent call last)",
      "Cell \u001b[1;32mIn[83], line 3\u001b[0m\n\u001b[0;32m      1\u001b[0m \u001b[38;5;66;03m# 컬럼 추가 - iloc 사용 => iloc의 경우 새로운 데이터 추가 불가!!!\u001b[39;00m\n\u001b[0;32m      2\u001b[0m \u001b[38;5;66;03m## df.iloc[:,5]=[40,41,42,43,44]    # 에러 발생(컬럼 명이 기재되지 않았기 때문)\u001b[39;00m\n\u001b[1;32m----> 3\u001b[0m df\u001b[38;5;241m.\u001b[39miloc[\u001b[38;5;241m5\u001b[39m,:]\u001b[38;5;241m=\u001b[39m[\u001b[38;5;241m90\u001b[39m,\u001b[38;5;241m91\u001b[39m,\u001b[38;5;241m92\u001b[39m,\u001b[38;5;241m93\u001b[39m,\u001b[38;5;241m94\u001b[39m]    \u001b[38;5;66;03m# 에러 발생\u001b[39;00m\n\u001b[0;32m      4\u001b[0m \u001b[38;5;28mprint\u001b[39m(df)\n",
      "File \u001b[1;32m~\\anaconda3\\Lib\\site-packages\\pandas\\core\\indexing.py:908\u001b[0m, in \u001b[0;36m_LocationIndexer.__setitem__\u001b[1;34m(self, key, value)\u001b[0m\n\u001b[0;32m    906\u001b[0m     key \u001b[38;5;241m=\u001b[39m \u001b[38;5;28mself\u001b[39m\u001b[38;5;241m.\u001b[39m_check_deprecated_callable_usage(key, maybe_callable)\n\u001b[0;32m    907\u001b[0m indexer \u001b[38;5;241m=\u001b[39m \u001b[38;5;28mself\u001b[39m\u001b[38;5;241m.\u001b[39m_get_setitem_indexer(key)\n\u001b[1;32m--> 908\u001b[0m \u001b[38;5;28mself\u001b[39m\u001b[38;5;241m.\u001b[39m_has_valid_setitem_indexer(key)\n\u001b[0;32m    910\u001b[0m iloc \u001b[38;5;241m=\u001b[39m \u001b[38;5;28mself\u001b[39m \u001b[38;5;28;01mif\u001b[39;00m \u001b[38;5;28mself\u001b[39m\u001b[38;5;241m.\u001b[39mname \u001b[38;5;241m==\u001b[39m \u001b[38;5;124m\"\u001b[39m\u001b[38;5;124miloc\u001b[39m\u001b[38;5;124m\"\u001b[39m \u001b[38;5;28;01melse\u001b[39;00m \u001b[38;5;28mself\u001b[39m\u001b[38;5;241m.\u001b[39mobj\u001b[38;5;241m.\u001b[39miloc\n\u001b[0;32m    911\u001b[0m iloc\u001b[38;5;241m.\u001b[39m_setitem_with_indexer(indexer, value, \u001b[38;5;28mself\u001b[39m\u001b[38;5;241m.\u001b[39mname)\n",
      "File \u001b[1;32m~\\anaconda3\\Lib\\site-packages\\pandas\\core\\indexing.py:1646\u001b[0m, in \u001b[0;36m_iLocIndexer._has_valid_setitem_indexer\u001b[1;34m(self, indexer)\u001b[0m\n\u001b[0;32m   1644\u001b[0m \u001b[38;5;28;01melif\u001b[39;00m is_integer(i):\n\u001b[0;32m   1645\u001b[0m     \u001b[38;5;28;01mif\u001b[39;00m i \u001b[38;5;241m>\u001b[39m\u001b[38;5;241m=\u001b[39m \u001b[38;5;28mlen\u001b[39m(ax):\n\u001b[1;32m-> 1646\u001b[0m         \u001b[38;5;28;01mraise\u001b[39;00m \u001b[38;5;167;01mIndexError\u001b[39;00m(\u001b[38;5;124m\"\u001b[39m\u001b[38;5;124miloc cannot enlarge its target object\u001b[39m\u001b[38;5;124m\"\u001b[39m)\n\u001b[0;32m   1647\u001b[0m \u001b[38;5;28;01melif\u001b[39;00m \u001b[38;5;28misinstance\u001b[39m(i, \u001b[38;5;28mdict\u001b[39m):\n\u001b[0;32m   1648\u001b[0m     \u001b[38;5;28;01mraise\u001b[39;00m \u001b[38;5;167;01mIndexError\u001b[39;00m(\u001b[38;5;124m\"\u001b[39m\u001b[38;5;124miloc cannot enlarge its target object\u001b[39m\u001b[38;5;124m\"\u001b[39m)\n",
      "\u001b[1;31mIndexError\u001b[0m: iloc cannot enlarge its target object"
     ]
    }
   ],
   "source": [
    "# 컬럼 추가 - iloc 사용 => iloc의 경우 새로운 데이터 추가 불가!!!\n",
    "## df.iloc[:,5]=[40,41,42,43,44]    # 에러 발생(컬럼 명이 기재되지 않았기 때문)\n",
    "## df.iloc[5,:]=[90,91,92,93,94]    # 에러 발생\n",
    "print(df)"
   ]
  },
  {
   "cell_type": "code",
   "execution_count": 89,
   "id": "e4be0ce9-a4ab-40d5-845c-9ef6f4e0130f",
   "metadata": {},
   "outputs": [
    {
     "name": "stdout",
     "output_type": "stream",
     "text": [
      "    A   B   C   D   E\n",
      "0   1   2   3   4  31\n",
      "1   5   6   7   8  32\n",
      "2   9  10  11  12  33\n",
      "3  13  14  15  16  34\n",
      "4  17  18  19  20  35\n"
     ]
    }
   ],
   "source": [
    " # 1~20까지 나열된 2차원 numpy를 dataframe으로 변경\n",
    "df=pd.DataFrame(np.arange(1,21).reshape(5,4),columns=['A','B','C','D'])\n",
    "df['E']=[31,32,33,34,35]\n",
    "print(df)"
   ]
  },
  {
   "cell_type": "code",
   "execution_count": 90,
   "id": "cf80c577-87f0-40fd-9e2f-6242862d1117",
   "metadata": {},
   "outputs": [
    {
     "name": "stdout",
     "output_type": "stream",
     "text": [
      "    A   B   C   D   E\n",
      "0   1   2   3   4  31\n",
      "1   5   6   7   8  32\n",
      "2   9  10  11  12  33\n",
      "3  13  14  15  16  34\n",
      "4  17  18  19  20  35\n",
      "5  90  91  92  93  94\n"
     ]
    }
   ],
   "source": [
    "# loc 행추가 가능\n",
    "df.loc[5]=[90,91,92,93,94]\n",
    "print(df)"
   ]
  },
  {
   "cell_type": "code",
   "execution_count": 91,
   "id": "2e7b53ab-6562-4739-8d6d-b5fe9b23f768",
   "metadata": {},
   "outputs": [
    {
     "name": "stdout",
     "output_type": "stream",
     "text": [
      "    A   B   C   D   E   F\n",
      "0   1   2   3   4  31  40\n",
      "1   5   6   7   8  32  41\n",
      "2   9  10  11  12  33  42\n",
      "3  13  14  15  16  34  43\n",
      "4  17  18  19  20  35  44\n",
      "5  90  91  92  93  94  45\n"
     ]
    }
   ],
   "source": [
    "# loc 열추가 가능\n",
    "df.loc[:,'F']=[40,41,42,43,44,45]\n",
    "print(df)"
   ]
  },
  {
   "cell_type": "code",
   "execution_count": 94,
   "id": "39cb0845-d077-46b7-a382-5fc383a1430e",
   "metadata": {},
   "outputs": [
    {
     "name": "stdout",
     "output_type": "stream",
     "text": [
      "    A   B   C   D   E   F\n",
      "0  99   2   3   4  31  40\n",
      "1   5   6   7   8  32  41\n",
      "2   9  10  11  12  33  42\n",
      "3  13  14  15  16  34  43\n",
      "4  17  18  19  20  35  44\n",
      "5  90  91  92  93  94  45\n"
     ]
    }
   ],
   "source": [
    "# 특정 데이터 수정 => 기존에 존재하는 컬럼명을 이용할 경우 값 수정\n",
    "df.loc[0,'A']=99\n",
    "print(df)"
   ]
  },
  {
   "cell_type": "code",
   "execution_count": 96,
   "id": "33250522-d442-4f2d-8b30-78b6bbe2dab6",
   "metadata": {},
   "outputs": [
    {
     "name": "stdout",
     "output_type": "stream",
     "text": [
      "     A    B    C   D   E   F\n",
      "0   99    2    3   4  31  40\n",
      "1  100  121  102   8  32  41\n",
      "2    9   10   11  12  33  42\n",
      "3   13   14   15  16  34  43\n",
      "4   17   18   19  20  35  44\n",
      "5   90   91   92  93  94  45\n"
     ]
    }
   ],
   "source": [
    "# 특정 데이터 수정 => 기존에 존재하는 컬럼명을 이용할 경우 값 수정\n",
    "df.loc[1,'A':'C']=[100,121,102]  # 1번 행의 A~C까지 열의 값 변경\n",
    "print(df)"
   ]
  },
  {
   "cell_type": "code",
   "execution_count": 98,
   "id": "723a055e-9665-4ea9-8344-d814db246fde",
   "metadata": {},
   "outputs": [
    {
     "name": "stdout",
     "output_type": "stream",
     "text": [
      "     A    B    C   D    E   F\n",
      "0   99    2    3   4   31  40\n",
      "1  100  121  102   8   32  41\n",
      "2    9   10   11  12   33  42\n",
      "3  200   14  201  16  202  43\n",
      "4   17   18   19  20   35  44\n",
      "5   90   91   92  93   94  45\n"
     ]
    }
   ],
   "source": [
    "# 특정 데이터 수정\n",
    "df.loc[3,['A','C','E']]=[200,201,202]  # 3번 행의 A,C,E열의 값 변경\n",
    "print(df)"
   ]
  },
  {
   "cell_type": "code",
   "execution_count": 99,
   "id": "869ce187-cffa-48f3-9188-325d2b1ac632",
   "metadata": {},
   "outputs": [
    {
     "name": "stdout",
     "output_type": "stream",
     "text": [
      "     A    B    C   D    E   F\n",
      "0   99    2    3   4   31  40\n",
      "1  100  121  102   8   32  41\n",
      "2    9   10   11  12   33  42\n",
      "3  200   14  201  16  202  43\n",
      "4   17   18   19  20   35  44\n",
      "5   90   91   92  93   94  45\n"
     ]
    }
   ],
   "source": [
    "# 특정 열 지우기\n",
    "print(df)"
   ]
  },
  {
   "cell_type": "code",
   "execution_count": 100,
   "id": "5ab9ace8-b34f-4d31-9f00-bb14e7a4ffc0",
   "metadata": {},
   "outputs": [
    {
     "name": "stdout",
     "output_type": "stream",
     "text": [
      "     A    B    C   D   F\n",
      "0   99    2    3   4  40\n",
      "1  100  121  102   8  41\n",
      "2    9   10   11  12  42\n",
      "3  200   14  201  16  43\n",
      "4   17   18   19  20  44\n",
      "5   90   91   92  93  45\n"
     ]
    }
   ],
   "source": [
    "# 특정 열 지우기\n",
    "del(df['E'])\n",
    "print(df)"
   ]
  },
  {
   "cell_type": "code",
   "execution_count": 102,
   "id": "2667058c-e3b2-45ca-bb16-7fdff37520e8",
   "metadata": {},
   "outputs": [
    {
     "name": "stdout",
     "output_type": "stream",
     "text": [
      "     A    B    C   D\n",
      "0   99    2    3   4\n",
      "1  100  121  102   8\n",
      "2    9   10   11  12\n",
      "3  200   14  201  16\n",
      "4   17   18   19  20\n",
      "5   90   91   92  93\n"
     ]
    }
   ],
   "source": [
    "# drop 사용\n",
    "df=df.drop('F',axis=1)   #특정 열 지우기, 기본값이 행이기 때문에 axis=1로 열 지정 필요\n",
    "print(df)"
   ]
  },
  {
   "cell_type": "code",
   "execution_count": 104,
   "id": "9c0e5d3e-3128-4dd4-8d0a-6d7cb68c79d4",
   "metadata": {},
   "outputs": [
    {
     "name": "stdout",
     "output_type": "stream",
     "text": [
      "     A    B    C   D\n",
      "0   99    2    3   4\n",
      "1  100  121  102   8\n",
      "2    9   10   11  12\n",
      "3  200   14  201  16\n",
      "4   17   18   19  20\n"
     ]
    }
   ],
   "source": [
    "# drop 사용\n",
    "df=df.drop(5,axis=0)   #특정 행 지우기, 기본값이 행이기 axis 생략 가능\n",
    "print(df)"
   ]
  },
  {
   "cell_type": "markdown",
   "id": "76e98e99-4ac9-481a-a802-a759aea669cf",
   "metadata": {},
   "source": [
    "### Boolean Indexing\n",
    "- 논리값으로 인덱싱 가능"
   ]
  },
  {
   "cell_type": "code",
   "execution_count": 105,
   "id": "3718e784-fe6d-4510-898b-ac610ba3c4aa",
   "metadata": {},
   "outputs": [
    {
     "name": "stdout",
     "output_type": "stream",
     "text": [
      "   name  age        tel\n",
      "0   kim   20  1111-2222\n",
      "1   lee   30  2222-1111\n",
      "2  park   35  3333-2222\n",
      "3  jung   25  3333-1111\n",
      "4  hong   40  1111-3333\n"
     ]
    }
   ],
   "source": [
    "df=pd.DataFrame(\n",
    "    [['kim',20,'1111-2222'],\n",
    "     ['lee',30,'2222-1111'],\n",
    "     ['park',35,'3333-2222'],\n",
    "     ['jung',25,'3333-1111'],\n",
    "     ['hong',40,'1111-3333']], columns=['name','age','tel']\n",
    ")\n",
    "print(df)"
   ]
  },
  {
   "cell_type": "code",
   "execution_count": 106,
   "id": "d932ad54-4e7d-4e5b-9787-4d4f35e6a1ed",
   "metadata": {},
   "outputs": [
    {
     "name": "stdout",
     "output_type": "stream",
     "text": [
      "jung\n"
     ]
    }
   ],
   "source": [
    "print(df.loc[3,'name'])"
   ]
  },
  {
   "cell_type": "code",
   "execution_count": 109,
   "id": "060de4b2-6eb8-4d46-b069-75bc570e8ae1",
   "metadata": {},
   "outputs": [
    {
     "name": "stdout",
     "output_type": "stream",
     "text": [
      "   name  age\n",
      "2  park   35\n",
      "4  hong   40\n"
     ]
    }
   ],
   "source": [
    "# loc => Boolena Indexing 가능\n",
    "# 조건에 맞는 데이터만 출력\n",
    "print(df.loc[df['age']>30,['name','age']]) # age가 30보다 큰 행의 name과 age 출력"
   ]
  },
  {
   "cell_type": "code",
   "execution_count": 112,
   "id": "e1302dc9-4dc6-40eb-bbe7-289ee1c13d35",
   "metadata": {},
   "outputs": [
    {
     "name": "stdout",
     "output_type": "stream",
     "text": [
      "  name  age        tel\n",
      "0  kim   20  1111-2222\n"
     ]
    }
   ],
   "source": [
    "# loc => Boolena Indexing 가능\n",
    "# 등호 사용 가능\n",
    "print(df.loc[df['name']=='kim',:])  # name이 kim인 행의 모든 열 출력"
   ]
  },
  {
   "cell_type": "code",
   "execution_count": 116,
   "id": "31582956-bf62-4b6e-9e31-94b35bebe559",
   "metadata": {},
   "outputs": [
    {
     "name": "stdout",
     "output_type": "stream",
     "text": [
      "   name  age        tel\n",
      "1   lee   30  2222-1111\n",
      "2  park   35  3333-2222\n",
      "3  jung   25  3333-1111\n"
     ]
    }
   ],
   "source": [
    "# loc => Boolena Indexing 가능\n",
    "# 논리 연산자(and, or) 사용 가능\n",
    "\n",
    "# 조건이 여러 개일 경우 소괄호로 정확히 구분해줘야 작동가능\n",
    "# 아래 식에 age 조건에 소괄호 없을 경우 오류 발생\n",
    "print(df.loc[(df['age']>20) & (df['age']<40), 'name':'tel'])"
   ]
  },
  {
   "cell_type": "code",
   "execution_count": 117,
   "id": "b9238a99-f75a-4b7f-b3cd-ec6ba88f09ea",
   "metadata": {},
   "outputs": [
    {
     "name": "stdout",
     "output_type": "stream",
     "text": [
      "0    kim\n",
      "1    lee\n",
      "Name: name, dtype: object\n"
     ]
    }
   ],
   "source": [
    "print(df.loc[[True,True,False,False,False],\"name\"])"
   ]
  },
  {
   "cell_type": "markdown",
   "id": "2fea0bb6-b2f2-4e8b-8479-aa2fa6c33ac6",
   "metadata": {},
   "source": [
    "### 결측치 대체"
   ]
  },
  {
   "cell_type": "code",
   "execution_count": 154,
   "id": "555a4986-59d0-46d7-afd3-d62ebd2b8bc1",
   "metadata": {},
   "outputs": [
    {
     "name": "stdout",
     "output_type": "stream",
     "text": [
      "   name  age        tel\n",
      "0   kim   20  1111-2222\n",
      "1   lee   30  2222-1111\n",
      "2  park   35  3333-2222\n",
      "3  jung   25  3333-1111\n",
      "4  hong   40  1111-3333\n"
     ]
    }
   ],
   "source": [
    "df=pd.DataFrame(\n",
    "    [['kim',20,'1111-2222'],\n",
    "     ['lee',30,'2222-1111'],\n",
    "     ['park',35,'3333-2222'],\n",
    "     ['jung',25,'3333-1111'],\n",
    "     ['hong',40,'1111-3333']], columns=['name','age','tel']\n",
    ")\n",
    "print(df)"
   ]
  },
  {
   "cell_type": "code",
   "execution_count": 155,
   "id": "426b1a65-b280-4f38-a1a2-0f17e5b948ca",
   "metadata": {},
   "outputs": [
    {
     "name": "stdout",
     "output_type": "stream",
     "text": [
      "   name  age        tel address\n",
      "0   kim   20  1111-2222      서울\n",
      "1   lee   30  2222-1111     NaN\n",
      "2  park   35  3333-2222     NaN\n",
      "3  jung   25  3333-1111      수원\n",
      "4  hong   40  1111-3333     NaN\n"
     ]
    }
   ],
   "source": [
    "df['address']=['서울',np.nan,np.nan,'수원',np.nan]   # 결측치 생성\n",
    "print(df)"
   ]
  },
  {
   "cell_type": "code",
   "execution_count": 130,
   "id": "2513b49f-0b1a-4ee5-b14f-c58357fe0a4f",
   "metadata": {},
   "outputs": [
    {
     "name": "stdout",
     "output_type": "stream",
     "text": [
      "1    NaN\n",
      "2    NaN\n",
      "4    NaN\n",
      "Name: address, dtype: object\n"
     ]
    }
   ],
   "source": [
    "# 결측치만 조회하기 => isnull() 함수 활용\n",
    "print(df.loc[df['address'].isnull(),'address'])  #address가 NaN인 행의 address 출력"
   ]
  },
  {
   "cell_type": "code",
   "execution_count": 139,
   "id": "71f32f66-1cfa-402f-83da-326b79fea21f",
   "metadata": {},
   "outputs": [
    {
     "name": "stdout",
     "output_type": "stream",
     "text": [
      "   name  age        tel address\n",
      "0   kim   20  1111-2222      서울\n",
      "1   lee   30  2222-1111     NaN\n",
      "2  park   35  3333-2222     NaN\n",
      "3  jung   25  3333-1111      수원\n",
      "4  hong   40  1111-3333    None\n"
     ]
    },
    {
     "data": {
      "text/plain": [
       "1     NaN\n",
       "2     NaN\n",
       "4    None\n",
       "Name: address, dtype: object"
      ]
     },
     "execution_count": 139,
     "metadata": {},
     "output_type": "execute_result"
    }
   ],
   "source": [
    "# 여러 결측치\n",
    "df['address']=['서울',np.nan,np.nan,'수원',None]   # 결측치 생성\n",
    "print(df)\n",
    "\n",
    "df.loc[df['address'].isnull(),'address'] # np.nan/None 상관없이 모든 결측치 조회"
   ]
  },
  {
   "cell_type": "code",
   "execution_count": 140,
   "id": "2411a8ac-1243-42fd-ae9b-47bc77b3f1b0",
   "metadata": {},
   "outputs": [
    {
     "name": "stdout",
     "output_type": "stream",
     "text": [
      "   name  age        tel address\n",
      "0   kim   20  1111-2222      서울\n",
      "1   lee   30  2222-1111      서울\n",
      "2  park   35  3333-2222      서울\n",
      "3  jung   25  3333-1111      수원\n",
      "4  hong   40  1111-3333      서울\n"
     ]
    }
   ],
   "source": [
    "# 결측치를 특정 값으로 대체\n",
    "df.loc[df['address'].isnull(),'address']='서울'\n",
    "print(df)"
   ]
  },
  {
   "cell_type": "code",
   "execution_count": 142,
   "id": "0bc919a0-f4f3-4e0e-bff8-f651b1b76031",
   "metadata": {},
   "outputs": [
    {
     "name": "stdout",
     "output_type": "stream",
     "text": [
      "   name  age        tel address\n",
      "0   kim   20  1111-2222        \n",
      "1   lee   30  2222-1111      서울\n",
      "2  park   35  3333-2222        \n",
      "3  jung   25  3333-1111      수원\n",
      "4  hong   40  1111-3333        \n"
     ]
    }
   ],
   "source": [
    "# ' '이라는 결측치 생성\n",
    "df.loc[::2,'address']=' '\n",
    "print(df)"
   ]
  },
  {
   "cell_type": "code",
   "execution_count": 144,
   "id": "50119a4c-6447-4e6a-a02b-a6fc53cd4ae3",
   "metadata": {},
   "outputs": [
    {
     "name": "stdout",
     "output_type": "stream",
     "text": [
      "   name  age        tel address\n",
      "0   kim   20  1111-2222      서울\n",
      "1   lee   30  2222-1111      서울\n",
      "2  park   35  3333-2222      서울\n",
      "3  jung   25  3333-1111      수원\n",
      "4  hong   40  1111-3333      서울\n"
     ]
    }
   ],
   "source": [
    "# 아무 것도 없는 문자열(' ')의 경우 등호로 골라낼 수 있음\n",
    "# np.nan, None은 등호로 골라낼 수 없음(isnull 사용 필요)\n",
    "df.loc[df['address']==' ', 'address']='서울'\n",
    "print(df)"
   ]
  },
  {
   "cell_type": "markdown",
   "id": "f80d60a2-c5ad-4c6a-bc22-2bf7a0286977",
   "metadata": {},
   "source": [
    "### 결측치 제거"
   ]
  },
  {
   "cell_type": "code",
   "execution_count": 156,
   "id": "0619d3b1-662b-44d9-9ce5-d7c8604dd8d1",
   "metadata": {},
   "outputs": [
    {
     "name": "stdout",
     "output_type": "stream",
     "text": [
      "   name   age        tel address\n",
      "0   kim  20.0        NaN      서울\n",
      "1   lee  30.0  2222-1111     NaN\n",
      "2  park  35.0        NaN     NaN\n",
      "3  jung  25.0  3333-1111      수원\n",
      "4  hong  40.0        NaN     NaN\n",
      "5   NaN   NaN        NaN     NaN\n"
     ]
    }
   ],
   "source": [
    "# 결측치 생성\n",
    "df.loc[::2,'tel']=np.nan  # 특정 부분만 비우기\n",
    "df.loc[5,:]=[np.nan,np.nan,np.nan,np.nan]  #5행 전체 비우기\n",
    "print(df)"
   ]
  },
  {
   "cell_type": "code",
   "execution_count": 158,
   "id": "1ff27044-0680-45c0-bcd3-832266f31f9d",
   "metadata": {},
   "outputs": [
    {
     "name": "stdout",
     "output_type": "stream",
     "text": [
      "   name  age        tel address\n",
      "0   kim   20  1111-2222      서울\n",
      "1   lee   30  2222-1111     NaN\n",
      "2  park   35  3333-2222      수원\n",
      "3  jung   25  3333-1111     NaN\n",
      "4  hong   40  1111-3333     NaN\n"
     ]
    }
   ],
   "source": [
    "# dropna : not available인 경우 삭제\n",
    "df.dropna(how='all', inplace=True)  #전체 다 NaN일 때만 삭제/inplace=True : 원본에 바로 적용\n",
    "print(df)"
   ]
  },
  {
   "cell_type": "code",
   "execution_count": 159,
   "id": "2de35e50-4571-4651-b660-09499748461d",
   "metadata": {},
   "outputs": [
    {
     "name": "stdout",
     "output_type": "stream",
     "text": [
      "   name  age        tel address\n",
      "0   kim   20  1111-2222      서울\n",
      "2  park   35  3333-2222      수원\n"
     ]
    }
   ],
   "source": [
    "df.dropna(how='any', inplace=True) # 하나라도 NaN일 때 삭제\n",
    "print(df)"
   ]
  },
  {
   "cell_type": "code",
   "execution_count": 183,
   "id": "43f7832d-bcde-448a-8a56-ddc8a5fe8bf7",
   "metadata": {},
   "outputs": [
    {
     "name": "stdout",
     "output_type": "stream",
     "text": [
      "   name   age        tel address\n",
      "0   kim  20.0  1111-2222      서울\n",
      "1   lee  30.0  2222-1111     NaN\n",
      "2  park  35.0  3333-2222      수원\n",
      "3  jung  25.0  3333-1111     NaN\n",
      "4  hong  40.0  1111-3333     NaN\n",
      "5   NaN   NaN        NaN     NaN\n"
     ]
    }
   ],
   "source": [
    "df=pd.DataFrame(\n",
    "    [['kim',20,'1111-2222','서울'],\n",
    "     ['lee',30,'2222-1111',np.nan],\n",
    "     ['park',35,'3333-2222','수원'],\n",
    "     ['jung',25,'3333-1111',np.nan],\n",
    "     ['hong',40,'1111-3333',np.nan]], columns=['name','age','tel','address']\n",
    ")\n",
    "df.loc[5,:]=[np.nan,np.nan,np.nan,np.nan]\n",
    "print(df)"
   ]
  },
  {
   "cell_type": "code",
   "execution_count": 184,
   "id": "d20b4c2e-a247-4c5a-9f6e-8ac4c990dd85",
   "metadata": {},
   "outputs": [
    {
     "name": "stdout",
     "output_type": "stream",
     "text": [
      "   name   age        tel address  income\n",
      "0   kim  20.0  1111-2222      서울   300.0\n",
      "1   lee  30.0  2222-1111     NaN     NaN\n",
      "2  park  35.0  3333-2222      수원   400.0\n",
      "3  jung  25.0  3333-1111     NaN   500.0\n",
      "4  hong  40.0  1111-3333     NaN     NaN\n",
      "5   NaN   NaN        NaN     NaN   300.0\n"
     ]
    }
   ],
   "source": [
    "# 새로운 값 추가\n",
    "df['income']=[300, np.nan,400,500,np.nan,300]\n",
    "print(df)"
   ]
  },
  {
   "cell_type": "code",
   "execution_count": 185,
   "id": "38a97d57-b23c-4089-9382-a1d85cd17097",
   "metadata": {},
   "outputs": [
    {
     "name": "stdout",
     "output_type": "stream",
     "text": [
      "   name   age        tel address  income\n",
      "0   kim  20.0  1111-2222      서울   300.0\n",
      "1   lee  30.0  2222-1111      서울     NaN\n",
      "2  park  35.0  3333-2222      수원   400.0\n",
      "3  jung  25.0  3333-1111      서울   500.0\n",
      "4  hong  40.0  1111-3333      서울     NaN\n",
      "5   NaN   NaN        NaN      서울   300.0\n"
     ]
    }
   ],
   "source": [
    "# 특정 열에 있는 NaN 값만 다른 값으로 대체 필요 => fillna 사용\n",
    "df.fillna({'address':'서울'},inplace=True)\n",
    "print(df)"
   ]
  },
  {
   "cell_type": "code",
   "execution_count": 186,
   "id": "dde7580d-0cfe-43bd-9fdb-c1054ad65e32",
   "metadata": {},
   "outputs": [
    {
     "name": "stdout",
     "output_type": "stream",
     "text": [
      "   name   age        tel address  income\n",
      "0   kim  20.0  1111-2222      서울   300.0\n",
      "1   lee  30.0  2222-1111      서울   375.0\n",
      "2  park  35.0  3333-2222      수원   400.0\n",
      "3  jung  25.0  3333-1111      서울   500.0\n",
      "4  hong  40.0  1111-3333      서울   375.0\n",
      "5   NaN   NaN        NaN      서울   300.0\n"
     ]
    }
   ],
   "source": [
    "# income의 결측치를 평균값으로 대체\n",
    "df.fillna({'income':np.mean(df['income'])},inplace=True)\n",
    "print(df)"
   ]
  },
  {
   "cell_type": "code",
   "execution_count": 187,
   "id": "c5878caf-6f6b-4efe-a723-67d2efa63954",
   "metadata": {},
   "outputs": [
    {
     "name": "stdout",
     "output_type": "stream",
     "text": [
      "   name   age        tel address  income\n",
      "0   kim  20.0  1111-2222      서울   300.0\n",
      "1   lee  30.0  2222-1111      서울   375.0\n",
      "2  park  35.0  3333-2222      수원   400.0\n",
      "3  jung  25.0  3333-1111      서울   500.0\n"
     ]
    }
   ],
   "source": [
    "# 여러 행 삭제\n",
    "df.drop([4,5],inplace=True)\n",
    "print(df)"
   ]
  },
  {
   "cell_type": "code",
   "execution_count": 188,
   "id": "6760cbe4-21e3-449d-b86a-402026d31373",
   "metadata": {},
   "outputs": [
    {
     "name": "stdout",
     "output_type": "stream",
     "text": [
      "   name   age        tel\n",
      "0   kim  20.0  1111-2222\n",
      "1   lee  30.0  2222-1111\n",
      "2  park  35.0  3333-2222\n",
      "3  jung  25.0  3333-1111\n"
     ]
    }
   ],
   "source": [
    "# 여러 열 삭제\n",
    "df.drop(['address','income'], axis=1, inplace=True)\n",
    "print(df)"
   ]
  },
  {
   "cell_type": "code",
   "execution_count": 190,
   "id": "f581ba98-7811-424c-8a12-10de762299b2",
   "metadata": {},
   "outputs": [
    {
     "name": "stdout",
     "output_type": "stream",
     "text": [
      "              0          1          2          3\n",
      "name        kim        lee       park       jung\n",
      "age        20.0       30.0       35.0       25.0\n",
      "tel   1111-2222  2222-1111  3333-2222  3333-1111\n"
     ]
    }
   ],
   "source": [
    "# 전치 행렬\n",
    "print(df.transpose())"
   ]
  },
  {
   "cell_type": "markdown",
   "id": "d1d9752e-927d-4ed2-81a0-f0a6b2fdd848",
   "metadata": {},
   "source": [
    "### Pandas 함수"
   ]
  },
  {
   "cell_type": "code",
   "execution_count": 194,
   "id": "09eba231-21e4-4426-b8cf-311eb88de076",
   "metadata": {},
   "outputs": [
    {
     "name": "stdout",
     "output_type": "stream",
     "text": [
      "   name   kor   eng   mat\n",
      "0   kim  90.0  80.0  70.0\n",
      "1   lee  45.0   NaN  55.0\n",
      "2  park  76.0  77.0  83.0\n",
      "3  hong   NaN   NaN  77.0\n",
      "4  kang  35.0  58.0  52.0\n",
      "5  jang   NaN   NaN   NaN\n"
     ]
    }
   ],
   "source": [
    "df=pd.DataFrame(\n",
    "    [['kim',90,80,70],\n",
    "     ['lee',45,np.nan,55],\n",
    "     ['park',76,77,83],\n",
    "     ['hong',np.nan,np.nan,77],\n",
    "     ['kang',35,58,52],\n",
    "     ['jang',np.nan,np.nan,np.nan]],columns=['name','kor','eng','mat']\n",
    ")\n",
    "print(df)"
   ]
  },
  {
   "cell_type": "code",
   "execution_count": 196,
   "id": "f5ca34ed-d951-40c3-b2be-648ba4a83b14",
   "metadata": {},
   "outputs": [
    {
     "name": "stdout",
     "output_type": "stream",
     "text": [
      "name    6\n",
      "kor     4\n",
      "eng     3\n",
      "mat     5\n",
      "dtype: int64\n"
     ]
    }
   ],
   "source": [
    "# count\n",
    "print(df.count())  # axis=0이 기본값(행끼리), 공백은 카운트하지 않음"
   ]
  },
  {
   "cell_type": "code",
   "execution_count": 199,
   "id": "392a1602-6a44-499b-b635-10f20f6aca78",
   "metadata": {},
   "outputs": [
    {
     "name": "stdout",
     "output_type": "stream",
     "text": [
      "0    4\n",
      "1    3\n",
      "2    4\n",
      "3    2\n",
      "4    4\n",
      "5    1\n",
      "dtype: int64\n"
     ]
    }
   ],
   "source": [
    "print(df.count(axis=1)) # 열끼리 카운트"
   ]
  },
  {
   "cell_type": "code",
   "execution_count": 200,
   "id": "6ef57595-e40b-45a7-8d34-9d6be502b161",
   "metadata": {},
   "outputs": [
    {
     "name": "stdout",
     "output_type": "stream",
     "text": [
      "name    hong\n",
      "kor     35.0\n",
      "eng     58.0\n",
      "mat     52.0\n",
      "dtype: object\n"
     ]
    }
   ],
   "source": [
    "# min 최소값\n",
    "print(df.min())"
   ]
  },
  {
   "cell_type": "code",
   "execution_count": 204,
   "id": "38ea0d8b-5884-431e-97f3-f4bf46d7638a",
   "metadata": {},
   "outputs": [
    {
     "name": "stdout",
     "output_type": "stream",
     "text": [
      "kor    35.0\n",
      "eng    58.0\n",
      "mat    52.0\n",
      "dtype: float64\n"
     ]
    }
   ],
   "source": [
    "# min : 공백 제외\n",
    "# 현재 데이터의 경우 name은 최소값이 따로 없음->name 제외하고 최소값 비교\n",
    "print(df.loc[:,'kor':'mat'].min())"
   ]
  },
  {
   "cell_type": "code",
   "execution_count": 205,
   "id": "48afecdf-47c3-4417-896d-d50935b9d34a",
   "metadata": {},
   "outputs": [
    {
     "name": "stdout",
     "output_type": "stream",
     "text": [
      "0    70.0\n",
      "1    45.0\n",
      "2    76.0\n",
      "3    77.0\n",
      "4    35.0\n",
      "5     NaN\n",
      "dtype: float64\n"
     ]
    }
   ],
   "source": [
    "# min : 공백 제외\n",
    "# 현재 데이터의 경우 name은 최소값이 따로 없음->name 제외하고 \"열끼리\" 최소값 비교\n",
    "print(df.loc[:,'kor':'mat'].min(axis=1))"
   ]
  },
  {
   "cell_type": "code",
   "execution_count": 206,
   "id": "35fe8499-a28a-4e84-a033-846c2df1a084",
   "metadata": {},
   "outputs": [
    {
     "name": "stdout",
     "output_type": "stream",
     "text": [
      "name    park\n",
      "kor     90.0\n",
      "eng     80.0\n",
      "mat     83.0\n",
      "dtype: object\n"
     ]
    }
   ],
   "source": [
    "# max 최대값\n",
    "print(df.max())"
   ]
  },
  {
   "cell_type": "code",
   "execution_count": 208,
   "id": "0e57605e-7622-4b49-bea7-72dad98ffb81",
   "metadata": {},
   "outputs": [
    {
     "name": "stdout",
     "output_type": "stream",
     "text": [
      "kor    61.500000\n",
      "eng    71.666667\n",
      "mat    67.400000\n",
      "dtype: float64\n"
     ]
    }
   ],
   "source": [
    "# mean 평균값\n",
    "# name의 경우 평균값을 구할 수 없으므로 name 제외하고 계산\n",
    "print(df.loc[:,'kor':'mat'].mean())"
   ]
  },
  {
   "cell_type": "code",
   "execution_count": 209,
   "id": "37c46fbf-b34c-43c3-8b75-a4f9b2ef2af5",
   "metadata": {},
   "outputs": [
    {
     "name": "stdout",
     "output_type": "stream",
     "text": [
      "0    80.000000\n",
      "1    50.000000\n",
      "2    78.666667\n",
      "3    77.000000\n",
      "4    48.333333\n",
      "5          NaN\n",
      "dtype: float64\n"
     ]
    }
   ],
   "source": [
    "# mean 평균값\n",
    "# name의 경우 평균값을 구할 수 없으므로 name 제외하고 \"열끼리\" 계산\n",
    "print(df.loc[:,'kor':'mat'].mean(axis=1))"
   ]
  },
  {
   "cell_type": "code",
   "execution_count": 211,
   "id": "2adc53e0-db7a-4412-95cf-13e548c70486",
   "metadata": {},
   "outputs": [
    {
     "name": "stdout",
     "output_type": "stream",
     "text": [
      "kor    246.0\n",
      "eng    215.0\n",
      "mat    337.0\n",
      "dtype: float64\n"
     ]
    }
   ],
   "source": [
    "# sum\n",
    "# 문자열인 name은 제외\n",
    "print(df.loc[:,'kor':'mat'].sum())"
   ]
  },
  {
   "cell_type": "code",
   "execution_count": 213,
   "id": "4d9975c9-8a56-41f5-bf05-f5de3e2b326e",
   "metadata": {},
   "outputs": [
    {
     "name": "stdout",
     "output_type": "stream",
     "text": [
      "0    240.0\n",
      "1    100.0\n",
      "2    236.0\n",
      "3     77.0\n",
      "4    145.0\n",
      "5      0.0\n",
      "dtype: float64\n"
     ]
    }
   ],
   "source": [
    "# sum\n",
    "# 문자열인 name은 제외 / 열끼리 계산\n",
    "print(df.loc[:,'kor':'mat'].sum(axis=1))"
   ]
  },
  {
   "cell_type": "code",
   "execution_count": 216,
   "id": "a211872b-de4e-41d5-894e-ab9d95f81107",
   "metadata": {},
   "outputs": [
    {
     "name": "stdout",
     "output_type": "stream",
     "text": [
      "kor    60.5\n",
      "eng    77.0\n",
      "mat    70.0\n",
      "dtype: float64\n"
     ]
    }
   ],
   "source": [
    "# median : 중간값\n",
    "# 문자열인 name은 제외 / 짝수 개인 경우 중간값 2개 더해서 2로 나눔\n",
    "print(df.loc[:,'kor':'mat'].median())"
   ]
  },
  {
   "cell_type": "code",
   "execution_count": 218,
   "id": "0de1c598-7302-4d15-987a-15e34d93907c",
   "metadata": {},
   "outputs": [
    {
     "name": "stdout",
     "output_type": "stream",
     "text": [
      "                     name    kor    eng    mat\n",
      "0                     kim   90.0   80.0   70.0\n",
      "1                  kimlee  135.0    NaN  125.0\n",
      "2              kimleepark  211.0  157.0  208.0\n",
      "3          kimleeparkhong    NaN    NaN  285.0\n",
      "4      kimleeparkhongkang  246.0  215.0  337.0\n",
      "5  kimleeparkhongkangjang    NaN    NaN    NaN\n"
     ]
    }
   ],
   "source": [
    "# cumsum : 누적합\n",
    "# 문자열의 경우 합할 경우 글이 합쳐짐\n",
    "print(df.cumsum())"
   ]
  },
  {
   "cell_type": "code",
   "execution_count": 219,
   "id": "27b7bae2-c61e-4fc0-93b2-4e864d6cac87",
   "metadata": {},
   "outputs": [
    {
     "name": "stdout",
     "output_type": "stream",
     "text": [
      "          kor       eng           mat\n",
      "0        90.0      80.0  7.000000e+01\n",
      "1      4050.0       NaN  3.850000e+03\n",
      "2    307800.0    6160.0  3.195500e+05\n",
      "3         NaN       NaN  2.460535e+07\n",
      "4  10773000.0  357280.0  1.279478e+09\n",
      "5         NaN       NaN           NaN\n"
     ]
    }
   ],
   "source": [
    "# cumprod :누적곱\n",
    "# 문자열 연산 불가 -> name 제외\n",
    "print(df.loc[:,'kor':'mat'].cumprod())"
   ]
  },
  {
   "cell_type": "code",
   "execution_count": 220,
   "id": "e372e09d-da3f-4e35-bdc7-2b75187845b7",
   "metadata": {},
   "outputs": [
    {
     "name": "stdout",
     "output_type": "stream",
     "text": [
      "name    2\n",
      "kor     0\n",
      "eng     0\n",
      "mat     2\n",
      "dtype: int64\n",
      "name    3\n",
      "kor     4\n",
      "eng     4\n",
      "mat     4\n",
      "dtype: int64\n"
     ]
    }
   ],
   "source": [
    "# idxmax : 최대값의 인덱스\n",
    "# idxmin : 최소값의 인덱스\n",
    "print(df.idxmax())\n",
    "print(df.idxmin())"
   ]
  },
  {
   "cell_type": "code",
   "execution_count": 221,
   "id": "754fda8d-d60d-4d6c-91d6-9d5e53bcadb4",
   "metadata": {},
   "outputs": [
    {
     "name": "stdout",
     "output_type": "stream",
     "text": [
      "kor    665.666667\n",
      "eng    142.333333\n",
      "mat    183.300000\n",
      "dtype: float64\n",
      "kor    25.800517\n",
      "eng    11.930353\n",
      "mat    13.538833\n",
      "dtype: float64\n"
     ]
    }
   ],
   "source": [
    "# var : 분산\n",
    "# std : 표준편차\n",
    "print(df.loc[:,'kor':'mat'].var())\n",
    "print(df.loc[:,'kor':'mat'].std())"
   ]
  },
  {
   "cell_type": "code",
   "execution_count": 229,
   "id": "b5ddfdff-88bb-49c8-8b7d-72d10ca75e4f",
   "metadata": {},
   "outputs": [
    {
     "name": "stdout",
     "output_type": "stream",
     "text": [
      "   name   kor   eng   mat    tot       mean        avg\n",
      "0   kim  90.0  80.0  70.0  240.0  80.000000  80.000000\n",
      "1   lee  45.0   NaN  55.0  100.0  50.000000  50.000000\n",
      "2  park  76.0  77.0  83.0  236.0  78.666667  78.666667\n",
      "3  hong   NaN   NaN  77.0   77.0  77.000000  77.000000\n",
      "4  kang  35.0  58.0  52.0  145.0  48.333333  48.333333\n",
      "5  jang   NaN   NaN   NaN    0.0        NaN        NaN\n"
     ]
    }
   ],
   "source": [
    "# 점수 합계 열 추가\n",
    "df['tot']=df.loc[:,'kor':'mat'].sum(axis=1)  # name을 제외한 값들을 더함\n",
    "print(df)"
   ]
  },
  {
   "cell_type": "code",
   "execution_count": 228,
   "id": "750673ad-5f79-4040-9908-0fb60c1f0749",
   "metadata": {},
   "outputs": [
    {
     "name": "stdout",
     "output_type": "stream",
     "text": [
      "   name   kor   eng   mat    tot       mean        avg\n",
      "0   kim  90.0  80.0  70.0  240.0  80.000000  80.000000\n",
      "1   lee  45.0   NaN  55.0  100.0  50.000000  50.000000\n",
      "2  park  76.0  77.0  83.0  236.0  78.666667  78.666667\n",
      "3  hong   NaN   NaN  77.0   77.0  77.000000  77.000000\n",
      "4  kang  35.0  58.0  52.0  145.0  48.333333  48.333333\n",
      "5  jang   NaN   NaN   NaN    0.0        NaN        NaN\n"
     ]
    }
   ],
   "source": [
    "# 점수 평균 열 추가\n",
    "df['avg']=df.loc[:,'kor':'mat'].mean(axis=1)  # name을 제외한 값들의 평균\n",
    "print(df)"
   ]
  },
  {
   "cell_type": "code",
   "execution_count": 233,
   "id": "9c020e37-5858-4732-8d90-08bd788215ed",
   "metadata": {},
   "outputs": [
    {
     "name": "stdout",
     "output_type": "stream",
     "text": [
      "   name   kor   eng   mat    tot        avg\n",
      "0   kim  90.0  80.0  70.0  240.0  80.000000\n",
      "1   lee  45.0   NaN  55.0  100.0  50.000000\n",
      "2  park  76.0  77.0  83.0  236.0  78.666667\n",
      "3  hong   NaN   NaN  77.0   77.0  77.000000\n",
      "4  kang  35.0  58.0  52.0  145.0  48.333333\n",
      "5  jang   NaN   NaN   NaN    0.0        NaN\n"
     ]
    }
   ],
   "source": [
    "df=df.drop('mean',axis=1)\n",
    "print(df)"
   ]
  },
  {
   "cell_type": "code",
   "execution_count": 236,
   "id": "67923239-ae3b-4abc-b9c7-d972a1604860",
   "metadata": {},
   "outputs": [
    {
     "name": "stdout",
     "output_type": "stream",
     "text": [
      "0.9926458576614517\n",
      "   name   kor   eng   mat    tot        avg\n",
      "0   kim  90.0  80.0  70.0  240.0  80.000000\n",
      "1   lee  45.0   NaN  55.0  100.0  50.000000\n",
      "2  park  76.0  77.0  83.0  236.0  78.666667\n",
      "3  hong   NaN   NaN  77.0   77.0  77.000000\n",
      "4  kang  35.0  58.0  52.0  145.0  48.333333\n",
      "5  jang   NaN   NaN   NaN    0.0        NaN\n"
     ]
    }
   ],
   "source": [
    "# corr : 상관관계\n",
    "# 1=양의 상관관계, 0=상관관계가 낮다(없다), -1=음의 상관관계\n",
    "print(df['kor'].corr(df['eng']))\n",
    "print(df)"
   ]
  },
  {
   "cell_type": "code",
   "execution_count": null,
   "id": "cb2f3458-f4d8-4115-8b70-ca197febc530",
   "metadata": {},
   "outputs": [],
   "source": []
  },
  {
   "cell_type": "code",
   "execution_count": null,
   "id": "504fe1a8-222c-4a1d-a455-b6bbcf0469d8",
   "metadata": {},
   "outputs": [],
   "source": []
  },
  {
   "cell_type": "code",
   "execution_count": null,
   "id": "7724b47a-7753-4483-aec9-2c4224c4da15",
   "metadata": {},
   "outputs": [],
   "source": []
  }
 ],
 "metadata": {
  "kernelspec": {
   "display_name": "Python 3 (ipykernel)",
   "language": "python",
   "name": "python3"
  },
  "language_info": {
   "codemirror_mode": {
    "name": "ipython",
    "version": 3
   },
   "file_extension": ".py",
   "mimetype": "text/x-python",
   "name": "python",
   "nbconvert_exporter": "python",
   "pygments_lexer": "ipython3",
   "version": "3.12.4"
  }
 },
 "nbformat": 4,
 "nbformat_minor": 5
}
