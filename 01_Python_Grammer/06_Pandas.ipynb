{
 "cells": [
  {
   "cell_type": "markdown",
   "id": "0642fd8e-8fdb-4afb-a1f9-505b38e94f77",
   "metadata": {},
   "source": [
    "## Pandas"
   ]
  },
  {
   "cell_type": "code",
   "execution_count": 1,
   "id": "b96c95a1-3049-4a73-9740-3e85a5face85",
   "metadata": {},
   "outputs": [],
   "source": [
    "import pandas as pd\n",
    "import numpy as np"
   ]
  },
  {
   "cell_type": "markdown",
   "id": "a7ea23ae-e396-4e6c-ac73-318382c2617b",
   "metadata": {},
   "source": [
    "### Series"
   ]
  },
  {
   "cell_type": "code",
   "execution_count": 8,
   "id": "dc9baeaf-8ecb-49fb-b00e-081934a09608",
   "metadata": {},
   "outputs": [
    {
     "name": "stdout",
     "output_type": "stream",
     "text": [
      "<class 'pandas.core.series.Series'>\n",
      "RangeIndex(start=0, stop=9, step=1)\n",
      "int64\n",
      "0    1\n",
      "1    2\n",
      "2    3\n",
      "3    4\n",
      "4    5\n",
      "5    6\n",
      "6    7\n",
      "7    8\n",
      "8    9\n",
      "dtype: int64\n"
     ]
    }
   ],
   "source": [
    "s=pd.Series([1,2,3,4,5,6,7,8,9])  #Series 만들기\n",
    "print(type(s))\n",
    "print(s.index)  # index를 따로 지정하지 않으면 자동으로 숫자가 기재됨\n",
    "print(s.dtype)\n",
    "print(s)       # 출력 결과에서 왼쪽열이 index, 우측 열이 데이터"
   ]
  },
  {
   "cell_type": "code",
   "execution_count": 11,
   "id": "14f5e2f5-88ff-4c4b-907f-57f3b2c9edc2",
   "metadata": {},
   "outputs": [
    {
     "name": "stdout",
     "output_type": "stream",
     "text": [
      "A    1\n",
      "B    2\n",
      "C    3\n",
      "D    4\n",
      "E    5\n",
      "F    6\n",
      "G    7\n",
      "H    8\n",
      "I    9\n",
      "dtype: int64\n"
     ]
    }
   ],
   "source": [
    "# 특정 인덱스명 부여\n",
    "s.index=['A','B','C','D','E','F','G','H','I']\n",
    "print(s)"
   ]
  },
  {
   "cell_type": "code",
   "execution_count": 12,
   "id": "73f34654-4c93-4cbb-af7a-db70361258ad",
   "metadata": {},
   "outputs": [
    {
     "name": "stdout",
     "output_type": "stream",
     "text": [
      "A    1\n",
      "B    2\n",
      "C    3\n",
      "D    4\n",
      "E    5\n",
      "F    6\n",
      "G    7\n",
      "H    8\n",
      "I    9\n",
      "dtype: int64\n"
     ]
    }
   ],
   "source": [
    "s=pd.Series([1,2,3,4,5,6,7,8,9],['A','B','C','D','E','F','G','H','I'])\n",
    "print(s)"
   ]
  },
  {
   "cell_type": "code",
   "execution_count": 18,
   "id": "8e270221-3c04-4cc6-88b7-f2f00e1081d0",
   "metadata": {},
   "outputs": [
    {
     "name": "stdout",
     "output_type": "stream",
     "text": [
      "Index(['A', 'B', 'C', 'D', 'E', 'F', 'G', 'H', 'I'], dtype='object')\n",
      "[1 2 3 4 5 6 7 8 9]\n",
      "1\n",
      "1\n"
     ]
    }
   ],
   "source": [
    "print(s.index)  #index만 출력\n",
    "print(s.values) #값만 출력\n",
    "print(s['A']) #원하는 데이터만 출력\n",
    "print(s.A)  #원하는 데이터만 출력"
   ]
  },
  {
   "cell_type": "code",
   "execution_count": 20,
   "id": "5d37ef84-4942-4f84-bd11-968f53fead19",
   "metadata": {},
   "outputs": [
    {
     "name": "stdout",
     "output_type": "stream",
     "text": [
      "A    1\n",
      "B    2\n",
      "C    3\n",
      "D    4\n",
      "dtype: int64\n"
     ]
    }
   ],
   "source": [
    "## 슬라이싱 가능\n",
    "print(s['A':'D'])  #직접 부여한 index 명 활용"
   ]
  },
  {
   "cell_type": "markdown",
   "id": "f8f270d8-2834-418e-8c09-dd183df8da2e",
   "metadata": {},
   "source": [
    "### Dictionary->Series\n",
    "- Dictionary : 다른 언어의 Map, Json과 유사"
   ]
  },
  {
   "cell_type": "code",
   "execution_count": 26,
   "id": "c1e96f2f-bae4-4085-90b2-2bf2ce88c5c2",
   "metadata": {},
   "outputs": [
    {
     "name": "stdout",
     "output_type": "stream",
     "text": [
      "<class 'dict'>\n",
      "A : 10\n",
      "D : 20\n",
      "F : 30\n",
      "H : 40\n",
      "10\n"
     ]
    }
   ],
   "source": [
    "d={'A':10,'D':20,'F':30,'H':40}\n",
    "print(type(d))\n",
    "for key,value in d.items() : # 딕셔너리 반복문, items로 key, value를 튜플 형식으로 꺼냄\n",
    "    print(key,\":\",value)\n",
    "\n",
    "print(d['A']) # 딕셔너리 특정 데이터 출력"
   ]
  },
  {
   "cell_type": "code",
   "execution_count": 35,
   "id": "577f1983-6e10-4759-a7e1-2076b8a167f7",
   "metadata": {},
   "outputs": [
    {
     "name": "stdout",
     "output_type": "stream",
     "text": [
      "Index(['A', 'D', 'F', 'H'], dtype='object')\n",
      "[10 20 30 40]\n",
      "A    10\n",
      "D    20\n",
      "F    30\n",
      "H    40\n",
      "dtype: int64\n",
      "10\n",
      "10\n",
      "A    10\n",
      "D    20\n",
      "F    30\n",
      "dtype: int64\n",
      "A    10\n",
      "D    20\n",
      "F    30\n",
      "dtype: int64\n"
     ]
    }
   ],
   "source": [
    "s=pd.Series(d)    #딕셔너리를 Series로 변경\n",
    "print(s.index)\n",
    "print(s.values)\n",
    "print(s)\n",
    "print(s['A'])  #특정 값 출력\n",
    "print(s.A)     #특정 값 출력\n",
    "\n",
    "print(s[0:3])  #딕셔너리는 슬라이싱이 불가, 하지만 Series로 변경 후에는 슬라이싱 가능\n",
    "print(s['A':'F'])"
   ]
  },
  {
   "cell_type": "markdown",
   "id": "e2e0e0c3-6f20-41ca-b0ff-a46e83eb5b62",
   "metadata": {},
   "source": [
    "## DataFrame"
   ]
  },
  {
   "cell_type": "code",
   "execution_count": 38,
   "id": "0d7e1ac2-e389-4a6a-b535-957888b1359a",
   "metadata": {},
   "outputs": [
    {
     "name": "stdout",
     "output_type": "stream",
     "text": [
      "<class 'dict'>\n",
      "{'name': ['kim', 'lee', 'park', 'jung'], 'age': [25, 30, 35, 20], 'tel': ['1111-2222', '2222-1111', '3333-1111', '2222-3333']}\n"
     ]
    }
   ],
   "source": [
    "# Dictionary->DataFrame\n",
    "# 딕셔너리는 value 값에 list 등 여러 값 입력 가능\n",
    "d={\n",
    "    'name':['kim','lee','park','jung'],\n",
    "    'age':[25,30,35,20],\n",
    "    'tel':['1111-2222','2222-1111','3333-1111','2222-3333']\n",
    "}\n",
    "print(type(d))\n",
    "print(d)"
   ]
  },
  {
   "cell_type": "code",
   "execution_count": 40,
   "id": "81bde6db-6903-417a-b31e-f65f2d603c58",
   "metadata": {},
   "outputs": [
    {
     "name": "stdout",
     "output_type": "stream",
     "text": [
      "   name  age        tel\n",
      "0   kim   25  1111-2222\n",
      "1   lee   30  2222-1111\n",
      "2  park   35  3333-1111\n",
      "3  jung   20  2222-3333\n"
     ]
    }
   ],
   "source": [
    "df=pd.DataFrame(d)  #Dictionary->DataFrame\n",
    "print(df)           #DataFrame 출력 시 테이블 형태로 출력 가능"
   ]
  },
  {
   "cell_type": "code",
   "execution_count": 42,
   "id": "6fc7ad6d-d1c0-48c9-9eb9-82be5078d319",
   "metadata": {},
   "outputs": [
    {
     "name": "stdout",
     "output_type": "stream",
     "text": [
      "RangeIndex(start=0, stop=4, step=1)\n",
      "Index(['name', 'age', 'tel'], dtype='object')\n",
      "[['kim' 25 '1111-2222']\n",
      " ['lee' 30 '2222-1111']\n",
      " ['park' 35 '3333-1111']\n",
      " ['jung' 20 '2222-3333']]\n"
     ]
    }
   ],
   "source": [
    "print(df.index)\n",
    "print(df.columns)\n",
    "print(df.values)"
   ]
  },
  {
   "cell_type": "code",
   "execution_count": 45,
   "id": "d4e05f19-8ab1-41ab-96eb-0bdf0d7943f4",
   "metadata": {},
   "outputs": [
    {
     "name": "stdout",
     "output_type": "stream",
     "text": [
      "User  name  age        tel\n",
      "Num                       \n",
      "0      kim   25  1111-2222\n",
      "1      lee   30  2222-1111\n",
      "2     park   35  3333-1111\n",
      "3     jung   20  2222-3333\n",
      "RangeIndex(start=0, stop=4, step=1, name='Num')\n",
      "Index(['name', 'age', 'tel'], dtype='object', name='User')\n"
     ]
    }
   ],
   "source": [
    "# index와 colums에 특정 이름 부여 가능\n",
    "df.index.name = 'Num'\n",
    "df.columns.name='User'\n",
    "print(df)\n",
    "\n",
    "print(df.index)\n",
    "print(df.columns)"
   ]
  },
  {
   "cell_type": "code",
   "execution_count": 47,
   "id": "a0d8caae-26e6-4dcf-903c-422e7591a10b",
   "metadata": {},
   "outputs": [
    {
     "name": "stdout",
     "output_type": "stream",
     "text": [
      "<class 'numpy.ndarray'>\n"
     ]
    }
   ],
   "source": [
    "# numpy->DataFrame\n",
    "n=np.array(\n",
    "    [['kim',20,'1111-2222'],\n",
    "     ['lee',30,'2222-1111'],\n",
    "     ['park',35,'3333-2222'],\n",
    "     ['jung',25,'3333-1111']]\n",
    ")\n",
    "print(type(n))"
   ]
  },
  {
   "cell_type": "code",
   "execution_count": 51,
   "id": "27059fc8-1a71-406b-a050-3ea67916d6ef",
   "metadata": {},
   "outputs": [
    {
     "name": "stdout",
     "output_type": "stream",
     "text": [
      "      0   1          2\n",
      "0   kim  20  1111-2222\n",
      "1   lee  30  2222-1111\n",
      "2  park  35  3333-2222\n",
      "3  jung  25  3333-1111\n",
      "RangeIndex(start=0, stop=4, step=1)\n",
      "RangeIndex(start=0, stop=3, step=1)\n"
     ]
    }
   ],
   "source": [
    "# numpy->DataFrame\n",
    "df=pd.DataFrame(n)   #index, columns을 별도로 지정하지 않으면 숫자가 자동으로 배정됨\n",
    "print(df)\n",
    "print(df.index)\n",
    "print(df.columns)"
   ]
  },
  {
   "cell_type": "code",
   "execution_count": 53,
   "id": "217d91c3-c0db-430b-8281-d8608adcb8aa",
   "metadata": {},
   "outputs": [
    {
     "name": "stdout",
     "output_type": "stream",
     "text": [
      "   name age        tel\n",
      "A   kim  20  1111-2222\n",
      "B   lee  30  2222-1111\n",
      "C  park  35  3333-2222\n",
      "D  jung  25  3333-1111\n",
      "Index(['name', 'age', 'tel'], dtype='object')\n",
      "Index(['A', 'B', 'C', 'D'], dtype='object')\n"
     ]
    }
   ],
   "source": [
    "df.columns=['name','age','tel'] #columns 명 변경\n",
    "df.index=['A','B','C','D']  #index 명 변경\n",
    "print(df)\n",
    "print(df.columns)\n",
    "print(df.index)"
   ]
  },
  {
   "cell_type": "code",
   "execution_count": 54,
   "id": "8f71fedc-416a-41ec-8edf-ee90ab43df81",
   "metadata": {},
   "outputs": [
    {
     "name": "stdout",
     "output_type": "stream",
     "text": [
      "   name age        tel\n",
      "A   kim  20  1111-2222\n",
      "B   lee  30  2222-1111\n",
      "C  park  35  3333-2222\n",
      "D  jung  25  3333-1111\n"
     ]
    }
   ],
   "source": [
    "df=pd.DataFrame(n,columns=['name','age','tel'],index=['A','B','C','D'])\n",
    "print(df)"
   ]
  },
  {
   "cell_type": "code",
   "execution_count": 56,
   "id": "4b905c59-8c50-44cf-b639-11b39fd8449a",
   "metadata": {},
   "outputs": [
    {
     "name": "stdout",
     "output_type": "stream",
     "text": [
      "       name age        tel\n",
      "count     4   4          4\n",
      "unique    4   4          4\n",
      "top     kim  20  1111-2222\n",
      "freq      1   1          1\n"
     ]
    }
   ],
   "source": [
    "# 데이터가 잘 들어있는지 확인하기 위해 사용하는 함수\n",
    "# count : 빈 값이 있는지 확인\n",
    "# unique : 다 다른 값이 들어있는지 확인하기 위함, 고윳값의 \n",
    "#          (중복값이 있을 경우 개수가 작아짐, ex) 4 -> 4개의 데이터가 값이 달라!)\n",
    "# top : 최빈값???\n",
    "# freq : 최빈값의 빈도???\n",
    "print(df.describe())"
   ]
  },
  {
   "cell_type": "code",
   "execution_count": 62,
   "id": "1488c37c-d66d-41bd-82f8-ce39f73e9f64",
   "metadata": {},
   "outputs": [
    {
     "name": "stdout",
     "output_type": "stream",
     "text": [
      "A     kim\n",
      "B     lee\n",
      "C    park\n",
      "D    jung\n",
      "Name: name, dtype: object\n",
      "<class 'pandas.core.series.Series'>\n"
     ]
    }
   ],
   "source": [
    "# 특정 columns만 출력\n",
    "print(df['name'])  #'name'열만 출력, 한줄만 출력하기 때문에 series 타입으로 출력됨\n",
    "print(type(df['name']))"
   ]
  },
  {
   "cell_type": "code",
   "execution_count": 61,
   "id": "7e2ebd35-a15c-43da-a754-4b77429e8abf",
   "metadata": {},
   "outputs": [
    {
     "name": "stdout",
     "output_type": "stream",
     "text": [
      "   name        tel\n",
      "A   kim  1111-2222\n",
      "B   lee  2222-1111\n",
      "C  park  3333-2222\n",
      "D  jung  3333-1111\n"
     ]
    }
   ],
   "source": [
    "print(df[['name','tel']])  # 'name', 'tel'열만 출력"
   ]
  },
  {
   "cell_type": "code",
   "execution_count": 71,
   "id": "7633d9a9-0419-45b7-82bd-a307c45a0c19",
   "metadata": {},
   "outputs": [
    {
     "name": "stdout",
     "output_type": "stream",
     "text": [
      "park\n",
      "park\n",
      "B     lee\n",
      "C    park\n",
      "D    jung\n",
      "Name: name, dtype: object\n"
     ]
    }
   ],
   "source": [
    "# print(df['name'][2])  # 별도 index명이 부여된 상태에서 기본으로 부여되는 숫자로 조회\n",
    "#                      ->조회 가능 but, 경고문 노출\n",
    "print(df['name']['C'])\n",
    "print(df['name'].C)\n",
    "print(df['name']['B':'D'])"
   ]
  },
  {
   "cell_type": "code",
   "execution_count": 73,
   "id": "c8fb539b-a4c9-44eb-bc0e-b84aedcfc4a7",
   "metadata": {},
   "outputs": [
    {
     "name": "stdout",
     "output_type": "stream",
     "text": [
      "A     kim\n",
      "B     lee\n",
      "C    park\n",
      "D    jung\n",
      "Name: name, dtype: object A    20\n",
      "B    30\n",
      "C    35\n",
      "D    25\n",
      "Name: age, dtype: object\n"
     ]
    }
   ],
   "source": [
    "print(df.name, df.age) # 특정 열들의 값을 따로따로 꺼내줘"
   ]
  },
  {
   "cell_type": "code",
   "execution_count": 74,
   "id": "6758ef44-9e55-4ee1-aba1-082650c66e42",
   "metadata": {},
   "outputs": [
    {
     "name": "stdout",
     "output_type": "stream",
     "text": [
      "park\n"
     ]
    }
   ],
   "source": [
    "print(df.name.C)"
   ]
  },
  {
   "cell_type": "code",
   "execution_count": 78,
   "id": "95261c58-1a1c-4c11-bab5-a266fca4bf3e",
   "metadata": {},
   "outputs": [
    {
     "name": "stdout",
     "output_type": "stream",
     "text": [
      "   name age        tel\n",
      "A   kim  20  1111-2222\n",
      "B   lee  30  2222-1111\n",
      "C  park  35  3333-2222\n",
      "D  jung  25  3333-1111\n",
      "  name age        tel\n",
      "A  kim  20  1111-2222\n"
     ]
    }
   ],
   "source": [
    "print(df[:][:])\n",
    "print(df[:2][:1])  # 위에서 2줄을 꺼낸 후에 거기서 첫번째 1줄을 꺼내라"
   ]
  },
  {
   "cell_type": "code",
   "execution_count": 81,
   "id": "abf96081-91e6-425f-9957-500e92c1c6b1",
   "metadata": {},
   "outputs": [
    {
     "name": "stdout",
     "output_type": "stream",
     "text": [
      "   name        tel\n",
      "A   kim  1111-2222\n",
      "B   lee  2222-1111\n",
      "C  park  3333-2222\n",
      "D  jung  3333-1111\n",
      "   name age        tel\n",
      "A   kim  20  1111-2222\n",
      "B   lee  30  2222-1111\n",
      "C  park  35  3333-2222\n",
      "D  jung  25  3333-1111\n"
     ]
    }
   ],
   "source": [
    "print(df[['name','tel']])\n",
    "#print(df[[0,2]])   #이미 별도로 배정한 칼럼명이 있기 때문에 숫자로 조회 시 에러 발생\n",
    "print(df)"
   ]
  },
  {
   "cell_type": "code",
   "execution_count": 83,
   "id": "a99bcf0d-5765-48d2-80a5-64545f03b814",
   "metadata": {},
   "outputs": [
    {
     "name": "stdout",
     "output_type": "stream",
     "text": [
      "   name age        tel address\n",
      "A   kim  20  1111-2222      서울\n",
      "B   lee  30  2222-1111      수원\n",
      "C  park  35  3333-2222      인천\n",
      "D  jung  25  3333-1111      안산\n"
     ]
    }
   ],
   "source": [
    "df['address']=['서울','수원','인천','안산']  #새로운 column 추가, 기존에 존재하는 열일 경우 값이 수정됨\n",
    "print(df)"
   ]
  },
  {
   "cell_type": "code",
   "execution_count": 93,
   "id": "78cd6c67-4252-4987-a585-f108983f15cc",
   "metadata": {},
   "outputs": [
    {
     "name": "stdout",
     "output_type": "stream",
     "text": [
      "   name age        tel address  adult\n",
      "A   kim  30  1111-2222      서울  False\n",
      "B   lee  30  2222-1111      수원  False\n",
      "C  park  35  3333-2222      인천   True\n",
      "D  jung  25  3333-1111      안산  False\n"
     ]
    }
   ],
   "source": [
    "df['adult']=df['age'].astype(np.int64)>30 #astype(np.int64):numpy에서 이용하는 형변환 변수\n",
    "print(df)"
   ]
  },
  {
   "cell_type": "code",
   "execution_count": 94,
   "id": "ea2e574d-521e-4207-920c-8d781692e342",
   "metadata": {},
   "outputs": [
    {
     "name": "stdout",
     "output_type": "stream",
     "text": [
      "   name age        tel address  adult\n",
      "A   kim  20  1111-2222      서울  False\n",
      "B   lee  30  2222-1111      수원  False\n",
      "C  park  35  3333-2222      인천   True\n",
      "D  jung  25  3333-1111      안산  False\n"
     ]
    },
    {
     "name": "stderr",
     "output_type": "stream",
     "text": [
      "C:\\Users\\ae397\\AppData\\Local\\Temp\\ipykernel_12408\\1980487139.py:1: FutureWarning: ChainedAssignmentError: behaviour will change in pandas 3.0!\n",
      "You are setting values through chained assignment. Currently this works in certain cases, but when using Copy-on-Write (which will become the default behaviour in pandas 3.0) this will never work to update the original DataFrame or Series, because the intermediate object on which we are setting values will behave as a copy.\n",
      "A typical example is when you are setting values in a column of a DataFrame, like:\n",
      "\n",
      "df[\"col\"][row_indexer] = value\n",
      "\n",
      "Use `df.loc[row_indexer, \"col\"] = values` instead, to perform the assignment in a single step and ensure this keeps updating the original `df`.\n",
      "\n",
      "See the caveats in the documentation: https://pandas.pydata.org/pandas-docs/stable/user_guide/indexing.html#returning-a-view-versus-a-copy\n",
      "\n",
      "  df['age']['A']=20   #기존에 입력된 데이터 수정 가능\n",
      "C:\\Users\\ae397\\AppData\\Local\\Temp\\ipykernel_12408\\1980487139.py:1: SettingWithCopyWarning: \n",
      "A value is trying to be set on a copy of a slice from a DataFrame\n",
      "\n",
      "See the caveats in the documentation: https://pandas.pydata.org/pandas-docs/stable/user_guide/indexing.html#returning-a-view-versus-a-copy\n",
      "  df['age']['A']=20   #기존에 입력된 데이터 수정 가능\n"
     ]
    }
   ],
   "source": [
    "df['age']['A']=20   #기존에 입력된 데이터 수정 가능\n",
    "print(df)"
   ]
  },
  {
   "cell_type": "code",
   "execution_count": 95,
   "id": "db0207e9-23cc-47d4-9e43-9a95d39a8564",
   "metadata": {},
   "outputs": [
    {
     "name": "stdout",
     "output_type": "stream",
     "text": [
      "   name age        tel address\n",
      "A   kim  20  1111-2222      서울\n",
      "B   lee  30  2222-1111      수원\n",
      "C  park  35  3333-2222      인천\n",
      "D  jung  25  3333-1111      안산\n"
     ]
    }
   ],
   "source": [
    "del(df['adult'])   # 열 삭제 가능\n",
    "print(df)"
   ]
  },
  {
   "cell_type": "code",
   "execution_count": 99,
   "id": "450c3e1f-d9bf-435f-b833-8f11c9992f89",
   "metadata": {},
   "outputs": [
    {
     "name": "stdout",
     "output_type": "stream",
     "text": [
      "a    10\n",
      "d    40\n",
      "f    50\n",
      "g    20\n",
      "b    70\n",
      "c    60\n",
      "dtype: int64\n"
     ]
    }
   ],
   "source": [
    "# Series 정렬\n",
    "s=pd.Series([10,40,50,20,70,60], index=['a','d','f','g','b','c'])\n",
    "print(s)"
   ]
  },
  {
   "cell_type": "code",
   "execution_count": 103,
   "id": "2bc5ee32-e733-42ea-9c0c-df21f3d9c5f7",
   "metadata": {},
   "outputs": [
    {
     "name": "stdout",
     "output_type": "stream",
     "text": [
      "a    10\n",
      "b    70\n",
      "c    60\n",
      "d    40\n",
      "f    50\n",
      "g    20\n",
      "dtype: int64\n"
     ]
    }
   ],
   "source": [
    "# index 정렬, 기본값=오름차순(trun)/ index 정렬 시 value도 따라서 변경됨\n",
    "s=s.sort_index()\n",
    "print(s)"
   ]
  },
  {
   "cell_type": "code",
   "execution_count": 102,
   "id": "14b2f792-421f-49ca-99ca-71a742505dee",
   "metadata": {},
   "outputs": [
    {
     "name": "stdout",
     "output_type": "stream",
     "text": [
      "g    20\n",
      "f    50\n",
      "d    40\n",
      "c    60\n",
      "b    70\n",
      "a    10\n",
      "dtype: int64\n"
     ]
    }
   ],
   "source": [
    "# index 정렬, 내림차순=False\n",
    "s=s.sort_index(ascending=False)\n",
    "print(s)"
   ]
  },
  {
   "cell_type": "code",
   "execution_count": 105,
   "id": "aa7f4399-e4d5-40ad-9f13-c04645c858b2",
   "metadata": {},
   "outputs": [
    {
     "name": "stdout",
     "output_type": "stream",
     "text": [
      "a    10\n",
      "g    20\n",
      "d    40\n",
      "f    50\n",
      "c    60\n",
      "b    70\n",
      "dtype: int64\n"
     ]
    }
   ],
   "source": [
    "# value 정렬 -> values 정렬에 따라 index 정렬도 바뀜\n",
    "s=s.sort_values()\n",
    "print(s)"
   ]
  },
  {
   "cell_type": "code",
   "execution_count": 106,
   "id": "26054b05-7363-4b77-ac31-270a28905921",
   "metadata": {},
   "outputs": [
    {
     "name": "stdout",
     "output_type": "stream",
     "text": [
      "b    70\n",
      "c    60\n",
      "f    50\n",
      "d    40\n",
      "g    20\n",
      "a    10\n",
      "dtype: int64\n"
     ]
    }
   ],
   "source": [
    "# value 정렬 -> values 정렬에 따라 index 정렬도 바뀜\n",
    "s=s.sort_values(ascending=False)\n",
    "print(s)"
   ]
  },
  {
   "cell_type": "code",
   "execution_count": 143,
   "id": "137feeed-11e5-4cdc-b7b1-36791cd69b71",
   "metadata": {},
   "outputs": [
    {
     "name": "stdout",
     "output_type": "stream",
     "text": [
      "     D    C    A    B\n",
      "c    4    5    1    2\n",
      "a  300  400  200  100\n",
      "b   20   10   40   30\n"
     ]
    }
   ],
   "source": [
    "# DataFrame 정렬\n",
    "## DataFrame 데이터 생성\n",
    "df=pd.DataFrame([[4,5,1,2],\n",
    "                 [300,400,200,100],\n",
    "                 [20,10,40,30]], index=['c','a','b'], columns=['D','C','A','B'])\n",
    "print(df)"
   ]
  },
  {
   "cell_type": "code",
   "execution_count": 117,
   "id": "a1cb62c7-137b-49be-b7c8-31b623620010",
   "metadata": {},
   "outputs": [
    {
     "name": "stdout",
     "output_type": "stream",
     "text": [
      "     D    C    A    B\n",
      "a  300  400  200  100\n",
      "b   20   10   40   30\n",
      "c    4    5    1    2\n"
     ]
    }
   ],
   "source": [
    "# index로 정렬/ 별도 설정하지 않으면 오름차순\n",
    "df=df.sort_index()\n",
    "print(df)"
   ]
  },
  {
   "cell_type": "code",
   "execution_count": 126,
   "id": "975aa6da-e9d1-4ae6-88f8-11712dbe311f",
   "metadata": {},
   "outputs": [
    {
     "name": "stdout",
     "output_type": "stream",
     "text": [
      "     D    C    B    A\n",
      "a  300  400  100  200\n",
      "b   20   10   30   40\n",
      "c    4    5    2    1\n"
     ]
    }
   ],
   "source": [
    "# index로 정렬/ axis 활용 가능 -> axis=0 : '행끼리'를 의미 => 행 기준으로 오름차순\n",
    "df=df.sort_index(axis=0)\n",
    "print(df)"
   ]
  },
  {
   "cell_type": "code",
   "execution_count": 128,
   "id": "7a0704a8-fe2c-41f9-a689-5be34ed30e0b",
   "metadata": {},
   "outputs": [
    {
     "name": "stdout",
     "output_type": "stream",
     "text": [
      "     D    C    B    A\n",
      "c    4    5    2    1\n",
      "b   20   10   30   40\n",
      "a  300  400  100  200\n"
     ]
    }
   ],
   "source": [
    "# index로 정렬/ 행 기준 내림차순(axis=0 생략 가능, 행 기준이기 때문)\n",
    "df=df.sort_index(axis=0,ascending=False )\n",
    "print(df)"
   ]
  },
  {
   "cell_type": "code",
   "execution_count": 129,
   "id": "7e88ad9f-deed-4fc7-bf74-7b67ba1970a6",
   "metadata": {},
   "outputs": [
    {
     "name": "stdout",
     "output_type": "stream",
     "text": [
      "     A    B    C    D\n",
      "c    1    2    5    4\n",
      "b   40   30   10   20\n",
      "a  200  100  400  300\n"
     ]
    }
   ],
   "source": [
    "# column으로 정렬/ axis 활용 가능 -> axis=1 : '열끼리'를 의미 => 열 기준으로 오름차순\n",
    "df=df.sort_index(axis=1)\n",
    "print(df)"
   ]
  },
  {
   "cell_type": "code",
   "execution_count": 132,
   "id": "478e329b-146b-48de-a771-b366e1341240",
   "metadata": {},
   "outputs": [
    {
     "name": "stdout",
     "output_type": "stream",
     "text": [
      "     D    C    B    A\n",
      "c    4    5    2    1\n",
      "b   20   10   30   40\n",
      "a  300  400  100  200\n"
     ]
    }
   ],
   "source": [
    "# 열 기준으로 내림차순 정렬\n",
    "df=df.sort_index(axis=1, ascending=False)\n",
    "print(df)"
   ]
  },
  {
   "cell_type": "code",
   "execution_count": 139,
   "id": "5f8286cd-0451-411f-a6e8-d0f92dbe28f9",
   "metadata": {},
   "outputs": [
    {
     "name": "stdout",
     "output_type": "stream",
     "text": [
      "     D    C    A    B\n",
      "c    4    5    1    2\n",
      "a  300  400  200  100\n",
      "b   20   10   40   30\n",
      "     D    C    A    B\n",
      "c    4    5    1    2\n",
      "b   20   10   40   30\n",
      "a  300  400  200  100\n"
     ]
    }
   ],
   "source": [
    "# value를 기준으로 정렬 / A열을 기준으로 정렬=>A열의 값들이 오름차순으로 정렬됨\n",
    "print(df)\n",
    "\n",
    "df=df.sort_values(by='A')\n",
    "print(df)"
   ]
  },
  {
   "cell_type": "code",
   "execution_count": 145,
   "id": "14070743-c2bf-4bee-93bc-5ecc832a17ce",
   "metadata": {},
   "outputs": [
    {
     "name": "stdout",
     "output_type": "stream",
     "text": [
      "     D    C    A    B\n",
      "c    4    5    1    2\n",
      "a  300  400  200  100\n",
      "b   20   10   40   30\n",
      "     D    C    A    B\n",
      "a  300  400  200  100\n",
      "b   20   10   40   30\n",
      "c    4    5    1    2\n"
     ]
    }
   ],
   "source": [
    "# value를 기준으로 정렬 / A열을 기준으로 정렬=>A열의 값들이 내림차순으로 정렬됨\n",
    "print(df)\n",
    "\n",
    "df=df.sort_values(by='A', ascending=False)\n",
    "print(df)"
   ]
  },
  {
   "cell_type": "code",
   "execution_count": null,
   "id": "85a83fcd-9a3f-4cbe-93b0-d2dc5f715180",
   "metadata": {},
   "outputs": [],
   "source": []
  },
  {
   "cell_type": "code",
   "execution_count": null,
   "id": "d1733070-a6ba-4c31-9e67-0c441c7e013d",
   "metadata": {},
   "outputs": [],
   "source": []
  },
  {
   "cell_type": "code",
   "execution_count": null,
   "id": "00d9c4a8-c06c-4d46-8a51-faed0addceac",
   "metadata": {},
   "outputs": [],
   "source": []
  },
  {
   "cell_type": "code",
   "execution_count": null,
   "id": "fa1c3d5a-1798-418b-893b-3cd962164e4e",
   "metadata": {},
   "outputs": [],
   "source": []
  },
  {
   "cell_type": "code",
   "execution_count": null,
   "id": "c8ad0f2f-df54-478c-8b60-196c185c0d74",
   "metadata": {},
   "outputs": [],
   "source": []
  },
  {
   "cell_type": "code",
   "execution_count": null,
   "id": "b86bba40-42ca-4480-8907-74885284bfad",
   "metadata": {},
   "outputs": [],
   "source": []
  },
  {
   "cell_type": "code",
   "execution_count": null,
   "id": "208d3346-3351-44df-bbdf-b7ca421392cf",
   "metadata": {},
   "outputs": [],
   "source": []
  },
  {
   "cell_type": "code",
   "execution_count": null,
   "id": "72885932-30b6-4e0b-9435-21eca425141e",
   "metadata": {},
   "outputs": [],
   "source": []
  },
  {
   "cell_type": "code",
   "execution_count": null,
   "id": "332d9c8d-3c4d-4127-8409-ca21d2d8ef74",
   "metadata": {},
   "outputs": [],
   "source": []
  },
  {
   "cell_type": "code",
   "execution_count": null,
   "id": "64ff36d9-7f24-4eaa-b6ce-853f3f077e96",
   "metadata": {},
   "outputs": [],
   "source": []
  },
  {
   "cell_type": "code",
   "execution_count": null,
   "id": "c82bcb06-0932-4e0c-9543-d23c410f410e",
   "metadata": {},
   "outputs": [],
   "source": []
  }
 ],
 "metadata": {
  "kernelspec": {
   "display_name": "Python 3 (ipykernel)",
   "language": "python",
   "name": "python3"
  },
  "language_info": {
   "codemirror_mode": {
    "name": "ipython",
    "version": 3
   },
   "file_extension": ".py",
   "mimetype": "text/x-python",
   "name": "python",
   "nbconvert_exporter": "python",
   "pygments_lexer": "ipython3",
   "version": "3.12.4"
  }
 },
 "nbformat": 4,
 "nbformat_minor": 5
}
